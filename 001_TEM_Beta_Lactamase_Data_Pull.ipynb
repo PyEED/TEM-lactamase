{
 "cells": [
  {
   "cell_type": "code",
   "execution_count": 1,
   "metadata": {},
   "outputs": [],
   "source": [
    "%reload_ext autoreload\n",
    "%autoreload 2\n",
    "import os\n",
    "from pyeed.core import ProteinRecord"
   ]
  },
  {
   "cell_type": "markdown",
   "metadata": {},
   "source": [
    "##### Here we get all the data"
   ]
  },
  {
   "cell_type": "code",
   "execution_count": 2,
   "metadata": {},
   "outputs": [
    {
     "name": "stdout",
     "output_type": "stream",
     "text": [
      "False\n"
     ]
    }
   ],
   "source": [
    "# read in the text file\n",
    "file_path = 'TEM_Ids.txt'\n",
    "with open(file_path, 'r') as file:\n",
    "    lines = file.readlines()\n",
    "\n",
    "# create a dic with the name and id\n",
    "# A\tTEM-P118\tt\t\tAAN05029 \tAY130285 \t12354869 \tview\t\t\t2be\tESBL\tA\n",
    "# we want to keep the name and the id, these are the second and the fourth columns\n",
    "# we need to split the line by the tab character\n",
    "data = {}\n",
    "count = 0\n",
    "for line in lines:\n",
    "    line = line.strip()\n",
    "    columns = line.split('\\t')\n",
    "    name = columns[1]\n",
    "    id = columns[4].strip()\n",
    "    if id == 'EFJ83682':\n",
    "        continue\n",
    "    data[name] = id\n",
    "    count += 1\n",
    "\n",
    "\n",
    "print('EFJ83682' in list(data.values()))"
   ]
  },
  {
   "cell_type": "code",
   "execution_count": 6,
   "metadata": {},
   "outputs": [
    {
     "data": {
      "application/vnd.jupyter.widget-view+json": {
       "model_id": "eba5e6a38b5a4e6291fe13d98981239a",
       "version_major": 2,
       "version_minor": 0
      },
      "text/plain": [
       "Output()"
      ]
     },
     "metadata": {},
     "output_type": "display_data"
    },
    {
     "data": {
      "text/html": [
       "<pre style=\"white-space:pre;overflow-x:auto;line-height:normal;font-family:Menlo,'DejaVu Sans Mono',consolas,'Courier New',monospace\">Request to \n",
       "https://eutils.ncbi.nlm.nih.gov/entrez/eutils/efetch.fcgi?db=protein&amp;retmode=text&amp;rettype=genbank&amp;id=CCG28759,ADB79\n",
       "815,CTA52364,QDY98370,AUT06962,QWY17601,AQX83499,AAN05029,QBG79064,CAD24670 failed with status code 429\n",
       "</pre>\n"
      ],
      "text/plain": [
       "Request to \n",
       "https://eutils.ncbi.nlm.nih.gov/entrez/eutils/efetch.fcgi?db=protein&retmode=text&rettype=genbank&id=CCG28759,ADB79\n",
       "815,CTA52364,QDY98370,AUT06962,QWY17601,AQX83499,AAN05029,QBG79064,CAD24670 failed with status code 429\n"
      ]
     },
     "metadata": {},
     "output_type": "display_data"
    },
    {
     "data": {
      "text/html": [
       "<pre style=\"white-space:pre;overflow-x:auto;line-height:normal;font-family:Menlo,'DejaVu Sans Mono',consolas,'Courier New',monospace\">Rate limit exceeded. Waiting for 1 second...\n",
       "</pre>\n"
      ],
      "text/plain": [
       "Rate limit exceeded. Waiting for 1 second...\n"
      ]
     },
     "metadata": {},
     "output_type": "display_data"
    },
    {
     "data": {
      "text/html": [
       "<pre style=\"white-space:pre;overflow-x:auto;line-height:normal;font-family:Menlo,'DejaVu Sans Mono',consolas,'Courier New',monospace\">Request to \n",
       "https://eutils.ncbi.nlm.nih.gov/entrez/eutils/efetch.fcgi?db=protein&amp;retmode=text&amp;rettype=genbank&amp;id=AMD11804,AAK30\n",
       "619,AAX56615,AAL77062,AAZ14083,AAS89984,AAG45415,AFC75525,AEK48085,QPG87090 failed with status code 429\n",
       "</pre>\n"
      ],
      "text/plain": [
       "Request to \n",
       "https://eutils.ncbi.nlm.nih.gov/entrez/eutils/efetch.fcgi?db=protein&retmode=text&rettype=genbank&id=AMD11804,AAK30\n",
       "619,AAX56615,AAL77062,AAZ14083,AAS89984,AAG45415,AFC75525,AEK48085,QPG87090 failed with status code 429\n"
      ]
     },
     "metadata": {},
     "output_type": "display_data"
    },
    {
     "data": {
      "text/html": [
       "<pre style=\"white-space:pre;overflow-x:auto;line-height:normal;font-family:Menlo,'DejaVu Sans Mono',consolas,'Courier New',monospace\">Response: {\"error\":\"API rate limit \n",
       "exceeded\",\"api-key\":\"2001:7c0:2049:1d5:fec8:ea3:cc02:667b\",\"count\":\"4\",\"limit\":\"3\"}\n",
       "\n",
       "</pre>\n"
      ],
      "text/plain": [
       "Response: {\"error\":\"API rate limit \n",
       "exceeded\",\"api-key\":\"2001:7c0:2049:1d5:fec8:ea3:cc02:667b\",\"count\":\"4\",\"limit\":\"3\"}\n",
       "\n"
      ]
     },
     "metadata": {},
     "output_type": "display_data"
    },
    {
     "data": {
      "text/html": [
       "<pre style=\"white-space:pre;overflow-x:auto;line-height:normal;font-family:Menlo,'DejaVu Sans Mono',consolas,'Courier New',monospace\">Rate limit exceeded. Waiting for 1 second...\n",
       "</pre>\n"
      ],
      "text/plain": [
       "Rate limit exceeded. Waiting for 1 second...\n"
      ]
     },
     "metadata": {},
     "output_type": "display_data"
    },
    {
     "data": {
      "text/html": [
       "<pre style=\"white-space:pre;overflow-x:auto;line-height:normal;font-family:Menlo,'DejaVu Sans Mono',consolas,'Courier New',monospace\"></pre>\n"
      ],
      "text/plain": []
     },
     "metadata": {},
     "output_type": "display_data"
    },
    {
     "data": {
      "text/html": [
       "<pre style=\"white-space:pre;overflow-x:auto;line-height:normal;font-family:Menlo,'DejaVu Sans Mono',consolas,'Courier New',monospace\">\n",
       "</pre>\n"
      ],
      "text/plain": [
       "\n"
      ]
     },
     "metadata": {},
     "output_type": "display_data"
    },
    {
     "name": "stdout",
     "output_type": "stream",
     "text": [
      "[Region(id='PRK15442', url=None, accession_id=None, name=None, start=2, end=286, json_ld_type=['Region'], json_ld_context={'Region': 'https://github.com/PyEED/pyeed/Region', 'url': 'http://semanticscience.org/resource/SIO_000811', 'accession_id': 'http://semanticscience.org/resource/SIO_000675', 'start': 'http://semanticscience.org/resource/SIO_000943', 'end': 'http://semanticscience.org/resource/SIO_000953'}), Region(id='2dad9608-72fa-4f0c-b396-110d18a0fc46', url=None, accession_id=None, name='blastquery:TEM-1', start=0, end=286, json_ld_type=['Region'], json_ld_context={'Region': 'https://github.com/PyEED/pyeed/Region', 'url': 'http://semanticscience.org/resource/SIO_000811', 'accession_id': 'http://semanticscience.org/resource/SIO_000675', 'start': 'http://semanticscience.org/resource/SIO_000943', 'end': 'http://semanticscience.org/resource/SIO_000953'})]\n"
     ]
    }
   ],
   "source": [
    "protein_ids_fetched = ProteinRecord.get_ids(list(data.values()))[:20]\n",
    "\n",
    "# here we want to add the region for the ncbi blast id\n",
    "# this is a kind of work arround to get the id later for the name mappping\n",
    "for i in range(0, len(protein_ids_fetched)):\n",
    "    protein_ids_fetched[i].add_to_regions(\n",
    "        name=\"blastquery:\" + list(data.keys())[i],\n",
    "        start=0,\n",
    "        end=len(protein_ids_fetched[i].sequence)\n",
    "    )\n"
   ]
  },
  {
   "cell_type": "code",
   "execution_count": 4,
   "metadata": {},
   "outputs": [
    {
     "name": "stdout",
     "output_type": "stream",
     "text": [
      "20\n"
     ]
    }
   ],
   "source": [
    "current_path = os.path.dirname(os.getcwd())\n",
    "print(len(protein_ids_fetched))"
   ]
  },
  {
   "cell_type": "code",
   "execution_count": 7,
   "metadata": {},
   "outputs": [
    {
     "data": {
      "application/vnd.jupyter.widget-view+json": {
       "model_id": "97b0dbb93333497293ae4fc659b76122",
       "version_major": 2,
       "version_minor": 0
      },
      "text/plain": [
       "Output()"
      ]
     },
     "metadata": {},
     "output_type": "display_data"
    },
    {
     "data": {
      "application/vnd.jupyter.widget-view+json": {
       "model_id": "d4b332a73d6d4e58af52e187db205e2f",
       "version_major": 2,
       "version_minor": 0
      },
      "text/plain": [
       "Output()"
      ]
     },
     "metadata": {},
     "output_type": "display_data"
    },
    {
     "data": {
      "application/vnd.jupyter.widget-view+json": {
       "model_id": "502ee0a75d6e4d11ba3a2f6a415971cd",
       "version_major": 2,
       "version_minor": 0
      },
      "text/plain": [
       "Output()"
      ]
     },
     "metadata": {},
     "output_type": "display_data"
    },
    {
     "data": {
      "application/vnd.jupyter.widget-view+json": {
       "model_id": "a7dd9658b71947b4b86c66cc84e6b094",
       "version_major": 2,
       "version_minor": 0
      },
      "text/plain": [
       "Output()"
      ]
     },
     "metadata": {},
     "output_type": "display_data"
    },
    {
     "data": {
      "application/vnd.jupyter.widget-view+json": {
       "model_id": "9864cb1687514a9e9cd9de72bcde811d",
       "version_major": 2,
       "version_minor": 0
      },
      "text/plain": [
       "Output()"
      ]
     },
     "metadata": {},
     "output_type": "display_data"
    },
    {
     "data": {
      "application/vnd.jupyter.widget-view+json": {
       "model_id": "f58b604d8f1841eda84ef7df28922a79",
       "version_major": 2,
       "version_minor": 0
      },
      "text/plain": [
       "Output()"
      ]
     },
     "metadata": {},
     "output_type": "display_data"
    },
    {
     "data": {
      "application/vnd.jupyter.widget-view+json": {
       "model_id": "cbf139c1836f464788e3db1c5668f9dd",
       "version_major": 2,
       "version_minor": 0
      },
      "text/plain": [
       "Output()"
      ]
     },
     "metadata": {},
     "output_type": "display_data"
    },
    {
     "data": {
      "application/vnd.jupyter.widget-view+json": {
       "model_id": "06ed9352a53d42d8a3488b567acafeaf",
       "version_major": 2,
       "version_minor": 0
      },
      "text/plain": [
       "Output()"
      ]
     },
     "metadata": {},
     "output_type": "display_data"
    },
    {
     "data": {
      "application/vnd.jupyter.widget-view+json": {
       "model_id": "609fe17f7345450d96c202c05da3e7d9",
       "version_major": 2,
       "version_minor": 0
      },
      "text/plain": [
       "Output()"
      ]
     },
     "metadata": {},
     "output_type": "display_data"
    },
    {
     "data": {
      "application/vnd.jupyter.widget-view+json": {
       "model_id": "8b36c4d80cab4f818bbd055579fad13b",
       "version_major": 2,
       "version_minor": 0
      },
      "text/plain": [
       "Output()"
      ]
     },
     "metadata": {},
     "output_type": "display_data"
    },
    {
     "data": {
      "application/vnd.jupyter.widget-view+json": {
       "model_id": "053117cf3e9546919253903602d1c911",
       "version_major": 2,
       "version_minor": 0
      },
      "text/plain": [
       "Output()"
      ]
     },
     "metadata": {},
     "output_type": "display_data"
    },
    {
     "data": {
      "application/vnd.jupyter.widget-view+json": {
       "model_id": "6dae74f818bf40ac942e479828a7e4be",
       "version_major": 2,
       "version_minor": 0
      },
      "text/plain": [
       "Output()"
      ]
     },
     "metadata": {},
     "output_type": "display_data"
    },
    {
     "data": {
      "application/vnd.jupyter.widget-view+json": {
       "model_id": "5a927a842cd143c2839be6363ebf93d4",
       "version_major": 2,
       "version_minor": 0
      },
      "text/plain": [
       "Output()"
      ]
     },
     "metadata": {},
     "output_type": "display_data"
    },
    {
     "data": {
      "application/vnd.jupyter.widget-view+json": {
       "model_id": "c97a3465ac8446158ca1819b2fa046c2",
       "version_major": 2,
       "version_minor": 0
      },
      "text/plain": [
       "Output()"
      ]
     },
     "metadata": {},
     "output_type": "display_data"
    },
    {
     "data": {
      "application/vnd.jupyter.widget-view+json": {
       "model_id": "05ad2ad0fe9b4075b14ab1f0c18e06f5",
       "version_major": 2,
       "version_minor": 0
      },
      "text/plain": [
       "Output()"
      ]
     },
     "metadata": {},
     "output_type": "display_data"
    },
    {
     "data": {
      "application/vnd.jupyter.widget-view+json": {
       "model_id": "1eaf0e55b62f4c1cb599b4fc0e401353",
       "version_major": 2,
       "version_minor": 0
      },
      "text/plain": [
       "Output()"
      ]
     },
     "metadata": {},
     "output_type": "display_data"
    },
    {
     "data": {
      "application/vnd.jupyter.widget-view+json": {
       "model_id": "08d08174218e452ca16eedf40318803f",
       "version_major": 2,
       "version_minor": 0
      },
      "text/plain": [
       "Output()"
      ]
     },
     "metadata": {},
     "output_type": "display_data"
    }
   ],
   "source": [
    "# we now search for each protein in the data dic a blast\n",
    "# then we combine the results im data, we also have to remove double entries\n",
    "data_proteins = []\n",
    "\n",
    "\"\"\"\n",
    "for protein in protein_ids_fetched:\n",
    "    data_proteins = data_proteins + protein.ncbi_blast(n_hits=1000, e_value=0.1)\n",
    "\"\"\"\n",
    "# no i want to parallelize this\n",
    "import asyncio\n",
    "\n",
    "async def fetch_protein(protein):\n",
    "    return protein.ncbi_blast(n_hits=1000, e_value=0.1)\n",
    "\n",
    "# create a job for each protein\n",
    "jobs = [fetch_protein(protein) for protein in protein_ids_fetched]\n",
    "# run all the jobs\n",
    "data_proteins = await asyncio.gather(*jobs)\n"
   ]
  },
  {
   "cell_type": "code",
   "execution_count": null,
   "metadata": {},
   "outputs": [
    {
     "data": {
      "text/plain": [
       "70"
      ]
     },
     "execution_count": 10,
     "metadata": {},
     "output_type": "execute_result"
    }
   ],
   "source": [
    "len(data_proteins[0])"
   ]
  },
  {
   "cell_type": "code",
   "execution_count": null,
   "metadata": {},
   "outputs": [
    {
     "ename": "AttributeError",
     "evalue": "'list' object has no attribute 'id'",
     "output_type": "error",
     "traceback": [
      "\u001b[0;31m---------------------------------------------------------------------------\u001b[0m",
      "\u001b[0;31mAttributeError\u001b[0m                            Traceback (most recent call last)",
      "Cell \u001b[0;32mIn[7], line 5\u001b[0m\n\u001b[1;32m      3\u001b[0m data_protein_unique_id \u001b[38;5;241m=\u001b[39m []\n\u001b[1;32m      4\u001b[0m \u001b[38;5;28;01mfor\u001b[39;00m protein \u001b[38;5;129;01min\u001b[39;00m data_proteins:\n\u001b[0;32m----> 5\u001b[0m     \u001b[38;5;28;01mif\u001b[39;00m \u001b[43mprotein\u001b[49m\u001b[38;5;241;43m.\u001b[39;49m\u001b[43mid\u001b[49m \u001b[38;5;129;01mnot\u001b[39;00m \u001b[38;5;129;01min\u001b[39;00m data_protein_unique_id:\n\u001b[1;32m      6\u001b[0m         data_protein_unique\u001b[38;5;241m.\u001b[39mappend(protein)\n\u001b[1;32m      7\u001b[0m         data_protein_unique_id\u001b[38;5;241m.\u001b[39mappend(protein\u001b[38;5;241m.\u001b[39mid)\n",
      "\u001b[0;31mAttributeError\u001b[0m: 'list' object has no attribute 'id'"
     ]
    }
   ],
   "source": [
    "# remove double entries\n",
    "data_protein_unique = []\n",
    "data_protein_unique_id = []\n",
    "for protein in data_proteins:\n",
    "    if protein.id not in data_protein_unique_id:\n",
    "        data_protein_unique.append(protein)\n",
    "        data_protein_unique_id.append(protein.id)\n",
    "\n",
    "print(len(data_protein_unique))\n",
    "print('AAP20891' in data_protein_unique_id)\n",
    "print('CAJ85677' in data_protein_unique_id)"
   ]
  },
  {
   "cell_type": "code",
   "execution_count": null,
   "metadata": {},
   "outputs": [],
   "source": [
    "# save the blast search results\n",
    "output_folder_blast_search = os.path.join(current_path, \"TEM-lactamase\", \"data\", \"data_blast_search_big_{}_{}_{}\".format('list003', 'all', int(0.01*1000)))\n",
    "os.makedirs(output_folder_blast_search, exist_ok=True)\n",
    "counter = 0\n",
    "for hit in data_proteins:\n",
    "    with open(output_folder_blast_search + \"/{}.json\".format(counter), \"w\") as f:\n",
    "        f.write(hit.json())\n",
    "        counter += 1"
   ]
  },
  {
   "cell_type": "code",
   "execution_count": null,
   "metadata": {},
   "outputs": [],
   "source": []
  },
  {
   "cell_type": "code",
   "execution_count": null,
   "metadata": {},
   "outputs": [],
   "source": []
  }
 ],
 "metadata": {
  "kernelspec": {
   "display_name": "pyeed",
   "language": "python",
   "name": "python3"
  },
  "language_info": {
   "codemirror_mode": {
    "name": "ipython",
    "version": 3
   },
   "file_extension": ".py",
   "mimetype": "text/x-python",
   "name": "python",
   "nbconvert_exporter": "python",
   "pygments_lexer": "ipython3",
   "version": "3.11.8"
  }
 },
 "nbformat": 4,
 "nbformat_minor": 2
}
