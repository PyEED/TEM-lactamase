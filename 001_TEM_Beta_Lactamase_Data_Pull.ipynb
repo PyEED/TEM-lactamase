{
 "cells": [
  {
   "cell_type": "code",
   "execution_count": 1,
   "metadata": {},
   "outputs": [],
   "source": [
    "%reload_ext autoreload\n",
    "%autoreload 2\n",
    "import os\n",
    "from pyeed.core import ProteinRecord"
   ]
  },
  {
   "cell_type": "markdown",
   "metadata": {},
   "source": [
    "##### Here we get all the data"
   ]
  },
  {
   "cell_type": "code",
   "execution_count": 2,
   "metadata": {},
   "outputs": [
    {
     "name": "stdout",
     "output_type": "stream",
     "text": [
      "False\n"
     ]
    }
   ],
   "source": [
    "# read in the text file\n",
    "file_path = 'TEM_Ids.txt'\n",
    "with open(file_path, 'r') as file:\n",
    "    lines = file.readlines()\n",
    "\n",
    "# create a dic with the name and id\n",
    "# A\tTEM-P118\tt\t\tAAN05029 \tAY130285 \t12354869 \tview\t\t\t2be\tESBL\tA\n",
    "# we want to keep the name and the id, these are the second and the fourth columns\n",
    "# we need to split the line by the tab character\n",
    "data = {}\n",
    "count = 0\n",
    "for line in lines:\n",
    "    line = line.strip()\n",
    "    columns = line.split('\\t')\n",
    "    name = columns[1]\n",
    "    id = columns[4].strip()\n",
    "    if id == 'EFJ83682':\n",
    "        continue\n",
    "    data[name] = id\n",
    "    count += 1\n",
    "\n",
    "\n",
    "print('EFJ83682' in list(data.values()))"
   ]
  },
  {
   "cell_type": "code",
   "execution_count": 3,
   "metadata": {},
   "outputs": [
    {
     "data": {
      "application/vnd.jupyter.widget-view+json": {
       "model_id": "8d7c1fbdb98a49e398ea430c6e7c4d18",
       "version_major": 2,
       "version_minor": 0
      },
      "text/plain": [
       "Output()"
      ]
     },
     "metadata": {},
     "output_type": "display_data"
    },
    {
     "data": {
      "text/html": [
       "<pre style=\"white-space:pre;overflow-x:auto;line-height:normal;font-family:Menlo,'DejaVu Sans Mono',consolas,'Courier New',monospace\">Request to \n",
       "https://eutils.ncbi.nlm.nih.gov/entrez/eutils/efetch.fcgi?db=protein&amp;retmode=text&amp;rettype=genbank&amp;id=WP_109874025,B\n",
       "CD58813,AQT03459,AGW25367,MBG9969038,CBX53726,BAB16308,CAA64682,ABQ00181,AFN21551 failed with status code 429\n",
       "</pre>\n"
      ],
      "text/plain": [
       "Request to \n",
       "https://eutils.ncbi.nlm.nih.gov/entrez/eutils/efetch.fcgi?db=protein&retmode=text&rettype=genbank&id=WP_109874025,B\n",
       "CD58813,AQT03459,AGW25367,MBG9969038,CBX53726,BAB16308,CAA64682,ABQ00181,AFN21551 failed with status code 429\n"
      ]
     },
     "metadata": {},
     "output_type": "display_data"
    },
    {
     "data": {
      "text/html": [
       "<pre style=\"white-space:pre;overflow-x:auto;line-height:normal;font-family:Menlo,'DejaVu Sans Mono',consolas,'Courier New',monospace\">Response: {\"error\":\"API rate limit \n",
       "exceeded\",\"api-key\":\"2001:7c0:2049:1d5:fec8:ea3:cc02:667b\",\"count\":\"4\",\"limit\":\"3\"}\n",
       "\n",
       "</pre>\n"
      ],
      "text/plain": [
       "Response: {\"error\":\"API rate limit \n",
       "exceeded\",\"api-key\":\"2001:7c0:2049:1d5:fec8:ea3:cc02:667b\",\"count\":\"4\",\"limit\":\"3\"}\n",
       "\n"
      ]
     },
     "metadata": {},
     "output_type": "display_data"
    },
    {
     "data": {
      "text/html": [
       "<pre style=\"white-space:pre;overflow-x:auto;line-height:normal;font-family:Menlo,'DejaVu Sans Mono',consolas,'Courier New',monospace\">Rate limit exceeded. Waiting for 1 second...\n",
       "</pre>\n"
      ],
      "text/plain": [
       "Rate limit exceeded. Waiting for 1 second...\n"
      ]
     },
     "metadata": {},
     "output_type": "display_data"
    },
    {
     "data": {
      "text/html": [
       "<pre style=\"white-space:pre;overflow-x:auto;line-height:normal;font-family:Menlo,'DejaVu Sans Mono',consolas,'Courier New',monospace\">Request to \n",
       "https://eutils.ncbi.nlm.nih.gov/entrez/eutils/efetch.fcgi?db=protein&amp;retmode=text&amp;rettype=genbank&amp;id=CAC43230,AGA83\n",
       "484,ADP20705,AAF66653,AAD22539,AKC98298,CAJ17559,ABI81768,CAA71323,CAI29263 failed with status code 429\n",
       "</pre>\n"
      ],
      "text/plain": [
       "Request to \n",
       "https://eutils.ncbi.nlm.nih.gov/entrez/eutils/efetch.fcgi?db=protein&retmode=text&rettype=genbank&id=CAC43230,AGA83\n",
       "484,ADP20705,AAF66653,AAD22539,AKC98298,CAJ17559,ABI81768,CAA71323,CAI29263 failed with status code 429\n"
      ]
     },
     "metadata": {},
     "output_type": "display_data"
    },
    {
     "data": {
      "text/html": [
       "<pre style=\"white-space:pre;overflow-x:auto;line-height:normal;font-family:Menlo,'DejaVu Sans Mono',consolas,'Courier New',monospace\">Response: {\"error\":\"API rate limit \n",
       "exceeded\",\"api-key\":\"2001:7c0:2049:1d5:fec8:ea3:cc02:667b\",\"count\":\"4\",\"limit\":\"3\"}\n",
       "\n",
       "</pre>\n"
      ],
      "text/plain": [
       "Response: {\"error\":\"API rate limit \n",
       "exceeded\",\"api-key\":\"2001:7c0:2049:1d5:fec8:ea3:cc02:667b\",\"count\":\"4\",\"limit\":\"3\"}\n",
       "\n"
      ]
     },
     "metadata": {},
     "output_type": "display_data"
    },
    {
     "data": {
      "text/html": [
       "<pre style=\"white-space:pre;overflow-x:auto;line-height:normal;font-family:Menlo,'DejaVu Sans Mono',consolas,'Courier New',monospace\">Rate limit exceeded. Waiting for 1 second...\n",
       "</pre>\n"
      ],
      "text/plain": [
       "Rate limit exceeded. Waiting for 1 second...\n"
      ]
     },
     "metadata": {},
     "output_type": "display_data"
    },
    {
     "data": {
      "text/html": [
       "<pre style=\"white-space:pre;overflow-x:auto;line-height:normal;font-family:Menlo,'DejaVu Sans Mono',consolas,'Courier New',monospace\">Request to \n",
       "https://eutils.ncbi.nlm.nih.gov/entrez/eutils/efetch.fcgi?db=protein&amp;retmode=text&amp;rettype=genbank&amp;id=CAA46346,AAP20\n",
       "891,BAD89187,ABD60314,ARF45649,CAL08007,CAA76795,ARF19528,AIF78090,ULU82601 failed with status code 429\n",
       "</pre>\n"
      ],
      "text/plain": [
       "Request to \n",
       "https://eutils.ncbi.nlm.nih.gov/entrez/eutils/efetch.fcgi?db=protein&retmode=text&rettype=genbank&id=CAA46346,AAP20\n",
       "891,BAD89187,ABD60314,ARF45649,CAL08007,CAA76795,ARF19528,AIF78090,ULU82601 failed with status code 429\n"
      ]
     },
     "metadata": {},
     "output_type": "display_data"
    },
    {
     "data": {
      "text/html": [
       "<pre style=\"white-space:pre;overflow-x:auto;line-height:normal;font-family:Menlo,'DejaVu Sans Mono',consolas,'Courier New',monospace\">Response: {\"error\":\"API rate limit \n",
       "exceeded\",\"api-key\":\"2001:7c0:2049:1d5:fec8:ea3:cc02:667b\",\"count\":\"4\",\"limit\":\"3\"}\n",
       "\n",
       "</pre>\n"
      ],
      "text/plain": [
       "Response: {\"error\":\"API rate limit \n",
       "exceeded\",\"api-key\":\"2001:7c0:2049:1d5:fec8:ea3:cc02:667b\",\"count\":\"4\",\"limit\":\"3\"}\n",
       "\n"
      ]
     },
     "metadata": {},
     "output_type": "display_data"
    },
    {
     "data": {
      "text/html": [
       "<pre style=\"white-space:pre;overflow-x:auto;line-height:normal;font-family:Menlo,'DejaVu Sans Mono',consolas,'Courier New',monospace\">Rate limit exceeded. Waiting for 1 second...\n",
       "</pre>\n"
      ],
      "text/plain": [
       "Rate limit exceeded. Waiting for 1 second...\n"
      ]
     },
     "metadata": {},
     "output_type": "display_data"
    },
    {
     "data": {
      "text/html": [
       "<pre style=\"white-space:pre;overflow-x:auto;line-height:normal;font-family:Menlo,'DejaVu Sans Mono',consolas,'Courier New',monospace\">Request to \n",
       "https://eutils.ncbi.nlm.nih.gov/entrez/eutils/efetch.fcgi?db=protein&amp;retmode=text&amp;rettype=genbank&amp;id=CAJ32372,AAF05\n",
       "612,AEQ59620,ABB84515,AAM28884,AAQ93490,AAF01046,AGZ20205,ADM61585,KOP91900 failed with status code 429\n",
       "</pre>\n"
      ],
      "text/plain": [
       "Request to \n",
       "https://eutils.ncbi.nlm.nih.gov/entrez/eutils/efetch.fcgi?db=protein&retmode=text&rettype=genbank&id=CAJ32372,AAF05\n",
       "612,AEQ59620,ABB84515,AAM28884,AAQ93490,AAF01046,AGZ20205,ADM61585,KOP91900 failed with status code 429\n"
      ]
     },
     "metadata": {},
     "output_type": "display_data"
    },
    {
     "data": {
      "text/html": [
       "<pre style=\"white-space:pre;overflow-x:auto;line-height:normal;font-family:Menlo,'DejaVu Sans Mono',consolas,'Courier New',monospace\">Response: {\"error\":\"API rate limit \n",
       "exceeded\",\"api-key\":\"2001:7c0:2049:1d5:fec8:ea3:cc02:667b\",\"count\":\"4\",\"limit\":\"3\"}\n",
       "\n",
       "</pre>\n"
      ],
      "text/plain": [
       "Response: {\"error\":\"API rate limit \n",
       "exceeded\",\"api-key\":\"2001:7c0:2049:1d5:fec8:ea3:cc02:667b\",\"count\":\"4\",\"limit\":\"3\"}\n",
       "\n"
      ]
     },
     "metadata": {},
     "output_type": "display_data"
    },
    {
     "data": {
      "text/html": [
       "<pre style=\"white-space:pre;overflow-x:auto;line-height:normal;font-family:Menlo,'DejaVu Sans Mono',consolas,'Courier New',monospace\">Rate limit exceeded. Waiting for 1 second...\n",
       "</pre>\n"
      ],
      "text/plain": [
       "Rate limit exceeded. Waiting for 1 second...\n"
      ]
     },
     "metadata": {},
     "output_type": "display_data"
    },
    {
     "data": {
      "text/html": [
       "<pre style=\"white-space:pre;overflow-x:auto;line-height:normal;font-family:Menlo,'DejaVu Sans Mono',consolas,'Courier New',monospace\"></pre>\n"
      ],
      "text/plain": []
     },
     "metadata": {},
     "output_type": "display_data"
    },
    {
     "data": {
      "text/html": [
       "<pre style=\"white-space:pre;overflow-x:auto;line-height:normal;font-family:Menlo,'DejaVu Sans Mono',consolas,'Courier New',monospace\">\n",
       "</pre>\n"
      ],
      "text/plain": [
       "\n"
      ]
     },
     "metadata": {},
     "output_type": "display_data"
    }
   ],
   "source": [
    "protein_ids_fetched = ProteinRecord.get_ids(list(data.values()))[:20]\n",
    "\n",
    "# here we want to add the region for the ncbi blast id\n",
    "# this is a kind of work arround to get the id later for the name mappping\n",
    "\n",
    "\n",
    "\n",
    "my_prot_record.add_to_regions(\n",
    "    name=\"blastquery:P12345,\n",
    "    start=0,\n",
    "    end=len(my_prot_record.sequence)\n",
    ") "
   ]
  },
  {
   "cell_type": "code",
   "execution_count": 4,
   "metadata": {},
   "outputs": [
    {
     "name": "stdout",
     "output_type": "stream",
     "text": [
      "20\n"
     ]
    }
   ],
   "source": [
    "current_path = os.path.dirname(os.getcwd())\n",
    "print(len(protein_ids_fetched))"
   ]
  },
  {
   "cell_type": "code",
   "execution_count": 5,
   "metadata": {},
   "outputs": [
    {
     "ename": "TypeError",
     "evalue": "gather() got an unexpected keyword argument 'max_concurrent'",
     "output_type": "error",
     "traceback": [
      "\u001b[0;31m---------------------------------------------------------------------------\u001b[0m",
      "\u001b[0;31mTypeError\u001b[0m                                 Traceback (most recent call last)",
      "Cell \u001b[0;32mIn[5], line 18\u001b[0m\n\u001b[1;32m     16\u001b[0m jobs \u001b[38;5;241m=\u001b[39m [fetch_protein(protein) \u001b[38;5;28;01mfor\u001b[39;00m protein \u001b[38;5;129;01min\u001b[39;00m protein_ids_fetched]\n\u001b[1;32m     17\u001b[0m \u001b[38;5;66;03m# run all the jobs\u001b[39;00m\n\u001b[0;32m---> 18\u001b[0m data_proteins \u001b[38;5;241m=\u001b[39m \u001b[38;5;28;01mawait\u001b[39;00m \u001b[43masyncio\u001b[49m\u001b[38;5;241;43m.\u001b[39;49m\u001b[43mgather\u001b[49m\u001b[43m(\u001b[49m\u001b[38;5;241;43m*\u001b[39;49m\u001b[43mjobs\u001b[49m\u001b[43m,\u001b[49m\u001b[43m \u001b[49m\u001b[43mmax_concurrent\u001b[49m\u001b[38;5;241;43m=\u001b[39;49m\u001b[38;5;241;43m10\u001b[39;49m\u001b[43m)\u001b[49m\n",
      "\u001b[0;31mTypeError\u001b[0m: gather() got an unexpected keyword argument 'max_concurrent'"
     ]
    }
   ],
   "source": [
    "# we now search for each protein in the data dic a blast\n",
    "# then we combine the results im data, we also have to remove double entries\n",
    "data_proteins = []\n",
    "\n",
    "\"\"\"\n",
    "for protein in protein_ids_fetched:\n",
    "    data_proteins = data_proteins + protein.ncbi_blast(n_hits=1000, e_value=0.1)\n",
    "\"\"\"\n",
    "# no i want to parallelize this\n",
    "import asyncio\n",
    "\n",
    "async def fetch_protein(protein):\n",
    "    return protein.ncbi_blast(n_hits=1000, e_value=0.1)\n",
    "\n",
    "# create a job for each protein\n",
    "jobs = [fetch_protein(protein) for protein in protein_ids_fetched]\n",
    "# run all the jobs\n",
    "data_proteins = await asyncio.gather(*jobs)\n"
   ]
  },
  {
   "cell_type": "code",
   "execution_count": null,
   "metadata": {},
   "outputs": [
    {
     "data": {
      "text/plain": [
       "70"
      ]
     },
     "execution_count": 10,
     "metadata": {},
     "output_type": "execute_result"
    }
   ],
   "source": [
    "len(data_proteins[0])"
   ]
  },
  {
   "cell_type": "code",
   "execution_count": null,
   "metadata": {},
   "outputs": [
    {
     "ename": "AttributeError",
     "evalue": "'list' object has no attribute 'id'",
     "output_type": "error",
     "traceback": [
      "\u001b[0;31m---------------------------------------------------------------------------\u001b[0m",
      "\u001b[0;31mAttributeError\u001b[0m                            Traceback (most recent call last)",
      "Cell \u001b[0;32mIn[7], line 5\u001b[0m\n\u001b[1;32m      3\u001b[0m data_protein_unique_id \u001b[38;5;241m=\u001b[39m []\n\u001b[1;32m      4\u001b[0m \u001b[38;5;28;01mfor\u001b[39;00m protein \u001b[38;5;129;01min\u001b[39;00m data_proteins:\n\u001b[0;32m----> 5\u001b[0m     \u001b[38;5;28;01mif\u001b[39;00m \u001b[43mprotein\u001b[49m\u001b[38;5;241;43m.\u001b[39;49m\u001b[43mid\u001b[49m \u001b[38;5;129;01mnot\u001b[39;00m \u001b[38;5;129;01min\u001b[39;00m data_protein_unique_id:\n\u001b[1;32m      6\u001b[0m         data_protein_unique\u001b[38;5;241m.\u001b[39mappend(protein)\n\u001b[1;32m      7\u001b[0m         data_protein_unique_id\u001b[38;5;241m.\u001b[39mappend(protein\u001b[38;5;241m.\u001b[39mid)\n",
      "\u001b[0;31mAttributeError\u001b[0m: 'list' object has no attribute 'id'"
     ]
    }
   ],
   "source": [
    "# remove double entries\n",
    "data_protein_unique = []\n",
    "data_protein_unique_id = []\n",
    "for protein in data_proteins:\n",
    "    if protein.id not in data_protein_unique_id:\n",
    "        data_protein_unique.append(protein)\n",
    "        data_protein_unique_id.append(protein.id)\n",
    "\n",
    "print(len(data_protein_unique))\n",
    "print('AAP20891' in data_protein_unique_id)\n",
    "print('CAJ85677' in data_protein_unique_id)"
   ]
  },
  {
   "cell_type": "code",
   "execution_count": null,
   "metadata": {},
   "outputs": [],
   "source": [
    "# save the blast search results\n",
    "output_folder_blast_search = os.path.join(current_path, \"TEM-lactamase\", \"data\", \"data_blast_search_big_{}_{}_{}\".format('list003', 'all', int(0.01*1000)))\n",
    "os.makedirs(output_folder_blast_search, exist_ok=True)\n",
    "counter = 0\n",
    "for hit in data_proteins:\n",
    "    with open(output_folder_blast_search + \"/{}.json\".format(counter), \"w\") as f:\n",
    "        f.write(hit.json())\n",
    "        counter += 1"
   ]
  },
  {
   "cell_type": "code",
   "execution_count": null,
   "metadata": {},
   "outputs": [],
   "source": []
  },
  {
   "cell_type": "code",
   "execution_count": null,
   "metadata": {},
   "outputs": [],
   "source": []
  }
 ],
 "metadata": {
  "kernelspec": {
   "display_name": "pyeed",
   "language": "python",
   "name": "python3"
  },
  "language_info": {
   "codemirror_mode": {
    "name": "ipython",
    "version": 3
   },
   "file_extension": ".py",
   "mimetype": "text/x-python",
   "name": "python",
   "nbconvert_exporter": "python",
   "pygments_lexer": "ipython3",
   "version": "3.11.8"
  }
 },
 "nbformat": 4,
 "nbformat_minor": 2
}
