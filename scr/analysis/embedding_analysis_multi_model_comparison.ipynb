{
 "cells": [
  {
   "cell_type": "code",
   "execution_count": null,
   "metadata": {},
   "outputs": [],
   "source": [
    "import sys\n",
    "from loguru import logger\n",
    "\n",
    "import io\n",
    "import os\n",
    "import time\n",
    "import pandas as pd\n",
    "import numpy as np\n",
    "import matplotlib.pyplot as plt\n",
    "import seaborn as sns\n",
    "from scipy.spatial.distance import pdist, squareform\n",
    "import matplotlib.animation as animation\n",
    "\n",
    "from pyeed import Pyeed\n",
    "from pyeed.analysis.mutation_detection import MutationDetection\n",
    "from pyeed.analysis.embedding_analysis import EmbeddingTool\n",
    "from pyeed.analysis.standard_numbering import StandardNumberingTool\n",
    "from pyeed.embeddings.processor import get_processor\n",
    "from pyeed.embeddings import free_memory\n",
    "\n",
    "logger.remove()\n",
    "level = logger.add(sys.stderr, level=\"DEBUG\")"
   ]
  },
  {
   "cell_type": "code",
   "execution_count": 2,
   "metadata": {},
   "outputs": [],
   "source": [
    "et = EmbeddingTool()"
   ]
  },
  {
   "cell_type": "code",
   "execution_count": null,
   "metadata": {},
   "outputs": [],
   "source": [
    "uri = \"bolt://129.69.129.130:7688\"\n",
    "user = \"neo4j\"\n",
    "password = \"12345678\"\n",
    "\n",
    "eedb = Pyeed(uri, user=user, password=password)\n",
    "\n",
    "eedb.db.wipe_database(date=\"2025-05-30\")\n",
    "eedb.db.initialize_db_constraints(user, password)"
   ]
  },
  {
   "cell_type": "code",
   "execution_count": null,
   "metadata": {},
   "outputs": [],
   "source": [
    "# read in the pandas dataframe\n",
    "df = pd.read_csv('/home/nab/Niklas/TEM-lactamase/data/002_combined_data/TEM_lactamase.csv', sep=';')\n",
    "print(df.head())\n",
    "#   protein_name phenotype    protein_id protein_id_database\n",
    "# 0        TEM-1        2b      AAP20891          AAP20891.1\n",
    "# here the names and ids are given\n",
    "\n",
    "ids = df['protein_id_database'].dropna().tolist()\n",
    "names = df.loc[~df['protein_id_database'].isna(), 'protein_name'].tolist()\n",
    "print(f\"IDs: {ids}\")\n",
    "print(f\"Names: {names}\")\n",
    "eedb.fetch_from_primary_db(ids, db=\"ncbi_protein\")\n",
    "eedb.fetch_dna_entries_for_proteins()\n",
    "eedb.create_coding_sequences_regions()"
   ]
  },
  {
   "cell_type": "code",
   "execution_count": 5,
   "metadata": {},
   "outputs": [],
   "source": [
    "offset_signal = 0"
   ]
  },
  {
   "cell_type": "code",
   "execution_count": 6,
   "metadata": {},
   "outputs": [],
   "source": [
    "query_cypher = \"\"\"\n",
    "MATCH (p:Protein {accession_id: $accession_id})\n",
    "RETURN p.sequence\n",
    "\"\"\"\n",
    "sequences = []\n",
    "for accession_id in ids:\n",
    "    sequence = eedb.db.execute_read(query_cypher, {\"accession_id\": accession_id})[0]['p.sequence'][offset_signal:]\n",
    "    sequences.append(sequence)"
   ]
  },
  {
   "cell_type": "code",
   "execution_count": 7,
   "metadata": {},
   "outputs": [],
   "source": [
    "model_name_list = ['prot_t5_xl_bfd', \"esmc_600m\", \"esmc_300m\", \"facebook/esm2_t33_650M_UR50D\", 'prot_t5_xl_uniref50', 'facebook/esm2_t36_3B_UR50D', 'facebook/esm2_t12_35M_UR50D', 'facebook/esm2_t6_8M_UR50D', 'facebook/esm2_t30_150M_UR50D']"
   ]
  },
  {
   "cell_type": "code",
   "execution_count": null,
   "metadata": {},
   "outputs": [],
   "source": [
    "# these sequences are now supposed to be embedded with all models in model_name_list\n",
    "embeddings_all_sequences_last_layer = {}\n",
    "processor = get_processor()\n",
    "\n",
    "import torch\n",
    "\n",
    "for model_name in model_name_list:\n",
    "    print(f\"Embedding sequences with {model_name}...\")\n",
    "\n",
    "    # get the model\n",
    "    model = processor.get_or_create_model(model_name=model_name, device=torch.device('cuda:1'))\n",
    "\n",
    "    # Initialize lists to store embeddings for all sequences\n",
    "    embeddings_all_sequences_last_layer[model_name] = []\n",
    "    \n",
    "    # Calculate embeddings for each sequence\n",
    "    for seq in sequences:\n",
    "        last_layer_emb = model.get_single_embedding_last_hidden_state(sequence=seq, )\n",
    "        embeddings_all_sequences_last_layer[model_name].append(last_layer_emb)\n",
    "\n",
    "    # Properly clean up the model\n",
    "    processor.remove_model(model_name)\n",
    "    del model\n",
    "    time.sleep(10)  # Reduced sleep time since we're doing proper cleanup\n",
    "\n",
    "# Final cleanup\n",
    "processor.cleanup()"
   ]
  },
  {
   "cell_type": "code",
   "execution_count": null,
   "metadata": {},
   "outputs": [],
   "source": [
    "import matplotlib.pyplot as plt\n",
    "from sklearn.decomposition import PCA\n",
    "import numpy as np\n",
    "import os\n",
    "\n",
    "# Create output directory if it doesn't exist\n",
    "output_dir = \"/home/nab/Niklas/TEM-lactamase/data/001_results/010_Model_Comparisons\"\n",
    "os.makedirs(output_dir, exist_ok=True)\n",
    "\n",
    "# Create PCA plots for each model's last layer embeddings\n",
    "for model_name in model_name_list:\n",
    "    print(f\"Creating PCA plot for {model_name}...\")\n",
    "    \n",
    "    # Get embeddings for this model and mean pool over residues\n",
    "    model_embeddings = embeddings_all_sequences_last_layer[model_name]\n",
    "    mean_pooled_embeddings = []\n",
    "    \n",
    "    for emb in model_embeddings:\n",
    "        # Mean pool over the sequence length dimension\n",
    "        mean_pooled = np.mean(emb, axis=0)\n",
    "        mean_pooled_embeddings.append(mean_pooled)\n",
    "    \n",
    "    # Convert to numpy array for PCA\n",
    "    embeddings_array = np.array(mean_pooled_embeddings)\n",
    "    \n",
    "    # Apply PCA\n",
    "    pca = PCA(n_components=2)\n",
    "    pca_result = pca.fit_transform(embeddings_array)\n",
    "    \n",
    "    # Create the plot\n",
    "    plt.figure(figsize=(10, 8))\n",
    "    \n",
    "    # Get phenotypes for coloring from df (only for rows where protein_id_database is not NA)\n",
    "    phenotypes = df.loc[~df['protein_id_database'].isna(), 'phenotype'].tolist()\n",
    "    \n",
    "    # Create scatter plot with phenotypes as colors\n",
    "    unique_phenotypes = list(set(phenotypes))\n",
    "    colors = plt.cm.tab10(np.linspace(0, 1, len(unique_phenotypes)))\n",
    "    \n",
    "    for i, phenotype in enumerate(unique_phenotypes):\n",
    "        mask = [p == phenotype for p in phenotypes]\n",
    "        plt.scatter(pca_result[mask, 0], pca_result[mask, 1], \n",
    "                   c=[colors[i]], label=phenotype, alpha=0.7, s=50)\n",
    "    \n",
    "    # Add protein names as labels (from the names list)\n",
    "    # for i, name in enumerate(names):\n",
    "     #    plt.annotate(name, (pca_result[i, 0], pca_result[i, 1]), \n",
    "     #                xytext=(5, 5), textcoords='offset points', fontsize=8, alpha=0.8)\n",
    "    \n",
    "    plt.xlabel(f'PC1 (Variance Explained: {pca.explained_variance_ratio_[0]:.2%})')\n",
    "    plt.ylabel(f'PC2 (Variance Explained: {pca.explained_variance_ratio_[1]:.2%})')\n",
    "    plt.title(f'PCA of Mean-Pooled Embeddings - {model_name}')\n",
    "    plt.legend()\n",
    "    plt.grid(True, alpha=0.3)\n",
    "    plt.tight_layout()\n",
    "    \n",
    "    # Save the plot\n",
    "    safe_model_name = model_name.replace('/', '_').replace(':', '_')\n",
    "    plt.savefig(os.path.join(output_dir, f'pca_embeddings_{safe_model_name}.png'), \n",
    "                dpi=300, bbox_inches='tight')\n",
    "    plt.show()\n"
   ]
  },
  {
   "cell_type": "code",
   "execution_count": null,
   "metadata": {},
   "outputs": [],
   "source": []
  },
  {
   "cell_type": "code",
   "execution_count": null,
   "metadata": {},
   "outputs": [],
   "source": []
  },
  {
   "cell_type": "code",
   "execution_count": null,
   "metadata": {},
   "outputs": [],
   "source": []
  },
  {
   "cell_type": "code",
   "execution_count": null,
   "metadata": {},
   "outputs": [],
   "source": []
  },
  {
   "cell_type": "code",
   "execution_count": null,
   "metadata": {},
   "outputs": [],
   "source": []
  }
 ],
 "metadata": {
  "kernelspec": {
   "display_name": "pyeed_niklas_env",
   "language": "python",
   "name": "python3"
  },
  "language_info": {
   "codemirror_mode": {
    "name": "ipython",
    "version": 3
   },
   "file_extension": ".py",
   "mimetype": "text/x-python",
   "name": "python",
   "nbconvert_exporter": "python",
   "pygments_lexer": "ipython3",
   "version": "3.10.16"
  }
 },
 "nbformat": 4,
 "nbformat_minor": 2
}
