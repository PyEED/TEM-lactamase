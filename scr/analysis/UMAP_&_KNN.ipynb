{
 "cells": [
  {
   "cell_type": "markdown",
   "id": "8a4af08dcad3ff94",
   "metadata": {},
   "source": [
    "PROJECT CODE - SUCCESSFUL MAIN"
   ]
  },
  {
   "cell_type": "code",
   "execution_count": 23,
   "id": "209dd99173bbd0d8",
   "metadata": {
    "ExecuteTime": {
     "end_time": "2025-06-11T12:57:30.234044Z",
     "start_time": "2025-06-11T12:57:11.371172Z"
    }
   },
   "outputs": [
    {
     "name": "stderr",
     "output_type": "stream",
     "text": [
      "/Users/isaacchoi/PycharmProjects/Project_Euler/.venv/lib/python3.13/site-packages/sklearn/utils/deprecation.py:151: FutureWarning:\n",
      "\n",
      "'force_all_finite' was renamed to 'ensure_all_finite' in 1.6 and will be removed in 1.8.\n",
      "\n",
      "/Users/isaacchoi/PycharmProjects/Project_Euler/.venv/lib/python3.13/site-packages/umap/umap_.py:1952: UserWarning:\n",
      "\n",
      "n_jobs value 1 overridden to 1 by setting random_state. Use no seed for parallelism.\n",
      "\n"
     ]
    },
    {
     "data": {
      "application/vnd.plotly.v1+json": {
       "config": {
        "plotlyServerURL": "https://plot.ly"
       },
       "data": [
        {
         "customdata": [
          [
           "AAP20891.1",
           "beta-lactamase TEM-1",
           "2b"
          ],
          [
           "CAJ85677.1",
           "beta lactamase",
           "2b"
          ],
          [
           "ABB97007.1",
           "beta-lactamase TEM-55",
           "2b"
          ],
          [
           "ACJ43254.1",
           "TEM-57 beta-lactamase",
           "2b"
          ],
          [
           "AAK30619.1",
           "TEM-90 beta-lactamase",
           "2b"
          ],
          [
           "CAC67290.1",
           "beta lactamase TEM-95",
           "2b"
          ],
          [
           "AAL68923.1",
           "TEM-type beta-lactamase",
           "2b"
          ],
          [
           "BAM36530.1",
           "beta-lactamase",
           "2b"
          ],
          [
           "AAR89358.1",
           "beta-lactamase TEM-127",
           "2b"
          ],
          [
           "AAR89359.1",
           "beta-lactamase TEM-128",
           "2b"
          ],
          [
           "ADB79815.1",
           "ampicillin resistance protein",
           "2b"
          ],
          [
           "AAX56615.1",
           "beta-lactamase TEM-141",
           "2b"
          ],
          [
           "ADR71220.1",
           "TEM-183 beta-lactamase",
           "2b"
          ],
          [
           "AET99222.1",
           "TEM-186 beta-lactamase",
           "2b"
          ],
          [
           "AGK82336.1",
           "beta-lactamase",
           "2b"
          ]
         ],
         "hovertemplate": "p.phenotype=%{customdata[2]}<br>UMAP_1=%{x}<br>UMAP_2=%{y}<br>p.accession_id=%{customdata[0]}<br>p.name=%{customdata[1]}<extra></extra>",
         "legendgroup": "2b",
         "marker": {
          "color": "#636efa",
          "symbol": "circle"
         },
         "mode": "markers",
         "name": "2b",
         "orientation": "v",
         "showlegend": true,
         "type": "scatter",
         "x": {
          "bdata": "4IzxwHu4pcDYqPTAcJzgwA7k9MBTmL/AELGqwB0+2sBN1e3ABxcDwX0RvMD1rr7Av5z3wBOjwcAjBe/A",
          "dtype": "f4"
         },
         "xaxis": "x",
         "y": {
          "bdata": "1MZjQArp9ED+i5pAp4VaQFAFM0AbyeZAcCgwQJz/REBwbCJABnyGQAzld0A2wnNAqhxqQOSW8EDQY15A",
          "dtype": "f4"
         },
         "yaxis": "y"
        },
        {
         "customdata": [
          [
           "SAQ02853.1",
           "beta-lactamase",
           "2be"
          ],
          [
           "CDR98216.1",
           "beta-lactamase TEM-4",
           "2be"
          ],
          [
           "WP_109963600.1",
           "extended-spectrum class A beta-lactamase TEM-5",
           "2be"
          ],
          [
           "CAA41038.1",
           "beta lactamase TEM6",
           "2be"
          ],
          [
           "WP_109874025.1",
           "extended-spectrum class A beta-lactamase TEM-7",
           "2be"
          ],
          [
           "CAA46344.1",
           "extended spectrum beta-lactamase CAZ-2",
           "2be"
          ],
          [
           "APG33178.1",
           "class A extended-spectrum beta-lactamase TEM-9",
           "2be"
          ],
          [
           "AKC98298.1",
           "TEM-1",
           "2be"
          ],
          [
           "KJO56189.1",
           "beta-lactamase TEM",
           "2be"
          ],
          [
           "KLP91446.1",
           "class A beta-lactamase",
           "2be"
          ],
          [
           "CAA46346.1",
           "extended spectrum beta-lactamase CAZ-7",
           "2be"
          ],
          [
           "CAA74912.2",
           "beta-lactamase class A",
           "2be"
          ],
          [
           "AFN21551.1",
           "beta-lactamase TEM-19",
           "2be"
          ],
          [
           "ACB22021.1",
           "extended spectrum beta-lactamase blaTEM-20",
           "2be"
          ],
          [
           "CAA76794.1",
           "beta-lactamase class A",
           "2be"
          ],
          [
           "CAA76795.1",
           "beta-lactamase class A",
           "2be"
          ],
          [
           "CCG28759.1",
           "Beta-lactamase (EC 3.5.2.6)",
           "2be"
          ],
          [
           "KLG19745.1",
           "beta-lactamase TEM",
           "2be"
          ],
          [
           "AAC32891.1",
           "beta-lactamase TEM-28",
           "2be"
          ],
          [
           "CAA76796.1",
           "beta-lactamase class A",
           "2be"
          ],
          [
           "AAC32889.2",
           "beta-lactamase TEM-43",
           "2be"
          ],
          [
           "CAA71322.1",
           "ES-beta-lactamase",
           "2be"
          ],
          [
           "CAA71323.1",
           "ES-beta-lactamase",
           "2be"
          ],
          [
           "CAA71324.1",
           "ES-beta-lactamase",
           "2be"
          ],
          [
           "AEC32455.1",
           "beta-lactamase",
           "2be"
          ],
          [
           "AAD22538.1",
           "extended spectrum beta-lactamase TEM-53",
           "2be"
          ],
          [
           "AAC05975.1",
           "beta-lactamase TEM-60",
           "2be"
          ],
          [
           "BCD58813.1",
           "class A extended-spectrum beta-lactamase",
           "2be"
          ],
          [
           "AAK17194.1",
           "extended spectrum beta-lactamase TEM-63",
           "2be"
          ],
          [
           "AAL03985.1",
           "extended-spectrum beta-lactamase TEM-71",
           "2be"
          ],
          [
           "AAF19151.1",
           "beta-lactamase TEM-72",
           "2be"
          ],
          [
           "CAC43229.1",
           "TEM-85 ES-beta-lactamase",
           "2be"
          ],
          [
           "CAC43230.1",
           "TEM-86 ES-beta-lactamase",
           "2be"
          ],
          [
           "AAG44570.1",
           "class A beta-lactamase TEM-87",
           "2be"
          ],
          [
           "AAK14792.1",
           "extended-spectrum beta-lactamase TEM-88",
           "2be"
          ],
          [
           "BAB16308.1",
           "TEM-derived extended-spectrum beta-lactamase",
           "2be"
          ],
          [
           "AAF66653.1",
           "class A beta-lactamase",
           "2be"
          ],
          [
           "CAC85660.1",
           "TEM-93 ES-beta-lactamase",
           "2be"
          ],
          [
           "CAC85661.1",
           "TEM-94 ES-beta-lactamase",
           "2be"
          ],
          [
           "AAS89982.1",
           "beta-lactamase",
           "2be"
          ],
          [
           "AAS89983.1",
           "beta-lactamase",
           "2be"
          ],
          [
           "AAS89984.1",
           "beta-lactamase",
           "2be"
          ],
          [
           "AAN04881.1",
           "beta-lactamase TEM-115",
           "2be"
          ],
          [
           "AAM18924.1",
           "extended-spectrum beta-lactamase TEM-101",
           "2be"
          ],
          [
           "AAK82652.1",
           "beta-lactamase TEM-102",
           "2be"
          ],
          [
           "AAM52207.1",
           "class A beta-lactamase TEM-106",
           "2be"
          ],
          [
           "AAM52215.1",
           "class A beta-lactamase TEM-107",
           "2be"
          ],
          [
           "AAO85882.1",
           "beta-lactamase TEM-120",
           "2be"
          ],
          [
           "AAQ93490.1",
           "class A beta-lactamase TEM-123",
           "2be"
          ],
          [
           "AAQ93491.1",
           "class A beta-lactamase TEM-124",
           "2be"
          ],
          [
           "AAT45742.1",
           "beta-lactamase TEM-126",
           "2be"
          ],
          [
           "CAG34105.1",
           "class A beta-lactamase",
           "2be"
          ],
          [
           "CAI29263.1",
           "beta-lactamase",
           "2be"
          ],
          [
           "AAR10958.1",
           "extended-spectrum beta-lactamase TEM-131",
           "2be"
          ],
          [
           "BAD89187.1",
           "TEM-derived extended-spectrum beta-lactamase",
           "2be"
          ],
          [
           "AAS19171.1",
           "extended spectrum beta-lactamase TEM-133",
           "2be"
          ],
          [
           "AAS79107.1",
           "class A beta-lactamase TEM-134",
           "2be"
          ],
          [
           "AAV83795.1",
           "extended-spectrum beta-lactamase TEM-136",
           "2be"
          ],
          [
           "CAL08007.1",
           "TEM-137 beta-lactamase",
           "2be"
          ],
          [
           "AAW47922.1",
           "extended-spectrum beta-lactamase TEM-138",
           "2be"
          ],
          [
           "AAZ23494.1",
           "bla-TEM-139 extended spectrum beta-lactamase",
           "2be"
          ],
          [
           "AAY85632.1",
           "extended spectrum beta-lactamase TEM-143",
           "2be"
          ],
          [
           "CAJ17559.1",
           "TEM-derived extended spectrum beta-lactamase",
           "2be"
          ],
          [
           "ABB84515.1",
           "extended-spectrum beta-lactamase TEM-147",
           "2be"
          ],
          [
           "ABC96711.1",
           "TEM-149 beta-lactamase",
           "2be"
          ],
          [
           "AGA83484.1",
           "extended-spectrum beta-lactamase TEM-153",
           "2be"
          ],
          [
           "ABG77582.1",
           "extended spectrum beta-lactamase",
           "2be"
          ],
          [
           "ABI81768.1",
           "beta-lactamase TEM-157",
           "2be"
          ],
          [
           "ABX71157.1",
           "extended-spectrum beta-lactamase TEM-162",
           "2be"
          ],
          [
           "ACJ04051.1",
           "extended-spectrum beta-lactamase TEM-167",
           "2be"
          ],
          [
           "ACR22829.1",
           "beta-lactamase TEM-168",
           "2be"
          ],
          [
           "AJC64564.1",
           "TEM beta lactamase",
           "2be"
          ],
          [
           "CBJ06718.1",
           "extended-spectrum beta-lactamase",
           "2be"
          ],
          [
           "CCA61905.1",
           "TEM-184 beta-lactamase",
           "2be"
          ],
          [
           "ADM61585.1",
           "beta-lactamase TEM variant",
           "2be"
          ],
          [
           "AEL17198.1",
           "extended-spectrum beta-lactamase TEM-188",
           "2be"
          ],
          [
           "AEK48085.1",
           "extended-spectrum beta-lactamase TEM-197",
           "2be"
          ],
          [
           "ALJ78859.1",
           "class A beta-lactamase TEM-204",
           "2be"
          ],
          [
           "AAG45415.1",
           "TEM-derived extended spectrum beta-lactamase",
           "2be"
          ],
          [
           "AHA80960.1",
           "extended spectrum beta-lactamase TEM-211",
           "2be"
          ],
          [
           "CAA66659.1",
           "beta-lactamase",
           "2be"
          ],
          [
           "AAN05028.1",
           "TEM-75 beta-lactamase",
           "2be"
          ],
          [
           "AAN05029.1",
           "TEM-118 beta-lactamase",
           "2be"
          ]
         ],
         "hovertemplate": "p.phenotype=%{customdata[2]}<br>UMAP_1=%{x}<br>UMAP_2=%{y}<br>p.accession_id=%{customdata[0]}<br>p.name=%{customdata[1]}<extra></extra>",
         "legendgroup": "2be",
         "marker": {
          "color": "#EF553B",
          "symbol": "circle"
         },
         "mode": "markers",
         "name": "2be",
         "orientation": "v",
         "showlegend": true,
         "type": "scatter",
         "x": {
          "bdata": "9s9+wJb6ssBCzcDAD6KgwLLgtcASU4bAsDy8wHnCpsDmFgPBNMylwFd4fsBSL57AoF0BwTlIusD+3IfAd9V+wNVwfMDqR6vAXZ2vwFmR9sDEH47A6xXGwDiG4MCiLNzAnuqJwJS7tcC9UNS+jk+JwIyCrMAP9cXA2NOHwMG10cCs39bAqptwwFKUgMBtCYPAduh8wFvMm8C6U6zA/DHSwHuSgsA3g4rAQt6uwB2IpcArwpjA+SeFwE3mjMCB2rLAFeR3wM/CbcCqrr/AG2mAwDI+f8CpLK7AP163wKE7xcCyeoPAmTTGwAAYucC8GanAB3N4wEgnjcCs84HAx93+wHm6mcBBg3nA/QONwG/h0sBSQwTBpyuywNir2sCwXHW/dhRywPi/csC5t5XAXxHnwKiRssBce3rAbXa2wL7wXsA+HLu+6DyOvvcChr4=",
          "dtype": "f4"
         },
         "xaxis": "x",
         "y": {
          "bdata": "7jjpQCRlbUAF6vVAyYHOQJj58ECzi+VAwSRbQKB08UCYH2lAk//EQNoJ7kCnBs1AFBlLQGUYdkBHm/FAX8ziQPBz+UBLI8pAD4P2QOhaTUBFj7JA+kDtQKY9FUAMbg1ABhewQJAYTEC46TBAs6X9QGxNgEAAz/FAfUfpQNtVH0CvOw9AqLWtQDezukC1NjpAXwjQQKHxskCKI3ZApNocQBGm3EDk1/xAbLE9QEfv9UDYRCtAEVy1QK75qUDdq1JAC6zLQMGRxEA4WFlAzzDrQCkr+0DFeXlAMaP2QH8Lg0DDGvBAoszyQIyC80D+z8hAapjcQMSuM0AwgDVAz7aOQAm/xEDkB7RAxWv+QA7OOUC6GE1AUSViQLbyJkDvoDNAChfzQN3+yUB7VS1AqpwiQG53vkAP/M9ASajkQOa3zUCODsI/yx+8P2Rdtj8=",
          "dtype": "f4"
         },
         "yaxis": "y"
        },
        {
         "customdata": [
          [
           "CAD24670.1",
           "beta-lactamase",
           "2br"
          ],
          [
           "ARF45649.1",
           "beta-lactamase TEM-1 variant",
           "2br"
          ],
          [
           "CTA52364.1",
           "Beta-lactamase TEM precursor",
           "2br"
          ],
          [
           "ADL13944.1",
           "TEM-33",
           "2br"
          ],
          [
           "AGQ50511.1",
           "beta lactamase blaTEM-34",
           "2br"
          ],
          [
           "AKA60778.1",
           "beta-lactamase",
           "2br"
          ],
          [
           "APT65830.1",
           "inhibitor-resistant class A broad-spectrum beta-lactamase TEM-36",
           "2br"
          ],
          [
           "HAH6232254.1",
           "TEM family class A beta-lactamase",
           "2br"
          ],
          [
           "QDO66746.1",
           "beta-lactamase TEM-39",
           "2br"
          ],
          [
           "CBX53726.1",
           "beta-lactamase TEM-40",
           "2br"
          ],
          [
           "CAA64682.1",
           "beta-lactamase",
           "2br"
          ],
          [
           "AAD22539.1",
           "inhibitor resistant beta lactamase TEM-54",
           "2br"
          ],
          [
           "AAD33116.2",
           "beta-lactamase",
           "2br"
          ],
          [
           "AAF05613.1",
           "inhibitor-resistant beta-lactamase TEM-76",
           "2br"
          ],
          [
           "AAF05614.1",
           "inhibitor-resistant beta-lactamase TEM-77",
           "2br"
          ],
          [
           "AAF05612.1",
           "inhibitor-resistant beta-lactamase TEM-78",
           "2br"
          ],
          [
           "AAF05611.1",
           "inhibitor-resistant beta-lactamase TEM-79",
           "2br"
          ],
          [
           "AAM15527.1",
           "inhibitor-resistant beta-lactamase TEM-80",
           "2br"
          ],
          [
           "AAL29433.1",
           "inhibitor-resistant beta-lactamase TEM-81",
           "2br"
          ],
          [
           "AAL29434.1",
           "inhibitor-resistant beta-lactamase TEM-82",
           "2br"
          ],
          [
           "AAL29435.1",
           "inhibitor-resistant beta-lactamase TEM-83",
           "2br"
          ],
          [
           "AAL29436.1",
           "inhibitor-resistant beta-lactamase TEM-84",
           "2br"
          ],
          [
           "EAC0197234.1",
           "TEM family class A beta-lactamase",
           "2br"
          ],
          [
           "AAQ98890.1",
           "inhibitor-resistant beta-lactamase TEM",
           "2br"
          ],
          [
           "AAZ14083.2",
           "TEM-145",
           "2br"
          ],
          [
           "ABM54869.1",
           "beta-lactamase TEM-159",
           "2br"
          ],
          [
           "ABM54870.1",
           "beta-lactamase TEM-160",
           "2br"
          ],
          [
           "ACF32746.1",
           "putative inhibitor-resistant TEM-163 beta-lactamase",
           "2br"
          ],
          [
           "ADP20705.1",
           "inhibitor resistant beta-lactamase TEM-182",
           "2br"
          ],
          [
           "AEG64812.1",
           "beta-lactamase TEM-185",
           "2br"
          ],
          [
           "AAD45935.1",
           "inhibitor-resistant beta-lactamase",
           "2br"
          ]
         ],
         "hovertemplate": "p.phenotype=%{customdata[2]}<br>UMAP_1=%{x}<br>UMAP_2=%{y}<br>p.accession_id=%{customdata[0]}<br>p.name=%{customdata[1]}<extra></extra>",
         "legendgroup": "2br",
         "marker": {
          "color": "#00cc96",
          "symbol": "circle"
         },
         "mode": "markers",
         "name": "2br",
         "orientation": "v",
         "showlegend": true,
         "type": "scatter",
         "x": {
          "bdata": "T+IBwcjyosBuEyDAPSKZv0h9/L8t1HG/vBzZv1CoBMApQEq/gekSwMpJpr8SzQDBfnyawDewT78QkKS/QaiRv+nDAME1KIO/3X2Sv2LF6b8HAUK/fOX/wO8/9MBJOwjB/U4AwfJ0bsAdjuS/l4HGwBwW27+Z2WW/lUgIvw==",
          "dtype": "f4"
         },
         "xaxis": "x",
         "y": {
          "bdata": "HVlOQHWoMUB8FFVAobEEQGS/OkClCBJA02tQQDRtXUDhcStA2YdOQLxSEkAmSo5AiWAxQHabH0AMOAVAOltJQOxHmkD6dBtAxSkEQAcdU0APLD5AKtCdQE5zr0B1JHhAt9c6QDOYSEDc0w1ASFwYQDBdXUDXMRFAp4fnPw==",
          "dtype": "f4"
         },
         "yaxis": "y"
        },
        {
         "customdata": [
          [
           "CAB92324.1",
           "TEM-68 ES-beta-lactamase",
           "2ber"
          ],
          [
           "AAT46413.1",
           "beta-lactamase TEM-109",
           "2ber"
          ],
          [
           "AAQ01671.1",
           "extended-spectrum beta-lactamase",
           "2ber"
          ],
          [
           "AAT46414.1",
           "beta-lactamase TEM-125",
           "2ber"
          ],
          [
           "ABI74448.1",
           "beta lactamase TEM-151",
           "2ber"
          ],
          [
           "ABI74447.1",
           "beta lactamase TEM-152",
           "2ber"
          ],
          [
           "ACO07310.1",
           "CMT-type extended-spectrum beta-lactamase",
           "2ber"
          ],
          [
           "ABQ00181.1",
           "CMT-type beta lactamase",
           "2ber"
          ],
          [
           "CAA65888.1",
           "beta-lactamase",
           "2ber"
          ],
          [
           "AAK71474.1",
           "TEM-89 beta-lactamase",
           "2ber"
          ]
         ],
         "hovertemplate": "p.phenotype=%{customdata[2]}<br>UMAP_1=%{x}<br>UMAP_2=%{y}<br>p.accession_id=%{customdata[0]}<br>p.name=%{customdata[1]}<extra></extra>",
         "legendgroup": "2ber",
         "marker": {
          "color": "#ab63fa",
          "symbol": "circle"
         },
         "mode": "markers",
         "name": "2ber",
         "orientation": "v",
         "showlegend": true,
         "type": "scatter",
         "x": {
          "bdata": "7i/2wJE4sb+rXYDA7+pcv/OM8796aOC/IwusvzKVir8Mnui+vCr9vg==",
          "dtype": "f4"
         },
         "xaxis": "x",
         "y": {
          "bdata": "rBu7QOYO8z+HLPxAQ2kxQH1OTUDbQCVA5wMMQI/VGUC8nTdAbVrqPw==",
          "dtype": "f4"
         },
         "yaxis": "y"
        },
        {
         "customdata": [
          [
           "AAF01046.1",
           "beta-lactamase variant TEM-70",
           "<null>"
          ],
          [
           "AAM22276.1",
           "beta-lactamase TEM-96",
           "<null>"
          ],
          [
           "AAM28884.1",
           "TEM beta-lactamase",
           "<null>"
          ],
          [
           "AAL77062.1",
           "TEM-type beta lactamase",
           "<null>"
          ],
          [
           "PLC74546.1",
           "class A beta-lactamase",
           "<null>"
          ],
          [
           "AAK85244.1",
           "inhibitor resistant TEM beta-lactamase",
           "<null>"
          ],
          [
           "AAK85245.1",
           "TEM beta-lactamase",
           "<null>"
          ],
          [
           "AAK85243.1",
           "inhibitor resistant TEM beta-lactamase",
           "<null>"
          ],
          [
           "ADI77428.1",
           "inhibitor-resistant beta-lactamase",
           "<null>"
          ],
          [
           "AAM61953.1",
           "beta-lactamase TEM-105",
           "<null>"
          ],
          [
           "ABD60314.1",
           "beta-lactamase",
           "<null>"
          ],
          [
           "AAZ14084.2",
           "TEM-146",
           "<null>"
          ],
          [
           "CAJ32372.1",
           "beta-lactamase",
           "<null>"
          ],
          [
           "ACI32333.1",
           "extended spectrum beta lactamase TEM-150",
           "<null>"
          ],
          [
           "AML08013.1",
           "class A beta-lactamase",
           "<null>"
          ],
          [
           "ABO64442.1",
           "TEM beta-lactamase",
           "<null>"
          ],
          [
           "ACI25375.1",
           "beta-lactamase TEM-166",
           "<null>"
          ],
          [
           "BAV00618.1",
           "beta-lactamase",
           "<null>"
          ],
          [
           "KOP91900.1",
           "class A beta-lactamase",
           "<null>"
          ],
          [
           "AKQ12673.1",
           "beta-lactamase",
           "<null>"
          ],
          [
           "AEL79515.1",
           "tem-189 beta lactamase",
           "<null>"
          ],
          [
           "AEL88240.1",
           "tem-190 beta lactamase",
           "<null>"
          ],
          [
           "APY23677.1",
           "class A beta-lactamase TEM-191",
           "<null>"
          ],
          [
           "AFC75523.1",
           "beta-lactamase TEM 193",
           "<null>"
          ],
          [
           "AFC75524.1",
           "beta-lactamase TEM 194",
           "<null>"
          ],
          [
           "AFC75525.1",
           "beta-lactamase TEM 195",
           "<null>"
          ],
          [
           "AFE48832.1",
           "TEM 196",
           "<null>"
          ],
          [
           "BAL68178.1",
           "beta-lactamase TEM-198",
           "<null>"
          ],
          [
           "AFS44742.1",
           "beta-lactamase",
           "<null>"
          ],
          [
           "AGZ20205.1",
           "beta-lactamase TEM205",
           "<null>"
          ],
          [
           "AGL39384.1",
           "beta-lactamase TEM-208",
           "<null>"
          ],
          [
           "AGW25367.1",
           "beta-lactamase TEM-209",
           "<null>"
          ],
          [
           "AIF78090.1",
           "Beta-lactamase, TEM-210",
           "<null>"
          ],
          [
           "AHA49909.1",
           "beta-lactamase TEM-212",
           "<null>"
          ],
          [
           "OCN67279.1",
           "class A beta-lactamase",
           "<null>"
          ],
          [
           "AJO16044.1",
           "class A beta-lactamase blaTEM-214",
           "<null>"
          ],
          [
           "AJO16045.1",
           "class A beta-lactamase blaTEM-215",
           "<null>"
          ],
          [
           "AHJ78622.1",
           "beta-lacatamase TEM-216",
           "<null>"
          ],
          [
           "CDN33426.1",
           "class A beta-lactamase",
           "<null>"
          ],
          [
           "AIS39742.1",
           "beta-lactamase TEM-219",
           "<null>"
          ],
          [
           "AIW68620.1",
           "beta-lactamase TEM-220",
           "<null>"
          ],
          [
           "AMD11804.1",
           "class A beta-lactamase TEM-224",
           "<null>"
          ],
          [
           "APT67991.1",
           "class A beta-lactamase TEM-225",
           "<null>"
          ],
          [
           "AQT03459.1",
           "class A beta-lactamase TEM-226",
           "<null>"
          ],
          [
           "AQX83499.1",
           "class A beta-lactamase TEM-227",
           "<null>"
          ],
          [
           "ARF19528.1",
           "class A beta-lactamase TEM-228",
           "<null>"
          ],
          [
           "AUS83547.1",
           "class A beta-lactamase TEM-229",
           "<null>"
          ],
          [
           "AUT06962.1",
           "class A beta-lactamase TEM-230",
           "<null>"
          ],
          [
           "AUT06963.1",
           "class A beta-lactamase TEM-231",
           "<null>"
          ],
          [
           "AVP73880.1",
           "class A beta-lactamase TEM-232",
           "<null>"
          ],
          [
           "AWH90786.1",
           "class A beta-lactamase TEM-233",
           "<null>"
          ],
          [
           "AWI33307.1",
           "class A beta-lactamase TEM-234",
           "<null>"
          ],
          [
           "ACT97652.1",
           "TEM-168 beta-lactamase",
           "<null>"
          ],
          [
           "ADN79098.1",
           "beta-lactamase TEM",
           "<null>"
          ],
          [
           "AYR04769.1",
           "class A beta-lactamase TEM-238",
           "<null>"
          ],
          [
           "MBG9969038.1",
           "TEM family class A beta-lactamase",
           "<null>"
          ],
          [
           "QBG79064.1",
           "class A beta-lactamase TEM-240",
           "<null>"
          ],
          [
           "QDC28520.1",
           "class A beta-lactamase TEM-241",
           "<null>"
          ],
          [
           "QDY98370.1",
           "class A beta-lactamase TEM-242",
           "<null>"
          ],
          [
           "QPG87090.1",
           "class A beta-lactamase TEM-243",
           "<null>"
          ],
          [
           "QWY17601.1",
           "class A beta-lactamase TEM-244",
           "<null>"
          ],
          [
           "ULU82600.1",
           "class A beta-lactamase TEM-245",
           "<null>"
          ],
          [
           "ULU82601.1",
           "class A beta-lactamase TEM-246",
           "<null>"
          ],
          [
           "UTS94241.1",
           "class A beta-lactamase TEM-247",
           "<null>"
          ],
          [
           "UUT29265.1",
           "class A beta-lactamase TEM-248",
           "<null>"
          ],
          [
           "UUT29266.1",
           "class A beta-lactamase TEM-249",
           "<null>"
          ],
          [
           "WEG44935.1",
           "class A beta-lactamase TEM-250",
           "<null>"
          ],
          [
           "MBY8666561.1",
           "TEM family class A beta-lactamase",
           "<null>"
          ],
          [
           "AEQ59620.1",
           "beta-lactamase TEM-1",
           "<null>"
          ],
          [
           "P41365",
           "Lipase B",
           "<null>"
          ]
         ],
         "hovertemplate": "p.phenotype=%{customdata[2]}<br>UMAP_1=%{x}<br>UMAP_2=%{y}<br>p.accession_id=%{customdata[0]}<br>p.name=%{customdata[1]}<extra></extra>",
         "legendgroup": "<null>",
         "marker": {
          "color": "#FFA15A",
          "symbol": "circle"
         },
         "mode": "markers",
         "name": "<null>",
         "orientation": "v",
         "showlegend": true,
         "type": "scatter",
         "x": {
          "bdata": "kS0IwQaOAcHDAO2/NljqwM2cs8D0fXK/MiDIwHq+yMAdN7PAvu6lwJ6tsMCpRPzA+wKxwGVuq8DkMdbAwntvwIrSBcGid7fAkvn8wMm67cCqFby/4AE/v3djrcAGuqC+R6G1voQ+GsDYdfvA7R39wBUaAMFejJbAwhP2wJT3BMH7w+q/hD0AwWa22sAr89vALmbNwBYP/MDxrf3AvH71wEaE0cCRQV/At5iJwGyVpsBVWnzA5IUCwZtk68AYqeDA4h71wDhZCME6tSPAiHr+wIOK8cB4kffA1Y3ovwdaA8EMAL3AhnaiwBpyisAeD0G/vnCzwHCs98A4Zya/kXkNwASh/cDku9zAuOLKwNcf57/4hLe+Rqjkvg==",
          "dtype": "f4"
         },
         "xaxis": "x",
         "y": {
          "bdata": "nMKEQKZmb0DRvzNATb+sQPPORkDebuc/AgH8P4aG/j9GjD1AKj7HQDJCu0BEerZAzTfGQB6W2UAkETdA6d3pQEGGYkAZ3e9AUzWWQEhpRkBCGeY/Vkg7QDfI+kCJSylA9AQFQIFoQEAVSpVAmk2CQHrvjEB4k7VAu7dJQOEbf0B5IR1AXGWpQEbqIkBWtHNA4B0bQL2vuEAeNbVAh4+2QCuHhUBs5dZAJdypQCfhwUAZb9xAMRFoQEnAVUBN8SRA5WCQQELvgkABF4FA2w5bQNS1qkBcx0pAPkVeQEagkkDoY31ADkTrQM7BskAWV98/gBcAQZnWvEAGSdk/SJN6QNiejkC4DzFA3HcbQPE2WECtbcM/V9pAQA==",
          "dtype": "f4"
         },
         "yaxis": "y"
        },
        {
         "customdata": [
          [
           "AXL10707.1",
           "class A extended-spectrum beta-lactamase TEM-236",
           "ESBL"
          ]
         ],
         "hovertemplate": "p.phenotype=%{customdata[2]}<br>UMAP_1=%{x}<br>UMAP_2=%{y}<br>p.accession_id=%{customdata[0]}<br>p.name=%{customdata[1]}<extra></extra>",
         "legendgroup": "ESBL",
         "marker": {
          "color": "#19d3f3",
          "symbol": "circle"
         },
         "mode": "markers",
         "name": "ESBL",
         "orientation": "v",
         "showlegend": true,
         "type": "scatter",
         "x": {
          "bdata": "kbeKwA==",
          "dtype": "f4"
         },
         "xaxis": "x",
         "y": {
          "bdata": "Tig4QA==",
          "dtype": "f4"
         },
         "yaxis": "y"
        },
        {
         "marker": {
          "color": "white",
          "size": 12,
          "symbol": "x"
         },
         "mode": "markers+text",
         "name": "Phenotype Center",
         "text": [
          "2b",
          "2be",
          "2ber",
          "2br",
          "<null>",
          "ESBL"
         ],
         "textposition": "top center",
         "type": "scatter",
         "x": {
          "bdata": "VGbZwDJ4ncDSSwbAKYdWwOHersCRt4rA",
          "dtype": "f4"
         },
         "y": {
          "bdata": "rFKJQO05p0BKRVZAeiBDQIeyhkBOKDhA",
          "dtype": "f4"
         }
        },
        {
         "marker": {
          "color": "red",
          "size": 14,
          "symbol": "star"
         },
         "mode": "markers+text",
         "name": "Global Center",
         "showlegend": true,
         "text": [
          "Global Center"
         ],
         "textposition": "bottom right",
         "type": "scatter",
         "x": [
          -4.867156505584717
         ],
         "y": [
          4.398264408111572
         ]
        },
        {
         "marker": {
          "color": "black",
          "size": 6
         },
         "mode": "markers",
         "name": "Global Center Point",
         "showlegend": false,
         "type": "scatter",
         "x": [
          -4.867156505584717
         ],
         "y": [
          4.398264408111572
         ]
        }
       ],
       "layout": {
        "height": 700,
        "legend": {
         "title": {
          "text": "p.phenotype"
         },
         "tracegroupgap": 0
        },
        "template": {
         "data": {
          "bar": [
           {
            "error_x": {
             "color": "#f2f5fa"
            },
            "error_y": {
             "color": "#f2f5fa"
            },
            "marker": {
             "line": {
              "color": "rgb(17,17,17)",
              "width": 0.5
             },
             "pattern": {
              "fillmode": "overlay",
              "size": 10,
              "solidity": 0.2
             }
            },
            "type": "bar"
           }
          ],
          "barpolar": [
           {
            "marker": {
             "line": {
              "color": "rgb(17,17,17)",
              "width": 0.5
             },
             "pattern": {
              "fillmode": "overlay",
              "size": 10,
              "solidity": 0.2
             }
            },
            "type": "barpolar"
           }
          ],
          "carpet": [
           {
            "aaxis": {
             "endlinecolor": "#A2B1C6",
             "gridcolor": "#506784",
             "linecolor": "#506784",
             "minorgridcolor": "#506784",
             "startlinecolor": "#A2B1C6"
            },
            "baxis": {
             "endlinecolor": "#A2B1C6",
             "gridcolor": "#506784",
             "linecolor": "#506784",
             "minorgridcolor": "#506784",
             "startlinecolor": "#A2B1C6"
            },
            "type": "carpet"
           }
          ],
          "choropleth": [
           {
            "colorbar": {
             "outlinewidth": 0,
             "ticks": ""
            },
            "type": "choropleth"
           }
          ],
          "contour": [
           {
            "colorbar": {
             "outlinewidth": 0,
             "ticks": ""
            },
            "colorscale": [
             [
              0,
              "#0d0887"
             ],
             [
              0.1111111111111111,
              "#46039f"
             ],
             [
              0.2222222222222222,
              "#7201a8"
             ],
             [
              0.3333333333333333,
              "#9c179e"
             ],
             [
              0.4444444444444444,
              "#bd3786"
             ],
             [
              0.5555555555555556,
              "#d8576b"
             ],
             [
              0.6666666666666666,
              "#ed7953"
             ],
             [
              0.7777777777777778,
              "#fb9f3a"
             ],
             [
              0.8888888888888888,
              "#fdca26"
             ],
             [
              1,
              "#f0f921"
             ]
            ],
            "type": "contour"
           }
          ],
          "contourcarpet": [
           {
            "colorbar": {
             "outlinewidth": 0,
             "ticks": ""
            },
            "type": "contourcarpet"
           }
          ],
          "heatmap": [
           {
            "colorbar": {
             "outlinewidth": 0,
             "ticks": ""
            },
            "colorscale": [
             [
              0,
              "#0d0887"
             ],
             [
              0.1111111111111111,
              "#46039f"
             ],
             [
              0.2222222222222222,
              "#7201a8"
             ],
             [
              0.3333333333333333,
              "#9c179e"
             ],
             [
              0.4444444444444444,
              "#bd3786"
             ],
             [
              0.5555555555555556,
              "#d8576b"
             ],
             [
              0.6666666666666666,
              "#ed7953"
             ],
             [
              0.7777777777777778,
              "#fb9f3a"
             ],
             [
              0.8888888888888888,
              "#fdca26"
             ],
             [
              1,
              "#f0f921"
             ]
            ],
            "type": "heatmap"
           }
          ],
          "histogram": [
           {
            "marker": {
             "pattern": {
              "fillmode": "overlay",
              "size": 10,
              "solidity": 0.2
             }
            },
            "type": "histogram"
           }
          ],
          "histogram2d": [
           {
            "colorbar": {
             "outlinewidth": 0,
             "ticks": ""
            },
            "colorscale": [
             [
              0,
              "#0d0887"
             ],
             [
              0.1111111111111111,
              "#46039f"
             ],
             [
              0.2222222222222222,
              "#7201a8"
             ],
             [
              0.3333333333333333,
              "#9c179e"
             ],
             [
              0.4444444444444444,
              "#bd3786"
             ],
             [
              0.5555555555555556,
              "#d8576b"
             ],
             [
              0.6666666666666666,
              "#ed7953"
             ],
             [
              0.7777777777777778,
              "#fb9f3a"
             ],
             [
              0.8888888888888888,
              "#fdca26"
             ],
             [
              1,
              "#f0f921"
             ]
            ],
            "type": "histogram2d"
           }
          ],
          "histogram2dcontour": [
           {
            "colorbar": {
             "outlinewidth": 0,
             "ticks": ""
            },
            "colorscale": [
             [
              0,
              "#0d0887"
             ],
             [
              0.1111111111111111,
              "#46039f"
             ],
             [
              0.2222222222222222,
              "#7201a8"
             ],
             [
              0.3333333333333333,
              "#9c179e"
             ],
             [
              0.4444444444444444,
              "#bd3786"
             ],
             [
              0.5555555555555556,
              "#d8576b"
             ],
             [
              0.6666666666666666,
              "#ed7953"
             ],
             [
              0.7777777777777778,
              "#fb9f3a"
             ],
             [
              0.8888888888888888,
              "#fdca26"
             ],
             [
              1,
              "#f0f921"
             ]
            ],
            "type": "histogram2dcontour"
           }
          ],
          "mesh3d": [
           {
            "colorbar": {
             "outlinewidth": 0,
             "ticks": ""
            },
            "type": "mesh3d"
           }
          ],
          "parcoords": [
           {
            "line": {
             "colorbar": {
              "outlinewidth": 0,
              "ticks": ""
             }
            },
            "type": "parcoords"
           }
          ],
          "pie": [
           {
            "automargin": true,
            "type": "pie"
           }
          ],
          "scatter": [
           {
            "marker": {
             "line": {
              "color": "#283442"
             }
            },
            "type": "scatter"
           }
          ],
          "scatter3d": [
           {
            "line": {
             "colorbar": {
              "outlinewidth": 0,
              "ticks": ""
             }
            },
            "marker": {
             "colorbar": {
              "outlinewidth": 0,
              "ticks": ""
             }
            },
            "type": "scatter3d"
           }
          ],
          "scattercarpet": [
           {
            "marker": {
             "colorbar": {
              "outlinewidth": 0,
              "ticks": ""
             }
            },
            "type": "scattercarpet"
           }
          ],
          "scattergeo": [
           {
            "marker": {
             "colorbar": {
              "outlinewidth": 0,
              "ticks": ""
             }
            },
            "type": "scattergeo"
           }
          ],
          "scattergl": [
           {
            "marker": {
             "line": {
              "color": "#283442"
             }
            },
            "type": "scattergl"
           }
          ],
          "scattermap": [
           {
            "marker": {
             "colorbar": {
              "outlinewidth": 0,
              "ticks": ""
             }
            },
            "type": "scattermap"
           }
          ],
          "scattermapbox": [
           {
            "marker": {
             "colorbar": {
              "outlinewidth": 0,
              "ticks": ""
             }
            },
            "type": "scattermapbox"
           }
          ],
          "scatterpolar": [
           {
            "marker": {
             "colorbar": {
              "outlinewidth": 0,
              "ticks": ""
             }
            },
            "type": "scatterpolar"
           }
          ],
          "scatterpolargl": [
           {
            "marker": {
             "colorbar": {
              "outlinewidth": 0,
              "ticks": ""
             }
            },
            "type": "scatterpolargl"
           }
          ],
          "scatterternary": [
           {
            "marker": {
             "colorbar": {
              "outlinewidth": 0,
              "ticks": ""
             }
            },
            "type": "scatterternary"
           }
          ],
          "surface": [
           {
            "colorbar": {
             "outlinewidth": 0,
             "ticks": ""
            },
            "colorscale": [
             [
              0,
              "#0d0887"
             ],
             [
              0.1111111111111111,
              "#46039f"
             ],
             [
              0.2222222222222222,
              "#7201a8"
             ],
             [
              0.3333333333333333,
              "#9c179e"
             ],
             [
              0.4444444444444444,
              "#bd3786"
             ],
             [
              0.5555555555555556,
              "#d8576b"
             ],
             [
              0.6666666666666666,
              "#ed7953"
             ],
             [
              0.7777777777777778,
              "#fb9f3a"
             ],
             [
              0.8888888888888888,
              "#fdca26"
             ],
             [
              1,
              "#f0f921"
             ]
            ],
            "type": "surface"
           }
          ],
          "table": [
           {
            "cells": {
             "fill": {
              "color": "#506784"
             },
             "line": {
              "color": "rgb(17,17,17)"
             }
            },
            "header": {
             "fill": {
              "color": "#2a3f5f"
             },
             "line": {
              "color": "rgb(17,17,17)"
             }
            },
            "type": "table"
           }
          ]
         },
         "layout": {
          "annotationdefaults": {
           "arrowcolor": "#f2f5fa",
           "arrowhead": 0,
           "arrowwidth": 1
          },
          "autotypenumbers": "strict",
          "coloraxis": {
           "colorbar": {
            "outlinewidth": 0,
            "ticks": ""
           }
          },
          "colorscale": {
           "diverging": [
            [
             0,
             "#8e0152"
            ],
            [
             0.1,
             "#c51b7d"
            ],
            [
             0.2,
             "#de77ae"
            ],
            [
             0.3,
             "#f1b6da"
            ],
            [
             0.4,
             "#fde0ef"
            ],
            [
             0.5,
             "#f7f7f7"
            ],
            [
             0.6,
             "#e6f5d0"
            ],
            [
             0.7,
             "#b8e186"
            ],
            [
             0.8,
             "#7fbc41"
            ],
            [
             0.9,
             "#4d9221"
            ],
            [
             1,
             "#276419"
            ]
           ],
           "sequential": [
            [
             0,
             "#0d0887"
            ],
            [
             0.1111111111111111,
             "#46039f"
            ],
            [
             0.2222222222222222,
             "#7201a8"
            ],
            [
             0.3333333333333333,
             "#9c179e"
            ],
            [
             0.4444444444444444,
             "#bd3786"
            ],
            [
             0.5555555555555556,
             "#d8576b"
            ],
            [
             0.6666666666666666,
             "#ed7953"
            ],
            [
             0.7777777777777778,
             "#fb9f3a"
            ],
            [
             0.8888888888888888,
             "#fdca26"
            ],
            [
             1,
             "#f0f921"
            ]
           ],
           "sequentialminus": [
            [
             0,
             "#0d0887"
            ],
            [
             0.1111111111111111,
             "#46039f"
            ],
            [
             0.2222222222222222,
             "#7201a8"
            ],
            [
             0.3333333333333333,
             "#9c179e"
            ],
            [
             0.4444444444444444,
             "#bd3786"
            ],
            [
             0.5555555555555556,
             "#d8576b"
            ],
            [
             0.6666666666666666,
             "#ed7953"
            ],
            [
             0.7777777777777778,
             "#fb9f3a"
            ],
            [
             0.8888888888888888,
             "#fdca26"
            ],
            [
             1,
             "#f0f921"
            ]
           ]
          },
          "colorway": [
           "#636efa",
           "#EF553B",
           "#00cc96",
           "#ab63fa",
           "#FFA15A",
           "#19d3f3",
           "#FF6692",
           "#B6E880",
           "#FF97FF",
           "#FECB52"
          ],
          "font": {
           "color": "#f2f5fa"
          },
          "geo": {
           "bgcolor": "rgb(17,17,17)",
           "lakecolor": "rgb(17,17,17)",
           "landcolor": "rgb(17,17,17)",
           "showlakes": true,
           "showland": true,
           "subunitcolor": "#506784"
          },
          "hoverlabel": {
           "align": "left"
          },
          "hovermode": "closest",
          "mapbox": {
           "style": "dark"
          },
          "paper_bgcolor": "rgb(17,17,17)",
          "plot_bgcolor": "rgb(17,17,17)",
          "polar": {
           "angularaxis": {
            "gridcolor": "#506784",
            "linecolor": "#506784",
            "ticks": ""
           },
           "bgcolor": "rgb(17,17,17)",
           "radialaxis": {
            "gridcolor": "#506784",
            "linecolor": "#506784",
            "ticks": ""
           }
          },
          "scene": {
           "xaxis": {
            "backgroundcolor": "rgb(17,17,17)",
            "gridcolor": "#506784",
            "gridwidth": 2,
            "linecolor": "#506784",
            "showbackground": true,
            "ticks": "",
            "zerolinecolor": "#C8D4E3"
           },
           "yaxis": {
            "backgroundcolor": "rgb(17,17,17)",
            "gridcolor": "#506784",
            "gridwidth": 2,
            "linecolor": "#506784",
            "showbackground": true,
            "ticks": "",
            "zerolinecolor": "#C8D4E3"
           },
           "zaxis": {
            "backgroundcolor": "rgb(17,17,17)",
            "gridcolor": "#506784",
            "gridwidth": 2,
            "linecolor": "#506784",
            "showbackground": true,
            "ticks": "",
            "zerolinecolor": "#C8D4E3"
           }
          },
          "shapedefaults": {
           "line": {
            "color": "#f2f5fa"
           }
          },
          "sliderdefaults": {
           "bgcolor": "#C8D4E3",
           "bordercolor": "rgb(17,17,17)",
           "borderwidth": 1,
           "tickwidth": 0
          },
          "ternary": {
           "aaxis": {
            "gridcolor": "#506784",
            "linecolor": "#506784",
            "ticks": ""
           },
           "baxis": {
            "gridcolor": "#506784",
            "linecolor": "#506784",
            "ticks": ""
           },
           "bgcolor": "rgb(17,17,17)",
           "caxis": {
            "gridcolor": "#506784",
            "linecolor": "#506784",
            "ticks": ""
           }
          },
          "title": {
           "x": 0.05
          },
          "updatemenudefaults": {
           "bgcolor": "#506784",
           "borderwidth": 0
          },
          "xaxis": {
           "automargin": true,
           "gridcolor": "#283442",
           "linecolor": "#506784",
           "ticks": "",
           "title": {
            "standoff": 15
           },
           "zerolinecolor": "#283442",
           "zerolinewidth": 2
          },
          "yaxis": {
           "automargin": true,
           "gridcolor": "#283442",
           "linecolor": "#506784",
           "ticks": "",
           "title": {
            "standoff": 15
           },
           "zerolinecolor": "#283442",
           "zerolinewidth": 2
          }
         }
        },
        "title": {
         "text": "UMAP Projection - embedding_prot_t5_xl_bfd"
        },
        "width": 1200,
        "xaxis": {
         "anchor": "y",
         "domain": [
          0,
          1
         ],
         "title": {
          "text": "UMAP_1"
         }
        },
        "yaxis": {
         "anchor": "x",
         "domain": [
          0,
          1
         ],
         "title": {
          "text": "UMAP_2"
         }
        }
       }
      }
     },
     "metadata": {},
     "output_type": "display_data"
    },
    {
     "name": "stderr",
     "output_type": "stream",
     "text": [
      "/Users/isaacchoi/PycharmProjects/Project_Euler/.venv/lib/python3.13/site-packages/sklearn/utils/deprecation.py:151: FutureWarning:\n",
      "\n",
      "'force_all_finite' was renamed to 'ensure_all_finite' in 1.6 and will be removed in 1.8.\n",
      "\n",
      "/Users/isaacchoi/PycharmProjects/Project_Euler/.venv/lib/python3.13/site-packages/umap/umap_.py:1952: UserWarning:\n",
      "\n",
      "n_jobs value 1 overridden to 1 by setting random_state. Use no seed for parallelism.\n",
      "\n",
      "/Users/isaacchoi/PycharmProjects/Project_Euler/.venv/lib/python3.13/site-packages/sklearn/utils/deprecation.py:151: FutureWarning:\n",
      "\n",
      "'force_all_finite' was renamed to 'ensure_all_finite' in 1.6 and will be removed in 1.8.\n",
      "\n",
      "/Users/isaacchoi/PycharmProjects/Project_Euler/.venv/lib/python3.13/site-packages/umap/umap_.py:1952: UserWarning:\n",
      "\n",
      "n_jobs value 1 overridden to 1 by setting random_state. Use no seed for parallelism.\n",
      "\n",
      "/Users/isaacchoi/PycharmProjects/Project_Euler/.venv/lib/python3.13/site-packages/sklearn/utils/deprecation.py:151: FutureWarning:\n",
      "\n",
      "'force_all_finite' was renamed to 'ensure_all_finite' in 1.6 and will be removed in 1.8.\n",
      "\n",
      "/Users/isaacchoi/PycharmProjects/Project_Euler/.venv/lib/python3.13/site-packages/umap/umap_.py:1952: UserWarning:\n",
      "\n",
      "n_jobs value 1 overridden to 1 by setting random_state. Use no seed for parallelism.\n",
      "\n",
      "/Users/isaacchoi/PycharmProjects/Project_Euler/.venv/lib/python3.13/site-packages/sklearn/utils/deprecation.py:151: FutureWarning:\n",
      "\n",
      "'force_all_finite' was renamed to 'ensure_all_finite' in 1.6 and will be removed in 1.8.\n",
      "\n",
      "/Users/isaacchoi/PycharmProjects/Project_Euler/.venv/lib/python3.13/site-packages/umap/umap_.py:1952: UserWarning:\n",
      "\n",
      "n_jobs value 1 overridden to 1 by setting random_state. Use no seed for parallelism.\n",
      "\n",
      "/Users/isaacchoi/PycharmProjects/Project_Euler/.venv/lib/python3.13/site-packages/sklearn/utils/deprecation.py:151: FutureWarning:\n",
      "\n",
      "'force_all_finite' was renamed to 'ensure_all_finite' in 1.6 and will be removed in 1.8.\n",
      "\n",
      "/Users/isaacchoi/PycharmProjects/Project_Euler/.venv/lib/python3.13/site-packages/umap/umap_.py:1952: UserWarning:\n",
      "\n",
      "n_jobs value 1 overridden to 1 by setting random_state. Use no seed for parallelism.\n",
      "\n",
      "/Users/isaacchoi/PycharmProjects/Project_Euler/.venv/lib/python3.13/site-packages/sklearn/utils/deprecation.py:151: FutureWarning:\n",
      "\n",
      "'force_all_finite' was renamed to 'ensure_all_finite' in 1.6 and will be removed in 1.8.\n",
      "\n",
      "/Users/isaacchoi/PycharmProjects/Project_Euler/.venv/lib/python3.13/site-packages/umap/umap_.py:1952: UserWarning:\n",
      "\n",
      "n_jobs value 1 overridden to 1 by setting random_state. Use no seed for parallelism.\n",
      "\n",
      "/Users/isaacchoi/PycharmProjects/Project_Euler/.venv/lib/python3.13/site-packages/sklearn/utils/deprecation.py:151: FutureWarning:\n",
      "\n",
      "'force_all_finite' was renamed to 'ensure_all_finite' in 1.6 and will be removed in 1.8.\n",
      "\n",
      "/Users/isaacchoi/PycharmProjects/Project_Euler/.venv/lib/python3.13/site-packages/umap/umap_.py:1952: UserWarning:\n",
      "\n",
      "n_jobs value 1 overridden to 1 by setting random_state. Use no seed for parallelism.\n",
      "\n",
      "/Users/isaacchoi/PycharmProjects/Project_Euler/.venv/lib/python3.13/site-packages/sklearn/utils/deprecation.py:151: FutureWarning:\n",
      "\n",
      "'force_all_finite' was renamed to 'ensure_all_finite' in 1.6 and will be removed in 1.8.\n",
      "\n",
      "/Users/isaacchoi/PycharmProjects/Project_Euler/.venv/lib/python3.13/site-packages/umap/umap_.py:1952: UserWarning:\n",
      "\n",
      "n_jobs value 1 overridden to 1 by setting random_state. Use no seed for parallelism.\n",
      "\n",
      "/Users/isaacchoi/PycharmProjects/Project_Euler/.venv/lib/python3.13/site-packages/sklearn/utils/deprecation.py:151: FutureWarning:\n",
      "\n",
      "'force_all_finite' was renamed to 'ensure_all_finite' in 1.6 and will be removed in 1.8.\n",
      "\n",
      "/Users/isaacchoi/PycharmProjects/Project_Euler/.venv/lib/python3.13/site-packages/umap/umap_.py:1952: UserWarning:\n",
      "\n",
      "n_jobs value 1 overridden to 1 by setting random_state. Use no seed for parallelism.\n",
      "\n",
      "/Users/isaacchoi/PycharmProjects/Project_Euler/.venv/lib/python3.13/site-packages/sklearn/utils/deprecation.py:151: FutureWarning:\n",
      "\n",
      "'force_all_finite' was renamed to 'ensure_all_finite' in 1.6 and will be removed in 1.8.\n",
      "\n",
      "/Users/isaacchoi/PycharmProjects/Project_Euler/.venv/lib/python3.13/site-packages/umap/umap_.py:1952: UserWarning:\n",
      "\n",
      "n_jobs value 1 overridden to 1 by setting random_state. Use no seed for parallelism.\n",
      "\n",
      "/Users/isaacchoi/PycharmProjects/Project_Euler/.venv/lib/python3.13/site-packages/sklearn/utils/deprecation.py:151: FutureWarning:\n",
      "\n",
      "'force_all_finite' was renamed to 'ensure_all_finite' in 1.6 and will be removed in 1.8.\n",
      "\n",
      "/Users/isaacchoi/PycharmProjects/Project_Euler/.venv/lib/python3.13/site-packages/umap/umap_.py:1952: UserWarning:\n",
      "\n",
      "n_jobs value 1 overridden to 1 by setting random_state. Use no seed for parallelism.\n",
      "\n",
      "/Users/isaacchoi/PycharmProjects/Project_Euler/.venv/lib/python3.13/site-packages/sklearn/utils/deprecation.py:151: FutureWarning:\n",
      "\n",
      "'force_all_finite' was renamed to 'ensure_all_finite' in 1.6 and will be removed in 1.8.\n",
      "\n",
      "/Users/isaacchoi/PycharmProjects/Project_Euler/.venv/lib/python3.13/site-packages/umap/umap_.py:1952: UserWarning:\n",
      "\n",
      "n_jobs value 1 overridden to 1 by setting random_state. Use no seed for parallelism.\n",
      "\n",
      "/Users/isaacchoi/PycharmProjects/Project_Euler/.venv/lib/python3.13/site-packages/sklearn/utils/deprecation.py:151: FutureWarning:\n",
      "\n",
      "'force_all_finite' was renamed to 'ensure_all_finite' in 1.6 and will be removed in 1.8.\n",
      "\n",
      "/Users/isaacchoi/PycharmProjects/Project_Euler/.venv/lib/python3.13/site-packages/umap/umap_.py:1952: UserWarning:\n",
      "\n",
      "n_jobs value 1 overridden to 1 by setting random_state. Use no seed for parallelism.\n",
      "\n",
      "/Users/isaacchoi/PycharmProjects/Project_Euler/.venv/lib/python3.13/site-packages/sklearn/utils/deprecation.py:151: FutureWarning:\n",
      "\n",
      "'force_all_finite' was renamed to 'ensure_all_finite' in 1.6 and will be removed in 1.8.\n",
      "\n",
      "/Users/isaacchoi/PycharmProjects/Project_Euler/.venv/lib/python3.13/site-packages/umap/umap_.py:1952: UserWarning:\n",
      "\n",
      "n_jobs value 1 overridden to 1 by setting random_state. Use no seed for parallelism.\n",
      "\n",
      "/Users/isaacchoi/PycharmProjects/Project_Euler/.venv/lib/python3.13/site-packages/sklearn/utils/deprecation.py:151: FutureWarning:\n",
      "\n",
      "'force_all_finite' was renamed to 'ensure_all_finite' in 1.6 and will be removed in 1.8.\n",
      "\n",
      "/Users/isaacchoi/PycharmProjects/Project_Euler/.venv/lib/python3.13/site-packages/umap/umap_.py:1952: UserWarning:\n",
      "\n",
      "n_jobs value 1 overridden to 1 by setting random_state. Use no seed for parallelism.\n",
      "\n",
      "/Users/isaacchoi/PycharmProjects/Project_Euler/.venv/lib/python3.13/site-packages/sklearn/utils/deprecation.py:151: FutureWarning:\n",
      "\n",
      "'force_all_finite' was renamed to 'ensure_all_finite' in 1.6 and will be removed in 1.8.\n",
      "\n",
      "/Users/isaacchoi/PycharmProjects/Project_Euler/.venv/lib/python3.13/site-packages/umap/umap_.py:1952: UserWarning:\n",
      "\n",
      "n_jobs value 1 overridden to 1 by setting random_state. Use no seed for parallelism.\n",
      "\n",
      "/Users/isaacchoi/PycharmProjects/Project_Euler/.venv/lib/python3.13/site-packages/sklearn/utils/deprecation.py:151: FutureWarning:\n",
      "\n",
      "'force_all_finite' was renamed to 'ensure_all_finite' in 1.6 and will be removed in 1.8.\n",
      "\n",
      "/Users/isaacchoi/PycharmProjects/Project_Euler/.venv/lib/python3.13/site-packages/umap/umap_.py:1952: UserWarning:\n",
      "\n",
      "n_jobs value 1 overridden to 1 by setting random_state. Use no seed for parallelism.\n",
      "\n",
      "/Users/isaacchoi/PycharmProjects/Project_Euler/.venv/lib/python3.13/site-packages/sklearn/utils/deprecation.py:151: FutureWarning:\n",
      "\n",
      "'force_all_finite' was renamed to 'ensure_all_finite' in 1.6 and will be removed in 1.8.\n",
      "\n",
      "/Users/isaacchoi/PycharmProjects/Project_Euler/.venv/lib/python3.13/site-packages/umap/umap_.py:1952: UserWarning:\n",
      "\n",
      "n_jobs value 1 overridden to 1 by setting random_state. Use no seed for parallelism.\n",
      "\n",
      "/Users/isaacchoi/PycharmProjects/Project_Euler/.venv/lib/python3.13/site-packages/sklearn/utils/deprecation.py:151: FutureWarning:\n",
      "\n",
      "'force_all_finite' was renamed to 'ensure_all_finite' in 1.6 and will be removed in 1.8.\n",
      "\n",
      "/Users/isaacchoi/PycharmProjects/Project_Euler/.venv/lib/python3.13/site-packages/umap/umap_.py:1952: UserWarning:\n",
      "\n",
      "n_jobs value 1 overridden to 1 by setting random_state. Use no seed for parallelism.\n",
      "\n",
      "/Users/isaacchoi/PycharmProjects/Project_Euler/.venv/lib/python3.13/site-packages/sklearn/utils/deprecation.py:151: FutureWarning:\n",
      "\n",
      "'force_all_finite' was renamed to 'ensure_all_finite' in 1.6 and will be removed in 1.8.\n",
      "\n",
      "/Users/isaacchoi/PycharmProjects/Project_Euler/.venv/lib/python3.13/site-packages/umap/umap_.py:1952: UserWarning:\n",
      "\n",
      "n_jobs value 1 overridden to 1 by setting random_state. Use no seed for parallelism.\n",
      "\n",
      "/Users/isaacchoi/PycharmProjects/Project_Euler/.venv/lib/python3.13/site-packages/sklearn/utils/deprecation.py:151: FutureWarning:\n",
      "\n",
      "'force_all_finite' was renamed to 'ensure_all_finite' in 1.6 and will be removed in 1.8.\n",
      "\n",
      "/Users/isaacchoi/PycharmProjects/Project_Euler/.venv/lib/python3.13/site-packages/umap/umap_.py:1952: UserWarning:\n",
      "\n",
      "n_jobs value 1 overridden to 1 by setting random_state. Use no seed for parallelism.\n",
      "\n",
      "/Users/isaacchoi/PycharmProjects/Project_Euler/.venv/lib/python3.13/site-packages/sklearn/utils/deprecation.py:151: FutureWarning:\n",
      "\n",
      "'force_all_finite' was renamed to 'ensure_all_finite' in 1.6 and will be removed in 1.8.\n",
      "\n",
      "/Users/isaacchoi/PycharmProjects/Project_Euler/.venv/lib/python3.13/site-packages/umap/umap_.py:1952: UserWarning:\n",
      "\n",
      "n_jobs value 1 overridden to 1 by setting random_state. Use no seed for parallelism.\n",
      "\n",
      "/Users/isaacchoi/PycharmProjects/Project_Euler/.venv/lib/python3.13/site-packages/sklearn/utils/deprecation.py:151: FutureWarning:\n",
      "\n",
      "'force_all_finite' was renamed to 'ensure_all_finite' in 1.6 and will be removed in 1.8.\n",
      "\n",
      "/Users/isaacchoi/PycharmProjects/Project_Euler/.venv/lib/python3.13/site-packages/umap/umap_.py:1952: UserWarning:\n",
      "\n",
      "n_jobs value 1 overridden to 1 by setting random_state. Use no seed for parallelism.\n",
      "\n",
      "/Users/isaacchoi/PycharmProjects/Project_Euler/.venv/lib/python3.13/site-packages/sklearn/utils/deprecation.py:151: FutureWarning:\n",
      "\n",
      "'force_all_finite' was renamed to 'ensure_all_finite' in 1.6 and will be removed in 1.8.\n",
      "\n",
      "/Users/isaacchoi/PycharmProjects/Project_Euler/.venv/lib/python3.13/site-packages/umap/umap_.py:1952: UserWarning:\n",
      "\n",
      "n_jobs value 1 overridden to 1 by setting random_state. Use no seed for parallelism.\n",
      "\n",
      "/Users/isaacchoi/PycharmProjects/Project_Euler/.venv/lib/python3.13/site-packages/sklearn/utils/deprecation.py:151: FutureWarning:\n",
      "\n",
      "'force_all_finite' was renamed to 'ensure_all_finite' in 1.6 and will be removed in 1.8.\n",
      "\n",
      "/Users/isaacchoi/PycharmProjects/Project_Euler/.venv/lib/python3.13/site-packages/umap/umap_.py:1952: UserWarning:\n",
      "\n",
      "n_jobs value 1 overridden to 1 by setting random_state. Use no seed for parallelism.\n",
      "\n",
      "/Users/isaacchoi/PycharmProjects/Project_Euler/.venv/lib/python3.13/site-packages/sklearn/utils/deprecation.py:151: FutureWarning:\n",
      "\n",
      "'force_all_finite' was renamed to 'ensure_all_finite' in 1.6 and will be removed in 1.8.\n",
      "\n",
      "/Users/isaacchoi/PycharmProjects/Project_Euler/.venv/lib/python3.13/site-packages/umap/umap_.py:1952: UserWarning:\n",
      "\n",
      "n_jobs value 1 overridden to 1 by setting random_state. Use no seed for parallelism.\n",
      "\n",
      "/Users/isaacchoi/PycharmProjects/Project_Euler/.venv/lib/python3.13/site-packages/sklearn/utils/deprecation.py:151: FutureWarning:\n",
      "\n",
      "'force_all_finite' was renamed to 'ensure_all_finite' in 1.6 and will be removed in 1.8.\n",
      "\n",
      "/Users/isaacchoi/PycharmProjects/Project_Euler/.venv/lib/python3.13/site-packages/umap/umap_.py:1952: UserWarning:\n",
      "\n",
      "n_jobs value 1 overridden to 1 by setting random_state. Use no seed for parallelism.\n",
      "\n",
      "/Users/isaacchoi/PycharmProjects/Project_Euler/.venv/lib/python3.13/site-packages/sklearn/utils/deprecation.py:151: FutureWarning:\n",
      "\n",
      "'force_all_finite' was renamed to 'ensure_all_finite' in 1.6 and will be removed in 1.8.\n",
      "\n",
      "/Users/isaacchoi/PycharmProjects/Project_Euler/.venv/lib/python3.13/site-packages/umap/umap_.py:1952: UserWarning:\n",
      "\n",
      "n_jobs value 1 overridden to 1 by setting random_state. Use no seed for parallelism.\n",
      "\n",
      "/Users/isaacchoi/PycharmProjects/Project_Euler/.venv/lib/python3.13/site-packages/sklearn/utils/deprecation.py:151: FutureWarning:\n",
      "\n",
      "'force_all_finite' was renamed to 'ensure_all_finite' in 1.6 and will be removed in 1.8.\n",
      "\n",
      "/Users/isaacchoi/PycharmProjects/Project_Euler/.venv/lib/python3.13/site-packages/umap/umap_.py:1952: UserWarning:\n",
      "\n",
      "n_jobs value 1 overridden to 1 by setting random_state. Use no seed for parallelism.\n",
      "\n",
      "/Users/isaacchoi/PycharmProjects/Project_Euler/.venv/lib/python3.13/site-packages/sklearn/utils/deprecation.py:151: FutureWarning:\n",
      "\n",
      "'force_all_finite' was renamed to 'ensure_all_finite' in 1.6 and will be removed in 1.8.\n",
      "\n",
      "/Users/isaacchoi/PycharmProjects/Project_Euler/.venv/lib/python3.13/site-packages/umap/umap_.py:1952: UserWarning:\n",
      "\n",
      "n_jobs value 1 overridden to 1 by setting random_state. Use no seed for parallelism.\n",
      "\n",
      "/Users/isaacchoi/PycharmProjects/Project_Euler/.venv/lib/python3.13/site-packages/sklearn/utils/deprecation.py:151: FutureWarning:\n",
      "\n",
      "'force_all_finite' was renamed to 'ensure_all_finite' in 1.6 and will be removed in 1.8.\n",
      "\n",
      "/Users/isaacchoi/PycharmProjects/Project_Euler/.venv/lib/python3.13/site-packages/umap/umap_.py:1952: UserWarning:\n",
      "\n",
      "n_jobs value 1 overridden to 1 by setting random_state. Use no seed for parallelism.\n",
      "\n",
      "/Users/isaacchoi/PycharmProjects/Project_Euler/.venv/lib/python3.13/site-packages/sklearn/utils/deprecation.py:151: FutureWarning:\n",
      "\n",
      "'force_all_finite' was renamed to 'ensure_all_finite' in 1.6 and will be removed in 1.8.\n",
      "\n",
      "/Users/isaacchoi/PycharmProjects/Project_Euler/.venv/lib/python3.13/site-packages/umap/umap_.py:1952: UserWarning:\n",
      "\n",
      "n_jobs value 1 overridden to 1 by setting random_state. Use no seed for parallelism.\n",
      "\n",
      "/Users/isaacchoi/PycharmProjects/Project_Euler/.venv/lib/python3.13/site-packages/sklearn/utils/deprecation.py:151: FutureWarning:\n",
      "\n",
      "'force_all_finite' was renamed to 'ensure_all_finite' in 1.6 and will be removed in 1.8.\n",
      "\n",
      "/Users/isaacchoi/PycharmProjects/Project_Euler/.venv/lib/python3.13/site-packages/umap/umap_.py:1952: UserWarning:\n",
      "\n",
      "n_jobs value 1 overridden to 1 by setting random_state. Use no seed for parallelism.\n",
      "\n",
      "/Users/isaacchoi/PycharmProjects/Project_Euler/.venv/lib/python3.13/site-packages/sklearn/utils/deprecation.py:151: FutureWarning:\n",
      "\n",
      "'force_all_finite' was renamed to 'ensure_all_finite' in 1.6 and will be removed in 1.8.\n",
      "\n",
      "/Users/isaacchoi/PycharmProjects/Project_Euler/.venv/lib/python3.13/site-packages/umap/umap_.py:1952: UserWarning:\n",
      "\n",
      "n_jobs value 1 overridden to 1 by setting random_state. Use no seed for parallelism.\n",
      "\n",
      "/Users/isaacchoi/PycharmProjects/Project_Euler/.venv/lib/python3.13/site-packages/sklearn/utils/deprecation.py:151: FutureWarning:\n",
      "\n",
      "'force_all_finite' was renamed to 'ensure_all_finite' in 1.6 and will be removed in 1.8.\n",
      "\n",
      "/Users/isaacchoi/PycharmProjects/Project_Euler/.venv/lib/python3.13/site-packages/umap/umap_.py:1952: UserWarning:\n",
      "\n",
      "n_jobs value 1 overridden to 1 by setting random_state. Use no seed for parallelism.\n",
      "\n",
      "/Users/isaacchoi/PycharmProjects/Project_Euler/.venv/lib/python3.13/site-packages/sklearn/utils/deprecation.py:151: FutureWarning:\n",
      "\n",
      "'force_all_finite' was renamed to 'ensure_all_finite' in 1.6 and will be removed in 1.8.\n",
      "\n",
      "/Users/isaacchoi/PycharmProjects/Project_Euler/.venv/lib/python3.13/site-packages/umap/umap_.py:1952: UserWarning:\n",
      "\n",
      "n_jobs value 1 overridden to 1 by setting random_state. Use no seed for parallelism.\n",
      "\n",
      "/Users/isaacchoi/PycharmProjects/Project_Euler/.venv/lib/python3.13/site-packages/sklearn/utils/deprecation.py:151: FutureWarning:\n",
      "\n",
      "'force_all_finite' was renamed to 'ensure_all_finite' in 1.6 and will be removed in 1.8.\n",
      "\n",
      "/Users/isaacchoi/PycharmProjects/Project_Euler/.venv/lib/python3.13/site-packages/umap/umap_.py:1952: UserWarning:\n",
      "\n",
      "n_jobs value 1 overridden to 1 by setting random_state. Use no seed for parallelism.\n",
      "\n",
      "/Users/isaacchoi/PycharmProjects/Project_Euler/.venv/lib/python3.13/site-packages/sklearn/utils/deprecation.py:151: FutureWarning:\n",
      "\n",
      "'force_all_finite' was renamed to 'ensure_all_finite' in 1.6 and will be removed in 1.8.\n",
      "\n",
      "/Users/isaacchoi/PycharmProjects/Project_Euler/.venv/lib/python3.13/site-packages/umap/umap_.py:1952: UserWarning:\n",
      "\n",
      "n_jobs value 1 overridden to 1 by setting random_state. Use no seed for parallelism.\n",
      "\n",
      "/Users/isaacchoi/PycharmProjects/Project_Euler/.venv/lib/python3.13/site-packages/sklearn/utils/deprecation.py:151: FutureWarning:\n",
      "\n",
      "'force_all_finite' was renamed to 'ensure_all_finite' in 1.6 and will be removed in 1.8.\n",
      "\n",
      "/Users/isaacchoi/PycharmProjects/Project_Euler/.venv/lib/python3.13/site-packages/umap/umap_.py:1952: UserWarning:\n",
      "\n",
      "n_jobs value 1 overridden to 1 by setting random_state. Use no seed for parallelism.\n",
      "\n",
      "/Users/isaacchoi/PycharmProjects/Project_Euler/.venv/lib/python3.13/site-packages/sklearn/utils/deprecation.py:151: FutureWarning:\n",
      "\n",
      "'force_all_finite' was renamed to 'ensure_all_finite' in 1.6 and will be removed in 1.8.\n",
      "\n",
      "/Users/isaacchoi/PycharmProjects/Project_Euler/.venv/lib/python3.13/site-packages/umap/umap_.py:1952: UserWarning:\n",
      "\n",
      "n_jobs value 1 overridden to 1 by setting random_state. Use no seed for parallelism.\n",
      "\n",
      "/Users/isaacchoi/PycharmProjects/Project_Euler/.venv/lib/python3.13/site-packages/sklearn/utils/deprecation.py:151: FutureWarning:\n",
      "\n",
      "'force_all_finite' was renamed to 'ensure_all_finite' in 1.6 and will be removed in 1.8.\n",
      "\n",
      "/Users/isaacchoi/PycharmProjects/Project_Euler/.venv/lib/python3.13/site-packages/umap/umap_.py:1952: UserWarning:\n",
      "\n",
      "n_jobs value 1 overridden to 1 by setting random_state. Use no seed for parallelism.\n",
      "\n",
      "/Users/isaacchoi/PycharmProjects/Project_Euler/.venv/lib/python3.13/site-packages/sklearn/utils/deprecation.py:151: FutureWarning:\n",
      "\n",
      "'force_all_finite' was renamed to 'ensure_all_finite' in 1.6 and will be removed in 1.8.\n",
      "\n",
      "/Users/isaacchoi/PycharmProjects/Project_Euler/.venv/lib/python3.13/site-packages/umap/umap_.py:1952: UserWarning:\n",
      "\n",
      "n_jobs value 1 overridden to 1 by setting random_state. Use no seed for parallelism.\n",
      "\n",
      "/Users/isaacchoi/PycharmProjects/Project_Euler/.venv/lib/python3.13/site-packages/sklearn/utils/deprecation.py:151: FutureWarning:\n",
      "\n",
      "'force_all_finite' was renamed to 'ensure_all_finite' in 1.6 and will be removed in 1.8.\n",
      "\n",
      "/Users/isaacchoi/PycharmProjects/Project_Euler/.venv/lib/python3.13/site-packages/umap/umap_.py:1952: UserWarning:\n",
      "\n",
      "n_jobs value 1 overridden to 1 by setting random_state. Use no seed for parallelism.\n",
      "\n",
      "/Users/isaacchoi/PycharmProjects/Project_Euler/.venv/lib/python3.13/site-packages/sklearn/utils/deprecation.py:151: FutureWarning:\n",
      "\n",
      "'force_all_finite' was renamed to 'ensure_all_finite' in 1.6 and will be removed in 1.8.\n",
      "\n",
      "/Users/isaacchoi/PycharmProjects/Project_Euler/.venv/lib/python3.13/site-packages/umap/umap_.py:1952: UserWarning:\n",
      "\n",
      "n_jobs value 1 overridden to 1 by setting random_state. Use no seed for parallelism.\n",
      "\n",
      "/Users/isaacchoi/PycharmProjects/Project_Euler/.venv/lib/python3.13/site-packages/sklearn/utils/deprecation.py:151: FutureWarning:\n",
      "\n",
      "'force_all_finite' was renamed to 'ensure_all_finite' in 1.6 and will be removed in 1.8.\n",
      "\n",
      "/Users/isaacchoi/PycharmProjects/Project_Euler/.venv/lib/python3.13/site-packages/umap/umap_.py:1952: UserWarning:\n",
      "\n",
      "n_jobs value 1 overridden to 1 by setting random_state. Use no seed for parallelism.\n",
      "\n",
      "/Users/isaacchoi/PycharmProjects/Project_Euler/.venv/lib/python3.13/site-packages/sklearn/utils/deprecation.py:151: FutureWarning:\n",
      "\n",
      "'force_all_finite' was renamed to 'ensure_all_finite' in 1.6 and will be removed in 1.8.\n",
      "\n",
      "/Users/isaacchoi/PycharmProjects/Project_Euler/.venv/lib/python3.13/site-packages/umap/umap_.py:1952: UserWarning:\n",
      "\n",
      "n_jobs value 1 overridden to 1 by setting random_state. Use no seed for parallelism.\n",
      "\n",
      "/Users/isaacchoi/PycharmProjects/Project_Euler/.venv/lib/python3.13/site-packages/sklearn/utils/deprecation.py:151: FutureWarning:\n",
      "\n",
      "'force_all_finite' was renamed to 'ensure_all_finite' in 1.6 and will be removed in 1.8.\n",
      "\n",
      "/Users/isaacchoi/PycharmProjects/Project_Euler/.venv/lib/python3.13/site-packages/umap/umap_.py:1952: UserWarning:\n",
      "\n",
      "n_jobs value 1 overridden to 1 by setting random_state. Use no seed for parallelism.\n",
      "\n",
      "/Users/isaacchoi/PycharmProjects/Project_Euler/.venv/lib/python3.13/site-packages/sklearn/utils/deprecation.py:151: FutureWarning:\n",
      "\n",
      "'force_all_finite' was renamed to 'ensure_all_finite' in 1.6 and will be removed in 1.8.\n",
      "\n",
      "/Users/isaacchoi/PycharmProjects/Project_Euler/.venv/lib/python3.13/site-packages/umap/umap_.py:1952: UserWarning:\n",
      "\n",
      "n_jobs value 1 overridden to 1 by setting random_state. Use no seed for parallelism.\n",
      "\n",
      "/Users/isaacchoi/PycharmProjects/Project_Euler/.venv/lib/python3.13/site-packages/sklearn/utils/deprecation.py:151: FutureWarning:\n",
      "\n",
      "'force_all_finite' was renamed to 'ensure_all_finite' in 1.6 and will be removed in 1.8.\n",
      "\n",
      "/Users/isaacchoi/PycharmProjects/Project_Euler/.venv/lib/python3.13/site-packages/umap/umap_.py:1952: UserWarning:\n",
      "\n",
      "n_jobs value 1 overridden to 1 by setting random_state. Use no seed for parallelism.\n",
      "\n",
      "/Users/isaacchoi/PycharmProjects/Project_Euler/.venv/lib/python3.13/site-packages/sklearn/utils/deprecation.py:151: FutureWarning:\n",
      "\n",
      "'force_all_finite' was renamed to 'ensure_all_finite' in 1.6 and will be removed in 1.8.\n",
      "\n",
      "/Users/isaacchoi/PycharmProjects/Project_Euler/.venv/lib/python3.13/site-packages/umap/umap_.py:1952: UserWarning:\n",
      "\n",
      "n_jobs value 1 overridden to 1 by setting random_state. Use no seed for parallelism.\n",
      "\n",
      "/Users/isaacchoi/PycharmProjects/Project_Euler/.venv/lib/python3.13/site-packages/sklearn/utils/deprecation.py:151: FutureWarning:\n",
      "\n",
      "'force_all_finite' was renamed to 'ensure_all_finite' in 1.6 and will be removed in 1.8.\n",
      "\n",
      "/Users/isaacchoi/PycharmProjects/Project_Euler/.venv/lib/python3.13/site-packages/umap/umap_.py:1952: UserWarning:\n",
      "\n",
      "n_jobs value 1 overridden to 1 by setting random_state. Use no seed for parallelism.\n",
      "\n",
      "/Users/isaacchoi/PycharmProjects/Project_Euler/.venv/lib/python3.13/site-packages/sklearn/utils/deprecation.py:151: FutureWarning:\n",
      "\n",
      "'force_all_finite' was renamed to 'ensure_all_finite' in 1.6 and will be removed in 1.8.\n",
      "\n",
      "/Users/isaacchoi/PycharmProjects/Project_Euler/.venv/lib/python3.13/site-packages/umap/umap_.py:1952: UserWarning:\n",
      "\n",
      "n_jobs value 1 overridden to 1 by setting random_state. Use no seed for parallelism.\n",
      "\n",
      "/Users/isaacchoi/PycharmProjects/Project_Euler/.venv/lib/python3.13/site-packages/sklearn/utils/deprecation.py:151: FutureWarning:\n",
      "\n",
      "'force_all_finite' was renamed to 'ensure_all_finite' in 1.6 and will be removed in 1.8.\n",
      "\n",
      "/Users/isaacchoi/PycharmProjects/Project_Euler/.venv/lib/python3.13/site-packages/umap/umap_.py:1952: UserWarning:\n",
      "\n",
      "n_jobs value 1 overridden to 1 by setting random_state. Use no seed for parallelism.\n",
      "\n",
      "/Users/isaacchoi/PycharmProjects/Project_Euler/.venv/lib/python3.13/site-packages/sklearn/utils/deprecation.py:151: FutureWarning:\n",
      "\n",
      "'force_all_finite' was renamed to 'ensure_all_finite' in 1.6 and will be removed in 1.8.\n",
      "\n",
      "/Users/isaacchoi/PycharmProjects/Project_Euler/.venv/lib/python3.13/site-packages/umap/umap_.py:1952: UserWarning:\n",
      "\n",
      "n_jobs value 1 overridden to 1 by setting random_state. Use no seed for parallelism.\n",
      "\n",
      "/Users/isaacchoi/PycharmProjects/Project_Euler/.venv/lib/python3.13/site-packages/sklearn/utils/deprecation.py:151: FutureWarning:\n",
      "\n",
      "'force_all_finite' was renamed to 'ensure_all_finite' in 1.6 and will be removed in 1.8.\n",
      "\n",
      "/Users/isaacchoi/PycharmProjects/Project_Euler/.venv/lib/python3.13/site-packages/umap/umap_.py:1952: UserWarning:\n",
      "\n",
      "n_jobs value 1 overridden to 1 by setting random_state. Use no seed for parallelism.\n",
      "\n",
      "/Users/isaacchoi/PycharmProjects/Project_Euler/.venv/lib/python3.13/site-packages/sklearn/utils/deprecation.py:151: FutureWarning:\n",
      "\n",
      "'force_all_finite' was renamed to 'ensure_all_finite' in 1.6 and will be removed in 1.8.\n",
      "\n",
      "/Users/isaacchoi/PycharmProjects/Project_Euler/.venv/lib/python3.13/site-packages/umap/umap_.py:1952: UserWarning:\n",
      "\n",
      "n_jobs value 1 overridden to 1 by setting random_state. Use no seed for parallelism.\n",
      "\n",
      "/Users/isaacchoi/PycharmProjects/Project_Euler/.venv/lib/python3.13/site-packages/sklearn/utils/deprecation.py:151: FutureWarning:\n",
      "\n",
      "'force_all_finite' was renamed to 'ensure_all_finite' in 1.6 and will be removed in 1.8.\n",
      "\n",
      "/Users/isaacchoi/PycharmProjects/Project_Euler/.venv/lib/python3.13/site-packages/umap/umap_.py:1952: UserWarning:\n",
      "\n",
      "n_jobs value 1 overridden to 1 by setting random_state. Use no seed for parallelism.\n",
      "\n",
      "/Users/isaacchoi/PycharmProjects/Project_Euler/.venv/lib/python3.13/site-packages/sklearn/utils/deprecation.py:151: FutureWarning:\n",
      "\n",
      "'force_all_finite' was renamed to 'ensure_all_finite' in 1.6 and will be removed in 1.8.\n",
      "\n",
      "/Users/isaacchoi/PycharmProjects/Project_Euler/.venv/lib/python3.13/site-packages/umap/umap_.py:1952: UserWarning:\n",
      "\n",
      "n_jobs value 1 overridden to 1 by setting random_state. Use no seed for parallelism.\n",
      "\n",
      "/Users/isaacchoi/PycharmProjects/Project_Euler/.venv/lib/python3.13/site-packages/sklearn/utils/deprecation.py:151: FutureWarning:\n",
      "\n",
      "'force_all_finite' was renamed to 'ensure_all_finite' in 1.6 and will be removed in 1.8.\n",
      "\n",
      "/Users/isaacchoi/PycharmProjects/Project_Euler/.venv/lib/python3.13/site-packages/umap/umap_.py:1952: UserWarning:\n",
      "\n",
      "n_jobs value 1 overridden to 1 by setting random_state. Use no seed for parallelism.\n",
      "\n",
      "/Users/isaacchoi/PycharmProjects/Project_Euler/.venv/lib/python3.13/site-packages/sklearn/utils/deprecation.py:151: FutureWarning:\n",
      "\n",
      "'force_all_finite' was renamed to 'ensure_all_finite' in 1.6 and will be removed in 1.8.\n",
      "\n",
      "/Users/isaacchoi/PycharmProjects/Project_Euler/.venv/lib/python3.13/site-packages/umap/umap_.py:1952: UserWarning:\n",
      "\n",
      "n_jobs value 1 overridden to 1 by setting random_state. Use no seed for parallelism.\n",
      "\n",
      "/Users/isaacchoi/PycharmProjects/Project_Euler/.venv/lib/python3.13/site-packages/sklearn/utils/deprecation.py:151: FutureWarning:\n",
      "\n",
      "'force_all_finite' was renamed to 'ensure_all_finite' in 1.6 and will be removed in 1.8.\n",
      "\n",
      "/Users/isaacchoi/PycharmProjects/Project_Euler/.venv/lib/python3.13/site-packages/umap/umap_.py:1952: UserWarning:\n",
      "\n",
      "n_jobs value 1 overridden to 1 by setting random_state. Use no seed for parallelism.\n",
      "\n",
      "/Users/isaacchoi/PycharmProjects/Project_Euler/.venv/lib/python3.13/site-packages/sklearn/utils/deprecation.py:151: FutureWarning:\n",
      "\n",
      "'force_all_finite' was renamed to 'ensure_all_finite' in 1.6 and will be removed in 1.8.\n",
      "\n",
      "/Users/isaacchoi/PycharmProjects/Project_Euler/.venv/lib/python3.13/site-packages/umap/umap_.py:1952: UserWarning:\n",
      "\n",
      "n_jobs value 1 overridden to 1 by setting random_state. Use no seed for parallelism.\n",
      "\n",
      "/Users/isaacchoi/PycharmProjects/Project_Euler/.venv/lib/python3.13/site-packages/sklearn/utils/deprecation.py:151: FutureWarning:\n",
      "\n",
      "'force_all_finite' was renamed to 'ensure_all_finite' in 1.6 and will be removed in 1.8.\n",
      "\n",
      "/Users/isaacchoi/PycharmProjects/Project_Euler/.venv/lib/python3.13/site-packages/umap/umap_.py:1952: UserWarning:\n",
      "\n",
      "n_jobs value 1 overridden to 1 by setting random_state. Use no seed for parallelism.\n",
      "\n",
      "/Users/isaacchoi/PycharmProjects/Project_Euler/.venv/lib/python3.13/site-packages/sklearn/utils/deprecation.py:151: FutureWarning:\n",
      "\n",
      "'force_all_finite' was renamed to 'ensure_all_finite' in 1.6 and will be removed in 1.8.\n",
      "\n",
      "/Users/isaacchoi/PycharmProjects/Project_Euler/.venv/lib/python3.13/site-packages/umap/umap_.py:1952: UserWarning:\n",
      "\n",
      "n_jobs value 1 overridden to 1 by setting random_state. Use no seed for parallelism.\n",
      "\n",
      "/Users/isaacchoi/PycharmProjects/Project_Euler/.venv/lib/python3.13/site-packages/sklearn/utils/deprecation.py:151: FutureWarning:\n",
      "\n",
      "'force_all_finite' was renamed to 'ensure_all_finite' in 1.6 and will be removed in 1.8.\n",
      "\n",
      "/Users/isaacchoi/PycharmProjects/Project_Euler/.venv/lib/python3.13/site-packages/umap/umap_.py:1952: UserWarning:\n",
      "\n",
      "n_jobs value 1 overridden to 1 by setting random_state. Use no seed for parallelism.\n",
      "\n",
      "/Users/isaacchoi/PycharmProjects/Project_Euler/.venv/lib/python3.13/site-packages/sklearn/utils/deprecation.py:151: FutureWarning:\n",
      "\n",
      "'force_all_finite' was renamed to 'ensure_all_finite' in 1.6 and will be removed in 1.8.\n",
      "\n",
      "/Users/isaacchoi/PycharmProjects/Project_Euler/.venv/lib/python3.13/site-packages/umap/umap_.py:1952: UserWarning:\n",
      "\n",
      "n_jobs value 1 overridden to 1 by setting random_state. Use no seed for parallelism.\n",
      "\n",
      "/Users/isaacchoi/PycharmProjects/Project_Euler/.venv/lib/python3.13/site-packages/sklearn/utils/deprecation.py:151: FutureWarning:\n",
      "\n",
      "'force_all_finite' was renamed to 'ensure_all_finite' in 1.6 and will be removed in 1.8.\n",
      "\n",
      "/Users/isaacchoi/PycharmProjects/Project_Euler/.venv/lib/python3.13/site-packages/umap/umap_.py:1952: UserWarning:\n",
      "\n",
      "n_jobs value 1 overridden to 1 by setting random_state. Use no seed for parallelism.\n",
      "\n",
      "/Users/isaacchoi/PycharmProjects/Project_Euler/.venv/lib/python3.13/site-packages/sklearn/utils/deprecation.py:151: FutureWarning:\n",
      "\n",
      "'force_all_finite' was renamed to 'ensure_all_finite' in 1.6 and will be removed in 1.8.\n",
      "\n",
      "/Users/isaacchoi/PycharmProjects/Project_Euler/.venv/lib/python3.13/site-packages/umap/umap_.py:1952: UserWarning:\n",
      "\n",
      "n_jobs value 1 overridden to 1 by setting random_state. Use no seed for parallelism.\n",
      "\n",
      "/Users/isaacchoi/PycharmProjects/Project_Euler/.venv/lib/python3.13/site-packages/sklearn/utils/deprecation.py:151: FutureWarning:\n",
      "\n",
      "'force_all_finite' was renamed to 'ensure_all_finite' in 1.6 and will be removed in 1.8.\n",
      "\n",
      "/Users/isaacchoi/PycharmProjects/Project_Euler/.venv/lib/python3.13/site-packages/umap/umap_.py:1952: UserWarning:\n",
      "\n",
      "n_jobs value 1 overridden to 1 by setting random_state. Use no seed for parallelism.\n",
      "\n",
      "/Users/isaacchoi/PycharmProjects/Project_Euler/.venv/lib/python3.13/site-packages/sklearn/utils/deprecation.py:151: FutureWarning:\n",
      "\n",
      "'force_all_finite' was renamed to 'ensure_all_finite' in 1.6 and will be removed in 1.8.\n",
      "\n",
      "/Users/isaacchoi/PycharmProjects/Project_Euler/.venv/lib/python3.13/site-packages/umap/umap_.py:1952: UserWarning:\n",
      "\n",
      "n_jobs value 1 overridden to 1 by setting random_state. Use no seed for parallelism.\n",
      "\n",
      "/Users/isaacchoi/PycharmProjects/Project_Euler/.venv/lib/python3.13/site-packages/sklearn/utils/deprecation.py:151: FutureWarning:\n",
      "\n",
      "'force_all_finite' was renamed to 'ensure_all_finite' in 1.6 and will be removed in 1.8.\n",
      "\n",
      "/Users/isaacchoi/PycharmProjects/Project_Euler/.venv/lib/python3.13/site-packages/umap/umap_.py:1952: UserWarning:\n",
      "\n",
      "n_jobs value 1 overridden to 1 by setting random_state. Use no seed for parallelism.\n",
      "\n",
      "/Users/isaacchoi/PycharmProjects/Project_Euler/.venv/lib/python3.13/site-packages/sklearn/utils/deprecation.py:151: FutureWarning:\n",
      "\n",
      "'force_all_finite' was renamed to 'ensure_all_finite' in 1.6 and will be removed in 1.8.\n",
      "\n",
      "/Users/isaacchoi/PycharmProjects/Project_Euler/.venv/lib/python3.13/site-packages/umap/umap_.py:1952: UserWarning:\n",
      "\n",
      "n_jobs value 1 overridden to 1 by setting random_state. Use no seed for parallelism.\n",
      "\n",
      "/Users/isaacchoi/PycharmProjects/Project_Euler/.venv/lib/python3.13/site-packages/sklearn/utils/deprecation.py:151: FutureWarning:\n",
      "\n",
      "'force_all_finite' was renamed to 'ensure_all_finite' in 1.6 and will be removed in 1.8.\n",
      "\n",
      "/Users/isaacchoi/PycharmProjects/Project_Euler/.venv/lib/python3.13/site-packages/umap/umap_.py:1952: UserWarning:\n",
      "\n",
      "n_jobs value 1 overridden to 1 by setting random_state. Use no seed for parallelism.\n",
      "\n",
      "/Users/isaacchoi/PycharmProjects/Project_Euler/.venv/lib/python3.13/site-packages/sklearn/utils/deprecation.py:151: FutureWarning:\n",
      "\n",
      "'force_all_finite' was renamed to 'ensure_all_finite' in 1.6 and will be removed in 1.8.\n",
      "\n",
      "/Users/isaacchoi/PycharmProjects/Project_Euler/.venv/lib/python3.13/site-packages/umap/umap_.py:1952: UserWarning:\n",
      "\n",
      "n_jobs value 1 overridden to 1 by setting random_state. Use no seed for parallelism.\n",
      "\n",
      "/Users/isaacchoi/PycharmProjects/Project_Euler/.venv/lib/python3.13/site-packages/sklearn/utils/deprecation.py:151: FutureWarning:\n",
      "\n",
      "'force_all_finite' was renamed to 'ensure_all_finite' in 1.6 and will be removed in 1.8.\n",
      "\n",
      "/Users/isaacchoi/PycharmProjects/Project_Euler/.venv/lib/python3.13/site-packages/umap/umap_.py:1952: UserWarning:\n",
      "\n",
      "n_jobs value 1 overridden to 1 by setting random_state. Use no seed for parallelism.\n",
      "\n",
      "/Users/isaacchoi/PycharmProjects/Project_Euler/.venv/lib/python3.13/site-packages/sklearn/utils/deprecation.py:151: FutureWarning:\n",
      "\n",
      "'force_all_finite' was renamed to 'ensure_all_finite' in 1.6 and will be removed in 1.8.\n",
      "\n",
      "/Users/isaacchoi/PycharmProjects/Project_Euler/.venv/lib/python3.13/site-packages/umap/umap_.py:1952: UserWarning:\n",
      "\n",
      "n_jobs value 1 overridden to 1 by setting random_state. Use no seed for parallelism.\n",
      "\n",
      "/Users/isaacchoi/PycharmProjects/Project_Euler/.venv/lib/python3.13/site-packages/sklearn/utils/deprecation.py:151: FutureWarning:\n",
      "\n",
      "'force_all_finite' was renamed to 'ensure_all_finite' in 1.6 and will be removed in 1.8.\n",
      "\n",
      "/Users/isaacchoi/PycharmProjects/Project_Euler/.venv/lib/python3.13/site-packages/umap/umap_.py:1952: UserWarning:\n",
      "\n",
      "n_jobs value 1 overridden to 1 by setting random_state. Use no seed for parallelism.\n",
      "\n",
      "/Users/isaacchoi/PycharmProjects/Project_Euler/.venv/lib/python3.13/site-packages/sklearn/utils/deprecation.py:151: FutureWarning:\n",
      "\n",
      "'force_all_finite' was renamed to 'ensure_all_finite' in 1.6 and will be removed in 1.8.\n",
      "\n",
      "/Users/isaacchoi/PycharmProjects/Project_Euler/.venv/lib/python3.13/site-packages/umap/umap_.py:1952: UserWarning:\n",
      "\n",
      "n_jobs value 1 overridden to 1 by setting random_state. Use no seed for parallelism.\n",
      "\n",
      "/Users/isaacchoi/PycharmProjects/Project_Euler/.venv/lib/python3.13/site-packages/sklearn/utils/deprecation.py:151: FutureWarning:\n",
      "\n",
      "'force_all_finite' was renamed to 'ensure_all_finite' in 1.6 and will be removed in 1.8.\n",
      "\n",
      "/Users/isaacchoi/PycharmProjects/Project_Euler/.venv/lib/python3.13/site-packages/umap/umap_.py:1952: UserWarning:\n",
      "\n",
      "n_jobs value 1 overridden to 1 by setting random_state. Use no seed for parallelism.\n",
      "\n",
      "/Users/isaacchoi/PycharmProjects/Project_Euler/.venv/lib/python3.13/site-packages/sklearn/utils/deprecation.py:151: FutureWarning:\n",
      "\n",
      "'force_all_finite' was renamed to 'ensure_all_finite' in 1.6 and will be removed in 1.8.\n",
      "\n",
      "/Users/isaacchoi/PycharmProjects/Project_Euler/.venv/lib/python3.13/site-packages/umap/umap_.py:1952: UserWarning:\n",
      "\n",
      "n_jobs value 1 overridden to 1 by setting random_state. Use no seed for parallelism.\n",
      "\n",
      "/Users/isaacchoi/PycharmProjects/Project_Euler/.venv/lib/python3.13/site-packages/sklearn/utils/deprecation.py:151: FutureWarning:\n",
      "\n",
      "'force_all_finite' was renamed to 'ensure_all_finite' in 1.6 and will be removed in 1.8.\n",
      "\n",
      "/Users/isaacchoi/PycharmProjects/Project_Euler/.venv/lib/python3.13/site-packages/umap/umap_.py:1952: UserWarning:\n",
      "\n",
      "n_jobs value 1 overridden to 1 by setting random_state. Use no seed for parallelism.\n",
      "\n"
     ]
    },
    {
     "name": "stdout",
     "output_type": "stream",
     "text": [
      "Accuracies for embedding_prot_t5_xl_bfd: ['80.71%', '75.71%', '75.00%', '75.00%', '75.71%', '75.71%', '74.29%', '75.71%', '72.14%']\n",
      "Accuracies for embedding_esmc_600m: ['73.57%', '66.43%', '62.14%', '65.00%', '65.71%', '67.14%', '67.14%', '66.43%', '69.29%']\n",
      "Accuracies for embedding_esmc_300m: ['84.29%', '84.29%', '82.86%', '82.86%', '82.86%', '81.43%', '81.43%', '80.71%', '79.29%']\n",
      "Accuracies for embedding_facebook/esm2_t33_650M_UR50D: ['86.43%', '79.29%', '81.43%', '81.43%', '80.71%', '79.29%', '77.86%', '78.57%', '76.43%']\n",
      "Accuracies for embedding_prot_t5_xl_uniref50: ['78.57%', '73.57%', '72.86%', '72.86%', '70.71%', '67.86%', '69.29%', '65.71%', '65.00%']\n",
      "Accuracies for embedding_facebook/esm2_t36_3B_UR50D: ['80.71%', '77.14%', '71.43%', '72.86%', '73.57%', '73.57%', '73.57%', '75.00%', '73.57%']\n",
      "Accuracies for embedding_facebook/esm2_t12_35M_UR50D: ['87.14%', '82.14%', '82.86%', '83.57%', '82.14%', '80.00%', '80.71%', '80.00%', '79.29%']\n",
      "Accuracies for embedding_facebook/esm2_t6_8M_UR50D: ['82.86%', '80.71%', '79.29%', '77.86%', '76.43%', '75.71%', '75.00%', '76.43%', '76.43%']\n",
      "Accuracies for embedding_facebook/esm2_t30_150M_UR50D: ['82.14%', '80.00%', '80.00%', '79.29%', '80.00%', '80.71%', '80.00%', '78.57%', '81.43%']\n",
      "Percentage of true phenotypes matching KNN predicted phenotypes: 75.71%\n"
     ]
    },
    {
     "name": "stderr",
     "output_type": "stream",
     "text": [
      "/Users/isaacchoi/PycharmProjects/Project_Euler/.venv/lib/python3.13/site-packages/sklearn/utils/deprecation.py:151: FutureWarning:\n",
      "\n",
      "'force_all_finite' was renamed to 'ensure_all_finite' in 1.6 and will be removed in 1.8.\n",
      "\n",
      "/Users/isaacchoi/PycharmProjects/Project_Euler/.venv/lib/python3.13/site-packages/umap/umap_.py:1952: UserWarning:\n",
      "\n",
      "n_jobs value 1 overridden to 1 by setting random_state. Use no seed for parallelism.\n",
      "\n"
     ]
    },
    {
     "data": {
      "application/vnd.plotly.v1+json": {
       "config": {
        "plotlyServerURL": "https://plot.ly"
       },
       "data": [
        {
         "customdata": [
          [
           "2b",
           "2b"
          ],
          [
           "2b",
           "2b"
          ],
          [
           "2b",
           "2b"
          ],
          [
           "2b",
           "2b"
          ],
          [
           "2b",
           "2b"
          ],
          [
           "2b",
           "2b"
          ]
         ],
         "hovertemplate": "True Phenotype=%{customdata[0]}<br>KNN Prediction=%{customdata[1]}<br>UMAP_1=%{x}<br>UMAP_2=%{y}<extra></extra>",
         "legendgroup": "2b, 2b",
         "marker": {
          "color": "#636efa",
          "symbol": "circle"
         },
         "mode": "markers",
         "name": "2b, 2b",
         "orientation": "v",
         "showlegend": true,
         "type": "scatter",
         "x": {
          "bdata": "IqSYv+oKQb9qIZK/1pYVv/BGgL8eFbS/",
          "dtype": "f4"
         },
         "xaxis": "x",
         "y": {
          "bdata": "oluRQJmRjkAd7olAjJaTQLQ5nkBntpNA",
          "dtype": "f4"
         },
         "yaxis": "y"
        },
        {
         "customdata": [
          [
           "2b",
           "2be"
          ],
          [
           "2b",
           "2be"
          ],
          [
           "2b",
           "2be"
          ],
          [
           "2b",
           "2be"
          ],
          [
           "2b",
           "2be"
          ],
          [
           "2b",
           "2be"
          ],
          [
           "2b",
           "2be"
          ]
         ],
         "hovertemplate": "True Phenotype=%{customdata[0]}<br>KNN Prediction=%{customdata[1]}<br>UMAP_1=%{x}<br>UMAP_2=%{y}<extra></extra>",
         "legendgroup": "2b, 2be",
         "marker": {
          "color": "#636efa",
          "symbol": "diamond"
         },
         "mode": "markers",
         "name": "2b, 2be",
         "orientation": "v",
         "showlegend": true,
         "type": "scatter",
         "x": {
          "bdata": "xKgFP8jXyb6haeK+NvuJv/NMv7/Wkdu/I+Mjvw==",
          "dtype": "f4"
         },
         "xaxis": "x",
         "y": {
          "bdata": "1pu7QEwKrUAmVwxA96xsQAGxDkBKPDVA7mqzQA==",
          "dtype": "f4"
         },
         "yaxis": "y"
        },
        {
         "customdata": [
          [
           "2b",
           "2br"
          ],
          [
           "2b",
           "2br"
          ]
         ],
         "hovertemplate": "True Phenotype=%{customdata[0]}<br>KNN Prediction=%{customdata[1]}<br>UMAP_1=%{x}<br>UMAP_2=%{y}<extra></extra>",
         "legendgroup": "2b, 2br",
         "marker": {
          "color": "#636efa",
          "symbol": "square"
         },
         "mode": "markers",
         "name": "2b, 2br",
         "orientation": "v",
         "showlegend": true,
         "type": "scatter",
         "x": {
          "bdata": "2TH9vxCqD8A=",
          "dtype": "f4"
         },
         "xaxis": "x",
         "y": {
          "bdata": "alRTQDUQh0A=",
          "dtype": "f4"
         },
         "yaxis": "y"
        },
        {
         "customdata": [
          [
           "2be",
           "2b"
          ],
          [
           "2be",
           "2b"
          ]
         ],
         "hovertemplate": "True Phenotype=%{customdata[0]}<br>KNN Prediction=%{customdata[1]}<br>UMAP_1=%{x}<br>UMAP_2=%{y}<extra></extra>",
         "legendgroup": "2be, 2b",
         "marker": {
          "color": "#EF553B",
          "symbol": "circle"
         },
         "mode": "markers",
         "name": "2be, 2b",
         "orientation": "v",
         "showlegend": true,
         "type": "scatter",
         "x": {
          "bdata": "oGqevxIQwL4=",
          "dtype": "f4"
         },
         "xaxis": "x",
         "y": {
          "bdata": "jveJQNW4mEA=",
          "dtype": "f4"
         },
         "yaxis": "y"
        },
        {
         "customdata": [
          [
           "2be",
           "2be"
          ],
          [
           "2be",
           "2be"
          ],
          [
           "2be",
           "2be"
          ],
          [
           "2be",
           "2be"
          ],
          [
           "2be",
           "2be"
          ],
          [
           "2be",
           "2be"
          ],
          [
           "2be",
           "2be"
          ],
          [
           "2be",
           "2be"
          ],
          [
           "2be",
           "2be"
          ],
          [
           "2be",
           "2be"
          ],
          [
           "2be",
           "2be"
          ],
          [
           "2be",
           "2be"
          ],
          [
           "2be",
           "2be"
          ],
          [
           "2be",
           "2be"
          ],
          [
           "2be",
           "2be"
          ],
          [
           "2be",
           "2be"
          ],
          [
           "2be",
           "2be"
          ],
          [
           "2be",
           "2be"
          ],
          [
           "2be",
           "2be"
          ],
          [
           "2be",
           "2be"
          ],
          [
           "2be",
           "2be"
          ],
          [
           "2be",
           "2be"
          ],
          [
           "2be",
           "2be"
          ],
          [
           "2be",
           "2be"
          ],
          [
           "2be",
           "2be"
          ],
          [
           "2be",
           "2be"
          ],
          [
           "2be",
           "2be"
          ],
          [
           "2be",
           "2be"
          ],
          [
           "2be",
           "2be"
          ],
          [
           "2be",
           "2be"
          ],
          [
           "2be",
           "2be"
          ],
          [
           "2be",
           "2be"
          ],
          [
           "2be",
           "2be"
          ],
          [
           "2be",
           "2be"
          ],
          [
           "2be",
           "2be"
          ],
          [
           "2be",
           "2be"
          ],
          [
           "2be",
           "2be"
          ],
          [
           "2be",
           "2be"
          ],
          [
           "2be",
           "2be"
          ],
          [
           "2be",
           "2be"
          ],
          [
           "2be",
           "2be"
          ],
          [
           "2be",
           "2be"
          ],
          [
           "2be",
           "2be"
          ],
          [
           "2be",
           "2be"
          ],
          [
           "2be",
           "2be"
          ],
          [
           "2be",
           "2be"
          ],
          [
           "2be",
           "2be"
          ],
          [
           "2be",
           "2be"
          ],
          [
           "2be",
           "2be"
          ],
          [
           "2be",
           "2be"
          ],
          [
           "2be",
           "2be"
          ],
          [
           "2be",
           "2be"
          ],
          [
           "2be",
           "2be"
          ],
          [
           "2be",
           "2be"
          ],
          [
           "2be",
           "2be"
          ],
          [
           "2be",
           "2be"
          ],
          [
           "2be",
           "2be"
          ],
          [
           "2be",
           "2be"
          ],
          [
           "2be",
           "2be"
          ],
          [
           "2be",
           "2be"
          ],
          [
           "2be",
           "2be"
          ],
          [
           "2be",
           "2be"
          ],
          [
           "2be",
           "2be"
          ],
          [
           "2be",
           "2be"
          ],
          [
           "2be",
           "2be"
          ],
          [
           "2be",
           "2be"
          ],
          [
           "2be",
           "2be"
          ],
          [
           "2be",
           "2be"
          ],
          [
           "2be",
           "2be"
          ],
          [
           "2be",
           "2be"
          ],
          [
           "2be",
           "2be"
          ],
          [
           "2be",
           "2be"
          ],
          [
           "2be",
           "2be"
          ],
          [
           "2be",
           "2be"
          ],
          [
           "2be",
           "2be"
          ],
          [
           "2be",
           "2be"
          ],
          [
           "2be",
           "2be"
          ],
          [
           "2be",
           "2be"
          ],
          [
           "2be",
           "2be"
          ],
          [
           "2be",
           "2be"
          ]
         ],
         "hovertemplate": "True Phenotype=%{customdata[0]}<br>KNN Prediction=%{customdata[1]}<br>UMAP_1=%{x}<br>UMAP_2=%{y}<extra></extra>",
         "legendgroup": "2be, 2be",
         "marker": {
          "color": "#EF553B",
          "symbol": "diamond"
         },
         "mode": "markers",
         "name": "2be, 2be",
         "orientation": "v",
         "showlegend": true,
         "type": "scatter",
         "x": {
          "bdata": "oJ8FQKvkqL+Mbge/dFGaP12nrTwi8fo/Q76vvyjw5j7hAue/gfuLP/Cq3D9S1L4/0uzGvwwI1L/scNA/vzb1Px/0C0B3L4M/zZNbPso7zz/xbj6/32Auv0VnN79qdcI/2cCCv+qXWEB5fco/mz7Hv5SdO7+Y1NQ/IuRxv1L5SL/jhfw/3wgEQJRAcz+CBQ9AakQqPiplvL8PymS/AgwJQMb2wz/j7Sa/fS2fPrLeJz5OEOU/WZ61P1U5gb/7DiJAza0eQMgXrr9nFQBABYQCQDIRxL+lWdu8mZ3Lv5FkA0DnOyS/imSHvmladT+T8RVAM3U7P4donj9Za7s/cLX1P2v8zj+djNi/QmiXv4arc7+Q9k1AJs8WQNxxEEAli5k+CHXqvueGCj+5cwtA8zhLvXP9JUA43F1AgrdeQIaYY0A=",
          "dtype": "f4"
         },
         "xaxis": "x",
         "y": {
          "bdata": "FQa5QA2MAEBZwbxAjX2eQHmftUBkNLBA5DMXQGRyuEAnCI1AXfKUQLpjwUDILptAEL+IQMIIFEAxTsRAdNy1QMQoy0DgA5pAtQy+QGa6hECdiLZA7OlSQFeLUkCP2IJARMUgQDuyuz1Txc1AeFvmP6j9uUDl+sFAGpdcQAz8VkBySWZAtl2FQOT1sD+L/ZZAhueIQIrG3D/46EtAQoylQM1v0UCS8hBAkxW6QCRm1D/k54FAFTSBQE8qFUDkI5VA0ySMQGFuJkBNdbxAtSrQQGQk6T/6+LhAgaYcQKG8vUDcxbxAvy61QDc4oECq86pAd8iwPxotij+xLo5AVah5QJf5zkD7dodARgH9P7JocED+MJg9qLfGQBtpl0DSNuM/4lZ3QOBllEDGU5lAq8CwQD+clUCNzYy/zciNv3SzlL8=",
          "dtype": "f4"
         },
         "yaxis": "y"
        },
        {
         "customdata": [
          [
           "2be",
           "2br"
          ]
         ],
         "hovertemplate": "True Phenotype=%{customdata[0]}<br>KNN Prediction=%{customdata[1]}<br>UMAP_1=%{x}<br>UMAP_2=%{y}<extra></extra>",
         "legendgroup": "2be, 2br",
         "marker": {
          "color": "#EF553B",
          "symbol": "square"
         },
         "mode": "markers",
         "name": "2be, 2br",
         "orientation": "v",
         "showlegend": true,
         "type": "scatter",
         "x": {
          "bdata": "bQwTwA==",
          "dtype": "f4"
         },
         "xaxis": "x",
         "y": {
          "bdata": "UViDQA==",
          "dtype": "f4"
         },
         "yaxis": "y"
        },
        {
         "customdata": [
          [
           "2br",
           "2be"
          ],
          [
           "2br",
           "2be"
          ],
          [
           "2br",
           "2be"
          ],
          [
           "2br",
           "2be"
          ],
          [
           "2br",
           "2be"
          ],
          [
           "2br",
           "2be"
          ],
          [
           "2br",
           "2be"
          ],
          [
           "2br",
           "2be"
          ],
          [
           "2br",
           "2be"
          ]
         ],
         "hovertemplate": "True Phenotype=%{customdata[0]}<br>KNN Prediction=%{customdata[1]}<br>UMAP_1=%{x}<br>UMAP_2=%{y}<extra></extra>",
         "legendgroup": "2br, 2be",
         "marker": {
          "color": "#00cc96",
          "symbol": "diamond"
         },
         "mode": "markers",
         "name": "2br, 2be",
         "orientation": "v",
         "showlegend": true,
         "type": "scatter",
         "x": {
          "bdata": "VGDuv0w2Ab1WKCU+B29eQLB76L9B766/Se6kP+s5Ar8cwWdA",
          "dtype": "f4"
         },
         "xaxis": "x",
         "y": {
          "bdata": "b4CJQDeZ5j9mE8I/l1g9vdpAhEBKh4BA7GjDP89jL0AKVme/",
          "dtype": "f4"
         },
         "yaxis": "y"
        },
        {
         "customdata": [
          [
           "2br",
           "2br"
          ],
          [
           "2br",
           "2br"
          ],
          [
           "2br",
           "2br"
          ],
          [
           "2br",
           "2br"
          ],
          [
           "2br",
           "2br"
          ],
          [
           "2br",
           "2br"
          ],
          [
           "2br",
           "2br"
          ],
          [
           "2br",
           "2br"
          ],
          [
           "2br",
           "2br"
          ],
          [
           "2br",
           "2br"
          ],
          [
           "2br",
           "2br"
          ],
          [
           "2br",
           "2br"
          ],
          [
           "2br",
           "2br"
          ],
          [
           "2br",
           "2br"
          ],
          [
           "2br",
           "2br"
          ],
          [
           "2br",
           "2br"
          ],
          [
           "2br",
           "2br"
          ],
          [
           "2br",
           "2br"
          ],
          [
           "2br",
           "2br"
          ],
          [
           "2br",
           "2br"
          ]
         ],
         "hovertemplate": "True Phenotype=%{customdata[0]}<br>KNN Prediction=%{customdata[1]}<br>UMAP_1=%{x}<br>UMAP_2=%{y}<extra></extra>",
         "legendgroup": "2br, 2br",
         "marker": {
          "color": "#00cc96",
          "symbol": "square"
         },
         "mode": "markers",
         "name": "2br, 2br",
         "orientation": "v",
         "showlegend": true,
         "type": "scatter",
         "x": {
          "bdata": "wzg3QI9VhEAbtWRAGw1sQDIZYUCF0VFAjtFPQG+mS0CxSHtAwqkXwCirgUAJjVlAen0OwF+HWkAxYoJA5rVgQPZqD8CJNwfABcJhQIm+YEA=",
          "dtype": "f4"
         },
         "xaxis": "x",
         "y": {
          "bdata": "zu7OP+wwHb/w+1k/uDf1vs/qPT/ibJU/J75IvkBbsT/b16i+DXGCQIs8OL+a5fE+RCd1QIIYz76LNBi/lFWJPwm1YUDVpm1AqURdP1Fqv74=",
          "dtype": "f4"
         },
         "yaxis": "y"
        },
        {
         "customdata": [
          [
           "2br",
           "2ber"
          ],
          [
           "2br",
           "2ber"
          ]
         ],
         "hovertemplate": "True Phenotype=%{customdata[0]}<br>KNN Prediction=%{customdata[1]}<br>UMAP_1=%{x}<br>UMAP_2=%{y}<extra></extra>",
         "legendgroup": "2br, 2ber",
         "marker": {
          "color": "#00cc96",
          "symbol": "x"
         },
         "mode": "markers",
         "name": "2br, 2ber",
         "orientation": "v",
         "showlegend": true,
         "type": "scatter",
         "x": {
          "bdata": "Yo9CQLheiEA=",
          "dtype": "f4"
         },
         "xaxis": "x",
         "y": {
          "bdata": "D9J0viERdr0=",
          "dtype": "f4"
         },
         "yaxis": "y"
        },
        {
         "customdata": [
          [
           "2ber",
           "2b"
          ]
         ],
         "hovertemplate": "True Phenotype=%{customdata[0]}<br>KNN Prediction=%{customdata[1]}<br>UMAP_1=%{x}<br>UMAP_2=%{y}<extra></extra>",
         "legendgroup": "2ber, 2b",
         "marker": {
          "color": "#ab63fa",
          "symbol": "circle"
         },
         "mode": "markers",
         "name": "2ber, 2b",
         "orientation": "v",
         "showlegend": true,
         "type": "scatter",
         "x": {
          "bdata": "LBtQvw==",
          "dtype": "f4"
         },
         "xaxis": "x",
         "y": {
          "bdata": "JFmiQA==",
          "dtype": "f4"
         },
         "yaxis": "y"
        },
        {
         "customdata": [
          [
           "2ber",
           "2be"
          ],
          [
           "2ber",
           "2be"
          ],
          [
           "2ber",
           "2be"
          ],
          [
           "2ber",
           "2be"
          ]
         ],
         "hovertemplate": "True Phenotype=%{customdata[0]}<br>KNN Prediction=%{customdata[1]}<br>UMAP_1=%{x}<br>UMAP_2=%{y}<extra></extra>",
         "legendgroup": "2ber, 2be",
         "marker": {
          "color": "#ab63fa",
          "symbol": "diamond"
         },
         "mode": "markers",
         "name": "2ber, 2be",
         "orientation": "v",
         "showlegend": true,
         "type": "scatter",
         "x": {
          "bdata": "AlUAQI8ETEDi00lAHWNcQA==",
          "dtype": "f4"
         },
         "xaxis": "x",
         "y": {
          "bdata": "X1fQQB2u5DzgKLC72ahdvw==",
          "dtype": "f4"
         },
         "yaxis": "y"
        },
        {
         "customdata": [
          [
           "2ber",
           "2br"
          ],
          [
           "2ber",
           "2br"
          ],
          [
           "2ber",
           "2br"
          ],
          [
           "2ber",
           "2br"
          ],
          [
           "2ber",
           "2br"
          ]
         ],
         "hovertemplate": "True Phenotype=%{customdata[0]}<br>KNN Prediction=%{customdata[1]}<br>UMAP_1=%{x}<br>UMAP_2=%{y}<extra></extra>",
         "legendgroup": "2ber, 2br",
         "marker": {
          "color": "#ab63fa",
          "symbol": "square"
         },
         "mode": "markers",
         "name": "2ber, 2br",
         "orientation": "v",
         "showlegend": true,
         "type": "scatter",
         "x": {
          "bdata": "yhmKQB8VVUAMI35AQEGFQDZGZUA=",
          "dtype": "f4"
         },
         "xaxis": "x",
         "y": {
          "bdata": "AepFvhp8Zj+EWpo+ZvLovvIEZr4=",
          "dtype": "f4"
         },
         "yaxis": "y"
        },
        {
         "customdata": [
          [
           "ESBL",
           "2be"
          ]
         ],
         "hovertemplate": "True Phenotype=%{customdata[0]}<br>KNN Prediction=%{customdata[1]}<br>UMAP_1=%{x}<br>UMAP_2=%{y}<extra></extra>",
         "legendgroup": "ESBL, 2be",
         "marker": {
          "color": "#FFA15A",
          "symbol": "diamond"
         },
         "mode": "markers",
         "name": "ESBL, 2be",
         "orientation": "v",
         "showlegend": true,
         "type": "scatter",
         "x": {
          "bdata": "7Pk9Pw==",
          "dtype": "f4"
         },
         "xaxis": "x",
         "y": {
          "bdata": "Lx2vPw==",
          "dtype": "f4"
         },
         "yaxis": "y"
        },
        {
         "marker": {
          "color": "white",
          "size": 12,
          "symbol": "x"
         },
         "mode": "markers+text",
         "name": "Phenotype Center",
         "text": [
          "2b",
          "2be",
          "2ber",
          "2br",
          "ESBL"
         ],
         "textposition": "top center",
         "type": "scatter",
         "x": {
          "bdata": "q6qEv2q7JT+fLEJApF7wP+z5PT8=",
          "dtype": "f4"
         },
         "y": {
          "bdata": "FAuGQImjgEAKsY0/3IOePy8drz8=",
          "dtype": "f4"
         }
        },
        {
         "marker": {
          "color": "red",
          "size": 14,
          "symbol": "star"
         },
         "mode": "markers+text",
         "name": "Global Center",
         "showlegend": true,
         "text": [
          "Global Center"
         ],
         "textposition": "bottom right",
         "type": "scatter",
         "x": [
          0.9105924367904663
         ],
         "y": [
          3.195127248764038
         ]
        },
        {
         "marker": {
          "color": "black",
          "size": 6
         },
         "mode": "markers",
         "name": "Global Center Point",
         "showlegend": false,
         "type": "scatter",
         "x": [
          0.9105924367904663
         ],
         "y": [
          3.195127248764038
         ]
        }
       ],
       "layout": {
        "height": 700,
        "legend": {
         "title": {
          "text": "True Phenotype, KNN Prediction"
         },
         "tracegroupgap": 0
        },
        "template": {
         "data": {
          "bar": [
           {
            "error_x": {
             "color": "#f2f5fa"
            },
            "error_y": {
             "color": "#f2f5fa"
            },
            "marker": {
             "line": {
              "color": "rgb(17,17,17)",
              "width": 0.5
             },
             "pattern": {
              "fillmode": "overlay",
              "size": 10,
              "solidity": 0.2
             }
            },
            "type": "bar"
           }
          ],
          "barpolar": [
           {
            "marker": {
             "line": {
              "color": "rgb(17,17,17)",
              "width": 0.5
             },
             "pattern": {
              "fillmode": "overlay",
              "size": 10,
              "solidity": 0.2
             }
            },
            "type": "barpolar"
           }
          ],
          "carpet": [
           {
            "aaxis": {
             "endlinecolor": "#A2B1C6",
             "gridcolor": "#506784",
             "linecolor": "#506784",
             "minorgridcolor": "#506784",
             "startlinecolor": "#A2B1C6"
            },
            "baxis": {
             "endlinecolor": "#A2B1C6",
             "gridcolor": "#506784",
             "linecolor": "#506784",
             "minorgridcolor": "#506784",
             "startlinecolor": "#A2B1C6"
            },
            "type": "carpet"
           }
          ],
          "choropleth": [
           {
            "colorbar": {
             "outlinewidth": 0,
             "ticks": ""
            },
            "type": "choropleth"
           }
          ],
          "contour": [
           {
            "colorbar": {
             "outlinewidth": 0,
             "ticks": ""
            },
            "colorscale": [
             [
              0,
              "#0d0887"
             ],
             [
              0.1111111111111111,
              "#46039f"
             ],
             [
              0.2222222222222222,
              "#7201a8"
             ],
             [
              0.3333333333333333,
              "#9c179e"
             ],
             [
              0.4444444444444444,
              "#bd3786"
             ],
             [
              0.5555555555555556,
              "#d8576b"
             ],
             [
              0.6666666666666666,
              "#ed7953"
             ],
             [
              0.7777777777777778,
              "#fb9f3a"
             ],
             [
              0.8888888888888888,
              "#fdca26"
             ],
             [
              1,
              "#f0f921"
             ]
            ],
            "type": "contour"
           }
          ],
          "contourcarpet": [
           {
            "colorbar": {
             "outlinewidth": 0,
             "ticks": ""
            },
            "type": "contourcarpet"
           }
          ],
          "heatmap": [
           {
            "colorbar": {
             "outlinewidth": 0,
             "ticks": ""
            },
            "colorscale": [
             [
              0,
              "#0d0887"
             ],
             [
              0.1111111111111111,
              "#46039f"
             ],
             [
              0.2222222222222222,
              "#7201a8"
             ],
             [
              0.3333333333333333,
              "#9c179e"
             ],
             [
              0.4444444444444444,
              "#bd3786"
             ],
             [
              0.5555555555555556,
              "#d8576b"
             ],
             [
              0.6666666666666666,
              "#ed7953"
             ],
             [
              0.7777777777777778,
              "#fb9f3a"
             ],
             [
              0.8888888888888888,
              "#fdca26"
             ],
             [
              1,
              "#f0f921"
             ]
            ],
            "type": "heatmap"
           }
          ],
          "histogram": [
           {
            "marker": {
             "pattern": {
              "fillmode": "overlay",
              "size": 10,
              "solidity": 0.2
             }
            },
            "type": "histogram"
           }
          ],
          "histogram2d": [
           {
            "colorbar": {
             "outlinewidth": 0,
             "ticks": ""
            },
            "colorscale": [
             [
              0,
              "#0d0887"
             ],
             [
              0.1111111111111111,
              "#46039f"
             ],
             [
              0.2222222222222222,
              "#7201a8"
             ],
             [
              0.3333333333333333,
              "#9c179e"
             ],
             [
              0.4444444444444444,
              "#bd3786"
             ],
             [
              0.5555555555555556,
              "#d8576b"
             ],
             [
              0.6666666666666666,
              "#ed7953"
             ],
             [
              0.7777777777777778,
              "#fb9f3a"
             ],
             [
              0.8888888888888888,
              "#fdca26"
             ],
             [
              1,
              "#f0f921"
             ]
            ],
            "type": "histogram2d"
           }
          ],
          "histogram2dcontour": [
           {
            "colorbar": {
             "outlinewidth": 0,
             "ticks": ""
            },
            "colorscale": [
             [
              0,
              "#0d0887"
             ],
             [
              0.1111111111111111,
              "#46039f"
             ],
             [
              0.2222222222222222,
              "#7201a8"
             ],
             [
              0.3333333333333333,
              "#9c179e"
             ],
             [
              0.4444444444444444,
              "#bd3786"
             ],
             [
              0.5555555555555556,
              "#d8576b"
             ],
             [
              0.6666666666666666,
              "#ed7953"
             ],
             [
              0.7777777777777778,
              "#fb9f3a"
             ],
             [
              0.8888888888888888,
              "#fdca26"
             ],
             [
              1,
              "#f0f921"
             ]
            ],
            "type": "histogram2dcontour"
           }
          ],
          "mesh3d": [
           {
            "colorbar": {
             "outlinewidth": 0,
             "ticks": ""
            },
            "type": "mesh3d"
           }
          ],
          "parcoords": [
           {
            "line": {
             "colorbar": {
              "outlinewidth": 0,
              "ticks": ""
             }
            },
            "type": "parcoords"
           }
          ],
          "pie": [
           {
            "automargin": true,
            "type": "pie"
           }
          ],
          "scatter": [
           {
            "marker": {
             "line": {
              "color": "#283442"
             }
            },
            "type": "scatter"
           }
          ],
          "scatter3d": [
           {
            "line": {
             "colorbar": {
              "outlinewidth": 0,
              "ticks": ""
             }
            },
            "marker": {
             "colorbar": {
              "outlinewidth": 0,
              "ticks": ""
             }
            },
            "type": "scatter3d"
           }
          ],
          "scattercarpet": [
           {
            "marker": {
             "colorbar": {
              "outlinewidth": 0,
              "ticks": ""
             }
            },
            "type": "scattercarpet"
           }
          ],
          "scattergeo": [
           {
            "marker": {
             "colorbar": {
              "outlinewidth": 0,
              "ticks": ""
             }
            },
            "type": "scattergeo"
           }
          ],
          "scattergl": [
           {
            "marker": {
             "line": {
              "color": "#283442"
             }
            },
            "type": "scattergl"
           }
          ],
          "scattermap": [
           {
            "marker": {
             "colorbar": {
              "outlinewidth": 0,
              "ticks": ""
             }
            },
            "type": "scattermap"
           }
          ],
          "scattermapbox": [
           {
            "marker": {
             "colorbar": {
              "outlinewidth": 0,
              "ticks": ""
             }
            },
            "type": "scattermapbox"
           }
          ],
          "scatterpolar": [
           {
            "marker": {
             "colorbar": {
              "outlinewidth": 0,
              "ticks": ""
             }
            },
            "type": "scatterpolar"
           }
          ],
          "scatterpolargl": [
           {
            "marker": {
             "colorbar": {
              "outlinewidth": 0,
              "ticks": ""
             }
            },
            "type": "scatterpolargl"
           }
          ],
          "scatterternary": [
           {
            "marker": {
             "colorbar": {
              "outlinewidth": 0,
              "ticks": ""
             }
            },
            "type": "scatterternary"
           }
          ],
          "surface": [
           {
            "colorbar": {
             "outlinewidth": 0,
             "ticks": ""
            },
            "colorscale": [
             [
              0,
              "#0d0887"
             ],
             [
              0.1111111111111111,
              "#46039f"
             ],
             [
              0.2222222222222222,
              "#7201a8"
             ],
             [
              0.3333333333333333,
              "#9c179e"
             ],
             [
              0.4444444444444444,
              "#bd3786"
             ],
             [
              0.5555555555555556,
              "#d8576b"
             ],
             [
              0.6666666666666666,
              "#ed7953"
             ],
             [
              0.7777777777777778,
              "#fb9f3a"
             ],
             [
              0.8888888888888888,
              "#fdca26"
             ],
             [
              1,
              "#f0f921"
             ]
            ],
            "type": "surface"
           }
          ],
          "table": [
           {
            "cells": {
             "fill": {
              "color": "#506784"
             },
             "line": {
              "color": "rgb(17,17,17)"
             }
            },
            "header": {
             "fill": {
              "color": "#2a3f5f"
             },
             "line": {
              "color": "rgb(17,17,17)"
             }
            },
            "type": "table"
           }
          ]
         },
         "layout": {
          "annotationdefaults": {
           "arrowcolor": "#f2f5fa",
           "arrowhead": 0,
           "arrowwidth": 1
          },
          "autotypenumbers": "strict",
          "coloraxis": {
           "colorbar": {
            "outlinewidth": 0,
            "ticks": ""
           }
          },
          "colorscale": {
           "diverging": [
            [
             0,
             "#8e0152"
            ],
            [
             0.1,
             "#c51b7d"
            ],
            [
             0.2,
             "#de77ae"
            ],
            [
             0.3,
             "#f1b6da"
            ],
            [
             0.4,
             "#fde0ef"
            ],
            [
             0.5,
             "#f7f7f7"
            ],
            [
             0.6,
             "#e6f5d0"
            ],
            [
             0.7,
             "#b8e186"
            ],
            [
             0.8,
             "#7fbc41"
            ],
            [
             0.9,
             "#4d9221"
            ],
            [
             1,
             "#276419"
            ]
           ],
           "sequential": [
            [
             0,
             "#0d0887"
            ],
            [
             0.1111111111111111,
             "#46039f"
            ],
            [
             0.2222222222222222,
             "#7201a8"
            ],
            [
             0.3333333333333333,
             "#9c179e"
            ],
            [
             0.4444444444444444,
             "#bd3786"
            ],
            [
             0.5555555555555556,
             "#d8576b"
            ],
            [
             0.6666666666666666,
             "#ed7953"
            ],
            [
             0.7777777777777778,
             "#fb9f3a"
            ],
            [
             0.8888888888888888,
             "#fdca26"
            ],
            [
             1,
             "#f0f921"
            ]
           ],
           "sequentialminus": [
            [
             0,
             "#0d0887"
            ],
            [
             0.1111111111111111,
             "#46039f"
            ],
            [
             0.2222222222222222,
             "#7201a8"
            ],
            [
             0.3333333333333333,
             "#9c179e"
            ],
            [
             0.4444444444444444,
             "#bd3786"
            ],
            [
             0.5555555555555556,
             "#d8576b"
            ],
            [
             0.6666666666666666,
             "#ed7953"
            ],
            [
             0.7777777777777778,
             "#fb9f3a"
            ],
            [
             0.8888888888888888,
             "#fdca26"
            ],
            [
             1,
             "#f0f921"
            ]
           ]
          },
          "colorway": [
           "#636efa",
           "#EF553B",
           "#00cc96",
           "#ab63fa",
           "#FFA15A",
           "#19d3f3",
           "#FF6692",
           "#B6E880",
           "#FF97FF",
           "#FECB52"
          ],
          "font": {
           "color": "#f2f5fa"
          },
          "geo": {
           "bgcolor": "rgb(17,17,17)",
           "lakecolor": "rgb(17,17,17)",
           "landcolor": "rgb(17,17,17)",
           "showlakes": true,
           "showland": true,
           "subunitcolor": "#506784"
          },
          "hoverlabel": {
           "align": "left"
          },
          "hovermode": "closest",
          "mapbox": {
           "style": "dark"
          },
          "paper_bgcolor": "rgb(17,17,17)",
          "plot_bgcolor": "rgb(17,17,17)",
          "polar": {
           "angularaxis": {
            "gridcolor": "#506784",
            "linecolor": "#506784",
            "ticks": ""
           },
           "bgcolor": "rgb(17,17,17)",
           "radialaxis": {
            "gridcolor": "#506784",
            "linecolor": "#506784",
            "ticks": ""
           }
          },
          "scene": {
           "xaxis": {
            "backgroundcolor": "rgb(17,17,17)",
            "gridcolor": "#506784",
            "gridwidth": 2,
            "linecolor": "#506784",
            "showbackground": true,
            "ticks": "",
            "zerolinecolor": "#C8D4E3"
           },
           "yaxis": {
            "backgroundcolor": "rgb(17,17,17)",
            "gridcolor": "#506784",
            "gridwidth": 2,
            "linecolor": "#506784",
            "showbackground": true,
            "ticks": "",
            "zerolinecolor": "#C8D4E3"
           },
           "zaxis": {
            "backgroundcolor": "rgb(17,17,17)",
            "gridcolor": "#506784",
            "gridwidth": 2,
            "linecolor": "#506784",
            "showbackground": true,
            "ticks": "",
            "zerolinecolor": "#C8D4E3"
           }
          },
          "shapedefaults": {
           "line": {
            "color": "#f2f5fa"
           }
          },
          "sliderdefaults": {
           "bgcolor": "#C8D4E3",
           "bordercolor": "rgb(17,17,17)",
           "borderwidth": 1,
           "tickwidth": 0
          },
          "ternary": {
           "aaxis": {
            "gridcolor": "#506784",
            "linecolor": "#506784",
            "ticks": ""
           },
           "baxis": {
            "gridcolor": "#506784",
            "linecolor": "#506784",
            "ticks": ""
           },
           "bgcolor": "rgb(17,17,17)",
           "caxis": {
            "gridcolor": "#506784",
            "linecolor": "#506784",
            "ticks": ""
           }
          },
          "title": {
           "x": 0.05
          },
          "updatemenudefaults": {
           "bgcolor": "#506784",
           "borderwidth": 0
          },
          "xaxis": {
           "automargin": true,
           "gridcolor": "#283442",
           "linecolor": "#506784",
           "ticks": "",
           "title": {
            "standoff": 15
           },
           "zerolinecolor": "#283442",
           "zerolinewidth": 2
          },
          "yaxis": {
           "automargin": true,
           "gridcolor": "#283442",
           "linecolor": "#506784",
           "ticks": "",
           "title": {
            "standoff": 15
           },
           "zerolinecolor": "#283442",
           "zerolinewidth": 2
          }
         }
        },
        "title": {
         "text": "UMAP Projection with KNN on embedding_prot_t5_xl_bfd"
        },
        "width": 1200,
        "xaxis": {
         "anchor": "y",
         "domain": [
          0,
          1
         ],
         "title": {
          "text": "UMAP_1"
         }
        },
        "yaxis": {
         "anchor": "x",
         "domain": [
          0,
          1
         ],
         "title": {
          "text": "UMAP_2"
         }
        }
       }
      }
     },
     "metadata": {},
     "output_type": "display_data"
    },
    {
     "name": "stdout",
     "output_type": "stream",
     "text": [
      "\n",
      "Mean Accuracies (Sorted):\n",
      "embedding_esmc_300m: 82.22%\n",
      "embedding_facebook/esm2_t12_35M_UR50D: 81.98%\n",
      "embedding_facebook/esm2_t30_150M_UR50D: 80.24%\n",
      "embedding_facebook/esm2_t33_650M_UR50D: 80.16%\n",
      "embedding_facebook/esm2_t6_8M_UR50D: 77.86%\n",
      "embedding_prot_t5_xl_bfd: 75.56%\n",
      "embedding_facebook/esm2_t36_3B_UR50D: 74.60%\n",
      "embedding_prot_t5_xl_uniref50: 70.71%\n",
      "embedding_esmc_600m: 66.98%\n"
     ]
    },
    {
     "data": {
      "application/vnd.plotly.v1+json": {
       "config": {
        "plotlyServerURL": "https://plot.ly"
       },
       "data": [
        {
         "hovertemplate": "Number of Neighbors=%{x}<br>Accuracy (%)=%{text}<extra></extra>",
         "legendgroup": "",
         "line": {
          "color": "#636efa",
          "dash": "solid"
         },
         "marker": {
          "symbol": "circle"
         },
         "mode": "lines+markers+text",
         "name": "",
         "orientation": "v",
         "showlegend": false,
         "text": {
          "bdata": "H4XrUbi+UEA9CtejcK1RQGZmZmZmplJApHA9CtfjUkDXo3A9CndTQArXo3A9ClRAj8L1KFwPVEAfhetRuH5UQK5H4XoUjlRA",
          "dtype": "f8"
         },
         "textposition": "top center",
         "type": "scatter",
         "x": {
          "bdata": "AwUHCQsNDxET",
          "dtype": "i1"
         },
         "xaxis": "x",
         "y": {
          "bdata": "H4XrUbi+UEA9CtejcK1RQGZmZmZmplJApHA9CtfjUkDXo3A9CndTQArXo3A9ClRAj8L1KFwPVEAfhetRuH5UQK5H4XoUjlRA",
          "dtype": "f8"
         },
         "yaxis": "y"
        }
       ],
       "layout": {
        "legend": {
         "tracegroupgap": 0
        },
        "template": {
         "data": {
          "bar": [
           {
            "error_x": {
             "color": "#f2f5fa"
            },
            "error_y": {
             "color": "#f2f5fa"
            },
            "marker": {
             "line": {
              "color": "rgb(17,17,17)",
              "width": 0.5
             },
             "pattern": {
              "fillmode": "overlay",
              "size": 10,
              "solidity": 0.2
             }
            },
            "type": "bar"
           }
          ],
          "barpolar": [
           {
            "marker": {
             "line": {
              "color": "rgb(17,17,17)",
              "width": 0.5
             },
             "pattern": {
              "fillmode": "overlay",
              "size": 10,
              "solidity": 0.2
             }
            },
            "type": "barpolar"
           }
          ],
          "carpet": [
           {
            "aaxis": {
             "endlinecolor": "#A2B1C6",
             "gridcolor": "#506784",
             "linecolor": "#506784",
             "minorgridcolor": "#506784",
             "startlinecolor": "#A2B1C6"
            },
            "baxis": {
             "endlinecolor": "#A2B1C6",
             "gridcolor": "#506784",
             "linecolor": "#506784",
             "minorgridcolor": "#506784",
             "startlinecolor": "#A2B1C6"
            },
            "type": "carpet"
           }
          ],
          "choropleth": [
           {
            "colorbar": {
             "outlinewidth": 0,
             "ticks": ""
            },
            "type": "choropleth"
           }
          ],
          "contour": [
           {
            "colorbar": {
             "outlinewidth": 0,
             "ticks": ""
            },
            "colorscale": [
             [
              0,
              "#0d0887"
             ],
             [
              0.1111111111111111,
              "#46039f"
             ],
             [
              0.2222222222222222,
              "#7201a8"
             ],
             [
              0.3333333333333333,
              "#9c179e"
             ],
             [
              0.4444444444444444,
              "#bd3786"
             ],
             [
              0.5555555555555556,
              "#d8576b"
             ],
             [
              0.6666666666666666,
              "#ed7953"
             ],
             [
              0.7777777777777778,
              "#fb9f3a"
             ],
             [
              0.8888888888888888,
              "#fdca26"
             ],
             [
              1,
              "#f0f921"
             ]
            ],
            "type": "contour"
           }
          ],
          "contourcarpet": [
           {
            "colorbar": {
             "outlinewidth": 0,
             "ticks": ""
            },
            "type": "contourcarpet"
           }
          ],
          "heatmap": [
           {
            "colorbar": {
             "outlinewidth": 0,
             "ticks": ""
            },
            "colorscale": [
             [
              0,
              "#0d0887"
             ],
             [
              0.1111111111111111,
              "#46039f"
             ],
             [
              0.2222222222222222,
              "#7201a8"
             ],
             [
              0.3333333333333333,
              "#9c179e"
             ],
             [
              0.4444444444444444,
              "#bd3786"
             ],
             [
              0.5555555555555556,
              "#d8576b"
             ],
             [
              0.6666666666666666,
              "#ed7953"
             ],
             [
              0.7777777777777778,
              "#fb9f3a"
             ],
             [
              0.8888888888888888,
              "#fdca26"
             ],
             [
              1,
              "#f0f921"
             ]
            ],
            "type": "heatmap"
           }
          ],
          "histogram": [
           {
            "marker": {
             "pattern": {
              "fillmode": "overlay",
              "size": 10,
              "solidity": 0.2
             }
            },
            "type": "histogram"
           }
          ],
          "histogram2d": [
           {
            "colorbar": {
             "outlinewidth": 0,
             "ticks": ""
            },
            "colorscale": [
             [
              0,
              "#0d0887"
             ],
             [
              0.1111111111111111,
              "#46039f"
             ],
             [
              0.2222222222222222,
              "#7201a8"
             ],
             [
              0.3333333333333333,
              "#9c179e"
             ],
             [
              0.4444444444444444,
              "#bd3786"
             ],
             [
              0.5555555555555556,
              "#d8576b"
             ],
             [
              0.6666666666666666,
              "#ed7953"
             ],
             [
              0.7777777777777778,
              "#fb9f3a"
             ],
             [
              0.8888888888888888,
              "#fdca26"
             ],
             [
              1,
              "#f0f921"
             ]
            ],
            "type": "histogram2d"
           }
          ],
          "histogram2dcontour": [
           {
            "colorbar": {
             "outlinewidth": 0,
             "ticks": ""
            },
            "colorscale": [
             [
              0,
              "#0d0887"
             ],
             [
              0.1111111111111111,
              "#46039f"
             ],
             [
              0.2222222222222222,
              "#7201a8"
             ],
             [
              0.3333333333333333,
              "#9c179e"
             ],
             [
              0.4444444444444444,
              "#bd3786"
             ],
             [
              0.5555555555555556,
              "#d8576b"
             ],
             [
              0.6666666666666666,
              "#ed7953"
             ],
             [
              0.7777777777777778,
              "#fb9f3a"
             ],
             [
              0.8888888888888888,
              "#fdca26"
             ],
             [
              1,
              "#f0f921"
             ]
            ],
            "type": "histogram2dcontour"
           }
          ],
          "mesh3d": [
           {
            "colorbar": {
             "outlinewidth": 0,
             "ticks": ""
            },
            "type": "mesh3d"
           }
          ],
          "parcoords": [
           {
            "line": {
             "colorbar": {
              "outlinewidth": 0,
              "ticks": ""
             }
            },
            "type": "parcoords"
           }
          ],
          "pie": [
           {
            "automargin": true,
            "type": "pie"
           }
          ],
          "scatter": [
           {
            "marker": {
             "line": {
              "color": "#283442"
             }
            },
            "type": "scatter"
           }
          ],
          "scatter3d": [
           {
            "line": {
             "colorbar": {
              "outlinewidth": 0,
              "ticks": ""
             }
            },
            "marker": {
             "colorbar": {
              "outlinewidth": 0,
              "ticks": ""
             }
            },
            "type": "scatter3d"
           }
          ],
          "scattercarpet": [
           {
            "marker": {
             "colorbar": {
              "outlinewidth": 0,
              "ticks": ""
             }
            },
            "type": "scattercarpet"
           }
          ],
          "scattergeo": [
           {
            "marker": {
             "colorbar": {
              "outlinewidth": 0,
              "ticks": ""
             }
            },
            "type": "scattergeo"
           }
          ],
          "scattergl": [
           {
            "marker": {
             "line": {
              "color": "#283442"
             }
            },
            "type": "scattergl"
           }
          ],
          "scattermap": [
           {
            "marker": {
             "colorbar": {
              "outlinewidth": 0,
              "ticks": ""
             }
            },
            "type": "scattermap"
           }
          ],
          "scattermapbox": [
           {
            "marker": {
             "colorbar": {
              "outlinewidth": 0,
              "ticks": ""
             }
            },
            "type": "scattermapbox"
           }
          ],
          "scatterpolar": [
           {
            "marker": {
             "colorbar": {
              "outlinewidth": 0,
              "ticks": ""
             }
            },
            "type": "scatterpolar"
           }
          ],
          "scatterpolargl": [
           {
            "marker": {
             "colorbar": {
              "outlinewidth": 0,
              "ticks": ""
             }
            },
            "type": "scatterpolargl"
           }
          ],
          "scatterternary": [
           {
            "marker": {
             "colorbar": {
              "outlinewidth": 0,
              "ticks": ""
             }
            },
            "type": "scatterternary"
           }
          ],
          "surface": [
           {
            "colorbar": {
             "outlinewidth": 0,
             "ticks": ""
            },
            "colorscale": [
             [
              0,
              "#0d0887"
             ],
             [
              0.1111111111111111,
              "#46039f"
             ],
             [
              0.2222222222222222,
              "#7201a8"
             ],
             [
              0.3333333333333333,
              "#9c179e"
             ],
             [
              0.4444444444444444,
              "#bd3786"
             ],
             [
              0.5555555555555556,
              "#d8576b"
             ],
             [
              0.6666666666666666,
              "#ed7953"
             ],
             [
              0.7777777777777778,
              "#fb9f3a"
             ],
             [
              0.8888888888888888,
              "#fdca26"
             ],
             [
              1,
              "#f0f921"
             ]
            ],
            "type": "surface"
           }
          ],
          "table": [
           {
            "cells": {
             "fill": {
              "color": "#506784"
             },
             "line": {
              "color": "rgb(17,17,17)"
             }
            },
            "header": {
             "fill": {
              "color": "#2a3f5f"
             },
             "line": {
              "color": "rgb(17,17,17)"
             }
            },
            "type": "table"
           }
          ]
         },
         "layout": {
          "annotationdefaults": {
           "arrowcolor": "#f2f5fa",
           "arrowhead": 0,
           "arrowwidth": 1
          },
          "autotypenumbers": "strict",
          "coloraxis": {
           "colorbar": {
            "outlinewidth": 0,
            "ticks": ""
           }
          },
          "colorscale": {
           "diverging": [
            [
             0,
             "#8e0152"
            ],
            [
             0.1,
             "#c51b7d"
            ],
            [
             0.2,
             "#de77ae"
            ],
            [
             0.3,
             "#f1b6da"
            ],
            [
             0.4,
             "#fde0ef"
            ],
            [
             0.5,
             "#f7f7f7"
            ],
            [
             0.6,
             "#e6f5d0"
            ],
            [
             0.7,
             "#b8e186"
            ],
            [
             0.8,
             "#7fbc41"
            ],
            [
             0.9,
             "#4d9221"
            ],
            [
             1,
             "#276419"
            ]
           ],
           "sequential": [
            [
             0,
             "#0d0887"
            ],
            [
             0.1111111111111111,
             "#46039f"
            ],
            [
             0.2222222222222222,
             "#7201a8"
            ],
            [
             0.3333333333333333,
             "#9c179e"
            ],
            [
             0.4444444444444444,
             "#bd3786"
            ],
            [
             0.5555555555555556,
             "#d8576b"
            ],
            [
             0.6666666666666666,
             "#ed7953"
            ],
            [
             0.7777777777777778,
             "#fb9f3a"
            ],
            [
             0.8888888888888888,
             "#fdca26"
            ],
            [
             1,
             "#f0f921"
            ]
           ],
           "sequentialminus": [
            [
             0,
             "#0d0887"
            ],
            [
             0.1111111111111111,
             "#46039f"
            ],
            [
             0.2222222222222222,
             "#7201a8"
            ],
            [
             0.3333333333333333,
             "#9c179e"
            ],
            [
             0.4444444444444444,
             "#bd3786"
            ],
            [
             0.5555555555555556,
             "#d8576b"
            ],
            [
             0.6666666666666666,
             "#ed7953"
            ],
            [
             0.7777777777777778,
             "#fb9f3a"
            ],
            [
             0.8888888888888888,
             "#fdca26"
            ],
            [
             1,
             "#f0f921"
            ]
           ]
          },
          "colorway": [
           "#636efa",
           "#EF553B",
           "#00cc96",
           "#ab63fa",
           "#FFA15A",
           "#19d3f3",
           "#FF6692",
           "#B6E880",
           "#FF97FF",
           "#FECB52"
          ],
          "font": {
           "color": "#f2f5fa"
          },
          "geo": {
           "bgcolor": "rgb(17,17,17)",
           "lakecolor": "rgb(17,17,17)",
           "landcolor": "rgb(17,17,17)",
           "showlakes": true,
           "showland": true,
           "subunitcolor": "#506784"
          },
          "hoverlabel": {
           "align": "left"
          },
          "hovermode": "closest",
          "mapbox": {
           "style": "dark"
          },
          "paper_bgcolor": "rgb(17,17,17)",
          "plot_bgcolor": "rgb(17,17,17)",
          "polar": {
           "angularaxis": {
            "gridcolor": "#506784",
            "linecolor": "#506784",
            "ticks": ""
           },
           "bgcolor": "rgb(17,17,17)",
           "radialaxis": {
            "gridcolor": "#506784",
            "linecolor": "#506784",
            "ticks": ""
           }
          },
          "scene": {
           "xaxis": {
            "backgroundcolor": "rgb(17,17,17)",
            "gridcolor": "#506784",
            "gridwidth": 2,
            "linecolor": "#506784",
            "showbackground": true,
            "ticks": "",
            "zerolinecolor": "#C8D4E3"
           },
           "yaxis": {
            "backgroundcolor": "rgb(17,17,17)",
            "gridcolor": "#506784",
            "gridwidth": 2,
            "linecolor": "#506784",
            "showbackground": true,
            "ticks": "",
            "zerolinecolor": "#C8D4E3"
           },
           "zaxis": {
            "backgroundcolor": "rgb(17,17,17)",
            "gridcolor": "#506784",
            "gridwidth": 2,
            "linecolor": "#506784",
            "showbackground": true,
            "ticks": "",
            "zerolinecolor": "#C8D4E3"
           }
          },
          "shapedefaults": {
           "line": {
            "color": "#f2f5fa"
           }
          },
          "sliderdefaults": {
           "bgcolor": "#C8D4E3",
           "bordercolor": "rgb(17,17,17)",
           "borderwidth": 1,
           "tickwidth": 0
          },
          "ternary": {
           "aaxis": {
            "gridcolor": "#506784",
            "linecolor": "#506784",
            "ticks": ""
           },
           "baxis": {
            "gridcolor": "#506784",
            "linecolor": "#506784",
            "ticks": ""
           },
           "bgcolor": "rgb(17,17,17)",
           "caxis": {
            "gridcolor": "#506784",
            "linecolor": "#506784",
            "ticks": ""
           }
          },
          "title": {
           "x": 0.05
          },
          "updatemenudefaults": {
           "bgcolor": "#506784",
           "borderwidth": 0
          },
          "xaxis": {
           "automargin": true,
           "gridcolor": "#283442",
           "linecolor": "#506784",
           "ticks": "",
           "title": {
            "standoff": 15
           },
           "zerolinecolor": "#283442",
           "zerolinewidth": 2
          },
          "yaxis": {
           "automargin": true,
           "gridcolor": "#283442",
           "linecolor": "#506784",
           "ticks": "",
           "title": {
            "standoff": 15
           },
           "zerolinecolor": "#283442",
           "zerolinewidth": 2
          }
         }
        },
        "title": {
         "text": "Mean Accuracy of all Models"
        },
        "xaxis": {
         "anchor": "y",
         "domain": [
          0,
          1
         ],
         "tickmode": "array",
         "tickvals": [
          3,
          5,
          7,
          9,
          11,
          13,
          15,
          17,
          19
         ],
         "title": {
          "text": "Number of Neighbors"
         }
        },
        "yaxis": {
         "anchor": "x",
         "domain": [
          0,
          1
         ],
         "dtick": 10,
         "range": [
          0,
          100
         ],
         "title": {
          "text": "Accuracy (%)"
         }
        }
       }
      }
     },
     "metadata": {},
     "output_type": "display_data"
    }
   ],
   "source": [
    "import plotly.express as px\n",
    "from sklearn.neighbors import KNeighborsClassifier\n",
    "import pandas as pd\n",
    "from umap import UMAP\n",
    "from sklearn.metrics import accuracy_score\n",
    "import numpy as np\n",
    "\n",
    "df = pd.read_csv('isaac_db_playground_read_out_embeddings _updated.csv')\n",
    "df['p.phenotype'] = df['p.phenotype'].fillna('<null>')\n",
    "\n",
    "embedding_columns = [\n",
    "    'embedding_prot_t5_xl_bfd',\n",
    "    'embedding_esmc_600m',\n",
    "    'embedding_esmc_300m',\n",
    "    'embedding_facebook/esm2_t33_650M_UR50D',\n",
    "    'embedding_prot_t5_xl_uniref50',\n",
    "    'embedding_facebook/esm2_t36_3B_UR50D',\n",
    "    'embedding_facebook/esm2_t12_35M_UR50D',\n",
    "    'embedding_facebook/esm2_t6_8M_UR50D',\n",
    "    'embedding_facebook/esm2_t30_150M_UR50D'\n",
    "]\n",
    "\n",
    "def parse_embedding(col):\n",
    "    def safe_parse(x):\n",
    "        try:\n",
    "            return np.array([float(val) for val in x.strip('[]').split() if val != '...'])\n",
    "        except Exception:\n",
    "            return np.array([])\n",
    "    return df[col].apply(safe_parse)\n",
    "\n",
    "def project_and_plot(col_name):\n",
    "    embeddings = np.vstack(parse_embedding(col_name))\n",
    "    reducer = UMAP(n_components=2, random_state=42)\n",
    "    projection = reducer.fit_transform(embeddings)\n",
    "\n",
    "    df_plot = df.copy()\n",
    "    df_plot['UMAP_1'] = projection[:, 0]\n",
    "    df_plot['UMAP_2'] = projection[:, 1]\n",
    "\n",
    "\n",
    "    phenotype_centers = (\n",
    "        df_plot.groupby('p.phenotype')[['UMAP_1', 'UMAP_2']]\n",
    "        .mean()\n",
    "        .reset_index()\n",
    "        .rename(columns={'UMAP_1': 'center_UMAP_1', 'UMAP_2': 'center_UMAP_2'})\n",
    "    )\n",
    "\n",
    "    global_center = df_plot[['UMAP_1', 'UMAP_2']].mean()\n",
    "\n",
    "    fig = px.scatter(\n",
    "        df_plot,\n",
    "        x='UMAP_1', y='UMAP_2',\n",
    "        color='p.phenotype',\n",
    "        hover_data={'p.accession_id': True, 'p.name': True, 'p.phenotype': True},\n",
    "        title=f'UMAP Projection - {col_name}',\n",
    "        labels={'color': 'p.phenotype'}\n",
    "    )\n",
    "\n",
    "    fig.add_scatter(\n",
    "        x=phenotype_centers['center_UMAP_1'],\n",
    "        y=phenotype_centers['center_UMAP_2'],\n",
    "        mode='markers+text',\n",
    "        text=phenotype_centers['p.phenotype'],\n",
    "        marker=dict(size=12, color='white', symbol='x'),\n",
    "        textposition='top center',\n",
    "        name='Phenotype Center'\n",
    "    )\n",
    "\n",
    "    fig.add_scatter(\n",
    "        x=[global_center['UMAP_1']],\n",
    "        y=[global_center['UMAP_2']],\n",
    "        mode='markers+text',\n",
    "        text=['Global Center'],\n",
    "        marker=dict(size=14, color='red', symbol='star'),\n",
    "        textposition='bottom right',\n",
    "        name='Global Center',\n",
    "        showlegend=True\n",
    "    )\n",
    "\n",
    "    fig.add_scatter(\n",
    "        x=[global_center['UMAP_1']],\n",
    "        y=[global_center['UMAP_2']],\n",
    "        mode='markers',\n",
    "        marker=dict(size=6, color='black'),\n",
    "        name='Global Center Point',\n",
    "        showlegend=False\n",
    "    )\n",
    "    fig.update_layout(width=1200, height=700)\n",
    "    fig.show()\n",
    "\n",
    "\n",
    "\n",
    "def project_and_plot_with_knn(col_name, n_neighbors=5):\n",
    "    embeddings = np.vstack(parse_embedding(col_name))\n",
    "    labels = df['p.phenotype'].fillna('<null>').values\n",
    "\n",
    "    valid_mask = (labels != '<null>') & (np.array([e.size > 0 for e in parse_embedding(col_name)]))\n",
    "    embeddings = embeddings[valid_mask]\n",
    "    labels = labels[valid_mask]\n",
    "\n",
    "    reducer = UMAP(n_components=2, random_state=42)\n",
    "    projection = reducer.fit_transform(embeddings)\n",
    "\n",
    "    knn = KNeighborsClassifier(n_neighbors=n_neighbors)\n",
    "    knn.fit(projection, labels)\n",
    "    knn_preds = knn.predict(projection)\n",
    "\n",
    "    accuracy = accuracy_score(labels, knn_preds)\n",
    "    print(f\"Percentage of true phenotypes matching KNN predicted phenotypes: {accuracy * 100:.2f}%\")\n",
    "\n",
    "    df_plot = pd.DataFrame({\n",
    "        'UMAP_1': projection[:, 0],\n",
    "        'UMAP_2': projection[:, 1],\n",
    "        'True Phenotype': labels,\n",
    "        'KNN Prediction': knn_preds\n",
    "    })\n",
    "\n",
    "    phenotype_centers = (\n",
    "        df_plot.groupby('True Phenotype')[['UMAP_1', 'UMAP_2']]\n",
    "        .mean()\n",
    "        .reset_index()\n",
    "        .rename(columns={'UMAP_1': 'center_UMAP_1', 'UMAP_2': 'center_UMAP_2'})\n",
    "    )\n",
    "    global_center = df_plot[['UMAP_1', 'UMAP_2']].mean()\n",
    "\n",
    "    fig = px.scatter(\n",
    "        df_plot,\n",
    "        x='UMAP_1',\n",
    "        y='UMAP_2',\n",
    "        color='True Phenotype',\n",
    "        symbol='KNN Prediction',\n",
    "        hover_data=['True Phenotype', 'KNN Prediction'],\n",
    "        title=f'UMAP Projection with KNN on {col_name}',\n",
    "        labels={'color': 'True Phenotype', 'symbol': 'KNN Prediction'}\n",
    "    )\n",
    "\n",
    "    fig.add_scatter(\n",
    "        x=phenotype_centers['center_UMAP_1'],\n",
    "        y=phenotype_centers['center_UMAP_2'],\n",
    "        mode='markers+text',\n",
    "        text=phenotype_centers['True Phenotype'],\n",
    "        marker=dict(size=12, color='white', symbol='x'),\n",
    "        textposition='top center',\n",
    "        name='Phenotype Center'\n",
    "    )\n",
    "\n",
    "    fig.add_scatter(\n",
    "        x=[global_center['UMAP_1']],\n",
    "        y=[global_center['UMAP_2']],\n",
    "        mode='markers+text',\n",
    "        text=['Global Center'],\n",
    "        marker=dict(size=14, color='red', symbol='star'),\n",
    "        textposition='bottom right',\n",
    "        name='Global Center',\n",
    "        showlegend=True\n",
    "    )\n",
    "\n",
    "    fig.add_scatter(\n",
    "        x=[global_center['UMAP_1']],\n",
    "        y=[global_center['UMAP_2']],\n",
    "        mode='markers',\n",
    "        marker=dict(size=6, color='black'),\n",
    "        name='Global Center Point',\n",
    "        showlegend=False\n",
    "    )\n",
    "\n",
    "    fig.update_layout(width=1200, height=700)\n",
    "    fig.show()\n",
    "\n",
    "project_and_plot('embedding_prot_t5_xl_bfd')\n",
    "\n",
    "def project_and_get_knn_accuracy(col_name, n_neighbors=5):\n",
    "    embeddings = np.vstack(parse_embedding(col_name))\n",
    "    labels = df['p.phenotype'].fillna('<null>').values\n",
    "\n",
    "    valid_mask = (labels != '<null>') & (np.array([e.size > 0 for e in parse_embedding(col_name)]))\n",
    "    embeddings = embeddings[valid_mask]\n",
    "    labels = labels[valid_mask]\n",
    "\n",
    "    reducer = UMAP(n_components=2, random_state=42)\n",
    "    projection = reducer.fit_transform(embeddings)\n",
    "\n",
    "    knn = KNeighborsClassifier(n_neighbors=n_neighbors)\n",
    "    knn.fit(projection, labels)\n",
    "    knn_preds = knn.predict(projection)\n",
    "\n",
    "    accuracy = accuracy_score(labels, knn_preds)\n",
    "    return accuracy\n",
    "\n",
    "neighbors = [3, 5, 7, 9, 11, 13, 15, 17, 19]\n",
    "accuracy_bfd = []\n",
    "accuracy_uniref50 = []\n",
    "accuracy_esmc_600m = []\n",
    "accuracy_esmc_300m = []\n",
    "accuracy_esm2_t36 = []\n",
    "accuracy_esm2_t6 = []\n",
    "accuracy_esm2_t30 = []\n",
    "accuracy_esm2_t12 = []\n",
    "accuracy_esm2_t33 = []\n",
    "\n",
    "\n",
    "\n",
    "accuracies = {name: [] for name in embedding_columns}\n",
    "\n",
    "for k in neighbors:\n",
    "    for name in embedding_columns:\n",
    "        acc = project_and_get_knn_accuracy(name, n_neighbors=k)\n",
    "        accuracies[name].append(acc)\n",
    "\n",
    "\n",
    "for name, acc_list in accuracies.items():\n",
    "    formatted = [f\"{a * 100:.2f}%\" for a in acc_list]\n",
    "    print(f\"Accuracies for {name}:\", formatted)\n",
    "\n",
    "project_and_plot_with_knn('embedding_prot_t5_xl_bfd', n_neighbors=5)\n",
    "\n",
    "mean_accuracies = {\n",
    "    name: np.mean(acc_list) * 100 for name, acc_list in accuracies.items()\n",
    "}\n",
    "\n",
    "\n",
    "sorted_means = sorted(mean_accuracies.items(), key=lambda x: x[1], reverse=True)\n",
    "\n",
    "print(\"\\nMean Accuracies (Sorted):\")\n",
    "for name, mean in sorted_means:\n",
    "    print(f\"{name}: {mean:.2f}%\")\n",
    "\n",
    "neighborsX = [3, 5, 7, 9, 11, 13, 15, 17, 19]\n",
    "accuracyY = [66.98, 70.71, 74.60, 75.56, 77.86, 80.16, 80.24, 81.98, 82.22]\n",
    "\n",
    "df = pd.DataFrame({\n",
    "    'Number of Neighbors': neighborsX,\n",
    "    'Accuracy (%)': accuracyY\n",
    "})\n",
    "\n",
    "fig = px.line(\n",
    "    df,\n",
    "    x='Number of Neighbors',\n",
    "    y='Accuracy (%)',\n",
    "    markers=True,\n",
    "    text=df['Accuracy (%)'],\n",
    "    title='Mean Accuracy of all Models'\n",
    ")\n",
    "\n",
    "fig.update_traces(textposition='top center')\n",
    "\n",
    "fig.update_layout(\n",
    "    xaxis=dict(tickmode='array', tickvals=neighborsX),\n",
    "    yaxis=dict(range=[0, 100], dtick=10)\n",
    ")\n",
    "\n",
    "fig.show()\n",
    "\n"
   ]
  },
  {
   "cell_type": "code",
   "execution_count": null,
   "id": "3a7114fa8868ccd0",
   "metadata": {},
   "outputs": [],
   "source": []
  }
 ],
 "metadata": {
  "kernelspec": {
   "display_name": "Python 3",
   "language": "python",
   "name": "python3"
  },
  "language_info": {
   "codemirror_mode": {
    "name": "ipython",
    "version": 2
   },
   "file_extension": ".py",
   "mimetype": "text/x-python",
   "name": "python",
   "nbconvert_exporter": "python",
   "pygments_lexer": "ipython2",
   "version": "2.7.6"
  }
 },
 "nbformat": 4,
 "nbformat_minor": 5
}
