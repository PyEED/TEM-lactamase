{
 "cells": [
  {
   "cell_type": "code",
   "execution_count": null,
   "metadata": {},
   "outputs": [],
   "source": [
    "%reload_ext autoreload\n",
    "%autoreload 2\n",
    "import json\n",
    "import logging\n",
    "import pandas as pd\n",
    "from pyeed import Pyeed"
   ]
  },
  {
   "cell_type": "code",
   "execution_count": null,
   "metadata": {},
   "outputs": [],
   "source": [
    "uri = \"bolt://127.0.0.1:8123\"\n",
    "user = \"neo4j\"\n",
    "password = \"niklasniklaspwtem\"\n",
    "\n",
    "eedb = Pyeed(uri, user=user, password=password)"
   ]
  },
  {
   "cell_type": "code",
   "execution_count": null,
   "metadata": {},
   "outputs": [],
   "source": []
  },
  {
   "cell_type": "code",
   "execution_count": null,
   "metadata": {},
   "outputs": [],
   "source": [
    "import umap.umap_ as umap\n",
    "#Transform the embeddigns to a 2-dimensional vector\n",
    "amount_of_embeddings = len(embeddings)\n",
    "print(f'Transforming {amount_of_embeddings} embeddings into 2-dimensional vectors. May take a while...')\n",
    "umap_2d = umap.UMAP(n_components=2, random_state=42, n_jobs=-1)\n",
    "embeddings_2d = umap_2d.fit_transform(embeddings)\n",
    "print(f'Transformed embeddings')"
   ]
  },
  {
   "cell_type": "code",
   "execution_count": null,
   "metadata": {},
   "outputs": [],
   "source": []
  }
 ],
 "metadata": {
  "kernelspec": {
   "display_name": "pyeed_niklas",
   "language": "python",
   "name": "python3"
  },
  "language_info": {
   "name": "python",
   "version": "3.12.4"
  }
 },
 "nbformat": 4,
 "nbformat_minor": 2
}
