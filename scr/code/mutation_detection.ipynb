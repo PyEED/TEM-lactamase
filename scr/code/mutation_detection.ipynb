{
 "cells": [
  {
   "cell_type": "code",
   "execution_count": 1,
   "metadata": {},
   "outputs": [
    {
     "name": "stderr",
     "output_type": "stream",
     "text": [
      "/home/nab/anaconda3/envs/pyeed_niklas/lib/python3.12/site-packages/tqdm/auto.py:21: TqdmWarning: IProgress not found. Please update jupyter and ipywidgets. See https://ipywidgets.readthedocs.io/en/stable/user_install.html\n",
      "  from .autonotebook import tqdm as notebook_tqdm\n"
     ]
    }
   ],
   "source": [
    "%reload_ext autoreload\n",
    "%autoreload 2\n",
    "import json\n",
    "import logging\n",
    "import numpy as np\n",
    "import pandas as pd\n",
    "from pyeed import Pyeed\n",
    "import matplotlib.pyplot as plt\n",
    "\n",
    "from pyeed.analysis.ontology_loading import OntologyAdapter\n",
    "from pyeed.analysis.embedding_analysis import EmbeddingTool\n",
    "from pyeed.analysis.sequence_alignment import PairwiseAligner\n",
    "from pyeed.analysis.mutation_detection import MutationDetection"
   ]
  },
  {
   "cell_type": "code",
   "execution_count": null,
   "metadata": {},
   "outputs": [],
   "source": [
    "logging.basicConfig(level=logging.INFO, format='%(asctime)s - %(levelname)s - %(message)s')\n",
    "LOGGER = logging.getLogger(__name__)"
   ]
  },
  {
   "cell_type": "code",
   "execution_count": null,
   "metadata": {},
   "outputs": [],
   "source": [
    "et = EmbeddingTool()\n",
    "pa = PairwiseAligner()\n",
    "md = MutationDetection()"
   ]
  },
  {
   "cell_type": "code",
   "execution_count": null,
   "metadata": {},
   "outputs": [],
   "source": [
    "uri = \"bolt://127.0.0.1:1123\"\n",
    "user = \"neo4j\"\n",
    "password = \"niklasonlytems\"\n",
    "\n",
    "# Create a Pyeed object, automatically connecting to the database\n",
    "eedb = Pyeed(uri, user, password)"
   ]
  },
  {
   "cell_type": "code",
   "execution_count": null,
   "metadata": {},
   "outputs": [],
   "source": [
    "# For testing purposes, we will wipe the database and remove all constraints\n",
    "# eedb.db.wipe_database(date='2024-12-13')\n",
    "# eedb.db.remove_db_constraints(user=user, password=password)\n",
    "\n",
    "# DB connector is an attribute of the Pyeed object, type `DatabaseConnector`\n",
    "LOGGER.info(f\"Database stats: {eedb.db.stats()}\")\n",
    "\n",
    "# The first time the pyeed database is initialized, we need to create the constraints which are defined in the pyeed graph model\n",
    "eedb.db.initialize_db_constraints(user=user, password=password)"
   ]
  },
  {
   "cell_type": "code",
   "execution_count": null,
   "metadata": {},
   "outputs": [],
   "source": [
    "# read in the pandas dataframe\n",
    "df = pd.read_csv('/home/nab/Niklas/TEM-lactamase/data/002_combined_data/TEM_lactamase.csv', sep=';')\n",
    "print(df.head())"
   ]
  },
  {
   "cell_type": "code",
   "execution_count": null,
   "metadata": {},
   "outputs": [],
   "source": [
    "from pyeed.analysis.standard_numbering import StandardNumberingTool\n",
    "\n",
    "# Apply the standard numbering\n",
    "standard_numbering = StandardNumberingTool(name=\"test_standard_numbering_all\")\n",
    "standard_numbering.apply_standard_numbering(base_sequence_id='AAP20891.1', db=eedb.db, list_of_seq_ids=df['protein_id_database'].tolist())"
   ]
  },
  {
   "cell_type": "code",
   "execution_count": null,
   "metadata": {},
   "outputs": [],
   "source": [
    "# now we want to start with a mutational detection\n",
    "# a first approach is to just include the 209 TEMs and see if we can detect the mutations\n",
    "# here we find the colsest neighbor based on the standard numbering and then we can find their mutations\n",
    "# we also want to coun the number of mutations, the idendeity, the cosine distance and the euclidean distance between all of them\n",
    "# we can therefore perform a pairwise alignment between the found neighbours\n",
    "\n",
    "# we first need to find the closest neighbour to the base sequence\n",
    "n_neighbours = 40000\n",
    "\n",
    "# count the number of pairwise alignments performed\n",
    "# we want to expect 209*209 / 2 = 21801 pairwise alignments\n",
    "counter = 0\n",
    "already_processed_pairs = []\n",
    "\n",
    "# iterate over the different proteins ids in df\n",
    "for index, row in df.iterrows():\n",
    "    print(f\"Processing protein {index+1} of {len(df)} with a db id of {row['protein_id_database']}\")\n",
    "    if pd.isna(row['protein_id_database']):\n",
    "        print(f\"Skipping protein {index+1} of {len(df)} because it does not have a database id\")\n",
    "        continue\n",
    "    # get the id in the database\n",
    "    base_sequence_id = row['protein_id_database']\n",
    "\n",
    "    closest_neighbours = et.find_closest_matches_simple(start_sequence_id=base_sequence_id, db=eedb.db, n = n_neighbours)\n",
    "    # print(f\"The number of closest neighbours is: {len(closest_neighbours)}\")\n",
    "\n",
    "    # the protein itself is returned as well\n",
    "    # the list is build up of tuples with the following structure: (sequence_id, distance)\n",
    "    closest_neighbours_ids = [neighbour[0] for neighbour in closest_neighbours]\n",
    "    # print(f\"The closest neighbours ids are: {closest_neighbours_ids}\")\n",
    "\n",
    "    # for the moment we only want to look at ids which are in the TEM-209 list\n",
    "    # this list is stored in the df dataframe\n",
    "    # we can get the ids from the df dataframe by using the 'protein_id_database' column\n",
    "    # we need to make sure that the ids are in the closest_neighbours_ids list\n",
    "    # we can do this by using the intersection of the two lists\n",
    "    tem_209_ids = df['protein_id_database'].dropna().tolist()\n",
    "    # print(f\"The TEM-209 ids are: {tem_209_ids}\")\n",
    "\n",
    "    # now we can get the intersection of the two lists\n",
    "    intersection = list(set(closest_neighbours_ids) & set(tem_209_ids))\n",
    "    # print(f\"The intersection of the two lists is: {len(intersection)}\")\n",
    "\n",
    "    # we need to create all of the permutations of the neighbours with the base sequence\n",
    "    # please that the reverse direction should not be included\n",
    "    # this means that the base sequence is always the first element in the tuple and the second element is the neighbour\n",
    "    permutations = [(base_sequence_id, neighbour) for neighbour in intersection]\n",
    "    # print(f\"The permutations of the neighbours including the base sequence are: {len(permutations)}\")\n",
    "\n",
    "    # we now want to exclude the pairs that we already processed keeping in mind that we always add in the list both directions\n",
    "    permuations_to_process = [pair for pair in permutations if pair not in already_processed_pairs]\n",
    "\n",
    "    # we now update the already_processed_pairs list with the new pairs\n",
    "    # we need to add the reverse of the pair as well\n",
    "    already_processed_pairs.extend([(pair[1], pair[0]) for pair in permuations_to_process])\n",
    "    already_processed_pairs.extend(permuations_to_process)\n",
    "    \n",
    "    # now we run a pairwise alignment between the found neighbours\n",
    "    pairwise_alignment = pa.align_multipairwise(ids=intersection, db=eedb.db, pairs = permuations_to_process)\n",
    "    # print(f\"The pairwise alignment between the found neighbours and the base sequence is: {pairwise_alignment}\")\n",
    "    counter += len(permuations_to_process)\n",
    "\n",
    "    # now we detect the mutations\n",
    "    mutations = []\n",
    "    # now we can detect the mutations\n",
    "    for i in range(len(permuations_to_process)):\n",
    "        if permuations_to_process[i][0] == permuations_to_process[i][1]:\n",
    "            # print(f\"Skipping permutation {i+1} of {len(permuations_to_process)} because they are the same\")\n",
    "            continue\n",
    "\n",
    "        # print(f\"Mutation detection for permuations_to_process {i+1} of {len(permuations_to_process)} between {permuations_to_process[i][0]} and {permuations_to_process[i][1]}\")\n",
    "        result = md.get_mutations_between_sequences(sequence_id1=permuations_to_process[i][0], sequence_id2=permuations_to_process[i][1], db=eedb.db, save_to_db=True, standard_numbering_tool_name=\"test_standard_numbering\")\n",
    "        # print(f\"Number of mutations: {len(result)}\")\n",
    "\n",
    "        mutations.append(result)\n",
    "\n",
    "\n",
    "\n",
    "print(f\"The number of pairwise alignments performed is: {counter}\")\n",
    "# 48min  53 sec \n",
    "# the number was 21945\n"
   ]
  },
  {
   "cell_type": "code",
   "execution_count": null,
   "metadata": {},
   "outputs": [],
   "source": [
    "ids_tems = df['protein_id_database'].dropna().tolist()\n",
    "intersection_number_of_tems = len(ids_tems)\n",
    "print(f\"The number of TEMs is: {intersection_number_of_tems}\")"
   ]
  },
  {
   "cell_type": "code",
   "execution_count": null,
   "metadata": {},
   "outputs": [],
   "source": [
    "# now we want to analyze the mutations\n",
    "# we want to perform a mutational analysis on all of the mutations\n",
    "# we are are intrested in creating a matrix which has all of the proteins in df as rows and columns and the values are the number of mutations between the two proteins\n",
    "# from a logic standpoint this is a square matrix with 209 rows and columns the same as in the embedding_analysis.ipynb file\n",
    "distance_matrix_mutations = np.zeros((intersection_number_of_tems, intersection_number_of_tems))\n",
    "protein_ids_mutations = []\n",
    "\n",
    "# now we want to create a distance matrix for the mutations\n",
    "# a mutaion can appear between two proteins the direction is not important\n",
    "query = \"\"\"\n",
    "MATCH (p1:Protein)-[r:HAS_MUTATION]-(p2:Protein)\n",
    "WHERE p1.accession_id IN $ids AND p2.accession_id IN $ids\n",
    "RETURN p1.accession_id AS protein1, p2.accession_id AS protein2, COUNT(r) AS mutations\n",
    "\"\"\"\n",
    "\n",
    "results_mutations = eedb.db.execute_read(query, {\"ids\": ids_tems})\n",
    "print(results_mutations[:10])\n",
    "\n",
    "# now we want to create a distance matrix for the mutations\n",
    "# the distance matrix is a square matrix with 209 rows and columns\n",
    "# the values are the number of mutations between the two proteins\n",
    "# the diagonal is 0 since a protein does not mutate with itself\n",
    "for i in range(len(ids_tems)):\n",
    "    for j in range(len(ids_tems)):\n",
    "        if i == j:\n",
    "            distance_matrix_mutations[i, j] = 0\n",
    "        else:\n",
    "            distance_matrix_mutations[i, j] = next((record[\"mutations\"] for record in results_mutations if record[\"protein1\"] == ids_tems[i] and record[\"protein2\"] == ids_tems[j]), 0)\n",
    "        \n",
    "    protein_ids_mutations.append(ids_tems[i])\n",
    "\n",
    "# save the distance matrix to a numpy file\n",
    "np.save(\"/home/nab/Niklas/TEM-lactamase/data/002_combined_data/distance_matrix_mutations.npy\", distance_matrix_mutations)\n",
    "np.save(\"/home/nab/Niklas/TEM-lactamase/data/002_combined_data/protein_ids_mutations.npy\", protein_ids_mutations)"
   ]
  },
  {
   "cell_type": "code",
   "execution_count": null,
   "metadata": {},
   "outputs": [],
   "source": []
  },
  {
   "cell_type": "code",
   "execution_count": null,
   "metadata": {},
   "outputs": [],
   "source": []
  },
  {
   "cell_type": "code",
   "execution_count": null,
   "metadata": {},
   "outputs": [],
   "source": []
  },
  {
   "cell_type": "code",
   "execution_count": null,
   "metadata": {},
   "outputs": [],
   "source": []
  },
  {
   "cell_type": "code",
   "execution_count": null,
   "metadata": {},
   "outputs": [],
   "source": []
  }
 ],
 "metadata": {
  "kernelspec": {
   "display_name": "pyeed_niklas",
   "language": "python",
   "name": "python3"
  },
  "language_info": {
   "codemirror_mode": {
    "name": "ipython",
    "version": 3
   },
   "file_extension": ".py",
   "mimetype": "text/x-python",
   "name": "python",
   "nbconvert_exporter": "python",
   "pygments_lexer": "ipython3",
   "version": "3.12.4"
  }
 },
 "nbformat": 4,
 "nbformat_minor": 2
}
