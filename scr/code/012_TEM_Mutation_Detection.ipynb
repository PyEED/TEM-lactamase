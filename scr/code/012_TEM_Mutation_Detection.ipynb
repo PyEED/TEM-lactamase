{
 "cells": [
  {
   "cell_type": "code",
   "execution_count": null,
   "metadata": {},
   "outputs": [],
   "source": [
    "import logging\n",
    "import os\n",
    "\n",
    "from dotenv import load_dotenv\n",
    "from pyeed import Pyeed"
   ]
  },
  {
   "cell_type": "code",
   "execution_count": null,
   "metadata": {},
   "outputs": [],
   "source": [
    "path_to_data_blast = \"/home/nab/Niklas/TEM-lactamase/data/003_data_pull/blast_data_dna/2025-01-19_12-37-48\"\n",
    "\n",
    "\n",
    "load_dotenv()\n",
    "password = os.getenv(\"NEO4J_NIKLAS_TEM_CLEAN\")\n",
    "if password is None:\n",
    "    raise ValueError(\"KEY is not set in the .env file.\")\n",
    "\n",
    "\n",
    "logging.basicConfig(\n",
    "    level=logging.INFO, format=\"%(asctime)s - %(levelname)s - %(message)s\"\n",
    ")\n",
    "LOGGER = logging.getLogger(__name__)\n",
    "\n",
    "\n",
    "uri = \"bolt://129.69.129.130:2123\"\n",
    "user = \"neo4j\"\n",
    "eedb = Pyeed(uri, user=user, password=password)\n",
    "eedb.db.initialize_db_constraints(user, password)"
   ]
  },
  {
   "cell_type": "code",
   "execution_count": null,
   "metadata": {},
   "outputs": [],
   "source": []
  },
  {
   "cell_type": "code",
   "execution_count": null,
   "metadata": {},
   "outputs": [],
   "source": []
  },
  {
   "cell_type": "code",
   "execution_count": null,
   "metadata": {},
   "outputs": [],
   "source": []
  }
 ],
 "metadata": {
  "kernelspec": {
   "display_name": "pyeed_niklas",
   "language": "python",
   "name": "python3"
  },
  "language_info": {
   "name": "python",
   "version": "3.12.8"
  }
 },
 "nbformat": 4,
 "nbformat_minor": 2
}
