{
 "cells": [
  {
   "cell_type": "markdown",
   "id": "6fdad2e6-2cbb-41b7-b382-2a8c0e8bf4c3",
   "metadata": {},
   "source": [
    "### TEM Beta Lactamase Analysis 001"
   ]
  },
  {
   "cell_type": "markdown",
   "id": "caea51ab-f3c6-43d2-baa2-25ff00a5bba0",
   "metadata": {},
   "source": [
    "This is the general work file which will contain all the analysis of the beta lactamase."
   ]
  },
  {
   "cell_type": "code",
   "execution_count": 1,
   "id": "a1abf0e4-bce3-41f4-8045-e050643e5787",
   "metadata": {},
   "outputs": [],
   "source": [
    "%reload_ext autoreload\n",
    "%autoreload 2\n",
    "import os\n",
    "import sys\n",
    "import py4cytoscape as p4c\n",
    "from pyeed.core import ProteinInfo, Alignment\n",
    "from pyeed.aligners import PairwiseAligner\n",
    "from pyeed.network import SequenceNetwork\n",
    "import networkx as nx\n"
   ]
  },
  {
   "cell_type": "markdown",
   "id": "2cfafb4a-d895-42f8-9a91-4e11d3070853",
   "metadata": {},
   "source": [
    "##### starting point for analysis"
   ]
  },
  {
   "cell_type": "markdown",
   "id": "b4e88dd2-4af4-4f94-97ae-3618ef9d2ee7",
   "metadata": {},
   "source": [
    "The starting point for the beta lactamase will be a TEM Protein. Possibly TEM 01 but this is not certain."
   ]
  },
  {
   "cell_type": "code",
   "execution_count": 2,
   "id": "446d9324-19a4-45cd-ab0e-fc67fdc1519c",
   "metadata": {},
   "outputs": [],
   "source": [
    "starting_protein_tem = ProteinInfo.get_id(\"QGC48744.1\")\n",
    "current_path = os.path.dirname(os.getcwd())"
   ]
  },
  {
   "cell_type": "markdown",
   "id": "72f17273-bef8-489e-a4e3-4acc2c519184",
   "metadata": {},
   "source": [
    "##### simple search & save & aligment"
   ]
  },
  {
   "cell_type": "markdown",
   "id": "112b4bf3-c24b-4c09-bffd-73cd56c44041",
   "metadata": {},
   "source": [
    "Here we search with blast in NCBI database and create the aligments."
   ]
  },
  {
   "cell_type": "code",
   "execution_count": 3,
   "id": "a0c0f312",
   "metadata": {},
   "outputs": [],
   "source": [
    "n_hits = 30\n",
    "e_value = 0.05"
   ]
  },
  {
   "cell_type": "code",
   "execution_count": 22,
   "id": "075ea96a-b716-49ec-9f40-fee2ff1dd437",
   "metadata": {},
   "outputs": [
    {
     "name": "stdout",
     "output_type": "stream",
     "text": [
      "🏃🏼‍♀️ Running PBLAST\n",
      "╭── protein name: TEM family beta-lactamase\n",
      "├── accession: QGC48744.1\n",
      "├── organism: Escherichia coli\n",
      "├── e-value: 0.05\n",
      "╰── max hits: 30\n",
      "⬇️ Fetching 30 protein entries from NCBI...\n",
      "⬇️ Fetching 9 taxonomy entries from NCBI...\n",
      "🎉 Done\n",
      "\n"
     ]
    }
   ],
   "source": [
    "blast_results_starting_protein = starting_protein_tem.ncbi_blastp(n_hits=n_hits, e_value=e_value)"
   ]
  },
  {
   "cell_type": "code",
   "execution_count": 23,
   "id": "a7e1a9bd-9e68-402f-9d5d-6cb521028feb",
   "metadata": {},
   "outputs": [
    {
     "name": "stderr",
     "output_type": "stream",
     "text": [
      "/home/niklas/anaconda3/envs/pyeed/lib/python3.11/site-packages/sdRDM/base/datamodel.py:322: UserWarning: No 'URL' and 'Commit' specified. This model might not be re-usable.\n",
      "  warnings.warn(\n"
     ]
    }
   ],
   "source": [
    "# save the blast search results\n",
    "output_folder_blast_search = os.path.join(current_path, \"TEM-lactamase\", \"data\", \"data_blast_search_{}_{}_{}\".format(starting_protein_tem.source_id.replace('.', ''), n_hits, int(e_value*1000)))\n",
    "os.makedirs(output_folder_blast_search, exist_ok=True)\n",
    "for hit in blast_results_starting_protein:\n",
    "    with open(output_folder_blast_search + \"/{}.json\".format(hit.id), \"w\") as f:\n",
    "        f.write(hit.json())"
   ]
  },
  {
   "cell_type": "markdown",
   "id": "2e0b6ee6-74c4-4aee-b380-13ce7f5721af",
   "metadata": {},
   "source": [
    "##### network building & visualize"
   ]
  },
  {
   "cell_type": "code",
   "execution_count": 4,
   "id": "dbbd54ea-e14f-409c-b18a-59e95871513d",
   "metadata": {},
   "outputs": [],
   "source": [
    "%reload_ext autoreload\n",
    "%autoreload 2\n",
    "# read in the saved fetched results\n",
    "n_hits = 30\n",
    "e_value = 0.05\n",
    "name = starting_protein_tem.source_id.replace('.', '')\n",
    "read_blast_folder = os.path.join(current_path, \"TEM-lactamase\", \"data\", \"data_blast_search_{}_{}_{}\".format(name, n_hits, int(e_value*1000)))\n",
    "protein_list = []\n",
    "for file in os.listdir(read_blast_folder):\n",
    "    with open(os.path.join(read_blast_folder, file), \"r\") as f:\n",
    "        protein_list.append(ProteinInfo.from_json(f))\n"
   ]
  },
  {
   "cell_type": "code",
   "execution_count": 5,
   "id": "bd7d79a0-b87b-4547-ac42-43f91703608e",
   "metadata": {},
   "outputs": [
    {
     "name": "stderr",
     "output_type": "stream",
     "text": [
      "⛓️ Running pairwise alignments: 100%|██████████| 465/465 [00:01<00:00, 251.55it/s]\n",
      "/home/niklas/anaconda3/envs/pyeed/lib/python3.11/site-packages/sdRDM/base/datamodel.py:322: UserWarning: No 'URL' and 'Commit' specified. This model might not be re-usable.\n",
      "  warnings.warn(\n"
     ]
    }
   ],
   "source": [
    "# create pairwise aligments\n",
    "mode = \"global\"\n",
    "alignment_blast_search = Alignment.from_sequences(protein_list, aligner=PairwiseAligner, mode=mode)\n",
    "# save the pairwise alignments\n",
    "output_folder_alignments = os.path.join(current_path, \"TEM-lactamase\", \"data\", \"data_alignments_pairwise_{}_{}_{}_{}\".format(mode, starting_protein_tem.source_id.replace('.', ''), n_hits, int(e_value*1000)))\n",
    "os.makedirs(output_folder_alignments, exist_ok=True)\n",
    "for alignment in alignment_blast_search:\n",
    "    with open(output_folder_alignments + \"/{}.json\".format(alignment.id), \"w\") as f:\n",
    "        f.write(alignment.json())"
   ]
  },
  {
   "cell_type": "code",
   "execution_count": 6,
   "id": "e22fa4fe",
   "metadata": {},
   "outputs": [
    {
     "name": "stdout",
     "output_type": "stream",
     "text": [
      "{\n",
      "  \"id\": \"pairwisealignment100\",\n",
      "  \"method\": \"global\",\n",
      "  \"input_sequences\": [\n",
      "    {\n",
      "      \"id\": \"sequence3\",\n",
      "      \"source_id\": \"ANG22502.1\",\n",
      "      \"sequence\": \"MGIQRSRVALIPFFAAFCLPVFAHPETLVKVKDAEDQLGARVGYIELDLNSGKILESFRPEERFPMMSTFKVLLCGAVLSRVDAGQEQLGRRIHYSQNDLVEYSPVTEKHLTDGMTVRELCSAAITMSDNTAANLLLTTIGGPKELTAFLHNMGDHVTRLDRWEPELNEAIPNDERDTTMPAAMATTLRKLLTGELLTLASRQQLIDWMEADKVAGPLLRSALPAGWFIADKSGAGERGSRGIIAALGPDGKPSRIVVIYTTGSQATMDERNRQIAEIGASLIKHW\"\n",
      "    },\n",
      "    {\n",
      "      \"id\": \"sequence17\",\n",
      "      \"source_id\": \"ANG17639.1\",\n",
      "      \"sequence\": \"MSAQHFRVALIPFFAAFCLPVFAHPETLVKVKDAEDQLGARVGYIELDLNSGKILESFRPEERFPMMSTFKVLLCGAVLSRVDAGQEQLGRRIHYSQNDLVEYSPVTEKHLTDGMTVRELCSAAITMSDNTAANLLLTTIGGPKELTAFLHNMGDHVTRLDRWEPELNEAIPNDERDTTMPAAMATTLRKLLTGELLTLASRQQLIDWMEADKVAGPLLRSALPAGWFIADKSGAGERGSRGIIAALGPDGKPSRIVVIYTTGSQATMDERNRQIAEIGASLIKHW\"\n",
      "    }\n",
      "  ],\n",
      "  \"aligned_sequences\": [\n",
      "    {\n",
      "      \"id\": \"sequence231\",\n",
      "      \"source_id\": \"ANG22502.1\",\n",
      "      \"sequence\": \"MGIQRS----RVALIPFFAAFCLPVFAHPETLVKVKDAEDQLGARVGYIELDLNSGKILESFRPEERFPMMSTFKVLLCGAVLSRVDAGQEQLGRRIHYSQNDLVEYSPVTEKHLTDGMTVRELCSAAITMSDNTAANLLLTTIGGPKELTAFLHNMGDHVTRLDRWEPELNEAIPNDERDTTMPAAMATTLRKLLTGELLTLASRQQLIDWMEADKVAGPLLRSALPAGWFIADKSGAGERGSRGIIAALGPDGKPSRIVVIYTTGSQATMDERNRQIAEIGASLIKHW\"\n",
      "    },\n",
      "    {\n",
      "      \"id\": \"sequence232\",\n",
      "      \"source_id\": \"ANG17639.1\",\n",
      "      \"sequence\": \"M----SAQHFRVALIPFFAAFCLPVFAHPETLVKVKDAEDQLGARVGYIELDLNSGKILESFRPEERFPMMSTFKVLLCGAVLSRVDAGQEQLGRRIHYSQNDLVEYSPVTEKHLTDGMTVRELCSAAITMSDNTAANLLLTTIGGPKELTAFLHNMGDHVTRLDRWEPELNEAIPNDERDTTMPAAMATTLRKLLTGELLTLASRQQLIDWMEADKVAGPLLRSALPAGWFIADKSGAGERGSRGIIAALGPDGKPSRIVVIYTTGSQATMDERNRQIAEIGASLIKHW\"\n",
      "    }\n",
      "  ],\n",
      "  \"score\": 280.0,\n",
      "  \"identity\": 1.014388489208633,\n",
      "  \"gaps\": 8,\n",
      "  \"mismatches\": 0\n",
      "}\n"
     ]
    }
   ],
   "source": [
    "print(alignment_blast_search[100].json())"
   ]
  },
  {
   "cell_type": "code",
   "execution_count": 7,
   "id": "bad9c470",
   "metadata": {},
   "outputs": [
    {
     "name": "stdout",
     "output_type": "stream",
     "text": [
      "You are connected to Cytoscape!\n"
     ]
    },
    {
     "data": {
      "text/plain": [
       "{'apiVersion': 'v1',\n",
       " 'cytoscapeVersion': '3.10.2',\n",
       " 'automationAPIVersion': '1.9.0',\n",
       " 'py4cytoscapeVersion': '1.9.0'}"
      ]
     },
     "execution_count": 7,
     "metadata": {},
     "output_type": "execute_result"
    }
   ],
   "source": [
    "p4c.cytoscape_ping()\n",
    "p4c.cytoscape_version_info()"
   ]
  },
  {
   "cell_type": "code",
   "execution_count": null,
   "id": "dd5e5e2b",
   "metadata": {},
   "outputs": [],
   "source": []
  },
  {
   "cell_type": "code",
   "execution_count": null,
   "id": "38b43655",
   "metadata": {},
   "outputs": [],
   "source": [
    "\n"
   ]
  },
  {
   "cell_type": "code",
   "execution_count": null,
   "id": "4a4d8f30",
   "metadata": {},
   "outputs": [],
   "source": []
  },
  {
   "cell_type": "code",
   "execution_count": 17,
   "id": "e8933b88",
   "metadata": {},
   "outputs": [
    {
     "name": "stdout",
     "output_type": "stream",
     "text": [
      "['Escherichia coli', 'Enterobacteriaceae', 'synthetic construct', 'Klebsiella pneumoniae', 'Salmonella enterica', 'Enterobacter hormaechei', 'Shigella sonnei', 'Enterobacterales', 'Bacteria']\n"
     ]
    },
    {
     "data": {
      "text/plain": [
       "''"
      ]
     },
     "execution_count": 17,
     "metadata": {},
     "output_type": "execute_result"
    }
   ],
   "source": []
  },
  {
   "cell_type": "code",
   "execution_count": null,
   "id": "9b937e5a",
   "metadata": {},
   "outputs": [],
   "source": []
  },
  {
   "cell_type": "code",
   "execution_count": null,
   "id": "2dea55e5",
   "metadata": {},
   "outputs": [],
   "source": []
  },
  {
   "cell_type": "code",
   "execution_count": null,
   "id": "698022f6",
   "metadata": {},
   "outputs": [],
   "source": []
  },
  {
   "cell_type": "code",
   "execution_count": null,
   "id": "32e16b86",
   "metadata": {},
   "outputs": [],
   "source": []
  },
  {
   "cell_type": "code",
   "execution_count": null,
   "id": "95441dba",
   "metadata": {},
   "outputs": [],
   "source": []
  },
  {
   "cell_type": "code",
   "execution_count": null,
   "id": "288a7c4f",
   "metadata": {},
   "outputs": [],
   "source": []
  },
  {
   "cell_type": "code",
   "execution_count": null,
   "id": "95d0a54d",
   "metadata": {},
   "outputs": [],
   "source": []
  }
 ],
 "metadata": {
  "kernelspec": {
   "display_name": "Python 3 (ipykernel)",
   "language": "python",
   "name": "python3"
  },
  "language_info": {
   "codemirror_mode": {
    "name": "ipython",
    "version": 3
   },
   "file_extension": ".py",
   "mimetype": "text/x-python",
   "name": "python",
   "nbconvert_exporter": "python",
   "pygments_lexer": "ipython3",
   "version": "3.11.8"
  }
 },
 "nbformat": 4,
 "nbformat_minor": 5
}
