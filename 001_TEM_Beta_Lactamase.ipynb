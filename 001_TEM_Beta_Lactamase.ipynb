{
 "cells": [
  {
   "cell_type": "markdown",
   "id": "6fdad2e6-2cbb-41b7-b382-2a8c0e8bf4c3",
   "metadata": {},
   "source": [
    "### TEM Beta Lactamase Analysis 001"
   ]
  },
  {
   "cell_type": "markdown",
   "id": "caea51ab-f3c6-43d2-baa2-25ff00a5bba0",
   "metadata": {},
   "source": [
    "This is the general work file which will contain all the analysis of the beta lactamase."
   ]
  },
  {
   "cell_type": "code",
   "execution_count": 1,
   "id": "a1abf0e4-bce3-41f4-8045-e050643e5787",
   "metadata": {},
   "outputs": [],
   "source": [
    "%reload_ext autoreload\n",
    "%autoreload 2\n",
    "import os\n",
    "import sys\n",
    "import py4cytoscape as p4c\n",
    "from pyeed.core import ProteinInfo, Alignment\n",
    "from pyeed.aligners import PairwiseAligner\n",
    "from pyeed.network import SequenceNetwork\n",
    "import networkx as nx\n"
   ]
  },
  {
   "cell_type": "markdown",
   "id": "2cfafb4a-d895-42f8-9a91-4e11d3070853",
   "metadata": {},
   "source": [
    "##### starting point for analysis"
   ]
  },
  {
   "cell_type": "markdown",
   "id": "b4e88dd2-4af4-4f94-97ae-3618ef9d2ee7",
   "metadata": {},
   "source": [
    "The starting point for the beta lactamase will be a TEM Protein. Possibly TEM 01 but this is not certain."
   ]
  },
  {
   "cell_type": "code",
   "execution_count": 2,
   "id": "446d9324-19a4-45cd-ab0e-fc67fdc1519c",
   "metadata": {},
   "outputs": [],
   "source": [
    "starting_protein_tem = ProteinInfo.get_id(\"QGC48744.1\")\n",
    "\n",
    "starting_protein_tem_1_1 = ProteinInfo.get_id(\"QGC48744.1\")\n",
    "starting_protein_tem_1_2 = ProteinInfo.get_id(\"QDG00224.1\")\n",
    "starting_protein_tem_33 = ProteinInfo.get_id(\"QWY17510.1\")\n",
    "starting_protein_tem_109 = ProteinInfo.get_id(\"AAT46413.1\")\n",
    "\n",
    "current_path = os.path.dirname(os.getcwd())"
   ]
  },
  {
   "cell_type": "markdown",
   "id": "72f17273-bef8-489e-a4e3-4acc2c519184",
   "metadata": {},
   "source": [
    "##### simple search & save & aligment"
   ]
  },
  {
   "cell_type": "markdown",
   "id": "112b4bf3-c24b-4c09-bffd-73cd56c44041",
   "metadata": {},
   "source": [
    "Here we search with blast in NCBI database and create the aligments."
   ]
  },
  {
   "cell_type": "code",
   "execution_count": 3,
   "id": "a0c0f312",
   "metadata": {},
   "outputs": [],
   "source": [
    "n_hits = 200\n",
    "e_value = 0.05"
   ]
  },
  {
   "cell_type": "code",
   "execution_count": 4,
   "id": "075ea96a-b716-49ec-9f40-fee2ff1dd437",
   "metadata": {},
   "outputs": [
    {
     "name": "stdout",
     "output_type": "stream",
     "text": [
      "🏃🏼‍♀️ Running PBLAST\n",
      "╭── protein name: TEM family beta-lactamase\n",
      "├── accession: QGC48744.1\n",
      "├── organism: Escherichia coli\n",
      "├── e-value: 0.05\n",
      "╰── max hits: 200\n",
      "⬇️ Fetching 200 protein entries from NCBI...\n"
     ]
    },
    {
     "name": "stderr",
     "output_type": "stream",
     "text": [
      "Attempt 1 of 3 failed: Error fetching data from NCBI: IncompleteRead(0 bytes read)\n"
     ]
    },
    {
     "name": "stdout",
     "output_type": "stream",
     "text": [
      "Attempt 1 of 3 failed: Error fetching data from NCBI: IncompleteRead(0 bytes read)\n"
     ]
    },
    {
     "ename": "KeyboardInterrupt",
     "evalue": "",
     "output_type": "error",
     "traceback": [
      "\u001b[0;31m---------------------------------------------------------------------------\u001b[0m",
      "\u001b[0;31mTypeError\u001b[0m                                 Traceback (most recent call last)",
      "File \u001b[0;32m~/anaconda3/envs/pyeed/lib/python3.11/site-packages/Bio/File.py:72\u001b[0m, in \u001b[0;36mas_handle\u001b[0;34m(handleish, mode, **kwargs)\u001b[0m\n\u001b[1;32m     71\u001b[0m \u001b[38;5;28;01mtry\u001b[39;00m:\n\u001b[0;32m---> 72\u001b[0m     \u001b[38;5;28;01mwith\u001b[39;00m \u001b[38;5;28;43mopen\u001b[39;49m\u001b[43m(\u001b[49m\u001b[43mhandleish\u001b[49m\u001b[43m,\u001b[49m\u001b[43m \u001b[49m\u001b[43mmode\u001b[49m\u001b[43m,\u001b[49m\u001b[43m \u001b[49m\u001b[38;5;241;43m*\u001b[39;49m\u001b[38;5;241;43m*\u001b[39;49m\u001b[43mkwargs\u001b[49m\u001b[43m)\u001b[49m \u001b[38;5;28;01mas\u001b[39;00m fp:\n\u001b[1;32m     73\u001b[0m         \u001b[38;5;28;01myield\u001b[39;00m fp\n",
      "\u001b[0;31mTypeError\u001b[0m: expected str, bytes or os.PathLike object, not TextIOWrapper",
      "\nDuring handling of the above exception, another exception occurred:\n",
      "\u001b[0;31mKeyboardInterrupt\u001b[0m                         Traceback (most recent call last)",
      "Cell \u001b[0;32mIn[4], line 2\u001b[0m\n\u001b[1;32m      1\u001b[0m \u001b[38;5;66;03m# blast_results_starting_protein_1 = starting_protein_tem.ncbi_blastp(n_hits=n_hits, e_value=e_value)\u001b[39;00m\n\u001b[0;32m----> 2\u001b[0m blast_results_starting_protein_1_1 \u001b[38;5;241m=\u001b[39m \u001b[43mstarting_protein_tem_1_1\u001b[49m\u001b[38;5;241;43m.\u001b[39;49m\u001b[43mncbi_blastp\u001b[49m\u001b[43m(\u001b[49m\u001b[43mn_hits\u001b[49m\u001b[38;5;241;43m=\u001b[39;49m\u001b[43mn_hits\u001b[49m\u001b[43m,\u001b[49m\u001b[43m \u001b[49m\u001b[43me_value\u001b[49m\u001b[38;5;241;43m=\u001b[39;49m\u001b[43me_value\u001b[49m\u001b[43m)\u001b[49m\n\u001b[1;32m      3\u001b[0m blast_results_starting_protein_1_2 \u001b[38;5;241m=\u001b[39m starting_protein_tem_1_2\u001b[38;5;241m.\u001b[39mncbi_blastp(n_hits\u001b[38;5;241m=\u001b[39mn_hits, e_value\u001b[38;5;241m=\u001b[39me_value)\n\u001b[1;32m      4\u001b[0m blast_results_starting_protein_33 \u001b[38;5;241m=\u001b[39m starting_protein_tem_33\u001b[38;5;241m.\u001b[39mncbi_blastp(n_hits\u001b[38;5;241m=\u001b[39mn_hits, e_value\u001b[38;5;241m=\u001b[39me_value)\n",
      "File \u001b[0;32m~/Desktop/Job_Niklas/pyeed/pyeed/core/proteininfo.py:236\u001b[0m, in \u001b[0;36mProteinInfo.ncbi_blastp\u001b[0;34m(self, n_hits, e_value, api_key, **kwargs)\u001b[0m\n\u001b[1;32m    230\u001b[0m blast_record \u001b[38;5;241m=\u001b[39m NCBIXML\u001b[38;5;241m.\u001b[39mread(result_handle)\n\u001b[1;32m    232\u001b[0m accessions \u001b[38;5;241m=\u001b[39m \u001b[38;5;28mself\u001b[39m\u001b[38;5;241m.\u001b[39m_get_accessions(blast_record)\n\u001b[1;32m    234\u001b[0m protein_infos \u001b[38;5;241m=\u001b[39m \u001b[43mNCBIProteinFetcher\u001b[49m\u001b[43m(\u001b[49m\n\u001b[1;32m    235\u001b[0m \u001b[43m    \u001b[49m\u001b[43mforeign_id\u001b[49m\u001b[38;5;241;43m=\u001b[39;49m\u001b[43maccessions\u001b[49m\u001b[43m,\u001b[49m\u001b[43m \u001b[49m\u001b[43mapi_key\u001b[49m\u001b[38;5;241;43m=\u001b[39;49m\u001b[43mapi_key\u001b[49m\n\u001b[0;32m--> 236\u001b[0m \u001b[43m\u001b[49m\u001b[43m)\u001b[49m\u001b[38;5;241;43m.\u001b[39;49m\u001b[43mfetch\u001b[49m\u001b[43m(\u001b[49m\u001b[43mProteinInfo\u001b[49m\u001b[43m)\u001b[49m\n\u001b[1;32m    237\u001b[0m protein_infos\u001b[38;5;241m.\u001b[39minsert(\u001b[38;5;241m0\u001b[39m, \u001b[38;5;28mself\u001b[39m)\n\u001b[1;32m    239\u001b[0m \u001b[38;5;28mprint\u001b[39m(\u001b[38;5;124m\"\u001b[39m\u001b[38;5;124m🎉 Done\u001b[39m\u001b[38;5;130;01m\\n\u001b[39;00m\u001b[38;5;124m\"\u001b[39m)\n",
      "File \u001b[0;32m~/Desktop/Job_Niklas/pyeed/pyeed/fetchers/ncbiprotein.py:117\u001b[0m, in \u001b[0;36mNCBIProteinFetcher.fetch\u001b[0;34m(self, cls)\u001b[0m\n\u001b[1;32m    112\u001b[0m \u001b[38;5;28;01mdef\u001b[39;00m \u001b[38;5;21mfetch\u001b[39m(\u001b[38;5;28mself\u001b[39m, \u001b[38;5;28mcls\u001b[39m: \u001b[38;5;124m\"\u001b[39m\u001b[38;5;124mProteinInfo\u001b[39m\u001b[38;5;124m\"\u001b[39m) \u001b[38;5;241m-\u001b[39m\u001b[38;5;241m>\u001b[39m List[ProteinInfo]:\n\u001b[1;32m    113\u001b[0m \u001b[38;5;250m    \u001b[39m\u001b[38;5;124;03m\"\"\"\u001b[39;00m\n\u001b[1;32m    114\u001b[0m \u001b[38;5;124;03m    Fetches protein data from NCBI and returns a list of instances of the 'ProteinInfo' class.\u001b[39;00m\n\u001b[1;32m    115\u001b[0m \u001b[38;5;124;03m    \"\"\"\u001b[39;00m\n\u001b[0;32m--> 117\u001b[0m     seq_records \u001b[38;5;241m=\u001b[39m \u001b[38;5;28;43mself\u001b[39;49m\u001b[38;5;241;43m.\u001b[39;49m\u001b[43mget\u001b[49m\u001b[43m(\u001b[49m\u001b[43m)\u001b[49m\n\u001b[1;32m    118\u001b[0m     protein_infos \u001b[38;5;241m=\u001b[39m \u001b[38;5;28mself\u001b[39m\u001b[38;5;241m.\u001b[39mmap(seq_records, \u001b[38;5;28mcls\u001b[39m)\n\u001b[1;32m    120\u001b[0m     unique_tax_ids \u001b[38;5;241m=\u001b[39m \u001b[38;5;28mset\u001b[39m([info\u001b[38;5;241m.\u001b[39morganism\u001b[38;5;241m.\u001b[39mtaxonomy_id \u001b[38;5;28;01mfor\u001b[39;00m info \u001b[38;5;129;01min\u001b[39;00m protein_infos])\n",
      "File \u001b[0;32m~/Desktop/Job_Niklas/pyeed/pyeed/fetchers/ncbiprotein.py:46\u001b[0m, in \u001b[0;36mNCBIProteinFetcher.get\u001b[0;34m(self)\u001b[0m\n\u001b[1;32m     34\u001b[0m \u001b[38;5;28;01mdef\u001b[39;00m \u001b[38;5;21mget\u001b[39m(\u001b[38;5;28mself\u001b[39m) \u001b[38;5;241m-\u001b[39m\u001b[38;5;241m>\u001b[39m List[SeqRecord]:\n\u001b[1;32m     35\u001b[0m \u001b[38;5;250m    \u001b[39m\u001b[38;5;124;03m\"\"\"\u001b[39;00m\n\u001b[1;32m     36\u001b[0m \u001b[38;5;124;03m    Fetches protein data from NCBI and returns a list of dictionaries of the results.\u001b[39;00m\n\u001b[1;32m     37\u001b[0m \u001b[38;5;124;03m    \"\"\"\u001b[39;00m\n\u001b[1;32m     39\u001b[0m     \u001b[38;5;28;01mreturn\u001b[39;00m \u001b[43mNCBIRequester\u001b[49m\u001b[43m(\u001b[49m\n\u001b[1;32m     40\u001b[0m \u001b[43m        \u001b[49m\u001b[43mforeign_id\u001b[49m\u001b[38;5;241;43m=\u001b[39;49m\u001b[38;5;28;43mself\u001b[39;49m\u001b[38;5;241;43m.\u001b[39;49m\u001b[43mforeign_id\u001b[49m\u001b[43m,\u001b[49m\n\u001b[1;32m     41\u001b[0m \u001b[43m        \u001b[49m\u001b[43memail\u001b[49m\u001b[38;5;241;43m=\u001b[39;49m\u001b[38;5;28;43mself\u001b[39;49m\u001b[38;5;241;43m.\u001b[39;49m\u001b[43memail\u001b[49m\u001b[43m,\u001b[49m\n\u001b[1;32m     42\u001b[0m \u001b[43m        \u001b[49m\u001b[43mdb\u001b[49m\u001b[38;5;241;43m=\u001b[39;49m\u001b[38;5;124;43m\"\u001b[39;49m\u001b[38;5;124;43mprotein\u001b[39;49m\u001b[38;5;124;43m\"\u001b[39;49m\u001b[43m,\u001b[49m\n\u001b[1;32m     43\u001b[0m \u001b[43m        \u001b[49m\u001b[43mapi_key\u001b[49m\u001b[38;5;241;43m=\u001b[39;49m\u001b[38;5;28;43mself\u001b[39;49m\u001b[38;5;241;43m.\u001b[39;49m\u001b[43mapi_key\u001b[49m\u001b[43m,\u001b[49m\n\u001b[1;32m     44\u001b[0m \u001b[43m        \u001b[49m\u001b[43mretmode\u001b[49m\u001b[38;5;241;43m=\u001b[39;49m\u001b[38;5;124;43m\"\u001b[39;49m\u001b[38;5;124;43mtext\u001b[39;49m\u001b[38;5;124;43m\"\u001b[39;49m\u001b[43m,\u001b[49m\n\u001b[1;32m     45\u001b[0m \u001b[43m        \u001b[49m\u001b[43mrettype\u001b[49m\u001b[38;5;241;43m=\u001b[39;49m\u001b[38;5;124;43m\"\u001b[39;49m\u001b[38;5;124;43mgenbank\u001b[39;49m\u001b[38;5;124;43m\"\u001b[39;49m\u001b[43m,\u001b[49m\n\u001b[0;32m---> 46\u001b[0m \u001b[43m    \u001b[49m\u001b[43m)\u001b[49m\u001b[38;5;241;43m.\u001b[39;49m\u001b[43mmake_request\u001b[49m\u001b[43m(\u001b[49m\u001b[43m)\u001b[49m\n",
      "File \u001b[0;32m~/Desktop/Job_Niklas/pyeed/pyeed/fetchers/entrezrequester.py:59\u001b[0m, in \u001b[0;36mNCBIRequester.make_request\u001b[0;34m(self)\u001b[0m\n\u001b[1;32m     55\u001b[0m     \u001b[38;5;28mprint\u001b[39m(\u001b[38;5;124mf\u001b[39m\u001b[38;5;124m\"\u001b[39m\u001b[38;5;124m⬇️ Fetching \u001b[39m\u001b[38;5;132;01m{\u001b[39;00m\u001b[38;5;28mlen\u001b[39m(\u001b[38;5;28mself\u001b[39m\u001b[38;5;241m.\u001b[39mforeign_id)\u001b[38;5;132;01m}\u001b[39;00m\u001b[38;5;124m \u001b[39m\u001b[38;5;132;01m{\u001b[39;00m\u001b[38;5;28mself\u001b[39m\u001b[38;5;241m.\u001b[39mdb\u001b[38;5;132;01m}\u001b[39;00m\u001b[38;5;124m entries from NCBI...\u001b[39m\u001b[38;5;124m\"\u001b[39m)\n\u001b[1;32m     57\u001b[0m     \u001b[38;5;28;01mfor\u001b[39;00m chunk \u001b[38;5;129;01min\u001b[39;00m \u001b[38;5;28mself\u001b[39m\u001b[38;5;241m.\u001b[39mmake_chunks(\u001b[38;5;28mself\u001b[39m\u001b[38;5;241m.\u001b[39mforeign_id, \u001b[38;5;28mself\u001b[39m\u001b[38;5;241m.\u001b[39mchunk_size):\n\u001b[1;32m     58\u001b[0m         sequence_results\u001b[38;5;241m.\u001b[39mextend(\n\u001b[0;32m---> 59\u001b[0m             \u001b[38;5;28;43mself\u001b[39;49m\u001b[38;5;241;43m.\u001b[39;49m\u001b[43mfetch\u001b[49m\u001b[43m(\u001b[49m\u001b[38;5;28;43mself\u001b[39;49m\u001b[38;5;241;43m.\u001b[39;49m\u001b[43m_construct_request_string\u001b[49m\u001b[43m(\u001b[49m\u001b[43mchunk\u001b[49m\u001b[43m)\u001b[49m\u001b[43m)\u001b[49m\n\u001b[1;32m     60\u001b[0m         )\n\u001b[1;32m     62\u001b[0m     \u001b[38;5;28;01mreturn\u001b[39;00m sequence_results\n\u001b[1;32m     64\u001b[0m \u001b[38;5;28;01melse\u001b[39;00m:\n",
      "File \u001b[0;32m~/Desktop/Job_Niklas/pyeed/pyeed/fetchers/entrezrequester.py:87\u001b[0m, in \u001b[0;36mNCBIRequester.fetch\u001b[0;34m(self, request_string, attempts, delay)\u001b[0m\n\u001b[1;32m     85\u001b[0m \u001b[38;5;28;01mif\u001b[39;00m \u001b[38;5;28mself\u001b[39m\u001b[38;5;241m.\u001b[39mrettype \u001b[38;5;241m==\u001b[39m \u001b[38;5;124m\"\u001b[39m\u001b[38;5;124mgenbank\u001b[39m\u001b[38;5;124m\"\u001b[39m:\n\u001b[1;32m     86\u001b[0m     results \u001b[38;5;241m=\u001b[39m []\n\u001b[0;32m---> 87\u001b[0m \u001b[43m    \u001b[49m\u001b[38;5;28;43;01mfor\u001b[39;49;00m\u001b[43m \u001b[49m\u001b[43mrecord\u001b[49m\u001b[43m \u001b[49m\u001b[38;5;129;43;01min\u001b[39;49;00m\u001b[43m \u001b[49m\u001b[43mSeqIO\u001b[49m\u001b[38;5;241;43m.\u001b[39;49m\u001b[43mparse\u001b[49m\u001b[43m(\u001b[49m\u001b[43mhandle\u001b[49m\u001b[43m,\u001b[49m\u001b[43m \u001b[49m\u001b[38;5;124;43m\"\u001b[39;49m\u001b[38;5;124;43mgenbank\u001b[39;49m\u001b[38;5;124;43m\"\u001b[39;49m\u001b[43m)\u001b[49m\u001b[43m:\u001b[49m\n\u001b[1;32m     88\u001b[0m \u001b[43m        \u001b[49m\u001b[43mresults\u001b[49m\u001b[38;5;241;43m.\u001b[39;49m\u001b[43mappend\u001b[49m\u001b[43m(\u001b[49m\u001b[43mrecord\u001b[49m\u001b[43m)\u001b[49m\n\u001b[1;32m     89\u001b[0m     \u001b[38;5;28;01mreturn\u001b[39;00m results\n",
      "File \u001b[0;32m~/anaconda3/envs/pyeed/lib/python3.11/site-packages/Bio/SeqIO/Interfaces.py:85\u001b[0m, in \u001b[0;36mSequenceIterator.__next__\u001b[0;34m(self)\u001b[0m\n\u001b[1;32m     83\u001b[0m \u001b[38;5;250m\u001b[39m\u001b[38;5;124;03m\"\"\"Return the next entry.\"\"\"\u001b[39;00m\n\u001b[1;32m     84\u001b[0m \u001b[38;5;28;01mtry\u001b[39;00m:\n\u001b[0;32m---> 85\u001b[0m     \u001b[38;5;28;01mreturn\u001b[39;00m \u001b[38;5;28mnext\u001b[39m(\u001b[38;5;28mself\u001b[39m\u001b[38;5;241m.\u001b[39mrecords)\n\u001b[1;32m     86\u001b[0m \u001b[38;5;28;01mexcept\u001b[39;00m \u001b[38;5;167;01mException\u001b[39;00m:\n\u001b[1;32m     87\u001b[0m     \u001b[38;5;28;01mif\u001b[39;00m \u001b[38;5;28mself\u001b[39m\u001b[38;5;241m.\u001b[39mshould_close_stream:\n",
      "File \u001b[0;32m~/anaconda3/envs/pyeed/lib/python3.11/site-packages/Bio/GenBank/Scanner.py:515\u001b[0m, in \u001b[0;36mInsdcScanner.parse_records\u001b[0;34m(self, handle, do_features)\u001b[0m\n\u001b[1;32m    513\u001b[0m \u001b[38;5;28;01mwith\u001b[39;00m as_handle(handle) \u001b[38;5;28;01mas\u001b[39;00m handle:\n\u001b[1;32m    514\u001b[0m     \u001b[38;5;28;01mwhile\u001b[39;00m \u001b[38;5;28;01mTrue\u001b[39;00m:\n\u001b[0;32m--> 515\u001b[0m         record \u001b[38;5;241m=\u001b[39m \u001b[38;5;28;43mself\u001b[39;49m\u001b[38;5;241;43m.\u001b[39;49m\u001b[43mparse\u001b[49m\u001b[43m(\u001b[49m\u001b[43mhandle\u001b[49m\u001b[43m,\u001b[49m\u001b[43m \u001b[49m\u001b[43mdo_features\u001b[49m\u001b[43m)\u001b[49m\n\u001b[1;32m    516\u001b[0m         \u001b[38;5;28;01mif\u001b[39;00m record \u001b[38;5;129;01mis\u001b[39;00m \u001b[38;5;28;01mNone\u001b[39;00m:\n\u001b[1;32m    517\u001b[0m             \u001b[38;5;28;01mbreak\u001b[39;00m\n",
      "File \u001b[0;32m~/anaconda3/envs/pyeed/lib/python3.11/site-packages/Bio/GenBank/Scanner.py:498\u001b[0m, in \u001b[0;36mInsdcScanner.parse\u001b[0;34m(self, handle, do_features)\u001b[0m\n\u001b[1;32m    492\u001b[0m \u001b[38;5;28;01mfrom\u001b[39;00m \u001b[38;5;21;01mBio\u001b[39;00m\u001b[38;5;21;01m.\u001b[39;00m\u001b[38;5;21;01mGenBank\u001b[39;00m\u001b[38;5;21;01m.\u001b[39;00m\u001b[38;5;21;01mutils\u001b[39;00m \u001b[38;5;28;01mimport\u001b[39;00m FeatureValueCleaner\n\u001b[1;32m    494\u001b[0m consumer \u001b[38;5;241m=\u001b[39m _FeatureConsumer(\n\u001b[1;32m    495\u001b[0m     use_fuzziness\u001b[38;5;241m=\u001b[39m\u001b[38;5;241m1\u001b[39m, feature_cleaner\u001b[38;5;241m=\u001b[39mFeatureValueCleaner()\n\u001b[1;32m    496\u001b[0m )\n\u001b[0;32m--> 498\u001b[0m \u001b[38;5;28;01mif\u001b[39;00m \u001b[38;5;28;43mself\u001b[39;49m\u001b[38;5;241;43m.\u001b[39;49m\u001b[43mfeed\u001b[49m\u001b[43m(\u001b[49m\u001b[43mhandle\u001b[49m\u001b[43m,\u001b[49m\u001b[43m \u001b[49m\u001b[43mconsumer\u001b[49m\u001b[43m,\u001b[49m\u001b[43m \u001b[49m\u001b[43mdo_features\u001b[49m\u001b[43m)\u001b[49m:\n\u001b[1;32m    499\u001b[0m     \u001b[38;5;28;01mreturn\u001b[39;00m consumer\u001b[38;5;241m.\u001b[39mdata\n\u001b[1;32m    500\u001b[0m \u001b[38;5;28;01melse\u001b[39;00m:\n",
      "File \u001b[0;32m~/anaconda3/envs/pyeed/lib/python3.11/site-packages/Bio/GenBank/Scanner.py:465\u001b[0m, in \u001b[0;36mInsdcScanner.feed\u001b[0;34m(self, handle, consumer, do_features)\u001b[0m\n\u001b[1;32m    459\u001b[0m \u001b[38;5;66;03m# We use the above class methods to parse the file into a simplified format.\u001b[39;00m\n\u001b[1;32m    460\u001b[0m \u001b[38;5;66;03m# The first line, header lines and any misc lines after the features will be\u001b[39;00m\n\u001b[1;32m    461\u001b[0m \u001b[38;5;66;03m# dealt with by GenBank / EMBL specific derived classes.\u001b[39;00m\n\u001b[1;32m    462\u001b[0m \n\u001b[1;32m    463\u001b[0m \u001b[38;5;66;03m# First line and header:\u001b[39;00m\n\u001b[1;32m    464\u001b[0m \u001b[38;5;28mself\u001b[39m\u001b[38;5;241m.\u001b[39m_feed_first_line(consumer, \u001b[38;5;28mself\u001b[39m\u001b[38;5;241m.\u001b[39mline)\n\u001b[0;32m--> 465\u001b[0m \u001b[38;5;28mself\u001b[39m\u001b[38;5;241m.\u001b[39m_feed_header_lines(consumer, \u001b[38;5;28;43mself\u001b[39;49m\u001b[38;5;241;43m.\u001b[39;49m\u001b[43mparse_header\u001b[49m\u001b[43m(\u001b[49m\u001b[43m)\u001b[49m)\n\u001b[1;32m    467\u001b[0m \u001b[38;5;66;03m# Features (common to both EMBL and GenBank):\u001b[39;00m\n\u001b[1;32m    468\u001b[0m \u001b[38;5;28;01mif\u001b[39;00m do_features:\n",
      "File \u001b[0;32m~/anaconda3/envs/pyeed/lib/python3.11/site-packages/Bio/GenBank/Scanner.py:128\u001b[0m, in \u001b[0;36mInsdcScanner.parse_header\u001b[0;34m(self)\u001b[0m\n\u001b[1;32m    126\u001b[0m header_lines \u001b[38;5;241m=\u001b[39m []\n\u001b[1;32m    127\u001b[0m \u001b[38;5;28;01mwhile\u001b[39;00m \u001b[38;5;28;01mTrue\u001b[39;00m:\n\u001b[0;32m--> 128\u001b[0m     line \u001b[38;5;241m=\u001b[39m \u001b[38;5;28mself\u001b[39m\u001b[38;5;241m.\u001b[39mhandle\u001b[38;5;241m.\u001b[39mreadline()\n\u001b[1;32m    129\u001b[0m     \u001b[38;5;28;01mif\u001b[39;00m \u001b[38;5;129;01mnot\u001b[39;00m line:\n\u001b[1;32m    130\u001b[0m         \u001b[38;5;28;01mraise\u001b[39;00m \u001b[38;5;167;01mValueError\u001b[39;00m(\u001b[38;5;124m\"\u001b[39m\u001b[38;5;124mPremature end of line during sequence data\u001b[39m\u001b[38;5;124m\"\u001b[39m)\n",
      "File \u001b[0;32m~/anaconda3/envs/pyeed/lib/python3.11/http/client.py:658\u001b[0m, in \u001b[0;36mHTTPResponse.read1\u001b[0;34m(self, n)\u001b[0m\n\u001b[1;32m    656\u001b[0m     \u001b[38;5;28;01mreturn\u001b[39;00m \u001b[38;5;124mb\u001b[39m\u001b[38;5;124m\"\u001b[39m\u001b[38;5;124m\"\u001b[39m\n\u001b[1;32m    657\u001b[0m \u001b[38;5;28;01mif\u001b[39;00m \u001b[38;5;28mself\u001b[39m\u001b[38;5;241m.\u001b[39mchunked:\n\u001b[0;32m--> 658\u001b[0m     \u001b[38;5;28;01mreturn\u001b[39;00m \u001b[38;5;28;43mself\u001b[39;49m\u001b[38;5;241;43m.\u001b[39;49m\u001b[43m_read1_chunked\u001b[49m\u001b[43m(\u001b[49m\u001b[43mn\u001b[49m\u001b[43m)\u001b[49m\n\u001b[1;32m    659\u001b[0m \u001b[38;5;28;01mif\u001b[39;00m \u001b[38;5;28mself\u001b[39m\u001b[38;5;241m.\u001b[39mlength \u001b[38;5;129;01mis\u001b[39;00m \u001b[38;5;129;01mnot\u001b[39;00m \u001b[38;5;28;01mNone\u001b[39;00m \u001b[38;5;129;01mand\u001b[39;00m (n \u001b[38;5;241m<\u001b[39m \u001b[38;5;241m0\u001b[39m \u001b[38;5;129;01mor\u001b[39;00m n \u001b[38;5;241m>\u001b[39m \u001b[38;5;28mself\u001b[39m\u001b[38;5;241m.\u001b[39mlength):\n\u001b[1;32m    660\u001b[0m     n \u001b[38;5;241m=\u001b[39m \u001b[38;5;28mself\u001b[39m\u001b[38;5;241m.\u001b[39mlength\n",
      "File \u001b[0;32m~/anaconda3/envs/pyeed/lib/python3.11/http/client.py:699\u001b[0m, in \u001b[0;36mHTTPResponse._read1_chunked\u001b[0;34m(self, n)\u001b[0m\n\u001b[1;32m    696\u001b[0m \u001b[38;5;28;01mdef\u001b[39;00m \u001b[38;5;21m_read1_chunked\u001b[39m(\u001b[38;5;28mself\u001b[39m, n):\n\u001b[1;32m    697\u001b[0m     \u001b[38;5;66;03m# Strictly speaking, _get_chunk_left() may cause more than one read,\u001b[39;00m\n\u001b[1;32m    698\u001b[0m     \u001b[38;5;66;03m# but that is ok, since that is to satisfy the chunked protocol.\u001b[39;00m\n\u001b[0;32m--> 699\u001b[0m     chunk_left \u001b[38;5;241m=\u001b[39m \u001b[38;5;28;43mself\u001b[39;49m\u001b[38;5;241;43m.\u001b[39;49m\u001b[43m_get_chunk_left\u001b[49m\u001b[43m(\u001b[49m\u001b[43m)\u001b[49m\n\u001b[1;32m    700\u001b[0m     \u001b[38;5;28;01mif\u001b[39;00m chunk_left \u001b[38;5;129;01mis\u001b[39;00m \u001b[38;5;28;01mNone\u001b[39;00m \u001b[38;5;129;01mor\u001b[39;00m n \u001b[38;5;241m==\u001b[39m \u001b[38;5;241m0\u001b[39m:\n\u001b[1;32m    701\u001b[0m         \u001b[38;5;28;01mreturn\u001b[39;00m \u001b[38;5;124mb\u001b[39m\u001b[38;5;124m'\u001b[39m\u001b[38;5;124m'\u001b[39m\n",
      "File \u001b[0;32m~/anaconda3/envs/pyeed/lib/python3.11/http/client.py:573\u001b[0m, in \u001b[0;36mHTTPResponse._get_chunk_left\u001b[0;34m(self)\u001b[0m\n\u001b[1;32m    571\u001b[0m     \u001b[38;5;28mself\u001b[39m\u001b[38;5;241m.\u001b[39m_safe_read(\u001b[38;5;241m2\u001b[39m)  \u001b[38;5;66;03m# toss the CRLF at the end of the chunk\u001b[39;00m\n\u001b[1;32m    572\u001b[0m \u001b[38;5;28;01mtry\u001b[39;00m:\n\u001b[0;32m--> 573\u001b[0m     chunk_left \u001b[38;5;241m=\u001b[39m \u001b[38;5;28;43mself\u001b[39;49m\u001b[38;5;241;43m.\u001b[39;49m\u001b[43m_read_next_chunk_size\u001b[49m\u001b[43m(\u001b[49m\u001b[43m)\u001b[49m\n\u001b[1;32m    574\u001b[0m \u001b[38;5;28;01mexcept\u001b[39;00m \u001b[38;5;167;01mValueError\u001b[39;00m:\n\u001b[1;32m    575\u001b[0m     \u001b[38;5;28;01mraise\u001b[39;00m IncompleteRead(\u001b[38;5;124mb\u001b[39m\u001b[38;5;124m'\u001b[39m\u001b[38;5;124m'\u001b[39m)\n",
      "File \u001b[0;32m~/anaconda3/envs/pyeed/lib/python3.11/http/client.py:533\u001b[0m, in \u001b[0;36mHTTPResponse._read_next_chunk_size\u001b[0;34m(self)\u001b[0m\n\u001b[1;32m    531\u001b[0m \u001b[38;5;28;01mdef\u001b[39;00m \u001b[38;5;21m_read_next_chunk_size\u001b[39m(\u001b[38;5;28mself\u001b[39m):\n\u001b[1;32m    532\u001b[0m     \u001b[38;5;66;03m# Read the next chunk size from the file\u001b[39;00m\n\u001b[0;32m--> 533\u001b[0m     line \u001b[38;5;241m=\u001b[39m \u001b[38;5;28mself\u001b[39m\u001b[38;5;241m.\u001b[39mfp\u001b[38;5;241m.\u001b[39mreadline(_MAXLINE \u001b[38;5;241m+\u001b[39m \u001b[38;5;241m1\u001b[39m)\n\u001b[1;32m    534\u001b[0m     \u001b[38;5;28;01mif\u001b[39;00m \u001b[38;5;28mlen\u001b[39m(line) \u001b[38;5;241m>\u001b[39m _MAXLINE:\n\u001b[1;32m    535\u001b[0m         \u001b[38;5;28;01mraise\u001b[39;00m LineTooLong(\u001b[38;5;124m\"\u001b[39m\u001b[38;5;124mchunk size\u001b[39m\u001b[38;5;124m\"\u001b[39m)\n",
      "File \u001b[0;32m~/anaconda3/envs/pyeed/lib/python3.11/socket.py:706\u001b[0m, in \u001b[0;36mSocketIO.readinto\u001b[0;34m(self, b)\u001b[0m\n\u001b[1;32m    704\u001b[0m \u001b[38;5;28;01mwhile\u001b[39;00m \u001b[38;5;28;01mTrue\u001b[39;00m:\n\u001b[1;32m    705\u001b[0m     \u001b[38;5;28;01mtry\u001b[39;00m:\n\u001b[0;32m--> 706\u001b[0m         \u001b[38;5;28;01mreturn\u001b[39;00m \u001b[38;5;28;43mself\u001b[39;49m\u001b[38;5;241;43m.\u001b[39;49m\u001b[43m_sock\u001b[49m\u001b[38;5;241;43m.\u001b[39;49m\u001b[43mrecv_into\u001b[49m\u001b[43m(\u001b[49m\u001b[43mb\u001b[49m\u001b[43m)\u001b[49m\n\u001b[1;32m    707\u001b[0m     \u001b[38;5;28;01mexcept\u001b[39;00m timeout:\n\u001b[1;32m    708\u001b[0m         \u001b[38;5;28mself\u001b[39m\u001b[38;5;241m.\u001b[39m_timeout_occurred \u001b[38;5;241m=\u001b[39m \u001b[38;5;28;01mTrue\u001b[39;00m\n",
      "File \u001b[0;32m~/anaconda3/envs/pyeed/lib/python3.11/ssl.py:1314\u001b[0m, in \u001b[0;36mSSLSocket.recv_into\u001b[0;34m(self, buffer, nbytes, flags)\u001b[0m\n\u001b[1;32m   1310\u001b[0m     \u001b[38;5;28;01mif\u001b[39;00m flags \u001b[38;5;241m!=\u001b[39m \u001b[38;5;241m0\u001b[39m:\n\u001b[1;32m   1311\u001b[0m         \u001b[38;5;28;01mraise\u001b[39;00m \u001b[38;5;167;01mValueError\u001b[39;00m(\n\u001b[1;32m   1312\u001b[0m           \u001b[38;5;124m\"\u001b[39m\u001b[38;5;124mnon-zero flags not allowed in calls to recv_into() on \u001b[39m\u001b[38;5;132;01m%s\u001b[39;00m\u001b[38;5;124m\"\u001b[39m \u001b[38;5;241m%\u001b[39m\n\u001b[1;32m   1313\u001b[0m           \u001b[38;5;28mself\u001b[39m\u001b[38;5;241m.\u001b[39m\u001b[38;5;18m__class__\u001b[39m)\n\u001b[0;32m-> 1314\u001b[0m     \u001b[38;5;28;01mreturn\u001b[39;00m \u001b[38;5;28;43mself\u001b[39;49m\u001b[38;5;241;43m.\u001b[39;49m\u001b[43mread\u001b[49m\u001b[43m(\u001b[49m\u001b[43mnbytes\u001b[49m\u001b[43m,\u001b[49m\u001b[43m \u001b[49m\u001b[43mbuffer\u001b[49m\u001b[43m)\u001b[49m\n\u001b[1;32m   1315\u001b[0m \u001b[38;5;28;01melse\u001b[39;00m:\n\u001b[1;32m   1316\u001b[0m     \u001b[38;5;28;01mreturn\u001b[39;00m \u001b[38;5;28msuper\u001b[39m()\u001b[38;5;241m.\u001b[39mrecv_into(buffer, nbytes, flags)\n",
      "File \u001b[0;32m~/anaconda3/envs/pyeed/lib/python3.11/ssl.py:1166\u001b[0m, in \u001b[0;36mSSLSocket.read\u001b[0;34m(self, len, buffer)\u001b[0m\n\u001b[1;32m   1164\u001b[0m \u001b[38;5;28;01mtry\u001b[39;00m:\n\u001b[1;32m   1165\u001b[0m     \u001b[38;5;28;01mif\u001b[39;00m buffer \u001b[38;5;129;01mis\u001b[39;00m \u001b[38;5;129;01mnot\u001b[39;00m \u001b[38;5;28;01mNone\u001b[39;00m:\n\u001b[0;32m-> 1166\u001b[0m         \u001b[38;5;28;01mreturn\u001b[39;00m \u001b[38;5;28;43mself\u001b[39;49m\u001b[38;5;241;43m.\u001b[39;49m\u001b[43m_sslobj\u001b[49m\u001b[38;5;241;43m.\u001b[39;49m\u001b[43mread\u001b[49m\u001b[43m(\u001b[49m\u001b[38;5;28;43mlen\u001b[39;49m\u001b[43m,\u001b[49m\u001b[43m \u001b[49m\u001b[43mbuffer\u001b[49m\u001b[43m)\u001b[49m\n\u001b[1;32m   1167\u001b[0m     \u001b[38;5;28;01melse\u001b[39;00m:\n\u001b[1;32m   1168\u001b[0m         \u001b[38;5;28;01mreturn\u001b[39;00m \u001b[38;5;28mself\u001b[39m\u001b[38;5;241m.\u001b[39m_sslobj\u001b[38;5;241m.\u001b[39mread(\u001b[38;5;28mlen\u001b[39m)\n",
      "\u001b[0;31mKeyboardInterrupt\u001b[0m: "
     ]
    }
   ],
   "source": [
    "# blast_results_starting_protein_1 = starting_protein_tem.ncbi_blastp(n_hits=n_hits, e_value=e_value)\n",
    "blast_results_starting_protein_1_1 = starting_protein_tem_1_1.ncbi_blastp(n_hits=n_hits, e_value=e_value)\n",
    "blast_results_starting_protein_1_2 = starting_protein_tem_1_2.ncbi_blastp(n_hits=n_hits, e_value=e_value)\n",
    "blast_results_starting_protein_33 = starting_protein_tem_33.ncbi_blastp(n_hits=n_hits, e_value=e_value)\n",
    "blast_results_starting_protein_109 = starting_protein_tem_109.ncbi_blastp(n_hits=n_hits, e_value=e_value)\n",
    "\n",
    "blast_results_starting_protein_1_1.append(blast_results_starting_protein_1_2)\n",
    "blast_results_starting_protein_1_1.append(blast_results_starting_protein_33)\n",
    "blast_results_starting_protein_1_1.append(blast_results_starting_protein_109)\n",
    "\n",
    "blast_results_starting_protein = blast_results_starting_protein_1_1"
   ]
  },
  {
   "cell_type": "code",
   "execution_count": null,
   "id": "a7e1a9bd-9e68-402f-9d5d-6cb521028feb",
   "metadata": {},
   "outputs": [
    {
     "name": "stderr",
     "output_type": "stream",
     "text": [
      "/home/niklas/anaconda3/envs/pyeed/lib/python3.11/site-packages/sdRDM/base/datamodel.py:322: UserWarning: No 'URL' and 'Commit' specified. This model might not be re-usable.\n",
      "  warnings.warn(\n"
     ]
    }
   ],
   "source": [
    "# save the blast search results\n",
    "output_folder_blast_search = os.path.join(current_path, \"TEM-lactamase\", \"data\", \"data_blast_search_big_{}_{}_{}\".format(starting_protein_tem.source_id.replace('.', ''), n_hits, int(e_value*1000)))\n",
    "os.makedirs(output_folder_blast_search, exist_ok=True)\n",
    "for hit in blast_results_starting_protein:\n",
    "    with open(output_folder_blast_search + \"/{}.json\".format(hit.id), \"w\") as f:\n",
    "        f.write(hit.json())"
   ]
  },
  {
   "cell_type": "markdown",
   "id": "2e0b6ee6-74c4-4aee-b380-13ce7f5721af",
   "metadata": {},
   "source": [
    "##### network building & visualize"
   ]
  },
  {
   "cell_type": "code",
   "execution_count": 7,
   "id": "dbbd54ea-e14f-409c-b18a-59e95871513d",
   "metadata": {},
   "outputs": [],
   "source": [
    "%reload_ext autoreload\n",
    "%autoreload 2\n",
    "# read in the saved fetched results\n",
    "n_hits = 30\n",
    "e_value = 0.05\n",
    "name = starting_protein_tem.source_id.replace('.', '')\n",
    "read_blast_folder = os.path.join(current_path, \"TEM-lactamase\", \"data\", \"data_blast_search_{}_{}_{}\".format(name, n_hits, int(e_value*1000)))\n",
    "protein_list = []\n",
    "for file in os.listdir(read_blast_folder):\n",
    "    with open(os.path.join(read_blast_folder, file), \"r\") as f:\n",
    "        protein_list.append(ProteinInfo.from_json(f))\n"
   ]
  },
  {
   "cell_type": "code",
   "execution_count": 8,
   "id": "bd7d79a0-b87b-4547-ac42-43f91703608e",
   "metadata": {},
   "outputs": [
    {
     "name": "stderr",
     "output_type": "stream",
     "text": [
      "⛓️ Running pairwise alignments:   0%|          | 0/465 [00:00<?, ?it/s]"
     ]
    },
    {
     "name": "stderr",
     "output_type": "stream",
     "text": [
      "⛓️ Running pairwise alignments: 100%|██████████| 465/465 [00:03<00:00, 126.23it/s]\n"
     ]
    }
   ],
   "source": [
    "# create pairwise aligments\n",
    "mode = \"global\"\n",
    "alignment_blast_search = Alignment.from_sequences(protein_list, aligner=PairwiseAligner, mode=mode)\n",
    "# save the pairwise alignments\n",
    "output_folder_alignments = os.path.join(current_path, \"TEM-lactamase\", \"data\", \"data_alignments_pairwise_{}_{}_{}_{}\".format(mode, starting_protein_tem.source_id.replace('.', ''), n_hits, int(e_value*1000)))\n",
    "os.makedirs(output_folder_alignments, exist_ok=True)\n",
    "for alignment in alignment_blast_search:\n",
    "    with open(output_folder_alignments + \"/{}.json\".format(alignment.id), \"w\") as f:\n",
    "        f.write(alignment.json())"
   ]
  },
  {
   "cell_type": "code",
   "execution_count": 9,
   "id": "e22fa4fe",
   "metadata": {},
   "outputs": [
    {
     "name": "stdout",
     "output_type": "stream",
     "text": [
      "{\n",
      "  \"id\": \"pairwisealignment100\",\n",
      "  \"method\": \"global\",\n",
      "  \"input_sequences\": [\n",
      "    {\n",
      "      \"id\": \"sequence3\",\n",
      "      \"source_id\": \"ANG22502.1\",\n",
      "      \"sequence\": \"MGIQRSRVALIPFFAAFCLPVFAHPETLVKVKDAEDQLGARVGYIELDLNSGKILESFRPEERFPMMSTFKVLLCGAVLSRVDAGQEQLGRRIHYSQNDLVEYSPVTEKHLTDGMTVRELCSAAITMSDNTAANLLLTTIGGPKELTAFLHNMGDHVTRLDRWEPELNEAIPNDERDTTMPAAMATTLRKLLTGELLTLASRQQLIDWMEADKVAGPLLRSALPAGWFIADKSGAGERGSRGIIAALGPDGKPSRIVVIYTTGSQATMDERNRQIAEIGASLIKHW\"\n",
      "    },\n",
      "    {\n",
      "      \"id\": \"sequence17\",\n",
      "      \"source_id\": \"ANG17639.1\",\n",
      "      \"sequence\": \"MSAQHFRVALIPFFAAFCLPVFAHPETLVKVKDAEDQLGARVGYIELDLNSGKILESFRPEERFPMMSTFKVLLCGAVLSRVDAGQEQLGRRIHYSQNDLVEYSPVTEKHLTDGMTVRELCSAAITMSDNTAANLLLTTIGGPKELTAFLHNMGDHVTRLDRWEPELNEAIPNDERDTTMPAAMATTLRKLLTGELLTLASRQQLIDWMEADKVAGPLLRSALPAGWFIADKSGAGERGSRGIIAALGPDGKPSRIVVIYTTGSQATMDERNRQIAEIGASLIKHW\"\n",
      "    }\n",
      "  ],\n",
      "  \"aligned_sequences\": [\n",
      "    {\n",
      "      \"id\": \"sequence231\",\n",
      "      \"source_id\": \"ANG22502.1\",\n",
      "      \"sequence\": \"MGIQRS----RVALIPFFAAFCLPVFAHPETLVKVKDAEDQLGARVGYIELDLNSGKILESFRPEERFPMMSTFKVLLCGAVLSRVDAGQEQLGRRIHYSQNDLVEYSPVTEKHLTDGMTVRELCSAAITMSDNTAANLLLTTIGGPKELTAFLHNMGDHVTRLDRWEPELNEAIPNDERDTTMPAAMATTLRKLLTGELLTLASRQQLIDWMEADKVAGPLLRSALPAGWFIADKSGAGERGSRGIIAALGPDGKPSRIVVIYTTGSQATMDERNRQIAEIGASLIKHW\"\n",
      "    },\n",
      "    {\n",
      "      \"id\": \"sequence232\",\n",
      "      \"source_id\": \"ANG17639.1\",\n",
      "      \"sequence\": \"M----SAQHFRVALIPFFAAFCLPVFAHPETLVKVKDAEDQLGARVGYIELDLNSGKILESFRPEERFPMMSTFKVLLCGAVLSRVDAGQEQLGRRIHYSQNDLVEYSPVTEKHLTDGMTVRELCSAAITMSDNTAANLLLTTIGGPKELTAFLHNMGDHVTRLDRWEPELNEAIPNDERDTTMPAAMATTLRKLLTGELLTLASRQQLIDWMEADKVAGPLLRSALPAGWFIADKSGAGERGSRGIIAALGPDGKPSRIVVIYTTGSQATMDERNRQIAEIGASLIKHW\"\n",
      "    }\n",
      "  ],\n",
      "  \"score\": 280.0,\n",
      "  \"identity\": 1.014388489208633,\n",
      "  \"gaps\": 8,\n",
      "  \"mismatches\": 0\n",
      "}\n"
     ]
    }
   ],
   "source": [
    "print(alignment_blast_search[100].json())"
   ]
  },
  {
   "cell_type": "code",
   "execution_count": 7,
   "id": "bad9c470",
   "metadata": {},
   "outputs": [
    {
     "name": "stdout",
     "output_type": "stream",
     "text": [
      "You are connected to Cytoscape!\n"
     ]
    },
    {
     "data": {
      "text/plain": [
       "{'apiVersion': 'v1',\n",
       " 'cytoscapeVersion': '3.10.2',\n",
       " 'automationAPIVersion': '1.9.0',\n",
       " 'py4cytoscapeVersion': '1.9.0'}"
      ]
     },
     "execution_count": 7,
     "metadata": {},
     "output_type": "execute_result"
    }
   ],
   "source": [
    "p4c.cytoscape_ping()\n",
    "p4c.cytoscape_version_info()"
   ]
  },
  {
   "cell_type": "code",
   "execution_count": null,
   "id": "dd5e5e2b",
   "metadata": {},
   "outputs": [],
   "source": []
  },
  {
   "cell_type": "code",
   "execution_count": null,
   "id": "38b43655",
   "metadata": {},
   "outputs": [],
   "source": [
    "\n"
   ]
  },
  {
   "cell_type": "code",
   "execution_count": null,
   "id": "4a4d8f30",
   "metadata": {},
   "outputs": [],
   "source": []
  },
  {
   "cell_type": "code",
   "execution_count": null,
   "id": "e8933b88",
   "metadata": {},
   "outputs": [],
   "source": []
  },
  {
   "cell_type": "code",
   "execution_count": null,
   "id": "9b937e5a",
   "metadata": {},
   "outputs": [],
   "source": []
  },
  {
   "cell_type": "code",
   "execution_count": null,
   "id": "2dea55e5",
   "metadata": {},
   "outputs": [],
   "source": []
  },
  {
   "cell_type": "code",
   "execution_count": null,
   "id": "698022f6",
   "metadata": {},
   "outputs": [],
   "source": []
  },
  {
   "cell_type": "code",
   "execution_count": null,
   "id": "32e16b86",
   "metadata": {},
   "outputs": [],
   "source": []
  },
  {
   "cell_type": "code",
   "execution_count": null,
   "id": "95441dba",
   "metadata": {},
   "outputs": [],
   "source": []
  },
  {
   "cell_type": "code",
   "execution_count": null,
   "id": "288a7c4f",
   "metadata": {},
   "outputs": [],
   "source": []
  },
  {
   "cell_type": "code",
   "execution_count": null,
   "id": "95d0a54d",
   "metadata": {},
   "outputs": [],
   "source": []
  }
 ],
 "metadata": {
  "kernelspec": {
   "display_name": "Python 3 (ipykernel)",
   "language": "python",
   "name": "python3"
  },
  "language_info": {
   "codemirror_mode": {
    "name": "ipython",
    "version": 3
   },
   "file_extension": ".py",
   "mimetype": "text/x-python",
   "name": "python",
   "nbconvert_exporter": "python",
   "pygments_lexer": "ipython3",
   "version": "3.11.8"
  }
 },
 "nbformat": 4,
 "nbformat_minor": 5
}
