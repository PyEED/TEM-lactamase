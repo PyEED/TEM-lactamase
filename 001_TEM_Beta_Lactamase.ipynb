{
 "cells": [
  {
   "cell_type": "markdown",
   "id": "6fdad2e6-2cbb-41b7-b382-2a8c0e8bf4c3",
   "metadata": {},
   "source": [
    "### TEM Beta Lactamase Analysis 001"
   ]
  },
  {
   "cell_type": "markdown",
   "id": "caea51ab-f3c6-43d2-baa2-25ff00a5bba0",
   "metadata": {},
   "source": [
    "This is the general work file which will contain all the analysis of the beta lactamase."
   ]
  },
  {
   "cell_type": "code",
   "execution_count": 1,
   "id": "a1abf0e4-bce3-41f4-8045-e050643e5787",
   "metadata": {},
   "outputs": [],
   "source": [
    "%reload_ext autoreload\n",
    "%autoreload 2\n",
    "import os\n",
    "import sys\n",
    "from pyeed.core import ProteinInfo, Alignment\n",
    "from pyeed.aligners import PairwiseAligner"
   ]
  },
  {
   "cell_type": "markdown",
   "id": "2cfafb4a-d895-42f8-9a91-4e11d3070853",
   "metadata": {},
   "source": [
    "##### starting point for analysis"
   ]
  },
  {
   "cell_type": "markdown",
   "id": "b4e88dd2-4af4-4f94-97ae-3618ef9d2ee7",
   "metadata": {},
   "source": [
    "The starting point for the beta lactamase will be a TEM Protein. Possibly TEM 01 but this is not certain."
   ]
  },
  {
   "cell_type": "code",
   "execution_count": 2,
   "id": "446d9324-19a4-45cd-ab0e-fc67fdc1519c",
   "metadata": {},
   "outputs": [],
   "source": [
    "starting_protein_tem = ProteinInfo.get_id(\"QGC48744.1\")"
   ]
  },
  {
   "cell_type": "markdown",
   "id": "72f17273-bef8-489e-a4e3-4acc2c519184",
   "metadata": {},
   "source": [
    "##### simple search & save & aligment"
   ]
  },
  {
   "cell_type": "markdown",
   "id": "112b4bf3-c24b-4c09-bffd-73cd56c44041",
   "metadata": {},
   "source": [
    "Here we search with blast in NCBI database and create the aligments."
   ]
  },
  {
   "cell_type": "code",
   "execution_count": 11,
   "id": "a0c0f312",
   "metadata": {},
   "outputs": [],
   "source": [
    "n_hits = 10\n",
    "e_value = 0.05"
   ]
  },
  {
   "cell_type": "code",
   "execution_count": 3,
   "id": "075ea96a-b716-49ec-9f40-fee2ff1dd437",
   "metadata": {},
   "outputs": [
    {
     "name": "stdout",
     "output_type": "stream",
     "text": [
      "🏃🏼‍♀️ Running PBLAST\n",
      "╭── protein name: TEM family beta-lactamase\n",
      "├── accession: QGC48744.1\n",
      "├── organism: Escherichia coli\n",
      "├── e-value: 0.05\n",
      "╰── max hits: 10\n",
      "⬇️ Fetching 10 protein entries from NCBI...\n",
      "⬇️ Fetching 6 taxonomy entries from NCBI...\n",
      "🎉 Done\n",
      "\n"
     ]
    }
   ],
   "source": [
    "blast_results_starting_protein = starting_protein_tem.ncbi_blastp(n_hits=n_hits, e_value=e_value)"
   ]
  },
  {
   "cell_type": "code",
   "execution_count": 25,
   "id": "a7e1a9bd-9e68-402f-9d5d-6cb521028feb",
   "metadata": {},
   "outputs": [],
   "source": [
    "# save the blast search results\n",
    "current_path = os.path.dirname(os.getcwd())\n",
    "output_folder_blast_search = os.path.join(current_path, \"TEM-lactamase\", \"data\", \"data_blast_search_{}_{}_{}\".format(starting_protein_tem.source_id.replace('.', ''), n_hits, int(e_value*1000)))\n",
    "os.makedirs(output_folder_blast_search, exist_ok=True)\n",
    "for hit in blast_results_starting_protein:\n",
    "    with open(output_folder_blast_search + \"/{}.yaml\".format(hit.id), \"w\") as f:\n",
    "        f.write(hit.yaml())"
   ]
  },
  {
   "cell_type": "code",
   "execution_count": 26,
   "id": "e026f1e3-a1c4-455d-ad40-3978cd088a46",
   "metadata": {},
   "outputs": [
    {
     "name": "stderr",
     "output_type": "stream",
     "text": [
      "⛓️ Running pairwise alignments: 100%|██████████| 55/55 [00:00<00:00, 2829.44it/s]\n"
     ]
    }
   ],
   "source": [
    "# create pairwise aligments\n",
    "mode = \"global\"\n",
    "alignment_blast_search = Alignment.from_sequences(blast_results_starting_protein, aligner=PairwiseAligner, mode=mode)\n",
    "# save the pairwise alignments\n",
    "output_folder_alignments = os.path.join(current_path, \"TEM-lactamase\", \"data\", \"data_alignments_pairwise_{}_{}_{}_{}\".format(mode, starting_protein_tem.source_id.replace('.', ''), n_hits, int(e_value*1000)))\n",
    "os.makedirs(output_folder_alignments, exist_ok=True)\n",
    "for alignment in alignment_blast_search:\n",
    "    with open(output_folder_alignments + \"/{}.yaml\".format(alignment.id), \"w\") as f:\n",
    "        f.write(alignment.yaml())"
   ]
  },
  {
   "cell_type": "markdown",
   "id": "2e0b6ee6-74c4-4aee-b380-13ce7f5721af",
   "metadata": {},
   "source": [
    "##### network building & visualize"
   ]
  },
  {
   "cell_type": "code",
   "execution_count": 40,
   "id": "dbbd54ea-e14f-409c-b18a-59e95871513d",
   "metadata": {},
   "outputs": [
    {
     "ename": "ValidationError",
     "evalue": "1 validation error for Alignment\ninput_sequences\n  Invalid sequence type. Sequences must be of type AbstractSequence or Sequence (type=value_error)",
     "output_type": "error",
     "traceback": [
      "\u001b[0;31m---------------------------------------------------------------------------\u001b[0m",
      "\u001b[0;31mValidationError\u001b[0m                           Traceback (most recent call last)",
      "Cell \u001b[0;32mIn[40], line 12\u001b[0m\n\u001b[1;32m     10\u001b[0m \u001b[38;5;28;01mfor\u001b[39;00m file \u001b[38;5;129;01min\u001b[39;00m os\u001b[38;5;241m.\u001b[39mlistdir(read_alignment_folder):\n\u001b[1;32m     11\u001b[0m     \u001b[38;5;28;01mwith\u001b[39;00m \u001b[38;5;28mopen\u001b[39m(os\u001b[38;5;241m.\u001b[39mpath\u001b[38;5;241m.\u001b[39mjoin(read_alignment_folder, file), \u001b[38;5;124m\"\u001b[39m\u001b[38;5;124mr\u001b[39m\u001b[38;5;124m\"\u001b[39m) \u001b[38;5;28;01mas\u001b[39;00m f:\n\u001b[0;32m---> 12\u001b[0m         alignment_list\u001b[38;5;241m.\u001b[39mappend(\u001b[43mAlignment\u001b[49m\u001b[38;5;241;43m.\u001b[39;49m\u001b[43mfrom_yaml\u001b[49m\u001b[43m(\u001b[49m\u001b[43mf\u001b[49m\u001b[38;5;241;43m.\u001b[39;49m\u001b[43mread\u001b[49m\u001b[43m(\u001b[49m\u001b[43m)\u001b[49m\u001b[43m)\u001b[49m)\n",
      "File \u001b[0;32m~/anaconda3/envs/pyeed/lib/python3.11/site-packages/sdRDM/base/datamodel.py:522\u001b[0m, in \u001b[0;36mDataModel.from_yaml\u001b[0;34m(cls, handler)\u001b[0m\n\u001b[1;32m    520\u001b[0m \u001b[38;5;129m@classmethod\u001b[39m\n\u001b[1;32m    521\u001b[0m \u001b[38;5;28;01mdef\u001b[39;00m \u001b[38;5;21mfrom_yaml\u001b[39m(\u001b[38;5;28mcls\u001b[39m, handler: IO):\n\u001b[0;32m--> 522\u001b[0m     \u001b[38;5;28;01mreturn\u001b[39;00m \u001b[38;5;28;43mcls\u001b[39;49m\u001b[38;5;241;43m.\u001b[39;49m\u001b[43mfrom_dict\u001b[49m\u001b[43m(\u001b[49m\u001b[43myaml\u001b[49m\u001b[38;5;241;43m.\u001b[39;49m\u001b[43msafe_load\u001b[49m\u001b[43m(\u001b[49m\u001b[43mhandler\u001b[49m\u001b[43m)\u001b[49m\u001b[43m)\u001b[49m\n",
      "File \u001b[0;32m~/anaconda3/envs/pyeed/lib/python3.11/site-packages/sdRDM/base/datamodel.py:506\u001b[0m, in \u001b[0;36mDataModel.from_dict\u001b[0;34m(cls, obj)\u001b[0m\n\u001b[1;32m    504\u001b[0m \u001b[38;5;129m@classmethod\u001b[39m\n\u001b[1;32m    505\u001b[0m \u001b[38;5;28;01mdef\u001b[39;00m \u001b[38;5;21mfrom_dict\u001b[39m(\u001b[38;5;28mcls\u001b[39m, obj: Dict):\n\u001b[0;32m--> 506\u001b[0m     \u001b[38;5;28;01mreturn\u001b[39;00m \u001b[38;5;28;43mcls\u001b[39;49m\u001b[38;5;241;43m.\u001b[39;49m\u001b[43mparse_obj\u001b[49m\u001b[43m(\u001b[49m\u001b[43mobj\u001b[49m\u001b[43m)\u001b[49m\n",
      "File \u001b[0;32m~/anaconda3/envs/pyeed/lib/python3.11/site-packages/pydantic/main.py:526\u001b[0m, in \u001b[0;36mpydantic.main.BaseModel.parse_obj\u001b[0;34m()\u001b[0m\n",
      "File \u001b[0;32m~/anaconda3/envs/pyeed/lib/python3.11/site-packages/sdRDM/base/datamodel.py:84\u001b[0m, in \u001b[0;36mDataModel.__init__\u001b[0;34m(self, **data)\u001b[0m\n\u001b[1;32m     83\u001b[0m \u001b[38;5;28;01mdef\u001b[39;00m \u001b[38;5;21m__init__\u001b[39m(\u001b[38;5;28mself\u001b[39m, \u001b[38;5;241m*\u001b[39m\u001b[38;5;241m*\u001b[39mdata):\n\u001b[0;32m---> 84\u001b[0m     \u001b[38;5;28;43msuper\u001b[39;49m\u001b[43m(\u001b[49m\u001b[43m)\u001b[49m\u001b[38;5;241;43m.\u001b[39;49m\u001b[38;5;21;43m__init__\u001b[39;49m\u001b[43m(\u001b[49m\u001b[38;5;241;43m*\u001b[39;49m\u001b[38;5;241;43m*\u001b[39;49m\u001b[43mdata\u001b[49m\u001b[43m)\u001b[49m\n\u001b[1;32m     85\u001b[0m     \u001b[38;5;28mself\u001b[39m\u001b[38;5;241m.\u001b[39m_initialize_references()\n\u001b[1;32m     87\u001b[0m     \u001b[38;5;28;01mfor\u001b[39;00m name, value \u001b[38;5;129;01min\u001b[39;00m data\u001b[38;5;241m.\u001b[39mitems():\n",
      "File \u001b[0;32m~/anaconda3/envs/pyeed/lib/python3.11/site-packages/pydantic/main.py:342\u001b[0m, in \u001b[0;36mpydantic.main.BaseModel.__init__\u001b[0;34m()\u001b[0m\n",
      "\u001b[0;31mValidationError\u001b[0m: 1 validation error for Alignment\ninput_sequences\n  Invalid sequence type. Sequences must be of type AbstractSequence or Sequence (type=value_error)"
     ]
    }
   ],
   "source": [
    "%reload_ext autoreload\n",
    "%autoreload 2\n",
    "# read in the saved aligments results\n",
    "n_hits = 10\n",
    "e_value = 0.05\n",
    "mode = 'global'\n",
    "name = starting_protein_tem.source_id.replace('.', '')\n",
    "read_alignment_folder = os.path.join(current_path, \"TEM-lactamase\", \"data\", \"data_alignments_pairwise_{}_{}_{}_{}\".format(mode, name, n_hits, int(e_value*1000)))\n",
    "alignment_list = []\n",
    "for file in os.listdir(read_alignment_folder):\n",
    "    with open(os.path.join(read_alignment_folder, file), \"r\") as f:\n",
    "        alignment_list.append(Alignment.from_yaml(f.read()))"
   ]
  },
  {
   "cell_type": "code",
   "execution_count": null,
   "id": "bd7d79a0-b87b-4547-ac42-43f91703608e",
   "metadata": {},
   "outputs": [],
   "source": []
  }
 ],
 "metadata": {
  "kernelspec": {
   "display_name": "Python 3 (ipykernel)",
   "language": "python",
   "name": "python3"
  },
  "language_info": {
   "codemirror_mode": {
    "name": "ipython",
    "version": 3
   },
   "file_extension": ".py",
   "mimetype": "text/x-python",
   "name": "python",
   "nbconvert_exporter": "python",
   "pygments_lexer": "ipython3",
   "version": "3.11.8"
  }
 },
 "nbformat": 4,
 "nbformat_minor": 5
}
