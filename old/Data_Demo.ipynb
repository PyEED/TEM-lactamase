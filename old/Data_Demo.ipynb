{
 "cells": [
  {
   "cell_type": "code",
   "execution_count": 13,
   "metadata": {},
   "outputs": [],
   "source": [
    "%reload_ext autoreload\n",
    "%autoreload 2\n",
    "import os\n",
    "import sys\n",
    "import time\n",
    "import json\n",
    "import networkx as nx\n",
    "import py4cytoscape as p4c\n",
    "import matplotlib.pyplot as plt\n",
    "from pyeed.core import ProteinRecord\n",
    "from pyeed.network import SequenceNetwork"
   ]
  },
  {
   "cell_type": "code",
   "execution_count": 14,
   "metadata": {},
   "outputs": [
    {
     "data": {
      "application/vnd.jupyter.widget-view+json": {
       "model_id": "0749d49a31a44d98971f29bc51cb0d6d",
       "version_major": 2,
       "version_minor": 0
      },
      "text/plain": [
       "Output()"
      ]
     },
     "metadata": {},
     "output_type": "display_data"
    },
    {
     "data": {
      "text/html": [
       "<pre style=\"white-space:pre;overflow-x:auto;line-height:normal;font-family:Menlo,'DejaVu Sans Mono',consolas,'Courier New',monospace\"></pre>\n"
      ],
      "text/plain": []
     },
     "metadata": {},
     "output_type": "display_data"
    },
    {
     "data": {
      "text/html": [
       "<pre style=\"white-space:pre;overflow-x:auto;line-height:normal;font-family:Menlo,'DejaVu Sans Mono',consolas,'Courier New',monospace\">\n",
       "</pre>\n"
      ],
      "text/plain": [
       "\n"
      ]
     },
     "metadata": {},
     "output_type": "display_data"
    }
   ],
   "source": [
    "# load ids\n",
    "with open('ids.json', 'r') as f:\n",
    "    ids = json.load(f)\n",
    "\n",
    "# load sequences\n",
    "sequences = ProteinRecord.get_ids(ids[:100])"
   ]
  },
  {
   "cell_type": "code",
   "execution_count": 15,
   "metadata": {},
   "outputs": [
    {
     "name": "stdout",
     "output_type": "stream",
     "text": [
      "100\n"
     ]
    }
   ],
   "source": [
    "print(len(sequences))\n",
    "# save sequences"
   ]
  },
  {
   "cell_type": "code",
   "execution_count": 16,
   "metadata": {},
   "outputs": [
    {
     "data": {
      "application/vnd.jupyter.widget-view+json": {
       "model_id": "85325cd754f74241ab7fd28143293c86",
       "version_major": 2,
       "version_minor": 0
      },
      "text/plain": [
       "Output()"
      ]
     },
     "metadata": {},
     "output_type": "display_data"
    },
    {
     "data": {
      "text/html": [
       "<pre style=\"white-space:pre;overflow-x:auto;line-height:normal;font-family:Menlo,'DejaVu Sans Mono',consolas,'Courier New',monospace\"></pre>\n"
      ],
      "text/plain": []
     },
     "metadata": {},
     "output_type": "display_data"
    },
    {
     "data": {
      "text/html": [
       "<pre style=\"white-space:pre;overflow-x:auto;line-height:normal;font-family:Menlo,'DejaVu Sans Mono',consolas,'Courier New',monospace\">\n",
       "</pre>\n"
      ],
      "text/plain": [
       "\n"
      ]
     },
     "metadata": {},
     "output_type": "display_data"
    }
   ],
   "source": [
    "graph = SequenceNetwork(sequences)"
   ]
  },
  {
   "cell_type": "code",
   "execution_count": 17,
   "metadata": {},
   "outputs": [],
   "source": [
    "data = graph.model_dump_json()\n",
    "with open('data.json', 'w') as f:\n",
    "    json.dump(data, f)"
   ]
  },
  {
   "cell_type": "code",
   "execution_count": 18,
   "metadata": {},
   "outputs": [],
   "source": [
    "from pydantic_core import from_json\n",
    "from pydantic.tools import parse_obj_as\n",
    "\n",
    "# with open('data.json', 'r') as f:\n",
    "#     data_read = json.load(f)\n",
    "\n",
    "# data_dict = json.loads(data_read)\n"
   ]
  },
  {
   "cell_type": "code",
   "execution_count": null,
   "metadata": {},
   "outputs": [],
   "source": []
  },
  {
   "cell_type": "code",
   "execution_count": null,
   "metadata": {},
   "outputs": [],
   "source": []
  },
  {
   "cell_type": "code",
   "execution_count": 24,
   "metadata": {},
   "outputs": [
    {
     "name": "stdout",
     "output_type": "stream",
     "text": [
      "You are connected to Cytoscape!\n",
      "Applying default style...\n",
      "Applying preferred layout\n"
     ]
    }
   ],
   "source": [
    "threshhold = 0.75\n",
    "\n",
    "graph.create_cytoscape_graph(collection='SequenceNetwork', title='Test', threshold=threshhold)\n",
    "graph.set_nodes_size(column_name=\"degree_with_threshold_{}\".format(threshhold), min_size=20, max_size=100)\n",
    "graph.color_nodes(column_name='phylum')\n",
    "graph.set_layout(layout_name = \"force-directed\")"
   ]
  },
  {
   "cell_type": "code",
   "execution_count": null,
   "metadata": {},
   "outputs": [],
   "source": [
    "# p4c.notebook_export_show_image(filename=\"test\", type=\"png\", resolution=600, zoom=100.0, overwrite_file=True)"
   ]
  },
  {
   "cell_type": "code",
   "execution_count": 27,
   "metadata": {},
   "outputs": [
    {
     "data": {
      "application/vnd.jupyter.widget-view+json": {
       "model_id": "1f0fc2cc4872414096dc02974bae28eb",
       "version_major": 2,
       "version_minor": 0
      },
      "text/plain": [
       "Output()"
      ]
     },
     "metadata": {},
     "output_type": "display_data"
    },
    {
     "data": {
      "text/html": [
       "<pre style=\"white-space:pre;overflow-x:auto;line-height:normal;font-family:Menlo,'DejaVu Sans Mono',consolas,'Courier New',monospace\"></pre>\n"
      ],
      "text/plain": []
     },
     "metadata": {},
     "output_type": "display_data"
    },
    {
     "data": {
      "text/html": [
       "<pre style=\"white-space:pre;overflow-x:auto;line-height:normal;font-family:Menlo,'DejaVu Sans Mono',consolas,'Courier New',monospace\">\n",
       "</pre>\n"
      ],
      "text/plain": [
       "\n"
      ]
     },
     "metadata": {},
     "output_type": "display_data"
    },
    {
     "ename": "ValidationError",
     "evalue": "1 validation error for ProteinRecord\norganism\n  Input should be a valid dictionary or instance of Organism [type=model_type, input_value=Organism(id='10540198-ed6...ntology.org/data_1045'}), input_type=Organism]\n    For further information visit https://errors.pydantic.dev/2.7/v/model_type",
     "output_type": "error",
     "traceback": [
      "\u001b[0;31m---------------------------------------------------------------------------\u001b[0m",
      "\u001b[0;31mValidationError\u001b[0m                           Traceback (most recent call last)",
      "Cell \u001b[0;32mIn[27], line 68\u001b[0m\n\u001b[1;32m     11\u001b[0m \u001b[38;5;28;01mfrom\u001b[39;00m \u001b[38;5;21;01mpyeed\u001b[39;00m\u001b[38;5;21;01m.\u001b[39;00m\u001b[38;5;21;01mnetwork\u001b[39;00m \u001b[38;5;28;01mimport\u001b[39;00m SequenceNetwork\n\u001b[1;32m     14\u001b[0m mats \u001b[38;5;241m=\u001b[39m [\n\u001b[1;32m     15\u001b[0m     \u001b[38;5;124m\"\u001b[39m\u001b[38;5;124mMCU0861666\u001b[39m\u001b[38;5;124m\"\u001b[39m,\n\u001b[1;32m     16\u001b[0m     \u001b[38;5;124m\"\u001b[39m\u001b[38;5;124mMCG2909168\u001b[39m\u001b[38;5;124m\"\u001b[39m,\n\u001b[0;32m   (...)\u001b[0m\n\u001b[1;32m     65\u001b[0m     \u001b[38;5;124m\"\u001b[39m\u001b[38;5;124mMCS7132715\u001b[39m\u001b[38;5;124m\"\u001b[39m,\n\u001b[1;32m     66\u001b[0m     \u001b[38;5;124m\"\u001b[39m\u001b[38;5;124mMCU0859210\u001b[39m\u001b[38;5;124m\"\u001b[39m]\n\u001b[0;32m---> 68\u001b[0m sequences \u001b[38;5;241m=\u001b[39m \u001b[43mProteinRecord\u001b[49m\u001b[38;5;241;43m.\u001b[39;49m\u001b[43mget_ids\u001b[49m\u001b[43m(\u001b[49m\u001b[43mmats\u001b[49m\u001b[43m)\u001b[49m\n\u001b[1;32m     69\u001b[0m base_url \u001b[38;5;241m=\u001b[39m \u001b[38;5;124m'\u001b[39m\u001b[38;5;124mhttp://cytoscape:1234/v1\u001b[39m\u001b[38;5;124m'\u001b[39m\n\u001b[1;32m     70\u001b[0m graph \u001b[38;5;241m=\u001b[39m SequenceNetwork(sequences, base_url\u001b[38;5;241m=\u001b[39m\u001b[38;5;124m'\u001b[39m\u001b[38;5;124mhttp://cytoscape:1234/v1\u001b[39m\u001b[38;5;124m'\u001b[39m)\n",
      "File \u001b[0;32m~/Desktop/Job_Niklas/pyeed/pyeed/core/proteinrecord.py:259\u001b[0m, in \u001b[0;36mProteinRecord.get_ids\u001b[0;34m(cls, accession_ids)\u001b[0m\n\u001b[1;32m    255\u001b[0m \u001b[38;5;28;01mfrom\u001b[39;00m \u001b[38;5;21;01mpyeed\u001b[39;00m\u001b[38;5;21;01m.\u001b[39;00m\u001b[38;5;21;01mfetch\u001b[39;00m\u001b[38;5;21;01m.\u001b[39;00m\u001b[38;5;21;01mproteinfetcher\u001b[39;00m \u001b[38;5;28;01mimport\u001b[39;00m ProteinFetcher\n\u001b[1;32m    257\u001b[0m nest_asyncio\u001b[38;5;241m.\u001b[39mapply()\n\u001b[0;32m--> 259\u001b[0m \u001b[38;5;28;01mreturn\u001b[39;00m \u001b[43masyncio\u001b[49m\u001b[38;5;241;43m.\u001b[39;49m\u001b[43mrun\u001b[49m\u001b[43m(\u001b[49m\n\u001b[1;32m    260\u001b[0m \u001b[43m    \u001b[49m\u001b[43mProteinFetcher\u001b[49m\u001b[43m(\u001b[49m\u001b[43mids\u001b[49m\u001b[38;5;241;43m=\u001b[39;49m\u001b[43maccession_ids\u001b[49m\u001b[43m)\u001b[49m\u001b[38;5;241;43m.\u001b[39;49m\u001b[43mfetch\u001b[49m\u001b[43m(\u001b[49m\u001b[43mforce_terminal\u001b[49m\u001b[38;5;241;43m=\u001b[39;49m\u001b[38;5;28;43;01mFalse\u001b[39;49;00m\u001b[43m)\u001b[49m\n\u001b[1;32m    261\u001b[0m \u001b[43m\u001b[49m\u001b[43m)\u001b[49m\n",
      "File \u001b[0;32m~/anaconda3/envs/pyeed/lib/python3.11/site-packages/nest_asyncio.py:30\u001b[0m, in \u001b[0;36m_patch_asyncio.<locals>.run\u001b[0;34m(main, debug)\u001b[0m\n\u001b[1;32m     28\u001b[0m task \u001b[38;5;241m=\u001b[39m asyncio\u001b[38;5;241m.\u001b[39mensure_future(main)\n\u001b[1;32m     29\u001b[0m \u001b[38;5;28;01mtry\u001b[39;00m:\n\u001b[0;32m---> 30\u001b[0m     \u001b[38;5;28;01mreturn\u001b[39;00m \u001b[43mloop\u001b[49m\u001b[38;5;241;43m.\u001b[39;49m\u001b[43mrun_until_complete\u001b[49m\u001b[43m(\u001b[49m\u001b[43mtask\u001b[49m\u001b[43m)\u001b[49m\n\u001b[1;32m     31\u001b[0m \u001b[38;5;28;01mfinally\u001b[39;00m:\n\u001b[1;32m     32\u001b[0m     \u001b[38;5;28;01mif\u001b[39;00m \u001b[38;5;129;01mnot\u001b[39;00m task\u001b[38;5;241m.\u001b[39mdone():\n",
      "File \u001b[0;32m~/anaconda3/envs/pyeed/lib/python3.11/site-packages/nest_asyncio.py:98\u001b[0m, in \u001b[0;36m_patch_loop.<locals>.run_until_complete\u001b[0;34m(self, future)\u001b[0m\n\u001b[1;32m     95\u001b[0m \u001b[38;5;28;01mif\u001b[39;00m \u001b[38;5;129;01mnot\u001b[39;00m f\u001b[38;5;241m.\u001b[39mdone():\n\u001b[1;32m     96\u001b[0m     \u001b[38;5;28;01mraise\u001b[39;00m \u001b[38;5;167;01mRuntimeError\u001b[39;00m(\n\u001b[1;32m     97\u001b[0m         \u001b[38;5;124m'\u001b[39m\u001b[38;5;124mEvent loop stopped before Future completed.\u001b[39m\u001b[38;5;124m'\u001b[39m)\n\u001b[0;32m---> 98\u001b[0m \u001b[38;5;28;01mreturn\u001b[39;00m \u001b[43mf\u001b[49m\u001b[38;5;241;43m.\u001b[39;49m\u001b[43mresult\u001b[49m\u001b[43m(\u001b[49m\u001b[43m)\u001b[49m\n",
      "File \u001b[0;32m~/anaconda3/envs/pyeed/lib/python3.11/asyncio/futures.py:203\u001b[0m, in \u001b[0;36mFuture.result\u001b[0;34m(self)\u001b[0m\n\u001b[1;32m    201\u001b[0m \u001b[38;5;28mself\u001b[39m\u001b[38;5;241m.\u001b[39m__log_traceback \u001b[38;5;241m=\u001b[39m \u001b[38;5;28;01mFalse\u001b[39;00m\n\u001b[1;32m    202\u001b[0m \u001b[38;5;28;01mif\u001b[39;00m \u001b[38;5;28mself\u001b[39m\u001b[38;5;241m.\u001b[39m_exception \u001b[38;5;129;01mis\u001b[39;00m \u001b[38;5;129;01mnot\u001b[39;00m \u001b[38;5;28;01mNone\u001b[39;00m:\n\u001b[0;32m--> 203\u001b[0m     \u001b[38;5;28;01mraise\u001b[39;00m \u001b[38;5;28mself\u001b[39m\u001b[38;5;241m.\u001b[39m_exception\u001b[38;5;241m.\u001b[39mwith_traceback(\u001b[38;5;28mself\u001b[39m\u001b[38;5;241m.\u001b[39m_exception_tb)\n\u001b[1;32m    204\u001b[0m \u001b[38;5;28;01mreturn\u001b[39;00m \u001b[38;5;28mself\u001b[39m\u001b[38;5;241m.\u001b[39m_result\n",
      "File \u001b[0;32m~/anaconda3/envs/pyeed/lib/python3.11/asyncio/tasks.py:277\u001b[0m, in \u001b[0;36mTask.__step\u001b[0;34m(***failed resolving arguments***)\u001b[0m\n\u001b[1;32m    273\u001b[0m \u001b[38;5;28;01mtry\u001b[39;00m:\n\u001b[1;32m    274\u001b[0m     \u001b[38;5;28;01mif\u001b[39;00m exc \u001b[38;5;129;01mis\u001b[39;00m \u001b[38;5;28;01mNone\u001b[39;00m:\n\u001b[1;32m    275\u001b[0m         \u001b[38;5;66;03m# We use the `send` method directly, because coroutines\u001b[39;00m\n\u001b[1;32m    276\u001b[0m         \u001b[38;5;66;03m# don't have `__iter__` and `__next__` methods.\u001b[39;00m\n\u001b[0;32m--> 277\u001b[0m         result \u001b[38;5;241m=\u001b[39m coro\u001b[38;5;241m.\u001b[39msend(\u001b[38;5;28;01mNone\u001b[39;00m)\n\u001b[1;32m    278\u001b[0m     \u001b[38;5;28;01melse\u001b[39;00m:\n\u001b[1;32m    279\u001b[0m         result \u001b[38;5;241m=\u001b[39m coro\u001b[38;5;241m.\u001b[39mthrow(exc)\n",
      "File \u001b[0;32m~/Desktop/Job_Niklas/pyeed/pyeed/fetch/proteinfetcher.py:117\u001b[0m, in \u001b[0;36mProteinFetcher.fetch\u001b[0;34m(self, **console_kwargs)\u001b[0m\n\u001b[1;32m    114\u001b[0m \u001b[38;5;66;03m# map data to objects\u001b[39;00m\n\u001b[1;32m    115\u001b[0m ncbi_responses, uniprot_response \u001b[38;5;241m=\u001b[39m \u001b[38;5;28mself\u001b[39m\u001b[38;5;241m.\u001b[39midentify_data_source(responses)\n\u001b[0;32m--> 117\u001b[0m ncbi_entries \u001b[38;5;241m=\u001b[39m \u001b[43mNCBIProteinMapper\u001b[49m\u001b[43m(\u001b[49m\u001b[43m)\u001b[49m\u001b[38;5;241;43m.\u001b[39;49m\u001b[43mmap\u001b[49m\u001b[43m(\u001b[49m\u001b[43mncbi_responses\u001b[49m\u001b[43m)\u001b[49m\n\u001b[1;32m    119\u001b[0m uniprot_entries \u001b[38;5;241m=\u001b[39m [\n\u001b[1;32m    120\u001b[0m     UniprotMapper()\u001b[38;5;241m.\u001b[39mmap(\u001b[38;5;241m*\u001b[39mresp) \u001b[38;5;28;01mfor\u001b[39;00m resp \u001b[38;5;129;01min\u001b[39;00m uniprot_response\u001b[38;5;241m.\u001b[39mvalues()\n\u001b[1;32m    121\u001b[0m ]\n\u001b[1;32m    123\u001b[0m uniprot_entries\u001b[38;5;241m.\u001b[39mextend(ncbi_entries)\n",
      "File \u001b[0;32m~/Desktop/Job_Niklas/pyeed/pyeed/fetch/ncbiproteinmapper.py:49\u001b[0m, in \u001b[0;36mNCBIProteinMapper.map\u001b[0;34m(self, responses)\u001b[0m\n\u001b[1;32m     46\u001b[0m \u001b[38;5;28;01mfor\u001b[39;00m record \u001b[38;5;129;01min\u001b[39;00m seq_records:\n\u001b[1;32m     47\u001b[0m     protein_info \u001b[38;5;241m=\u001b[39m ProteinRecord(\u001b[38;5;28mid\u001b[39m\u001b[38;5;241m=\u001b[39mrecord\u001b[38;5;241m.\u001b[39mid, sequence\u001b[38;5;241m=\u001b[39m\u001b[38;5;28mstr\u001b[39m(record\u001b[38;5;241m.\u001b[39mseq))\n\u001b[0;32m---> 49\u001b[0m     \u001b[43mprotein_info\u001b[49m\u001b[38;5;241;43m.\u001b[39;49m\u001b[43morganism\u001b[49m \u001b[38;5;241m=\u001b[39m Organism(\u001b[38;5;241m*\u001b[39m\u001b[38;5;241m*\u001b[39m\u001b[38;5;28mself\u001b[39m\u001b[38;5;241m.\u001b[39mmap_organism(record))\n\u001b[1;32m     51\u001b[0m     protein_info \u001b[38;5;241m=\u001b[39m \u001b[38;5;28mself\u001b[39m\u001b[38;5;241m.\u001b[39mmap_protein(record, protein_info)\n\u001b[1;32m     53\u001b[0m     protein_info \u001b[38;5;241m=\u001b[39m \u001b[38;5;28mself\u001b[39m\u001b[38;5;241m.\u001b[39mmap_regions(record, protein_info)\n",
      "File \u001b[0;32m~/anaconda3/envs/pyeed/lib/python3.11/site-packages/sdRDM/base/datamodel.py:1047\u001b[0m, in \u001b[0;36mDataModel.__setattr__\u001b[0;34m(self, name, value)\u001b[0m\n\u001b[1;32m   1044\u001b[0m \u001b[38;5;28mself\u001b[39m\u001b[38;5;241m.\u001b[39m_set_parent_instances(value)\n\u001b[1;32m   1045\u001b[0m \u001b[38;5;28mself\u001b[39m\u001b[38;5;241m.\u001b[39m_check_references(name, value)\n\u001b[0;32m-> 1047\u001b[0m \u001b[38;5;28;43msuper\u001b[39;49m\u001b[43m(\u001b[49m\u001b[43m)\u001b[49m\u001b[38;5;241;43m.\u001b[39;49m\u001b[38;5;21;43m__setattr__\u001b[39;49m\u001b[43m(\u001b[49m\u001b[43mname\u001b[49m\u001b[43m,\u001b[49m\u001b[43m \u001b[49m\u001b[43mvalue\u001b[49m\u001b[43m)\u001b[49m\n\u001b[1;32m   1049\u001b[0m \u001b[38;5;28;01mif\u001b[39;00m \u001b[38;5;28misinstance\u001b[39m(value, (\u001b[38;5;28mlist\u001b[39m, ListPlus)):\n\u001b[1;32m   1050\u001b[0m     \u001b[38;5;28mself\u001b[39m\u001b[38;5;241m.\u001b[39m\u001b[38;5;18m__dict__\u001b[39m[name]\u001b[38;5;241m.\u001b[39m_parent \u001b[38;5;241m=\u001b[39m \u001b[38;5;28mself\u001b[39m\n",
      "File \u001b[0;32m~/anaconda3/envs/pyeed/lib/python3.11/site-packages/pydantic/main.py:836\u001b[0m, in \u001b[0;36mBaseModel.__setattr__\u001b[0;34m(self, name, value)\u001b[0m\n\u001b[1;32m    834\u001b[0m     attr\u001b[38;5;241m.\u001b[39m\u001b[38;5;21m__set__\u001b[39m(\u001b[38;5;28mself\u001b[39m, value)\n\u001b[1;32m    835\u001b[0m \u001b[38;5;28;01melif\u001b[39;00m \u001b[38;5;28mself\u001b[39m\u001b[38;5;241m.\u001b[39mmodel_config\u001b[38;5;241m.\u001b[39mget(\u001b[38;5;124m'\u001b[39m\u001b[38;5;124mvalidate_assignment\u001b[39m\u001b[38;5;124m'\u001b[39m, \u001b[38;5;28;01mNone\u001b[39;00m):\n\u001b[0;32m--> 836\u001b[0m     \u001b[38;5;28mself\u001b[39m\u001b[38;5;241m.\u001b[39m__pydantic_validator__\u001b[38;5;241m.\u001b[39mvalidate_assignment(\u001b[38;5;28mself\u001b[39m, name, value)\n\u001b[1;32m    837\u001b[0m \u001b[38;5;28;01melif\u001b[39;00m \u001b[38;5;28mself\u001b[39m\u001b[38;5;241m.\u001b[39mmodel_config\u001b[38;5;241m.\u001b[39mget(\u001b[38;5;124m'\u001b[39m\u001b[38;5;124mextra\u001b[39m\u001b[38;5;124m'\u001b[39m) \u001b[38;5;241m!=\u001b[39m \u001b[38;5;124m'\u001b[39m\u001b[38;5;124mallow\u001b[39m\u001b[38;5;124m'\u001b[39m \u001b[38;5;129;01mand\u001b[39;00m name \u001b[38;5;129;01mnot\u001b[39;00m \u001b[38;5;129;01min\u001b[39;00m \u001b[38;5;28mself\u001b[39m\u001b[38;5;241m.\u001b[39mmodel_fields:\n\u001b[1;32m    838\u001b[0m     \u001b[38;5;66;03m# TODO - matching error\u001b[39;00m\n\u001b[1;32m    839\u001b[0m     \u001b[38;5;28;01mraise\u001b[39;00m \u001b[38;5;167;01mValueError\u001b[39;00m(\u001b[38;5;124mf\u001b[39m\u001b[38;5;124m'\u001b[39m\u001b[38;5;124m\"\u001b[39m\u001b[38;5;132;01m{\u001b[39;00m\u001b[38;5;28mself\u001b[39m\u001b[38;5;241m.\u001b[39m\u001b[38;5;18m__class__\u001b[39m\u001b[38;5;241m.\u001b[39m\u001b[38;5;18m__name__\u001b[39m\u001b[38;5;132;01m}\u001b[39;00m\u001b[38;5;124m\"\u001b[39m\u001b[38;5;124m object has no field \u001b[39m\u001b[38;5;124m\"\u001b[39m\u001b[38;5;132;01m{\u001b[39;00mname\u001b[38;5;132;01m}\u001b[39;00m\u001b[38;5;124m\"\u001b[39m\u001b[38;5;124m'\u001b[39m)\n",
      "\u001b[0;31mValidationError\u001b[0m: 1 validation error for ProteinRecord\norganism\n  Input should be a valid dictionary or instance of Organism [type=model_type, input_value=Organism(id='10540198-ed6...ntology.org/data_1045'}), input_type=Organism]\n    For further information visit https://errors.pydantic.dev/2.7/v/model_type"
     ]
    }
   ],
   "source": [
    "%reload_ext autoreload\n",
    "%autoreload 2\n",
    "import os\n",
    "import sys\n",
    "import time\n",
    "import json\n",
    "import networkx as nx\n",
    "import py4cytoscape as p4c\n",
    "import matplotlib.pyplot as plt\n",
    "from pyeed.core import ProteinRecord\n",
    "from pyeed.network import SequenceNetwork\n",
    "\n",
    "\n",
    "mats = [\n",
    "    \"MCU0861666\",\n",
    "    \"MCG2909168\",\n",
    "    \"HDO20193\",\n",
    "    \"QLH74105\",\n",
    "    \"RLF08155\",\n",
    "    \"WP_048099998\",\n",
    "    \"MCC7566513\",\n",
    "    \"PSQ10925\",\n",
    "    \"WP_008383527\",\n",
    "    \"MCJ7607402\",\n",
    "    \"WP_188877951\",\n",
    "    \"MCC6009515\",\n",
    "    \"WP_179919152\",\n",
    "    \"WP_253480477\",\n",
    "    \"WP_121819036\",\n",
    "    \"NPA14273\",\n",
    "    \"RAP48284\",\n",
    "    \"MCH3977412\",\n",
    "    \"WP_058370489\",\n",
    "    \"MBS7382949\",\n",
    "    \"MCL5675329\",\n",
    "    \"MCC7566529\",\n",
    "    \"MCE4602106\",\n",
    "    \"WP_188787152\",\n",
    "    \"NOZ89357\",\n",
    "    \"MCK4243364\",\n",
    "    \"MCL2295950\",\n",
    "    \"WP_006077501\",\n",
    "    \"WP_148860060\",\n",
    "    \"WP_255167024\",\n",
    "    \"NVM55387\",\n",
    "    \"WP_012963252\",\n",
    "    \"HHQ45179\",\n",
    "    \"WP_128693716\",\n",
    "    \"WP_159485710\",\n",
    "    \"WP_136715095\",\n",
    "    \"NPA47376\",\n",
    "    \"MBU2617480\",\n",
    "    \"WP_224424997\",\n",
    "    \"MCL5100680\",\n",
    "    \"OPY20232\",\n",
    "    \"WP_274870358\",\n",
    "    \"WP_263245494\",\n",
    "    \"MCA9702766\",\n",
    "    \"WP_255195886\",\n",
    "    \"MCI4360054\",\n",
    "    \"MCS7127230\",\n",
    "    \"WP_013826834\",\n",
    "    \"MQY68546\",\n",
    "    \"WP_179268991\",\n",
    "    \"MCS7132715\",\n",
    "    \"MCU0859210\"]\n",
    "\n",
    "sequences = ProteinRecord.get_ids(mats)\n",
    "base_url = 'http://cytoscape:1234/v1'\n",
    "graph = SequenceNetwork(sequences, base_url='http://cytoscape:1234/v1')\n",
    "\n",
    "threshhold = 0.5\n",
    "\n",
    "graph.create_cytoscape_graph(collection='SequenceNetwork', title='Test', threshold=threshhold)\n",
    "graph.set_nodes_size(column_name=\"degree_with_threshold_{}\".format(threshhold), min_size=10, max_size=50)\n",
    "graph.color_nodes(column_name='phylum')\n",
    "\"\"\"\n",
    "graph.set_layout(layout_name = \"force-directed\",\n",
    "        properties_dict = {\n",
    "            \"defaultSpringCoefficient\": 4e-5,\n",
    "            \"defaultSpringLength\": 100,\n",
    "            \"defaultNodeMass\": 3,\n",
    "            \"numIterations\": 50,\n",
    "        },\n",
    "    )\n",
    "\"\"\"\n",
    "p4c.unhide_all(base_url=base_url)\n",
    "graph.filter_cytoscape_edges_by_parameter('identity', 'identity', 0.0, 0,7)\n",
    "p4c.notebook_export_show_image(filename=\"test\", type=\"png\", resolution=600, zoom=100.0, overwrite_file=True, base_url='http://cytoscape:1234/v1')"
   ]
  },
  {
   "cell_type": "code",
   "execution_count": null,
   "metadata": {},
   "outputs": [],
   "source": []
  }
 ],
 "metadata": {
  "kernelspec": {
   "display_name": "pyeed",
   "language": "python",
   "name": "python3"
  },
  "language_info": {
   "codemirror_mode": {
    "name": "ipython",
    "version": 3
   },
   "file_extension": ".py",
   "mimetype": "text/x-python",
   "name": "python",
   "nbconvert_exporter": "python",
   "pygments_lexer": "ipython3",
   "version": "3.11.8"
  }
 },
 "nbformat": 4,
 "nbformat_minor": 2
}
