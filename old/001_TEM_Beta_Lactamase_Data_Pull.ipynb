{
 "cells": [
  {
   "cell_type": "code",
   "execution_count": 1,
   "metadata": {},
   "outputs": [],
   "source": [
    "%reload_ext autoreload\n",
    "%autoreload 2\n",
    "import os\n",
    "import json\n",
    "from pyeed.core import ProteinRecord"
   ]
  },
  {
   "cell_type": "markdown",
   "metadata": {},
   "source": [
    "##### Here we get all the data"
   ]
  },
  {
   "cell_type": "code",
   "execution_count": 2,
   "metadata": {},
   "outputs": [],
   "source": [
    "current_path = os.getcwd()"
   ]
  },
  {
   "cell_type": "code",
   "execution_count": 3,
   "metadata": {},
   "outputs": [
    {
     "name": "stdout",
     "output_type": "stream",
     "text": [
      "False\n"
     ]
    }
   ],
   "source": [
    "# read in the text file\n",
    "file_path = 'TEM_Ids.txt'\n",
    "with open(file_path, 'r') as file:\n",
    "    lines = file.readlines()\n",
    "\n",
    "# create a dic with the name and id\n",
    "# A\tTEM-P118\tt\t\tAAN05029 \tAY130285 \t12354869 \tview\t\t\t2be\tESBL\tA\n",
    "# we want to keep the name and the id, these are the second and the fourth columns\n",
    "# we need to split the line by the tab character\n",
    "data = {}\n",
    "count = 0\n",
    "for line in lines:\n",
    "    line = line.strip()\n",
    "    columns = line.split('\\t')\n",
    "    name = columns[1]\n",
    "    id = columns[4].strip()\n",
    "    if id == 'EFJ83682':\n",
    "        continue\n",
    "    data[name] = id\n",
    "    count += 1\n",
    "\n",
    "\n",
    "print('EFJ83682' in list(data.values()))"
   ]
  },
  {
   "cell_type": "code",
   "execution_count": 4,
   "metadata": {},
   "outputs": [
    {
     "data": {
      "text/html": [
       "<pre style=\"white-space:pre;overflow-x:auto;line-height:normal;font-family:Menlo,'DejaVu Sans Mono',consolas,'Courier New',monospace\"></pre>\n"
      ],
      "text/plain": []
     },
     "metadata": {},
     "output_type": "display_data"
    },
    {
     "data": {
      "text/html": [
       "<pre style=\"white-space:pre;overflow-x:auto;line-height:normal;font-family:Menlo,'DejaVu Sans Mono',consolas,'Courier New',monospace\">\n",
       "</pre>\n"
      ],
      "text/plain": [
       "\n"
      ]
     },
     "metadata": {},
     "output_type": "display_data"
    },
    {
     "name": "stdout",
     "output_type": "stream",
     "text": [
      "\u001b[4mProteinRecord\u001b[0m\n",
      "├── \u001b[94mid\u001b[0m = CBX53726.1\n",
      "├── \u001b[94mname\u001b[0m = beta-lactamase TEM-40\n",
      "├── \u001b[94morganism\u001b[0m\n",
      "│   └── \u001b[4mOrganism\u001b[0m\n",
      "│       ├── \u001b[94mid\u001b[0m = 562\n",
      "│       ├── \u001b[94mtaxonomy_id\u001b[0m = 562\n",
      "│       └── \u001b[94mname\u001b[0m = Escherichia coli\n",
      "├── \u001b[94msequence\u001b[0m = MSIQHFRVALIPFFAAFCLPVFAHPETLVKVKDAEDQLGARVGYIELDLNSGKILESFRPEERFPMISTFKVLLCGAVLSRVDAGQEQLGRRIHYSQNDLVEYSPVTEKHLTDGMTVRELCSAAITMSDNTAANLLLTTIGGPKELTAFLHNMGDHVTRLDRWEPELNEAIPNDERDTTMPAAMATTLRKLLTGELLTLASRQQLIDWMEADKVAGPLLRSALPAGWFIADKSGAGERGSRGIIAALGPDGKPSRIVVIYTTGSQATMDERNRQIAEIGASLIKHW\n",
      "├── \u001b[94mregions\u001b[0m\n",
      "│   ├── 0\n",
      "│   │   └── \u001b[4mRegion\u001b[0m\n",
      "│   │       ├── \u001b[94mid\u001b[0m = PRK15442\n",
      "│   │       ├── \u001b[94mstart\u001b[0m = 2\n",
      "│   │       └── \u001b[94mend\u001b[0m = 286\n",
      "│   └── 1\n",
      "│       └── \u001b[4mRegion\u001b[0m\n",
      "│           ├── \u001b[94mid\u001b[0m = 4366e534-1193-41c7-8f63-68a1a0dc3f9c\n",
      "│           ├── \u001b[94mname\u001b[0m = blastquery:TEM-1\n",
      "│           ├── \u001b[94mstart\u001b[0m = 0\n",
      "│           └── \u001b[94mend\u001b[0m = 286\n",
      "├── \u001b[94mcoding_sequence\u001b[0m\n",
      "│   └── 0\n",
      "│       └── \u001b[4mRegion\u001b[0m\n",
      "│           ├── \u001b[94mid\u001b[0m = FR717535.1\n",
      "│           ├── \u001b[94mstart\u001b[0m = 1\n",
      "│           └── \u001b[94mend\u001b[0m = 861\n",
      "└── \u001b[94mec_number\u001b[0m = 3.5.2.6\n",
      "\n"
     ]
    }
   ],
   "source": [
    "protein_ids_fetched = ProteinRecord.get_ids(list(data.values()))\n",
    "\n",
    "# here we want to add the region for the ncbi blast id\n",
    "# this is a kind of work arround to get the id later for the name mappping\n",
    "for i in range(0, len(protein_ids_fetched)):\n",
    "    protein_ids_fetched[i].add_to_regions(\n",
    "        name=\"blastquery:\" + list(data.keys())[i],\n",
    "        start=0,\n",
    "        end=len(protein_ids_fetched[i].sequence)\n",
    "    )\n",
    "\n",
    "print(protein_ids_fetched[0])"
   ]
  },
  {
   "cell_type": "code",
   "execution_count": 5,
   "metadata": {},
   "outputs": [
    {
     "name": "stdout",
     "output_type": "stream",
     "text": [
      "210\n"
     ]
    }
   ],
   "source": [
    "current_path = os.path.dirname(os.getcwd())\n",
    "print(len(protein_ids_fetched))"
   ]
  },
  {
   "cell_type": "code",
   "execution_count": null,
   "metadata": {},
   "outputs": [],
   "source": []
  },
  {
   "cell_type": "code",
   "execution_count": 6,
   "metadata": {},
   "outputs": [
    {
     "data": {
      "text/plain": [
       "'\\nfrom concurrent.futures import ThreadPoolExecutor  # noqa: E402\\n\\ndef fetch_protein(protein):\\n    return protein.ncbi_blast(n_hits=150, e_value=0.1)\\n\\n\\nwith ThreadPoolExecutor(max_workers=15) as executor:\\n    results = list(executor.map(fetch_protein, protein_ids_fetched))\\n'"
      ]
     },
     "execution_count": 6,
     "metadata": {},
     "output_type": "execute_result"
    }
   ],
   "source": [
    "# we now search for each protein in the data dic a blast\n",
    "# then we combine the results im data, we also have to remove double entries\n",
    "data_proteins = []\n",
    "\n",
    "\"\"\"\n",
    "for protein in protein_ids_fetched:\n",
    "    data_proteins = data_proteins + protein.ncbi_blast(n_hits=1000, e_value=0.1)\n",
    "\"\"\"\n",
    "\"\"\"\n",
    "# no i want to parallelize this\n",
    "import asyncio\n",
    "\n",
    "async def fetch_protein(protein):\n",
    "    return protein.ncbi_blast(n_hits=1000, e_value=0.1)\n",
    "\n",
    "# create a job for each protein\n",
    "jobs = [fetch_protein(protein) for protein in protein_ids_fetched]\n",
    "# run all the jobs\n",
    "data_proteins = await asyncio.gather(*jobs)\n",
    "\"\"\"\n",
    "\n",
    "\"\"\"\n",
    "from concurrent.futures import ThreadPoolExecutor  # noqa: E402\n",
    "\n",
    "def fetch_protein(protein):\n",
    "    return protein.ncbi_blast(n_hits=150, e_value=0.1)\n",
    "\n",
    "\n",
    "with ThreadPoolExecutor(max_workers=15) as executor:\n",
    "    results = list(executor.map(fetch_protein, protein_ids_fetched))\n",
    "\"\"\"\n"
   ]
  },
  {
   "cell_type": "code",
   "execution_count": 7,
   "metadata": {},
   "outputs": [],
   "source": [
    "\"\"\"\n",
    "# add the protein_ids_fetched to results\n",
    "for protein in protein_ids_fetched:\n",
    "    results.append(protein)\n",
    "\n",
    "data_proteins = results\n",
    "# flatten the list\n",
    "data_proteins = [item for sublist in data_proteins for item in sublist]\n",
    "\"\"\"\n",
    "\n",
    "data_proteins = protein_ids_fetched\n"
   ]
  },
  {
   "cell_type": "code",
   "execution_count": 8,
   "metadata": {},
   "outputs": [
    {
     "name": "stdout",
     "output_type": "stream",
     "text": [
      "210\n",
      "CBX53726.1\n"
     ]
    }
   ],
   "source": [
    "# remove double entries\n",
    "data_protein_unique = []\n",
    "data_protein_unique_id = []\n",
    "for protein in data_proteins:\n",
    "    if type(protein) != ProteinRecord:\n",
    "        print(protein)\n",
    "        continue\n",
    "    if protein.id not in data_protein_unique_id:\n",
    "        data_protein_unique.append(protein)\n",
    "        data_protein_unique_id.append(protein.id)\n",
    "\n",
    "print(len(data_protein_unique))\n",
    "print(data_protein_unique[0].id)"
   ]
  },
  {
   "cell_type": "code",
   "execution_count": 9,
   "metadata": {},
   "outputs": [],
   "source": [
    "# read in the file from json\n",
    "tem_dic = {}\n",
    "\n",
    "with open(os.path.join(current_path, \"TEM-lactamase\", \"TEM_Ids.json\"), \"r\") as f:\n",
    "    tem_dic = json.load(f)"
   ]
  },
  {
   "cell_type": "code",
   "execution_count": 10,
   "metadata": {},
   "outputs": [
    {
     "name": "stdout",
     "output_type": "stream",
     "text": [
      "AFN69127.1\n"
     ]
    }
   ],
   "source": [
    "data = {}\n",
    "\n",
    "# create a dic with one field protein and one field 'dna'\n",
    "for protein in data_protein_unique:\n",
    "    try:\n",
    "        data[tem_dic[protein.id.split('.')[0]]] = {\n",
    "            'protein': protein,\n",
    "            'dna': None\n",
    "        }\n",
    "    except KeyError:\n",
    "        print(protein.id)"
   ]
  },
  {
   "cell_type": "code",
   "execution_count": 11,
   "metadata": {},
   "outputs": [],
   "source": [
    "# now we pull the dna data\n",
    "for key in data.keys():\n",
    "    protein = data[key]['protein']\n",
    "    dna = protein.get_dna()\n",
    "    data[key]['dna'] = dna"
   ]
  },
  {
   "cell_type": "code",
   "execution_count": 12,
   "metadata": {},
   "outputs": [],
   "source": [
    "# save the blast search results\n",
    "output_folder_blast_search = os.path.join(current_path, \"TEM-lactamase\", \"data\", \"data_fetch_list_ids_protein_dna_all\")\n",
    "os.makedirs(output_folder_blast_search, exist_ok=True)\n",
    "\n",
    "def dumper(obj):\n",
    "    try:\n",
    "        return obj.json()\n",
    "    except:\n",
    "        return obj.__dict__\n",
    "\n",
    "counter = 0\n",
    "for key, value in data.items():\n",
    "    with open(os.path.join(output_folder_blast_search, key + \".json\"), \"w\") as f:\n",
    "        json.dump(value, f, default=dumper)\n",
    "        counter += 1"
   ]
  },
  {
   "cell_type": "code",
   "execution_count": null,
   "metadata": {},
   "outputs": [],
   "source": [
    "\n"
   ]
  },
  {
   "cell_type": "code",
   "execution_count": null,
   "metadata": {},
   "outputs": [],
   "source": []
  }
 ],
 "metadata": {
  "kernelspec": {
   "display_name": "pyeed",
   "language": "python",
   "name": "python3"
  },
  "language_info": {
   "codemirror_mode": {
    "name": "ipython",
    "version": 3
   },
   "file_extension": ".py",
   "mimetype": "text/x-python",
   "name": "python",
   "nbconvert_exporter": "python",
   "pygments_lexer": "ipython3",
   "version": "3.12.4"
  }
 },
 "nbformat": 4,
 "nbformat_minor": 2
}
