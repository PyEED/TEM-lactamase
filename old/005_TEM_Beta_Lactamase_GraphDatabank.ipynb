{
 "cells": [
  {
   "cell_type": "markdown",
   "metadata": {},
   "source": [
    "## 005_Neo4J_First_Database"
   ]
  },
  {
   "cell_type": "code",
   "execution_count": 16,
   "metadata": {},
   "outputs": [],
   "source": [
    "# BASE\n",
    "import os\n",
    "import json\n",
    "\n",
    "# PYEED\n",
    "from pyeed.core import ProteinRecord\n",
    "\n",
    "# COOL\n",
    "from neo4j import GraphDatabase"
   ]
  },
  {
   "cell_type": "code",
   "execution_count": 17,
   "metadata": {},
   "outputs": [],
   "source": [
    "# URI examples: \"neo4j://localhost\", \"neo4j+s://xxx.databases.neo4j.io\"\n",
    "URI = \"neo4j://localhost\"\n",
    "AUTH = (\"neo4j\", \"niklasniklas1\")\n",
    "\n",
    "with GraphDatabase.driver(URI, auth=AUTH) as driver:\n",
    "    driver.verify_connectivity()"
   ]
  },
  {
   "cell_type": "code",
   "execution_count": 18,
   "metadata": {},
   "outputs": [
    {
     "name": "stdout",
     "output_type": "stream",
     "text": [
      "neo4j\n",
      "system\n"
     ]
    }
   ],
   "source": [
    "with GraphDatabase.driver(URI, auth=AUTH).session() as session:\n",
    "    result = session.run(\"SHOW DATABASES yield name;\")\n",
    "    for line in result:\n",
    "        print(line['name'])"
   ]
  },
  {
   "cell_type": "code",
   "execution_count": 19,
   "metadata": {},
   "outputs": [],
   "source": [
    "current_path = os.getcwd()\n",
    "\n",
    "input_folder_filters_regions = os.path.join(current_path, \"data\", \"filtered_protein_fetch_ids_all\")"
   ]
  },
  {
   "cell_type": "code",
   "execution_count": 20,
   "metadata": {},
   "outputs": [
    {
     "name": "stdout",
     "output_type": "stream",
     "text": [
      "210\n",
      "dict_keys(['protein', 'alignment', 'TEM-Domain', 'TEM-Domain-Diff'])\n"
     ]
    }
   ],
   "source": [
    "# we read in the proteins and ids from input folder\n",
    "protein_dic = {}\n",
    "\n",
    "for file in os.listdir(input_folder_filters_regions):\n",
    "    if file.endswith(\".json\"):\n",
    "        with open(os.path.join(input_folder_filters_regions, file), \"r\") as f:\n",
    "            # read in the file as a dic\n",
    "            file_data = json.load(f)\n",
    "            protein_dic[file.split('.')[0]] = {\n",
    "                'protein': ProteinRecord.from_json_string(file_data['protein']), \n",
    "                'alignment': file_data['alignment'],\n",
    "                'TEM-Domain': file_data['TEM-Domain'],\n",
    "                'TEM-Domain-Diff': file_data['TEM-Domain-Diff']\n",
    "                }\n",
    "\n",
    "print(len(protein_dic))\n",
    "print(protein_dic['TEM-1'].keys())"
   ]
  },
  {
   "cell_type": "code",
   "execution_count": null,
   "metadata": {},
   "outputs": [],
   "source": []
  },
  {
   "cell_type": "code",
   "execution_count": null,
   "metadata": {},
   "outputs": [],
   "source": []
  },
  {
   "cell_type": "code",
   "execution_count": null,
   "metadata": {},
   "outputs": [],
   "source": [
    "def add_protein(driver, protein: ProteinRecord, embedding):\n",
    "    return driver.execute_query(\n",
    "        \"\"\"\n",
    "        CREATE (p:Protein {id: $id, name: $name, sequence: $sequence, ec_number: $ec_number, molar_mass: $molar_mass})\n",
    "        WITH p\n",
    "        CALL db.create.setNodeVectorProperty(p, 'embedding', $embedding)\n",
    "        \"\"\",\n",
    "        id=protein.id,\n",
    "        name=protein.name,\n",
    "        sequence=protein.sequence,\n",
    "        ec_number=protein.ec_number,\n",
    "        embedding=embedding,\n",
    "        molar_mass=protein.mol_weight,\n",
    "    )\n",
    "\n",
    "\n",
    "def add_embedding(driver, protein_id: str, embedding):\n",
    "    return driver.execute_query(\n",
    "        \"\"\"\n",
    "        MATCH (p:Protein {id: $id})\n",
    "        CALL db.create.setNodeVectorProperty(p, 'embedding', $embedding)\n",
    "        \"\"\",\n",
    "        id=protein_id,\n",
    "        embedding=embedding,\n",
    "    )\n",
    "\n",
    "\n",
    "def initialize_vector_index(driver):\n",
    "    query = \"\"\"\n",
    "    CREATE VECTOR INDEX embedding IF NOT EXISTS\n",
    "    FOR (p:Protein)\n",
    "    ON p.embedding\n",
    "    OPTIONS {indexConfig: {\n",
    "     `vector.dimensions`: 1024,\n",
    "     `vector.similarity_function`: 'cosine'\n",
    "    }}\n",
    "    \"\"\"\n",
    "\n",
    "    # Execute the query\n",
    "    with driver.session() as session:\n",
    "        session.run(query)\n",
    "\n",
    "\n",
    "def get_protein_data_as_df(driver, protein_id: str, n_results: int):\n",
    "    # Define the query\n",
    "    query = \"\"\"\n",
    "    MATCH (p:Protein {id: $protein_id})\n",
    "    CALL db.index.vector.queryNodes('embedding', $n_results, p.embedding)\n",
    "    YIELD node, score\n",
    "    RETURN node.id AS id, score, node.sequence as sequence\n",
    "    \"\"\"\n",
    "\n",
    "    # Execute the query and collect the results\n",
    "    with driver.session() as session:\n",
    "        result = session.run(query, protein_id=protein_id, n_results=n_results)\n",
    "        records = result.data()\n",
    "\n",
    "    # Convert the result to a pandas DataFrame\n",
    "    df = pd.DataFrame(records)\n",
    "\n",
    "    return df"
   ]
  },
  {
   "cell_type": "code",
   "execution_count": null,
   "metadata": {},
   "outputs": [],
   "source": []
  },
  {
   "cell_type": "code",
   "execution_count": null,
   "metadata": {},
   "outputs": [],
   "source": []
  }
 ],
 "metadata": {
  "kernelspec": {
   "display_name": "pyeed_niklas",
   "language": "python",
   "name": "python3"
  },
  "language_info": {
   "codemirror_mode": {
    "name": "ipython",
    "version": 3
   },
   "file_extension": ".py",
   "mimetype": "text/x-python",
   "name": "python",
   "nbconvert_exporter": "python",
   "pygments_lexer": "ipython3",
   "version": "3.12.4"
  }
 },
 "nbformat": 4,
 "nbformat_minor": 2
}
