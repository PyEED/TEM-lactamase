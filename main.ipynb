{
 "cells": [
  {
   "cell_type": "code",
   "execution_count": null,
   "metadata": {},
   "outputs": [],
   "source": [
    "import py4cytoscape as p4c\n",
    "from pyeed.core import ProteinRecord\n",
    "from pyeed.network import SequenceNetwork\n",
    "\n",
    "\n",
    "base_url = 'http://cytoscape:1234/v1'\n",
    "\n",
    "kwargs = {'base_url': base_url }\n",
    "\n",
    "p4c.cytoscape_ping(**kwargs)\n",
    "\n",
    "\n",
    "mat_accessions = [\n",
    "    \"MBP1912539.1\",\n",
    "    \"SEV92896.1\",\n",
    "    \"MBO8174569.1\",\n",
    "    \"WP_042680787.1\",\n",
    "]\n",
    "mats = ProteinRecord.get_ids(mat_accessions)\n",
    "# Create a network\n",
    "network = SequenceNetwork(\n",
    "    sequences=mats,\n",
    "    weight=\"identity\",\n",
    "    dimensions=2,\n",
    "    base_url=base_url,\n",
    ")\n",
    "threshhold = 0.85\n",
    "# now create a cytoscape graph\n",
    "# careful if at this point cytoscope is not installed and running in background test will fail\n",
    "network.create_cytoscape_graph(collection=\"tests\", title=\"test_cytoscape\", threshold=threshhold)\n",
    "\n",
    "p4c.notebook_export_show_image(filename=\"test_image_002\", type=\"png\", resolution=600, zoom=100.0, overwrite_file=True)"
   ]
  },
  {
   "cell_type": "code",
   "execution_count": null,
   "metadata": {},
   "outputs": [],
   "source": []
  }
 ],
 "metadata": {
  "language_info": {
   "name": "python"
  }
 },
 "nbformat": 4,
 "nbformat_minor": 2
}
