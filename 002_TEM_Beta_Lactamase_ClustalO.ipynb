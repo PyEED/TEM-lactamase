{
 "cells": [
  {
   "cell_type": "code",
   "execution_count": 52,
   "metadata": {},
   "outputs": [],
   "source": [
    "%reload_ext autoreload\n",
    "%autoreload 2\n",
    "# BASE\n",
    "import os\n",
    "import json\n",
    "# COOL\n",
    "from pyeed.core import ProteinRecord"
   ]
  },
  {
   "cell_type": "code",
   "execution_count": 53,
   "metadata": {},
   "outputs": [
    {
     "name": "stdout",
     "output_type": "stream",
     "text": [
      "The fetched list of results is: 210\n",
      "The number of double entries is: 0\n",
      "The number of filtered entries is: 210\n"
     ]
    }
   ],
   "source": [
    "# read in the protein records from the json\n",
    "current_path = os.path.dirname(os.getcwd())\n",
    "read_blast_folder = os.path.join(current_path, \"TEM-lactamase\", \"data\", \"data_fetch_list_ids_all\")\n",
    "# /home/niklas/Desktop/Job_Niklas/TEM-lactamase/data/data_blast_search_big_list001test_all_10\n",
    "# list all the files in the directory\n",
    "# read in the saved fetched results\n",
    "protein_list = []\n",
    "for file in os.listdir(read_blast_folder):\n",
    "    with open(os.path.join(read_blast_folder, file), \"r\") as f:\n",
    "        protein_list.append(ProteinRecord.from_json(f))\n",
    "\n",
    "print('The fetched list of results is: ' +  str(len(protein_list)))\n",
    "\n",
    "# now we check for double entries, we check the ids\n",
    "count = 0\n",
    "ids = []\n",
    "filtered_protein_list = []\n",
    "\n",
    "for protein in protein_list:\n",
    "    if protein.id not in ids:\n",
    "        ids.append(protein.id)\n",
    "        filtered_protein_list.append(protein)\n",
    "    else:\n",
    "        count += 1\n",
    "\n",
    "print('The number of double entries is: ' + str(count))\n",
    "print('The number of filtered entries is: ' + str(len(filtered_protein_list)))"
   ]
  },
  {
   "cell_type": "code",
   "execution_count": 54,
   "metadata": {},
   "outputs": [
    {
     "name": "stdout",
     "output_type": "stream",
     "text": [
      "The number of proteins in the filtered protein dic is: 210\n"
     ]
    }
   ],
   "source": [
    "# read in the file from json\n",
    "tem_dic = {}\n",
    "\n",
    "with open(os.path.join(current_path, \"TEM-lactamase\", \"TEM_Ids.json\"), \"r\") as f:\n",
    "    tem_dic = json.load(f)\n",
    "\n",
    "# now read in the ids with the tem names and rewrite the list in a dic\n",
    "filtered_protein_dic = {}\n",
    "# filtered_protein_dic has the protein name like tem-1 as key and the protein record as value\n",
    "\n",
    "for protein in filtered_protein_list:\n",
    "    # check if one of the regions has a region with a start name \"blastquery:\"\n",
    "    found_in_region = False\n",
    "    for region in protein.regions:\n",
    "        if region.name != None:\n",
    "            if \"blastquery\" in region.name:\n",
    "                found_in_region = True\n",
    "                filtered_protein_dic[region.name.split(\":\")[1]] = {'protein': protein, 'alignment': ''}\n",
    "            \n",
    "    if not found_in_region:\n",
    "        continue\n",
    "        # filtered_protein_dic['-'+protein.id] = protein\n",
    "            \n",
    "\n",
    "print('The number of proteins in the filtered protein dic is: ' + str(len(filtered_protein_dic)))\n"
   ]
  },
  {
   "cell_type": "code",
   "execution_count": 58,
   "metadata": {},
   "outputs": [
    {
     "name": "stdout",
     "output_type": "stream",
     "text": [
      "8\n"
     ]
    }
   ],
   "source": [
    "# now we run clustal omega on the proteins\n",
    "from pyeed.tools.clustalo import ClustalOmega\n",
    "\n",
    "sequences = [protein['protein'].sequence for protein in filtered_protein_dic.values()]\n",
    "\n",
    "count = sum(1 for a, b in zip(sequences[100], sequences[10]) if a != b)\n",
    "print(count)\n",
    "\n",
    "# fix the format for clustal omega\n",
    "# sequences = [\n",
    "#     \">seq1\\nMTHKLLLTLLFTLLFSSAYSRG\",\n",
    "#     \">seq2\\nMTHKILLLTLLFTLLFSSAYSRG\",\n",
    "#     \">seq3\\nMTHKILLLTLLFTLLFSSCYSRG\",\n",
    "# ]\n",
    "sequences_filtered = []\n",
    "\n",
    "for i, seq in enumerate(sequences):\n",
    "    sequences_filtered.append(\">seq\" + str(i) + \"\\n\" + seq)\n",
    "\n",
    "\n",
    "clustalo = ClustalOmega()\n",
    "alignment = clustalo.align(sequences_filtered)\n",
    "\n",
    "# now we need the alignment put in the dic for later use and export\n",
    "for i, protein in enumerate(filtered_protein_dic.values()):\n",
    "    protein['alignment'] = alignment[i].seq\n"
   ]
  },
  {
   "cell_type": "code",
   "execution_count": null,
   "metadata": {},
   "outputs": [],
   "source": [
    "output_folder_blast_search = os.path.join(current_path, \"TEM-lactamase\", \"data\", \"alignment_protein_ids_fetch_all\")\n",
    "os.makedirs(output_folder_blast_search, exist_ok=True)\n",
    "\n",
    "def dumper(obj):\n",
    "    try:\n",
    "        return obj.json()\n",
    "    except:\n",
    "        return obj.__dict__\n",
    "\n",
    "\n",
    "# now we save the dic with the alignment in json format\n",
    "# save the blast search results\n",
    "counter = 0\n",
    "for key, value in filtered_protein_dic.items():\n",
    "    with open(os.path.join(output_folder_blast_search, key + \".json\"), \"w\") as f:\n",
    "        json.dump(value, f, default=dumper)\n",
    "        counter += 1"
   ]
  },
  {
   "cell_type": "code",
   "execution_count": null,
   "metadata": {},
   "outputs": [],
   "source": []
  },
  {
   "cell_type": "code",
   "execution_count": null,
   "metadata": {},
   "outputs": [],
   "source": []
  },
  {
   "cell_type": "code",
   "execution_count": null,
   "metadata": {},
   "outputs": [],
   "source": []
  }
 ],
 "metadata": {
  "kernelspec": {
   "display_name": "pyeed",
   "language": "python",
   "name": "python3"
  },
  "language_info": {
   "codemirror_mode": {
    "name": "ipython",
    "version": 3
   },
   "file_extension": ".py",
   "mimetype": "text/x-python",
   "name": "python",
   "nbconvert_exporter": "python",
   "pygments_lexer": "ipython3",
   "version": "3.11.8"
  }
 },
 "nbformat": 4,
 "nbformat_minor": 2
}
