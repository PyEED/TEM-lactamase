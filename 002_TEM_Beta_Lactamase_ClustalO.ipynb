{
 "cells": [
  {
   "cell_type": "code",
   "execution_count": 1,
   "metadata": {},
   "outputs": [],
   "source": [
    "%reload_ext autoreload\n",
    "%autoreload 2\n",
    "# BASE\n",
    "import os\n",
    "import json\n",
    "# COOL\n",
    "from pyeed.core import ProteinRecord\n",
    "from pyeed.core import DNARecord"
   ]
  },
  {
   "cell_type": "code",
   "execution_count": 2,
   "metadata": {},
   "outputs": [
    {
     "name": "stdout",
     "output_type": "stream",
     "text": [
      "209\n",
      "The fetched list of results is: 209\n"
     ]
    }
   ],
   "source": [
    "# read in the protein records from the json\n",
    "current_path = os.path.dirname(os.getcwd())\n",
    "read_blast_folder = os.path.join(current_path, \"TEM-lactamase\", \"data\", \"data_fetch_list_ids_protein_dna_all\")\n",
    "# /home/niklas/Desktop/Job_Niklas/TEM-lactamase/data/data_blast_search_big_list001test_all_10\n",
    "# list all the files in the directory\n",
    "# we read in the proteins and ids from input folder\n",
    "protein_dic = {}\n",
    "\n",
    "for file in os.listdir(read_blast_folder):\n",
    "    if file.endswith(\".json\"):\n",
    "        with open(os.path.join(read_blast_folder, file), \"r\") as f:\n",
    "            # read in the file as a dic\n",
    "            file_data = json.load(f)\n",
    "            protein_dic[file.split('.')[0]] = {'protein': ProteinRecord.from_json_string(file_data['protein']), 'dna': DNARecord.from_json_string(file_data['dna'])}\n",
    "\n",
    "print(len(protein_dic))\n",
    "\n",
    "\n",
    "print('The fetched list of results is: ' +  str(len(protein_dic)))"
   ]
  },
  {
   "cell_type": "code",
   "execution_count": 3,
   "metadata": {},
   "outputs": [],
   "source": [
    "# read in the file from json\n",
    "tem_dic = {}\n",
    "\n",
    "with open(os.path.join(current_path, \"TEM-lactamase\", \"TEM_Ids.json\"), \"r\") as f:\n",
    "    tem_dic = json.load(f)"
   ]
  },
  {
   "cell_type": "code",
   "execution_count": null,
   "metadata": {},
   "outputs": [],
   "source": []
  },
  {
   "cell_type": "code",
   "execution_count": 4,
   "metadata": {},
   "outputs": [],
   "source": [
    "# now we run clustal omega on the proteins\n",
    "from pyeed.tools.clustalo import ClustalOmega\n",
    "\n",
    "sequences = [protein['protein'].sequence for protein in protein_dic.values()]\n",
    "\n",
    "# fix the format for clustal omega\n",
    "# sequences = [\n",
    "#     \">seq1\\nMTHKLLLTLLFTLLFSSAYSRG\",\n",
    "#     \">seq2\\nMTHKILLLTLLFTLLFSSAYSRG\",\n",
    "#     \">seq3\\nMTHKILLLTLLFTLLFSSCYSRG\",\n",
    "# ]\n",
    "sequences_filtered = []\n",
    "\n",
    "for i, seq in enumerate(sequences):\n",
    "    sequences_filtered.append(\">seq\" + str(i) + \"\\n\" + seq)\n",
    "\n",
    "\n",
    "clustalo = ClustalOmega()\n",
    "alignment = clustalo.align(sequences_filtered)\n",
    "\n",
    "# now we need the alignment put in the dic for later use and export\n",
    "for i, protein in enumerate(protein_dic.values()):\n",
    "    protein['alignment'] = str(alignment[i].seq)\n"
   ]
  },
  {
   "cell_type": "code",
   "execution_count": 5,
   "metadata": {},
   "outputs": [],
   "source": [
    "output_folder_blast_search = os.path.join(current_path, \"TEM-lactamase\", \"data\", \"alignment_protein_ids_fetch_all\")\n",
    "os.makedirs(output_folder_blast_search, exist_ok=True)\n",
    "\n",
    "def dumper(obj):\n",
    "    try:\n",
    "        return obj.json()\n",
    "    except:\n",
    "        return obj.__dict__\n",
    "\n",
    "# now we save the dic with the alignment in json format\n",
    "# save the blast search results\n",
    "counter = 0\n",
    "for key, value in protein_dic.items():\n",
    "    with open(os.path.join(output_folder_blast_search, key + \".json\"), \"w\") as f:\n",
    "        json.dump(value, f, default=dumper)\n",
    "        counter += 1"
   ]
  },
  {
   "cell_type": "code",
   "execution_count": null,
   "metadata": {},
   "outputs": [],
   "source": []
  },
  {
   "cell_type": "code",
   "execution_count": null,
   "metadata": {},
   "outputs": [],
   "source": []
  },
  {
   "cell_type": "code",
   "execution_count": null,
   "metadata": {},
   "outputs": [],
   "source": []
  }
 ],
 "metadata": {
  "kernelspec": {
   "display_name": "pyeed",
   "language": "python",
   "name": "python3"
  },
  "language_info": {
   "codemirror_mode": {
    "name": "ipython",
    "version": 3
   },
   "file_extension": ".py",
   "mimetype": "text/x-python",
   "name": "python",
   "nbconvert_exporter": "python",
   "pygments_lexer": "ipython3",
   "version": "3.12.4"
  }
 },
 "nbformat": 4,
 "nbformat_minor": 2
}
