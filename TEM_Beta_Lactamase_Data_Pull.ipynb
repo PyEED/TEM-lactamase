{
 "cells": [
  {
   "cell_type": "code",
   "execution_count": 9,
   "metadata": {},
   "outputs": [],
   "source": [
    "%reload_ext autoreload\n",
    "%autoreload 2\n",
    "import os\n",
    "import sys\n",
    "import time\n",
    "import networkx as nx\n",
    "import py4cytoscape as p4c\n",
    "import matplotlib.pyplot as plt\n",
    "from pyeed.core import ProteinRecord\n",
    "from pyeed.network import SequenceNetwork"
   ]
  },
  {
   "cell_type": "markdown",
   "metadata": {},
   "source": [
    "##### Here we get all the data"
   ]
  },
  {
   "cell_type": "code",
   "execution_count": 10,
   "metadata": {},
   "outputs": [
    {
     "name": "stdout",
     "output_type": "stream",
     "text": [
      "{'TEM-1': 'AAP20891 ', 'TEM-2': 'CAJ85677 ', 'TEM-3': 'SAQ02853 ', 'TEM-4': 'CDR98216 ', 'TEM-5': 'WP_109963600 ', 'TEM-6': 'CAA41038 ', 'TEM-7': 'WP_109874025 ', 'TEM-8': 'CAA46344 ', 'TEM-9': 'APG33178 ', 'TEM-10': 'EFJ83682 ', 'TEM-11': 'AKC98298 ', 'TEM-12': 'KJO56189 ', 'TEM-15': 'KLP91446 ', 'TEM-16': 'CAA46346 ', 'TEM-17': 'CAA74912 ', 'TEM-19': 'AFN21551 ', 'TEM-20': 'ACB22021 ', 'TEM-21': 'CAA76794 ', 'TEM-22': 'CAA76795 ', 'TEM-24': 'CCG28759 ', 'TEM-26': 'KLG19745 ', 'TEM-28': 'AAC32891 ', 'TEM-29': 'CAA76796 ', 'TEM-30': 'CAD24670 ', 'TEM-31': 'ARF45649 ', 'TEM-32': 'CTA52364 ', 'TEM-33': 'ADL13944 ', 'TEM-34': 'AGQ50511 ', 'TEM-35': 'AKA60778 ', 'TEM-36': 'APT65830 ', 'TEM-37': 'HAH6232254 ', 'TEM-39': 'QDO66746 ', 'TEM-40': 'CBX53726 ', 'TEM-43': 'AAC32889 ', 'TEM-45': 'CAA64682 ', 'TEM-47': 'CAA71322 ', 'TEM-48': 'CAA71323 ', 'TEM-49': 'CAA71324 ', 'TEM-52': 'AEC32455 ', 'TEM-53': 'AAD22538 ', 'TEM-54': 'AAD22539 ', 'TEM-55': 'ABB97007 ', 'TEM-57': 'ACJ43254 ', 'TEM-60': 'AAC05975 ', 'TEM-61': 'BCD58813 ', 'TEM-63': 'AAK17194 ', 'TEM-67': 'AAD33116 ', 'TEM-68': 'CAB92324 ', 'TEM-70': 'AAF01046 ', 'TEM-71': 'AAL03985 ', 'TEM-72': 'AAF19151 ', 'TEM-76': 'AAF05613 ', 'TEM-77': 'AAF05614 ', 'TEM-78': 'AAF05612 ', 'TEM-79': 'AAF05611 ', 'TEM-80': 'AAM15527 ', 'TEM-81': 'AAL29433 ', 'TEM-82': 'AAL29434 ', 'TEM-83': 'AAL29435 ', 'TEM-84': 'AAL29436 ', 'TEM-85': 'CAC43229 ', 'TEM-86': 'CAC43230 ', 'TEM-87': 'AAG44570 ', 'TEM-88': 'AAK14792 ', 'TEM-90': 'AAK30619 ', 'TEM-91': 'BAB16308 ', 'TEM-92': 'AAF66653 ', 'TEM-93': 'CAC85660 ', 'TEM-94': 'CAC85661 ', 'TEM-95': 'CAC67290 ', 'TEM-96': 'AAM22276 ', 'TEM-97': 'AAK85244 ', 'TEM-98': 'AAK85245 ', 'TEM-99': 'AAK85243 ', 'TEM-101': 'AAM18924 ', 'TEM-102': 'AAK82652 ', 'TEM-103': 'EAC0197234 ', 'TEM-104': 'ADI77428 ', 'TEM-105': 'AAM61953 ', 'TEM-106': 'AAM52207 ', 'TEM-107': 'AAM52215 ', 'TEM-108': 'AAM28884 ', 'TEM-109': 'AAT46413 ', 'TEM-110': 'AAL68923 ', 'TEM-111': 'AAL77062 ', 'TEM-112': 'AAS89982 ', 'TEM-113': 'AAS89983 ', 'TEM-114': 'AAS89984 ', 'TEM-115': 'AAN04881 ', 'TEM-116': 'BAM36530 ', 'TEM-117': 'PLC74546 ', 'TEM-120': 'AAO85882 ', 'TEM-121': 'AAQ01671 ', 'TEM-122': 'AAQ98890 ', 'TEM-123': 'AAQ93490 ', 'TEM-124': 'AAQ93491 ', 'TEM-125': 'AAT46414 ', 'TEM-126': 'AAT45742 ', 'TEM-127': 'AAR89358 ', 'TEM-128': 'AAR89359 ', 'TEM-129': 'CAG34105 ', 'TEM-130': 'CAI29263 ', 'TEM-131': 'AAR10958 ', 'TEM-132': 'BAD89187 ', 'TEM-133': 'AAS19171 ', 'TEM-134': 'AAS79107 ', 'TEM-135': 'ADB79815 ', 'TEM-136': 'AAV83795 ', 'TEM-137': 'CAL08007 ', 'TEM-138': 'AAW47922 ', 'TEM-139': 'AAZ23494 ', 'TEM-140': 'Assigned', 'TEM-141': 'AAX56615 ', 'TEM-142': 'ABD60314 ', 'TEM-143': 'AAY85632 ', 'TEM-144': 'CAJ17559 ', 'TEM-145': 'AAZ14083 ', 'TEM-146': 'AAZ14084 ', 'TEM-147': 'ABB84515 ', 'TEM-148': 'CAJ32372 ', 'TEM-149': 'ABC96711 ', 'TEM-150': 'ACI32333 ', 'TEM-151': 'ABI74448 ', 'TEM-152': 'ABI74447 ', 'TEM-153': 'AGA83484 ', 'TEM-154': 'ACO07310 ', 'TEM-155': 'ABG77582 ', 'TEM-156': 'AML08013 ', 'TEM-157': 'ABI81768 ', 'TEM-158': 'ABQ00181 ', 'TEM-159': 'ABM54869 ', 'TEM-160': 'ABM54870 ', 'TEM-162': 'ABO64442 ', 'TEM-163': 'ACF32746 ', 'TEM-164': 'ABX71157 ', 'TEM-166': 'ACI25375 ', 'TEM-167': 'ACJ04051 ', 'TEM-168': 'ACR22829 ', 'TEM-169': 'AJC64564 ', 'TEM-171': 'BAV00618 ', 'TEM-176': 'KOP91900 ', 'TEM-177': 'CBJ06718 ', 'TEM-178': 'CAA65888 ', 'TEM-181': 'AKQ12673 ', 'TEM-182': 'ADP20705 ', 'TEM-183': 'ADR71220 ', 'TEM-184': 'CCA61905 ', 'TEM-185': 'AEG64812 ', 'TEM-186': 'AET99222 ', 'TEM-187': 'ADM61585 ', 'TEM-188': 'AEL17198 ', 'TEM-189': 'AEL79515 ', 'TEM-190': 'AEL88240 ', 'TEM-191': 'APY23677 ', 'TEM-193': 'AFC75523 ', 'TEM-194': 'AFC75524 ', 'TEM-195': 'AFC75525 ', 'TEM-196': 'AFE48832 ', 'TEM-197': 'AEK48085 ', 'TEM-198': 'BAL68178 ', 'TEM-201': 'AFS44742 ', 'TEM-204': 'ALJ78859 ', 'TEM-205': 'AGZ20205 ', 'TEM-206': 'AGK82336 ', 'TEM-207': 'AAG45415 ', 'TEM-208': 'AGL39384 ', 'TEM-209': 'AGW25367 ', 'TEM-210': 'AIF78090 ', 'TEM-211': 'AHA80960 ', 'TEM-212': 'AHA49909 ', 'TEM-213': 'OCN67279 ', 'TEM-214': 'AJO16044 ', 'TEM-215': 'AJO16045 ', 'TEM-216': 'AHJ78622 ', 'TEM-217': 'CDN33426 ', 'TEM-219': 'AIS39742 ', 'TEM-220': 'AIW68620 ', 'TEM-224': 'AMD11804 ', 'TEM-225': 'APT67991 ', 'TEM-226': 'AQT03459 ', 'TEM-227': 'AQX83499 ', 'TEM-228': 'ARF19528 ', 'TEM-229': 'AUS83547 ', 'TEM-230': 'AUT06962 ', 'TEM-231': 'AUT06963 ', 'TEM-232': 'AVP73880 ', 'TEM-233': 'AWH90786 ', 'TEM-234': 'AWI33307 ', 'TEM-235': 'ACT97652 ', 'TEM-236': 'AXL10707 ', 'TEM-237': 'ADN79098 ', 'TEM-238': 'AYR04769 ', 'TEM-239': 'MBG9969038 ', 'TEM-240': 'QBG79064 ', 'TEM-241': 'QDC28520 ', 'TEM-242': 'QDY98370 ', 'TEM-243': 'QPG87090 ', 'TEM-244': 'QWY17601 ', 'TEM-245': 'ULU82600 ', 'TEM-246': 'ULU82601 ', 'TEM-247': 'UTS94241 ', 'TEM-248': 'UUT29265 ', 'TEM-249': 'UUT29266 ', 'TEM-250': 'WEG44935 ', 'TEM-251': 'MBY8666561 ', 'TEM-P14': 'AEQ59620 ', 'TEM-P114': 'AAD45935 ', 'TEM-P116': 'CAA66659 ', 'TEM-P117': 'AAN05028 ', 'TEM-P118': 'AAN05029 ', 'TEM-P120': 'AAK71474 ', 'TEM-P121': 'AFN69127 '}\n"
     ]
    }
   ],
   "source": [
    "# read in the text file\n",
    "file_path = 'TEM_Ids.txt'\n",
    "with open(file_path, 'r') as file:\n",
    "    lines = file.readlines()\n",
    "\n",
    "# create a dic with the name and id\n",
    "# A\tTEM-P118\tt\t\tAAN05029 \tAY130285 \t12354869 \tview\t\t\t2be\tESBL\tA\n",
    "# we want to keep the name and the id, these are the second and the fourth columns\n",
    "# we need to split the line by the tab character\n",
    "data = {}\n",
    "for line in lines:\n",
    "    line = line.strip()\n",
    "    columns = line.split('\\t')\n",
    "    name = columns[1]\n",
    "    id = columns[4]\n",
    "    data[name] = id\n",
    "\n",
    "\n",
    "print(data)"
   ]
  },
  {
   "cell_type": "code",
   "execution_count": null,
   "metadata": {},
   "outputs": [],
   "source": []
  },
  {
   "cell_type": "code",
   "execution_count": 11,
   "metadata": {},
   "outputs": [],
   "source": [
    "current_path = os.path.dirname(os.getcwd())"
   ]
  },
  {
   "cell_type": "code",
   "execution_count": 12,
   "metadata": {},
   "outputs": [
    {
     "data": {
      "text/html": [
       "<pre style=\"white-space:pre;overflow-x:auto;line-height:normal;font-family:Menlo,'DejaVu Sans Mono',consolas,'Courier New',monospace\"></pre>\n"
      ],
      "text/plain": []
     },
     "metadata": {},
     "output_type": "display_data"
    },
    {
     "data": {
      "application/vnd.jupyter.widget-view+json": {
       "model_id": "b301e6dd289f4542be627aa2b6b4b6c9",
       "version_major": 2,
       "version_minor": 0
      },
      "text/plain": [
       "Output()"
      ]
     },
     "metadata": {},
     "output_type": "display_data"
    },
    {
     "data": {
      "text/html": [
       "<pre style=\"white-space:pre;overflow-x:auto;line-height:normal;font-family:Menlo,'DejaVu Sans Mono',consolas,'Courier New',monospace\"></pre>\n"
      ],
      "text/plain": []
     },
     "metadata": {},
     "output_type": "display_data"
    },
    {
     "data": {
      "text/html": [
       "<pre style=\"white-space:pre;overflow-x:auto;line-height:normal;font-family:Menlo,'DejaVu Sans Mono',consolas,'Courier New',monospace\">\n",
       "</pre>\n"
      ],
      "text/plain": [
       "\n"
      ]
     },
     "metadata": {},
     "output_type": "display_data"
    },
    {
     "data": {
      "application/vnd.jupyter.widget-view+json": {
       "model_id": "3ce1275f10434ff5bf50481453690c8e",
       "version_major": 2,
       "version_minor": 0
      },
      "text/plain": [
       "Output()"
      ]
     },
     "metadata": {},
     "output_type": "display_data"
    },
    {
     "name": "stdout",
     "output_type": "stream",
     "text": [
      "TEM-2\n",
      "CAJ85677 \n"
     ]
    },
    {
     "data": {
      "text/html": [
       "<pre style=\"white-space:pre;overflow-x:auto;line-height:normal;font-family:Menlo,'DejaVu Sans Mono',consolas,'Courier New',monospace\"></pre>\n"
      ],
      "text/plain": []
     },
     "metadata": {},
     "output_type": "display_data"
    },
    {
     "data": {
      "text/html": [
       "<pre style=\"white-space:pre;overflow-x:auto;line-height:normal;font-family:Menlo,'DejaVu Sans Mono',consolas,'Courier New',monospace\">\n",
       "</pre>\n"
      ],
      "text/plain": [
       "\n"
      ]
     },
     "metadata": {},
     "output_type": "display_data"
    },
    {
     "data": {
      "application/vnd.jupyter.widget-view+json": {
       "model_id": "9511c7c02cc045ad82beb0533e193434",
       "version_major": 2,
       "version_minor": 0
      },
      "text/plain": [
       "Output()"
      ]
     },
     "metadata": {},
     "output_type": "display_data"
    }
   ],
   "source": [
    "# we now search for each protein in the data dic a blast\n",
    "# then we combine the results im data, we also have to remove double entries\n",
    "data_proteins = []\n",
    "\n",
    "for protein in data:\n",
    "    print(protein)\n",
    "    id = data[protein]\n",
    "    print(id)\n",
    "    protein_record = ProteinRecord.get_ids([id])[0]\n",
    "    data_proteins = data_proteins + protein_record.ncbi_blast(n_hits=1000, e_value=0.1)"
   ]
  },
  {
   "cell_type": "code",
   "execution_count": null,
   "metadata": {},
   "outputs": [
    {
     "name": "stdout",
     "output_type": "stream",
     "text": [
      "0\n"
     ]
    }
   ],
   "source": [
    "# remove double entries\n",
    "data_proteins = list(set(data_proteins))\n",
    "print(len(data_proteins))"
   ]
  },
  {
   "cell_type": "code",
   "execution_count": null,
   "metadata": {},
   "outputs": [
    {
     "ename": "NameError",
     "evalue": "name 'n_hits' is not defined",
     "output_type": "error",
     "traceback": [
      "\u001b[0;31m---------------------------------------------------------------------------\u001b[0m",
      "\u001b[0;31mNameError\u001b[0m                                 Traceback (most recent call last)",
      "Cell \u001b[0;32mIn[8], line 2\u001b[0m\n\u001b[1;32m      1\u001b[0m \u001b[38;5;66;03m# save the blast search results\u001b[39;00m\n\u001b[0;32m----> 2\u001b[0m output_folder_blast_search \u001b[38;5;241m=\u001b[39m os\u001b[38;5;241m.\u001b[39mpath\u001b[38;5;241m.\u001b[39mjoin(current_path, \u001b[38;5;124m\"\u001b[39m\u001b[38;5;124mTEM-lactamase\u001b[39m\u001b[38;5;124m\"\u001b[39m, \u001b[38;5;124m\"\u001b[39m\u001b[38;5;124mdata\u001b[39m\u001b[38;5;124m\"\u001b[39m, \u001b[38;5;124m\"\u001b[39m\u001b[38;5;124mdata_blast_search_big_\u001b[39m\u001b[38;5;132;01m{}\u001b[39;00m\u001b[38;5;124m_\u001b[39m\u001b[38;5;132;01m{}\u001b[39;00m\u001b[38;5;124m_\u001b[39m\u001b[38;5;132;01m{}\u001b[39;00m\u001b[38;5;124m\"\u001b[39m\u001b[38;5;241m.\u001b[39mformat(\u001b[38;5;124m'\u001b[39m\u001b[38;5;124mQGC48744\u001b[39m\u001b[38;5;124m'\u001b[39m, \u001b[43mn_hits\u001b[49m, \u001b[38;5;28mint\u001b[39m(e_value\u001b[38;5;241m*\u001b[39m\u001b[38;5;241m1000\u001b[39m)))\n\u001b[1;32m      3\u001b[0m os\u001b[38;5;241m.\u001b[39mmakedirs(output_folder_blast_search, exist_ok\u001b[38;5;241m=\u001b[39m\u001b[38;5;28;01mTrue\u001b[39;00m)\n\u001b[1;32m      4\u001b[0m counter \u001b[38;5;241m=\u001b[39m \u001b[38;5;241m0\u001b[39m\n",
      "\u001b[0;31mNameError\u001b[0m: name 'n_hits' is not defined"
     ]
    }
   ],
   "source": [
    "# save the blast search results\n",
    "output_folder_blast_search = os.path.join(current_path, \"TEM-lactamase\", \"data\", \"data_blast_search_big_{}_{}_{}\".format('list001', 'all', int(0.01*1000)))\n",
    "os.makedirs(output_folder_blast_search, exist_ok=True)\n",
    "counter = 0\n",
    "for hit in data_proteins:\n",
    "    with open(output_folder_blast_search + \"/{}.json\".format(counter), \"w\") as f:\n",
    "        f.write(hit.json())\n",
    "        counter += 1"
   ]
  },
  {
   "cell_type": "code",
   "execution_count": null,
   "metadata": {},
   "outputs": [],
   "source": []
  },
  {
   "cell_type": "code",
   "execution_count": null,
   "metadata": {},
   "outputs": [],
   "source": []
  }
 ],
 "metadata": {
  "kernelspec": {
   "display_name": "pyeed",
   "language": "python",
   "name": "python3"
  },
  "language_info": {
   "codemirror_mode": {
    "name": "ipython",
    "version": 3
   },
   "file_extension": ".py",
   "mimetype": "text/x-python",
   "name": "python",
   "nbconvert_exporter": "python",
   "pygments_lexer": "ipython3",
   "version": "3.11.8"
  }
 },
 "nbformat": 4,
 "nbformat_minor": 2
}
