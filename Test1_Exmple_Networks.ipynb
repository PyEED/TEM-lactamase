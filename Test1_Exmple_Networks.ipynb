{
 "cells": [
  {
   "cell_type": "code",
   "execution_count": 2,
   "id": "0bfb0144-e12a-48dc-bda7-dcbaa3b14328",
   "metadata": {},
   "outputs": [],
   "source": [
    "from pyeed.core import ProteinInfo, Alignment\n",
    "from pyeed.aligners import PairwiseAligner\n",
    "from pyeed.network import SequenceNetwork"
   ]
  },
  {
   "cell_type": "code",
   "execution_count": 8,
   "id": "f43af6b7-a76f-46d0-ae9e-46f786e8af10",
   "metadata": {},
   "outputs": [
    {
     "name": "stdout",
     "output_type": "stream",
     "text": [
      "⬇️ Fetching 8 protein entries from NCBI...\n",
      "⬇️ Fetching 8 taxonomy entries from NCBI...\n"
     ]
    }
   ],
   "source": [
    "# Accessions from different methionine adenyltransferases\n",
    "mat_accessions = [\n",
    "    \"MBP1912539.1\",\n",
    "    \"SEV92896.1\",\n",
    "    \"MBO8174569.1\",\n",
    "    \"WP_042680787.1\",\n",
    "    \"NPA47376.1\",\n",
    "    \"WP_167889085.1\",\n",
    "    \"WP_048165429.1\",\n",
    "    \"ACS90033.1\",\n",
    "]\n",
    "mats = ProteinInfo.get_ids(mat_accessions)"
   ]
  },
  {
   "cell_type": "code",
   "execution_count": 13,
   "id": "779eb83f-dc05-4f15-9bf5-660259eb0b22",
   "metadata": {},
   "outputs": [
    {
     "name": "stdout",
     "output_type": "stream",
     "text": [
      "\u001b[4mProteinInfo\u001b[0m\n",
      "├── \u001b[94mid\u001b[0m = proteininfo16\n",
      "├── \u001b[94msource_id\u001b[0m = MBP1912539.1\n",
      "├── \u001b[94mname\u001b[0m = S-adenosylmethionine synthetase\n",
      "├── \u001b[94msequence\u001b[0m = MLMAEKIRNIVVEEMVRTPVEMQQVELVERKGIGHPDSIADGIAEAVSRALSREYMKRYGIILHHNTDQVEVVGGRAYPQFGGGEVIKPIYILLSGRAVEMVDREFFPVHEVAIKAAKDYLKKAVRHLDIENHVVIDSRIGQGSVDLVGVFNKAKKNPIPLANDTSFGVGYAPLSETERIVLETEKYLNSDEFKKKWPAVGEDIKVMGLRKGDEIDLTIAAAIVDSEVDNPDDYMAVKEAIYEAAKEIVESHTQRPTNIYVNTADDPKEGIYYITVTGTSAEAGDDGSVGRGNRVNGLITPNRHMSMEAAAGKNPVSHVGKIYNILSMLIANDIAEQIEGVEEVYVRILSQIGKPIDEPLVASVQIIPKKGYSIDVLQKPAYEIADEWLANITKIQKMILEDKINVF\n",
      "├── \u001b[94morganism\u001b[0m\n",
      "│   └── \u001b[4mOrganism\u001b[0m\n",
      "│       ├── \u001b[94mid\u001b[0m = organism40\n",
      "│       ├── \u001b[94mname\u001b[0m = Thermococcus stetteri\n",
      "│       ├── \u001b[94mtaxonomy_id\u001b[0m = 49900\n",
      "│       ├── \u001b[94mdomain\u001b[0m = Archaea\n",
      "│       ├── \u001b[94mphylum\u001b[0m = Euryarchaeota\n",
      "│       ├── \u001b[94mtax_class\u001b[0m = Thermococci\n",
      "│       ├── \u001b[94morder\u001b[0m = Thermococcales\n",
      "│       ├── \u001b[94mfamily\u001b[0m = Thermococcaceae\n",
      "│       ├── \u001b[94mgenus\u001b[0m = Thermococcus\n",
      "│       └── \u001b[94mspecies\u001b[0m = Thermococcus stetteri\n",
      "├── \u001b[94mcitation\u001b[0m\n",
      "│   └── \u001b[4mCitation\u001b[0m\n",
      "│       └── \u001b[94mid\u001b[0m = citation16\n",
      "├── \u001b[94mcoding_sequence_ref\u001b[0m\n",
      "│   └── \u001b[4mDNARegion\u001b[0m\n",
      "│       ├── \u001b[94mid\u001b[0m = JAGGKB010000004.1\n",
      "│       ├── \u001b[94mspans\u001b[0m\n",
      "│       │   └── 0\n",
      "│       │       └── \u001b[4mSpan\u001b[0m\n",
      "│       │           ├── \u001b[94mid\u001b[0m = span20\n",
      "│       │           ├── \u001b[94mstart\u001b[0m = 39572\n",
      "│       │           └── \u001b[94mend\u001b[0m = 40795\n",
      "│       └── \u001b[94mtype\u001b[0m = coding sequence\n",
      "└── \u001b[94mec_number\u001b[0m = 2.5.1.6\n",
      "\n"
     ]
    }
   ],
   "source": [
    "print(mats[0])"
   ]
  },
  {
   "cell_type": "code",
   "execution_count": 9,
   "id": "ce4bf394-598d-414a-864e-846039ba9005",
   "metadata": {},
   "outputs": [
    {
     "name": "stderr",
     "output_type": "stream",
     "text": [
      "⛓️ Running pairwise alignments: 100%|████████████████████████████████████████████████████████████████████████████████████████████████████████████| 28/28 [00:00<00:00, 4045.49it/s]\n"
     ]
    }
   ],
   "source": [
    "# Create pairwise alignments between all sequences\n",
    "alignments = Alignment.from_sequences(mats, aligner=PairwiseAligner)"
   ]
  },
  {
   "cell_type": "code",
   "execution_count": 10,
   "id": "74d9f72d-ffed-4bcf-92de-0bc0bfaba565",
   "metadata": {},
   "outputs": [],
   "source": [
    "# Create a network\n",
    "network = SequenceNetwork(\n",
    "    sequences=mats,\n",
    "    pairwise_alignments=alignments,\n",
    "    weight=\"identity\",\n",
    "    threshold=0.9,\n",
    "    dimensions=2,\n",
    "    color=\"taxonomy_id\",\n",
    ")"
   ]
  },
  {
   "cell_type": "code",
   "execution_count": 11,
   "id": "00756036-f056-4732-a307-6d0353e3f620",
   "metadata": {},
   "outputs": [
    {
     "data": {
      "application/vnd.plotly.v1+json": {
       "config": {
        "plotlyServerURL": "https://plot.ly"
       },
       "data": [
        {
         "customdata": [
          [
           "S-adenosylmethionine synthetase",
           null,
           "Archaea",
           null,
           "Euryarchaeota",
           "Thermococci",
           "Thermococcales",
           "Thermococcaceae",
           "Thermococcus",
           "Thermococcus stetteri",
           "2.5.1.6",
           null,
           "49900",
           0,
           0.5753198034732314,
           0.6670471920716841
          ]
         ],
         "hovertemplate": "<b>%{customdata[0]}</b><br>Family Name: %{customdata[1]}<br>Domain: %{customdata[2]}<br>Kingdom: %{customdata[3]}</b><br>Phylum: %{customdata[4]}<br>Class: %{customdata[5]}<br>Order: %{customdata[6]}<br>Family: %{customdata[7]}<br>Genus: %{customdata[8]}<br>Species: %{customdata[9]}<br>EC Number: %{customdata[10]}<br>Mol Weight: %{customdata[11]}<br>Taxonomy ID: %{customdata[12]}<extra></extra>",
         "marker": {
          "color": "rgb(68, 1, 84)",
          "size": 6,
          "symbol": "circle"
         },
         "mode": "markers",
         "text": "S-adenosylmethionine synthetase",
         "type": "scatter",
         "x": [
          0.5753198034732314
         ],
         "y": [
          0.6670471920716841
         ]
        },
        {
         "customdata": [
          [
           "methionine adenosyltransferase",
           null,
           "Archaea",
           null,
           "Euryarchaeota",
           "Thermococci",
           "Thermococcales",
           "Thermococcaceae",
           "Thermococcus",
           "Thermococcus thioreducens",
           null,
           null,
           "277988",
           0,
           0.7226771646856555,
           0.5153407134447486
          ]
         ],
         "hovertemplate": "<b>%{customdata[0]}</b><br>Family Name: %{customdata[1]}<br>Domain: %{customdata[2]}<br>Kingdom: %{customdata[3]}</b><br>Phylum: %{customdata[4]}<br>Class: %{customdata[5]}<br>Order: %{customdata[6]}<br>Family: %{customdata[7]}<br>Genus: %{customdata[8]}<br>Species: %{customdata[9]}<br>EC Number: %{customdata[10]}<br>Mol Weight: %{customdata[11]}<br>Taxonomy ID: %{customdata[12]}<extra></extra>",
         "marker": {
          "color": "rgb(45, 114, 142)",
          "size": 6,
          "symbol": "circle"
         },
         "mode": "markers",
         "text": "methionine adenosyltransferase",
         "type": "scatter",
         "x": [
          0.7226771646856555
         ],
         "y": [
          0.5153407134447486
         ]
        },
        {
         "customdata": [
          [
           "methionine adenosyltransferase",
           null,
           "Archaea",
           null,
           "Euryarchaeota",
           "Thermococci",
           "Thermococcales",
           "Thermococcaceae",
           "Thermococcus",
           "Thermococcus sp.",
           "2.5.1.6",
           null,
           "35749",
           0,
           -0.9426381976358731,
           -0.4366963939524239
          ]
         ],
         "hovertemplate": "<b>%{customdata[0]}</b><br>Family Name: %{customdata[1]}<br>Domain: %{customdata[2]}<br>Kingdom: %{customdata[3]}</b><br>Phylum: %{customdata[4]}<br>Class: %{customdata[5]}<br>Order: %{customdata[6]}<br>Family: %{customdata[7]}<br>Genus: %{customdata[8]}<br>Species: %{customdata[9]}<br>EC Number: %{customdata[10]}<br>Mol Weight: %{customdata[11]}<br>Taxonomy ID: %{customdata[12]}<extra></extra>",
         "marker": {
          "color": "rgb(45, 174, 127)",
          "size": 6,
          "symbol": "circle"
         },
         "mode": "markers",
         "text": "methionine adenosyltransferase",
         "type": "scatter",
         "x": [
          -0.9426381976358731
         ],
         "y": [
          -0.4366963939524239
         ]
        },
        {
         "customdata": [
          [
           "methionine adenosyltransferase",
           null,
           "Archaea",
           null,
           "Euryarchaeota",
           "Thermococci",
           "Thermococcales",
           "Thermococcaceae",
           "Thermococcus",
           "Thermococcus paralvinellae",
           "2.5.1.6",
           44913,
           "582419",
           0,
           -0.9102085412869375,
           -0.2969865734223271
          ]
         ],
         "hovertemplate": "<b>%{customdata[0]}</b><br>Family Name: %{customdata[1]}<br>Domain: %{customdata[2]}<br>Kingdom: %{customdata[3]}</b><br>Phylum: %{customdata[4]}<br>Class: %{customdata[5]}<br>Order: %{customdata[6]}<br>Family: %{customdata[7]}<br>Genus: %{customdata[8]}<br>Species: %{customdata[9]}<br>EC Number: %{customdata[10]}<br>Mol Weight: %{customdata[11]}<br>Taxonomy ID: %{customdata[12]}<extra></extra>",
         "marker": {
          "color": "rgb(71, 44, 122)",
          "size": 6,
          "symbol": "circle"
         },
         "mode": "markers",
         "text": "methionine adenosyltransferase",
         "type": "scatter",
         "x": [
          -0.9102085412869375
         ],
         "y": [
          -0.2969865734223271
         ]
        },
        {
         "customdata": [
          [
           "methionine adenosyltransferase",
           null,
           "Archaea",
           null,
           "Euryarchaeota",
           "Thermococci",
           null,
           null,
           null,
           "Thermococci archaeon",
           "2.5.1.6",
           null,
           "2250254",
           0,
           0.6457323865616568,
           0.5879209314419342
          ]
         ],
         "hovertemplate": "<b>%{customdata[0]}</b><br>Family Name: %{customdata[1]}<br>Domain: %{customdata[2]}<br>Kingdom: %{customdata[3]}</b><br>Phylum: %{customdata[4]}<br>Class: %{customdata[5]}<br>Order: %{customdata[6]}<br>Family: %{customdata[7]}<br>Genus: %{customdata[8]}<br>Species: %{customdata[9]}<br>EC Number: %{customdata[10]}<br>Mol Weight: %{customdata[11]}<br>Taxonomy ID: %{customdata[12]}<extra></extra>",
         "marker": {
          "color": "rgb(172, 220, 49)",
          "size": 6,
          "symbol": "circle"
         },
         "mode": "markers",
         "text": "methionine adenosyltransferase",
         "type": "scatter",
         "x": [
          0.6457323865616568
         ],
         "y": [
          0.5879209314419342
         ]
        },
        {
         "customdata": [
          [
           "methionine adenosyltransferase",
           null,
           "Archaea",
           null,
           "Euryarchaeota",
           "Thermococci",
           "Thermococcales",
           "Thermococcaceae",
           "Thermococcus",
           "Thermococcus sp. MV5",
           "2.5.1.6",
           45052,
           "1638272",
           0,
           -0.7437065225234017,
           0.7493883437959005
          ]
         ],
         "hovertemplate": "<b>%{customdata[0]}</b><br>Family Name: %{customdata[1]}<br>Domain: %{customdata[2]}<br>Kingdom: %{customdata[3]}</b><br>Phylum: %{customdata[4]}<br>Class: %{customdata[5]}<br>Order: %{customdata[6]}<br>Family: %{customdata[7]}<br>Genus: %{customdata[8]}<br>Species: %{customdata[9]}<br>EC Number: %{customdata[10]}<br>Mol Weight: %{customdata[11]}<br>Taxonomy ID: %{customdata[12]}<extra></extra>",
         "marker": {
          "color": "rgb(59, 81, 138)",
          "size": 6,
          "symbol": "circle"
         },
         "mode": "markers",
         "text": "methionine adenosyltransferase",
         "type": "scatter",
         "x": [
          -0.7437065225234017
         ],
         "y": [
          0.7493883437959005
         ]
        },
        {
         "customdata": [
          [
           "methionine adenosyltransferase",
           null,
           "Archaea",
           null,
           "Euryarchaeota",
           "Thermococci",
           "Thermococcales",
           "Thermococcaceae",
           "Palaeococcus",
           "Palaeococcus pacificus",
           "2.5.1.6",
           45068,
           "971279",
           0,
           0.7436910897603082,
           -0.7860142133795167
          ]
         ],
         "hovertemplate": "<b>%{customdata[0]}</b><br>Family Name: %{customdata[1]}<br>Domain: %{customdata[2]}<br>Kingdom: %{customdata[3]}</b><br>Phylum: %{customdata[4]}<br>Class: %{customdata[5]}<br>Order: %{customdata[6]}<br>Family: %{customdata[7]}<br>Genus: %{customdata[8]}<br>Species: %{customdata[9]}<br>EC Number: %{customdata[10]}<br>Mol Weight: %{customdata[11]}<br>Taxonomy ID: %{customdata[12]}<extra></extra>",
         "marker": {
          "color": "rgb(96, 200, 96)",
          "size": 6,
          "symbol": "circle"
         },
         "mode": "markers",
         "text": "methionine adenosyltransferase",
         "type": "scatter",
         "x": [
          0.7436910897603082
         ],
         "y": [
          -0.7860142133795167
         ]
        },
        {
         "customdata": [
          [
           "S-adenosylmethionine synthetase",
           null,
           "Archaea",
           null,
           "Euryarchaeota",
           "Thermococci",
           "Thermococcales",
           "Thermococcaceae",
           "Thermococcus",
           "Thermococcus sibiricus",
           "2.5.1.6",
           null,
           "604354",
           0,
           -0.09086718303463949,
           -1
          ]
         ],
         "hovertemplate": "<b>%{customdata[0]}</b><br>Family Name: %{customdata[1]}<br>Domain: %{customdata[2]}<br>Kingdom: %{customdata[3]}</b><br>Phylum: %{customdata[4]}<br>Class: %{customdata[5]}<br>Order: %{customdata[6]}<br>Family: %{customdata[7]}<br>Genus: %{customdata[8]}<br>Species: %{customdata[9]}<br>EC Number: %{customdata[10]}<br>Mol Weight: %{customdata[11]}<br>Taxonomy ID: %{customdata[12]}<extra></extra>",
         "marker": {
          "color": "rgb(34, 144, 140)",
          "size": 6,
          "symbol": "circle"
         },
         "mode": "markers",
         "text": "S-adenosylmethionine synthetase",
         "type": "scatter",
         "x": [
          -0.09086718303463949
         ],
         "y": [
          -1
         ]
        }
       ],
       "layout": {
        "autosize": true,
        "hovermode": "closest",
        "margin": {
         "b": 0,
         "l": 0,
         "r": 0,
         "t": 0
        },
        "plot_bgcolor": "white",
        "showlegend": false,
        "template": {
         "data": {
          "bar": [
           {
            "error_x": {
             "color": "#2a3f5f"
            },
            "error_y": {
             "color": "#2a3f5f"
            },
            "marker": {
             "line": {
              "color": "#E5ECF6",
              "width": 0.5
             },
             "pattern": {
              "fillmode": "overlay",
              "size": 10,
              "solidity": 0.2
             }
            },
            "type": "bar"
           }
          ],
          "barpolar": [
           {
            "marker": {
             "line": {
              "color": "#E5ECF6",
              "width": 0.5
             },
             "pattern": {
              "fillmode": "overlay",
              "size": 10,
              "solidity": 0.2
             }
            },
            "type": "barpolar"
           }
          ],
          "carpet": [
           {
            "aaxis": {
             "endlinecolor": "#2a3f5f",
             "gridcolor": "white",
             "linecolor": "white",
             "minorgridcolor": "white",
             "startlinecolor": "#2a3f5f"
            },
            "baxis": {
             "endlinecolor": "#2a3f5f",
             "gridcolor": "white",
             "linecolor": "white",
             "minorgridcolor": "white",
             "startlinecolor": "#2a3f5f"
            },
            "type": "carpet"
           }
          ],
          "choropleth": [
           {
            "colorbar": {
             "outlinewidth": 0,
             "ticks": ""
            },
            "type": "choropleth"
           }
          ],
          "contour": [
           {
            "colorbar": {
             "outlinewidth": 0,
             "ticks": ""
            },
            "colorscale": [
             [
              0,
              "#0d0887"
             ],
             [
              0.1111111111111111,
              "#46039f"
             ],
             [
              0.2222222222222222,
              "#7201a8"
             ],
             [
              0.3333333333333333,
              "#9c179e"
             ],
             [
              0.4444444444444444,
              "#bd3786"
             ],
             [
              0.5555555555555556,
              "#d8576b"
             ],
             [
              0.6666666666666666,
              "#ed7953"
             ],
             [
              0.7777777777777778,
              "#fb9f3a"
             ],
             [
              0.8888888888888888,
              "#fdca26"
             ],
             [
              1,
              "#f0f921"
             ]
            ],
            "type": "contour"
           }
          ],
          "contourcarpet": [
           {
            "colorbar": {
             "outlinewidth": 0,
             "ticks": ""
            },
            "type": "contourcarpet"
           }
          ],
          "heatmap": [
           {
            "colorbar": {
             "outlinewidth": 0,
             "ticks": ""
            },
            "colorscale": [
             [
              0,
              "#0d0887"
             ],
             [
              0.1111111111111111,
              "#46039f"
             ],
             [
              0.2222222222222222,
              "#7201a8"
             ],
             [
              0.3333333333333333,
              "#9c179e"
             ],
             [
              0.4444444444444444,
              "#bd3786"
             ],
             [
              0.5555555555555556,
              "#d8576b"
             ],
             [
              0.6666666666666666,
              "#ed7953"
             ],
             [
              0.7777777777777778,
              "#fb9f3a"
             ],
             [
              0.8888888888888888,
              "#fdca26"
             ],
             [
              1,
              "#f0f921"
             ]
            ],
            "type": "heatmap"
           }
          ],
          "heatmapgl": [
           {
            "colorbar": {
             "outlinewidth": 0,
             "ticks": ""
            },
            "colorscale": [
             [
              0,
              "#0d0887"
             ],
             [
              0.1111111111111111,
              "#46039f"
             ],
             [
              0.2222222222222222,
              "#7201a8"
             ],
             [
              0.3333333333333333,
              "#9c179e"
             ],
             [
              0.4444444444444444,
              "#bd3786"
             ],
             [
              0.5555555555555556,
              "#d8576b"
             ],
             [
              0.6666666666666666,
              "#ed7953"
             ],
             [
              0.7777777777777778,
              "#fb9f3a"
             ],
             [
              0.8888888888888888,
              "#fdca26"
             ],
             [
              1,
              "#f0f921"
             ]
            ],
            "type": "heatmapgl"
           }
          ],
          "histogram": [
           {
            "marker": {
             "pattern": {
              "fillmode": "overlay",
              "size": 10,
              "solidity": 0.2
             }
            },
            "type": "histogram"
           }
          ],
          "histogram2d": [
           {
            "colorbar": {
             "outlinewidth": 0,
             "ticks": ""
            },
            "colorscale": [
             [
              0,
              "#0d0887"
             ],
             [
              0.1111111111111111,
              "#46039f"
             ],
             [
              0.2222222222222222,
              "#7201a8"
             ],
             [
              0.3333333333333333,
              "#9c179e"
             ],
             [
              0.4444444444444444,
              "#bd3786"
             ],
             [
              0.5555555555555556,
              "#d8576b"
             ],
             [
              0.6666666666666666,
              "#ed7953"
             ],
             [
              0.7777777777777778,
              "#fb9f3a"
             ],
             [
              0.8888888888888888,
              "#fdca26"
             ],
             [
              1,
              "#f0f921"
             ]
            ],
            "type": "histogram2d"
           }
          ],
          "histogram2dcontour": [
           {
            "colorbar": {
             "outlinewidth": 0,
             "ticks": ""
            },
            "colorscale": [
             [
              0,
              "#0d0887"
             ],
             [
              0.1111111111111111,
              "#46039f"
             ],
             [
              0.2222222222222222,
              "#7201a8"
             ],
             [
              0.3333333333333333,
              "#9c179e"
             ],
             [
              0.4444444444444444,
              "#bd3786"
             ],
             [
              0.5555555555555556,
              "#d8576b"
             ],
             [
              0.6666666666666666,
              "#ed7953"
             ],
             [
              0.7777777777777778,
              "#fb9f3a"
             ],
             [
              0.8888888888888888,
              "#fdca26"
             ],
             [
              1,
              "#f0f921"
             ]
            ],
            "type": "histogram2dcontour"
           }
          ],
          "mesh3d": [
           {
            "colorbar": {
             "outlinewidth": 0,
             "ticks": ""
            },
            "type": "mesh3d"
           }
          ],
          "parcoords": [
           {
            "line": {
             "colorbar": {
              "outlinewidth": 0,
              "ticks": ""
             }
            },
            "type": "parcoords"
           }
          ],
          "pie": [
           {
            "automargin": true,
            "type": "pie"
           }
          ],
          "scatter": [
           {
            "fillpattern": {
             "fillmode": "overlay",
             "size": 10,
             "solidity": 0.2
            },
            "type": "scatter"
           }
          ],
          "scatter3d": [
           {
            "line": {
             "colorbar": {
              "outlinewidth": 0,
              "ticks": ""
             }
            },
            "marker": {
             "colorbar": {
              "outlinewidth": 0,
              "ticks": ""
             }
            },
            "type": "scatter3d"
           }
          ],
          "scattercarpet": [
           {
            "marker": {
             "colorbar": {
              "outlinewidth": 0,
              "ticks": ""
             }
            },
            "type": "scattercarpet"
           }
          ],
          "scattergeo": [
           {
            "marker": {
             "colorbar": {
              "outlinewidth": 0,
              "ticks": ""
             }
            },
            "type": "scattergeo"
           }
          ],
          "scattergl": [
           {
            "marker": {
             "colorbar": {
              "outlinewidth": 0,
              "ticks": ""
             }
            },
            "type": "scattergl"
           }
          ],
          "scattermapbox": [
           {
            "marker": {
             "colorbar": {
              "outlinewidth": 0,
              "ticks": ""
             }
            },
            "type": "scattermapbox"
           }
          ],
          "scatterpolar": [
           {
            "marker": {
             "colorbar": {
              "outlinewidth": 0,
              "ticks": ""
             }
            },
            "type": "scatterpolar"
           }
          ],
          "scatterpolargl": [
           {
            "marker": {
             "colorbar": {
              "outlinewidth": 0,
              "ticks": ""
             }
            },
            "type": "scatterpolargl"
           }
          ],
          "scatterternary": [
           {
            "marker": {
             "colorbar": {
              "outlinewidth": 0,
              "ticks": ""
             }
            },
            "type": "scatterternary"
           }
          ],
          "surface": [
           {
            "colorbar": {
             "outlinewidth": 0,
             "ticks": ""
            },
            "colorscale": [
             [
              0,
              "#0d0887"
             ],
             [
              0.1111111111111111,
              "#46039f"
             ],
             [
              0.2222222222222222,
              "#7201a8"
             ],
             [
              0.3333333333333333,
              "#9c179e"
             ],
             [
              0.4444444444444444,
              "#bd3786"
             ],
             [
              0.5555555555555556,
              "#d8576b"
             ],
             [
              0.6666666666666666,
              "#ed7953"
             ],
             [
              0.7777777777777778,
              "#fb9f3a"
             ],
             [
              0.8888888888888888,
              "#fdca26"
             ],
             [
              1,
              "#f0f921"
             ]
            ],
            "type": "surface"
           }
          ],
          "table": [
           {
            "cells": {
             "fill": {
              "color": "#EBF0F8"
             },
             "line": {
              "color": "white"
             }
            },
            "header": {
             "fill": {
              "color": "#C8D4E3"
             },
             "line": {
              "color": "white"
             }
            },
            "type": "table"
           }
          ]
         },
         "layout": {
          "annotationdefaults": {
           "arrowcolor": "#2a3f5f",
           "arrowhead": 0,
           "arrowwidth": 1
          },
          "autotypenumbers": "strict",
          "coloraxis": {
           "colorbar": {
            "outlinewidth": 0,
            "ticks": ""
           }
          },
          "colorscale": {
           "diverging": [
            [
             0,
             "#8e0152"
            ],
            [
             0.1,
             "#c51b7d"
            ],
            [
             0.2,
             "#de77ae"
            ],
            [
             0.3,
             "#f1b6da"
            ],
            [
             0.4,
             "#fde0ef"
            ],
            [
             0.5,
             "#f7f7f7"
            ],
            [
             0.6,
             "#e6f5d0"
            ],
            [
             0.7,
             "#b8e186"
            ],
            [
             0.8,
             "#7fbc41"
            ],
            [
             0.9,
             "#4d9221"
            ],
            [
             1,
             "#276419"
            ]
           ],
           "sequential": [
            [
             0,
             "#0d0887"
            ],
            [
             0.1111111111111111,
             "#46039f"
            ],
            [
             0.2222222222222222,
             "#7201a8"
            ],
            [
             0.3333333333333333,
             "#9c179e"
            ],
            [
             0.4444444444444444,
             "#bd3786"
            ],
            [
             0.5555555555555556,
             "#d8576b"
            ],
            [
             0.6666666666666666,
             "#ed7953"
            ],
            [
             0.7777777777777778,
             "#fb9f3a"
            ],
            [
             0.8888888888888888,
             "#fdca26"
            ],
            [
             1,
             "#f0f921"
            ]
           ],
           "sequentialminus": [
            [
             0,
             "#0d0887"
            ],
            [
             0.1111111111111111,
             "#46039f"
            ],
            [
             0.2222222222222222,
             "#7201a8"
            ],
            [
             0.3333333333333333,
             "#9c179e"
            ],
            [
             0.4444444444444444,
             "#bd3786"
            ],
            [
             0.5555555555555556,
             "#d8576b"
            ],
            [
             0.6666666666666666,
             "#ed7953"
            ],
            [
             0.7777777777777778,
             "#fb9f3a"
            ],
            [
             0.8888888888888888,
             "#fdca26"
            ],
            [
             1,
             "#f0f921"
            ]
           ]
          },
          "colorway": [
           "#636efa",
           "#EF553B",
           "#00cc96",
           "#ab63fa",
           "#FFA15A",
           "#19d3f3",
           "#FF6692",
           "#B6E880",
           "#FF97FF",
           "#FECB52"
          ],
          "font": {
           "color": "#2a3f5f"
          },
          "geo": {
           "bgcolor": "white",
           "lakecolor": "white",
           "landcolor": "#E5ECF6",
           "showlakes": true,
           "showland": true,
           "subunitcolor": "white"
          },
          "hoverlabel": {
           "align": "left"
          },
          "hovermode": "closest",
          "mapbox": {
           "style": "light"
          },
          "paper_bgcolor": "white",
          "plot_bgcolor": "#E5ECF6",
          "polar": {
           "angularaxis": {
            "gridcolor": "white",
            "linecolor": "white",
            "ticks": ""
           },
           "bgcolor": "#E5ECF6",
           "radialaxis": {
            "gridcolor": "white",
            "linecolor": "white",
            "ticks": ""
           }
          },
          "scene": {
           "xaxis": {
            "backgroundcolor": "#E5ECF6",
            "gridcolor": "white",
            "gridwidth": 2,
            "linecolor": "white",
            "showbackground": true,
            "ticks": "",
            "zerolinecolor": "white"
           },
           "yaxis": {
            "backgroundcolor": "#E5ECF6",
            "gridcolor": "white",
            "gridwidth": 2,
            "linecolor": "white",
            "showbackground": true,
            "ticks": "",
            "zerolinecolor": "white"
           },
           "zaxis": {
            "backgroundcolor": "#E5ECF6",
            "gridcolor": "white",
            "gridwidth": 2,
            "linecolor": "white",
            "showbackground": true,
            "ticks": "",
            "zerolinecolor": "white"
           }
          },
          "shapedefaults": {
           "line": {
            "color": "#2a3f5f"
           }
          },
          "ternary": {
           "aaxis": {
            "gridcolor": "white",
            "linecolor": "white",
            "ticks": ""
           },
           "baxis": {
            "gridcolor": "white",
            "linecolor": "white",
            "ticks": ""
           },
           "bgcolor": "#E5ECF6",
           "caxis": {
            "gridcolor": "white",
            "linecolor": "white",
            "ticks": ""
           }
          },
          "title": {
           "x": 0.05
          },
          "xaxis": {
           "automargin": true,
           "gridcolor": "white",
           "linecolor": "white",
           "ticks": "",
           "title": {
            "standoff": 15
           },
           "zerolinecolor": "white",
           "zerolinewidth": 2
          },
          "yaxis": {
           "automargin": true,
           "gridcolor": "white",
           "linecolor": "white",
           "ticks": "",
           "title": {
            "standoff": 15
           },
           "zerolinecolor": "white",
           "zerolinewidth": 2
          }
         }
        },
        "xaxis": {
         "autorange": true,
         "range": [
          -1.0433586762512552,
          0.8444115683756904
         ],
         "type": "linear",
         "visible": false
        },
        "yaxis": {
         "autorange": true,
         "range": [
          -1.1202186302608557,
          0.8696069740567562
         ],
         "type": "linear",
         "visible": false
        }
       }
      },
      "image/png": "[encoded data removed]",
      "text/html": [
       "<div>                            <div id=\"b44056a1-50f2-49ce-bfa2-764601a5dd7e\" class=\"plotly-graph-div\" style=\"height:525px; width:100%;\"></div>            <script type=\"text/javascript\">                require([\"plotly\"], function(Plotly) {                    window.PLOTLYENV=window.PLOTLYENV || {};                                    if (document.getElementById(\"b44056a1-50f2-49ce-bfa2-764601a5dd7e\")) {                    Plotly.newPlot(                        \"b44056a1-50f2-49ce-bfa2-764601a5dd7e\",                        [{\"customdata\":[[\"S-adenosylmethionine synthetase\",null,\"Archaea\",null,\"Euryarchaeota\",\"Thermococci\",\"Thermococcales\",\"Thermococcaceae\",\"Thermococcus\",\"Thermococcus stetteri\",\"2.5.1.6\",null,\"49900\",0.0,0.5753198034732314,0.6670471920716841]],\"hovertemplate\":\"\\u003cb\\u003e%{customdata[0]}\\u003c\\u002fb\\u003e\\u003cbr\\u003eFamily Name: %{customdata[1]}\\u003cbr\\u003eDomain: %{customdata[2]}\\u003cbr\\u003eKingdom: %{customdata[3]}\\u003c\\u002fb\\u003e\\u003cbr\\u003ePhylum: %{customdata[4]}\\u003cbr\\u003eClass: %{customdata[5]}\\u003cbr\\u003eOrder: %{customdata[6]}\\u003cbr\\u003eFamily: %{customdata[7]}\\u003cbr\\u003eGenus: %{customdata[8]}\\u003cbr\\u003eSpecies: %{customdata[9]}\\u003cbr\\u003eEC Number: %{customdata[10]}\\u003cbr\\u003eMol Weight: %{customdata[11]}\\u003cbr\\u003eTaxonomy ID: %{customdata[12]}\\u003cextra\\u003e\\u003c\\u002fextra\\u003e\",\"marker\":{\"color\":\"rgb(68, 1, 84)\",\"size\":6,\"symbol\":\"circle\"},\"mode\":\"markers\",\"text\":\"S-adenosylmethionine synthetase\",\"x\":[0.5753198034732314],\"y\":[0.6670471920716841],\"type\":\"scatter\"},{\"customdata\":[[\"methionine adenosyltransferase\",null,\"Archaea\",null,\"Euryarchaeota\",\"Thermococci\",\"Thermococcales\",\"Thermococcaceae\",\"Thermococcus\",\"Thermococcus thioreducens\",null,null,\"277988\",0.0,0.7226771646856555,0.5153407134447486]],\"hovertemplate\":\"\\u003cb\\u003e%{customdata[0]}\\u003c\\u002fb\\u003e\\u003cbr\\u003eFamily Name: %{customdata[1]}\\u003cbr\\u003eDomain: %{customdata[2]}\\u003cbr\\u003eKingdom: %{customdata[3]}\\u003c\\u002fb\\u003e\\u003cbr\\u003ePhylum: %{customdata[4]}\\u003cbr\\u003eClass: %{customdata[5]}\\u003cbr\\u003eOrder: %{customdata[6]}\\u003cbr\\u003eFamily: %{customdata[7]}\\u003cbr\\u003eGenus: %{customdata[8]}\\u003cbr\\u003eSpecies: %{customdata[9]}\\u003cbr\\u003eEC Number: %{customdata[10]}\\u003cbr\\u003eMol Weight: %{customdata[11]}\\u003cbr\\u003eTaxonomy ID: %{customdata[12]}\\u003cextra\\u003e\\u003c\\u002fextra\\u003e\",\"marker\":{\"color\":\"rgb(45, 114, 142)\",\"size\":6,\"symbol\":\"circle\"},\"mode\":\"markers\",\"text\":\"methionine adenosyltransferase\",\"x\":[0.7226771646856555],\"y\":[0.5153407134447486],\"type\":\"scatter\"},{\"customdata\":[[\"methionine adenosyltransferase\",null,\"Archaea\",null,\"Euryarchaeota\",\"Thermococci\",\"Thermococcales\",\"Thermococcaceae\",\"Thermococcus\",\"Thermococcus sp.\",\"2.5.1.6\",null,\"35749\",0.0,-0.9426381976358731,-0.4366963939524239]],\"hovertemplate\":\"\\u003cb\\u003e%{customdata[0]}\\u003c\\u002fb\\u003e\\u003cbr\\u003eFamily Name: %{customdata[1]}\\u003cbr\\u003eDomain: %{customdata[2]}\\u003cbr\\u003eKingdom: %{customdata[3]}\\u003c\\u002fb\\u003e\\u003cbr\\u003ePhylum: %{customdata[4]}\\u003cbr\\u003eClass: %{customdata[5]}\\u003cbr\\u003eOrder: %{customdata[6]}\\u003cbr\\u003eFamily: %{customdata[7]}\\u003cbr\\u003eGenus: %{customdata[8]}\\u003cbr\\u003eSpecies: %{customdata[9]}\\u003cbr\\u003eEC Number: %{customdata[10]}\\u003cbr\\u003eMol Weight: %{customdata[11]}\\u003cbr\\u003eTaxonomy ID: %{customdata[12]}\\u003cextra\\u003e\\u003c\\u002fextra\\u003e\",\"marker\":{\"color\":\"rgb(45, 174, 127)\",\"size\":6,\"symbol\":\"circle\"},\"mode\":\"markers\",\"text\":\"methionine adenosyltransferase\",\"x\":[-0.9426381976358731],\"y\":[-0.4366963939524239],\"type\":\"scatter\"},{\"customdata\":[[\"methionine adenosyltransferase\",null,\"Archaea\",null,\"Euryarchaeota\",\"Thermococci\",\"Thermococcales\",\"Thermococcaceae\",\"Thermococcus\",\"Thermococcus paralvinellae\",\"2.5.1.6\",44913.0,\"582419\",0.0,-0.9102085412869375,-0.2969865734223271]],\"hovertemplate\":\"\\u003cb\\u003e%{customdata[0]}\\u003c\\u002fb\\u003e\\u003cbr\\u003eFamily Name: %{customdata[1]}\\u003cbr\\u003eDomain: %{customdata[2]}\\u003cbr\\u003eKingdom: %{customdata[3]}\\u003c\\u002fb\\u003e\\u003cbr\\u003ePhylum: %{customdata[4]}\\u003cbr\\u003eClass: %{customdata[5]}\\u003cbr\\u003eOrder: %{customdata[6]}\\u003cbr\\u003eFamily: %{customdata[7]}\\u003cbr\\u003eGenus: %{customdata[8]}\\u003cbr\\u003eSpecies: %{customdata[9]}\\u003cbr\\u003eEC Number: %{customdata[10]}\\u003cbr\\u003eMol Weight: %{customdata[11]}\\u003cbr\\u003eTaxonomy ID: %{customdata[12]}\\u003cextra\\u003e\\u003c\\u002fextra\\u003e\",\"marker\":{\"color\":\"rgb(71, 44, 122)\",\"size\":6,\"symbol\":\"circle\"},\"mode\":\"markers\",\"text\":\"methionine adenosyltransferase\",\"x\":[-0.9102085412869375],\"y\":[-0.2969865734223271],\"type\":\"scatter\"},{\"customdata\":[[\"methionine adenosyltransferase\",null,\"Archaea\",null,\"Euryarchaeota\",\"Thermococci\",null,null,null,\"Thermococci archaeon\",\"2.5.1.6\",null,\"2250254\",0.0,0.6457323865616568,0.5879209314419342]],\"hovertemplate\":\"\\u003cb\\u003e%{customdata[0]}\\u003c\\u002fb\\u003e\\u003cbr\\u003eFamily Name: %{customdata[1]}\\u003cbr\\u003eDomain: %{customdata[2]}\\u003cbr\\u003eKingdom: %{customdata[3]}\\u003c\\u002fb\\u003e\\u003cbr\\u003ePhylum: %{customdata[4]}\\u003cbr\\u003eClass: %{customdata[5]}\\u003cbr\\u003eOrder: %{customdata[6]}\\u003cbr\\u003eFamily: %{customdata[7]}\\u003cbr\\u003eGenus: %{customdata[8]}\\u003cbr\\u003eSpecies: %{customdata[9]}\\u003cbr\\u003eEC Number: %{customdata[10]}\\u003cbr\\u003eMol Weight: %{customdata[11]}\\u003cbr\\u003eTaxonomy ID: %{customdata[12]}\\u003cextra\\u003e\\u003c\\u002fextra\\u003e\",\"marker\":{\"color\":\"rgb(172, 220, 49)\",\"size\":6,\"symbol\":\"circle\"},\"mode\":\"markers\",\"text\":\"methionine adenosyltransferase\",\"x\":[0.6457323865616568],\"y\":[0.5879209314419342],\"type\":\"scatter\"},{\"customdata\":[[\"methionine adenosyltransferase\",null,\"Archaea\",null,\"Euryarchaeota\",\"Thermococci\",\"Thermococcales\",\"Thermococcaceae\",\"Thermococcus\",\"Thermococcus sp. MV5\",\"2.5.1.6\",45052.0,\"1638272\",0.0,-0.7437065225234017,0.7493883437959005]],\"hovertemplate\":\"\\u003cb\\u003e%{customdata[0]}\\u003c\\u002fb\\u003e\\u003cbr\\u003eFamily Name: %{customdata[1]}\\u003cbr\\u003eDomain: %{customdata[2]}\\u003cbr\\u003eKingdom: %{customdata[3]}\\u003c\\u002fb\\u003e\\u003cbr\\u003ePhylum: %{customdata[4]}\\u003cbr\\u003eClass: %{customdata[5]}\\u003cbr\\u003eOrder: %{customdata[6]}\\u003cbr\\u003eFamily: %{customdata[7]}\\u003cbr\\u003eGenus: %{customdata[8]}\\u003cbr\\u003eSpecies: %{customdata[9]}\\u003cbr\\u003eEC Number: %{customdata[10]}\\u003cbr\\u003eMol Weight: %{customdata[11]}\\u003cbr\\u003eTaxonomy ID: %{customdata[12]}\\u003cextra\\u003e\\u003c\\u002fextra\\u003e\",\"marker\":{\"color\":\"rgb(59, 81, 138)\",\"size\":6,\"symbol\":\"circle\"},\"mode\":\"markers\",\"text\":\"methionine adenosyltransferase\",\"x\":[-0.7437065225234017],\"y\":[0.7493883437959005],\"type\":\"scatter\"},{\"customdata\":[[\"methionine adenosyltransferase\",null,\"Archaea\",null,\"Euryarchaeota\",\"Thermococci\",\"Thermococcales\",\"Thermococcaceae\",\"Palaeococcus\",\"Palaeococcus pacificus\",\"2.5.1.6\",45068.0,\"971279\",0.0,0.7436910897603082,-0.7860142133795167]],\"hovertemplate\":\"\\u003cb\\u003e%{customdata[0]}\\u003c\\u002fb\\u003e\\u003cbr\\u003eFamily Name: %{customdata[1]}\\u003cbr\\u003eDomain: %{customdata[2]}\\u003cbr\\u003eKingdom: %{customdata[3]}\\u003c\\u002fb\\u003e\\u003cbr\\u003ePhylum: %{customdata[4]}\\u003cbr\\u003eClass: %{customdata[5]}\\u003cbr\\u003eOrder: %{customdata[6]}\\u003cbr\\u003eFamily: %{customdata[7]}\\u003cbr\\u003eGenus: %{customdata[8]}\\u003cbr\\u003eSpecies: %{customdata[9]}\\u003cbr\\u003eEC Number: %{customdata[10]}\\u003cbr\\u003eMol Weight: %{customdata[11]}\\u003cbr\\u003eTaxonomy ID: %{customdata[12]}\\u003cextra\\u003e\\u003c\\u002fextra\\u003e\",\"marker\":{\"color\":\"rgb(96, 200, 96)\",\"size\":6,\"symbol\":\"circle\"},\"mode\":\"markers\",\"text\":\"methionine adenosyltransferase\",\"x\":[0.7436910897603082],\"y\":[-0.7860142133795167],\"type\":\"scatter\"},{\"customdata\":[[\"S-adenosylmethionine synthetase\",null,\"Archaea\",null,\"Euryarchaeota\",\"Thermococci\",\"Thermococcales\",\"Thermococcaceae\",\"Thermococcus\",\"Thermococcus sibiricus\",\"2.5.1.6\",null,\"604354\",0.0,-0.09086718303463949,-1.0]],\"hovertemplate\":\"\\u003cb\\u003e%{customdata[0]}\\u003c\\u002fb\\u003e\\u003cbr\\u003eFamily Name: %{customdata[1]}\\u003cbr\\u003eDomain: %{customdata[2]}\\u003cbr\\u003eKingdom: %{customdata[3]}\\u003c\\u002fb\\u003e\\u003cbr\\u003ePhylum: %{customdata[4]}\\u003cbr\\u003eClass: %{customdata[5]}\\u003cbr\\u003eOrder: %{customdata[6]}\\u003cbr\\u003eFamily: %{customdata[7]}\\u003cbr\\u003eGenus: %{customdata[8]}\\u003cbr\\u003eSpecies: %{customdata[9]}\\u003cbr\\u003eEC Number: %{customdata[10]}\\u003cbr\\u003eMol Weight: %{customdata[11]}\\u003cbr\\u003eTaxonomy ID: %{customdata[12]}\\u003cextra\\u003e\\u003c\\u002fextra\\u003e\",\"marker\":{\"color\":\"rgb(34, 144, 140)\",\"size\":6,\"symbol\":\"circle\"},\"mode\":\"markers\",\"text\":\"S-adenosylmethionine synthetase\",\"x\":[-0.09086718303463949],\"y\":[-1.0],\"type\":\"scatter\"}],                        {\"hovermode\":\"closest\",\"margin\":{\"b\":0,\"l\":0,\"r\":0,\"t\":0},\"plot_bgcolor\":\"white\",\"showlegend\":false,\"template\":{\"data\":{\"histogram2dcontour\":[{\"type\":\"histogram2dcontour\",\"colorbar\":{\"outlinewidth\":0,\"ticks\":\"\"},\"colorscale\":[[0.0,\"#0d0887\"],[0.1111111111111111,\"#46039f\"],[0.2222222222222222,\"#7201a8\"],[0.3333333333333333,\"#9c179e\"],[0.4444444444444444,\"#bd3786\"],[0.5555555555555556,\"#d8576b\"],[0.6666666666666666,\"#ed7953\"],[0.7777777777777778,\"#fb9f3a\"],[0.8888888888888888,\"#fdca26\"],[1.0,\"#f0f921\"]]}],\"choropleth\":[{\"type\":\"choropleth\",\"colorbar\":{\"outlinewidth\":0,\"ticks\":\"\"}}],\"histogram2d\":[{\"type\":\"histogram2d\",\"colorbar\":{\"outlinewidth\":0,\"ticks\":\"\"},\"colorscale\":[[0.0,\"#0d0887\"],[0.1111111111111111,\"#46039f\"],[0.2222222222222222,\"#7201a8\"],[0.3333333333333333,\"#9c179e\"],[0.4444444444444444,\"#bd3786\"],[0.5555555555555556,\"#d8576b\"],[0.6666666666666666,\"#ed7953\"],[0.7777777777777778,\"#fb9f3a\"],[0.8888888888888888,\"#fdca26\"],[1.0,\"#f0f921\"]]}],\"heatmap\":[{\"type\":\"heatmap\",\"colorbar\":{\"outlinewidth\":0,\"ticks\":\"\"},\"colorscale\":[[0.0,\"#0d0887\"],[0.1111111111111111,\"#46039f\"],[0.2222222222222222,\"#7201a8\"],[0.3333333333333333,\"#9c179e\"],[0.4444444444444444,\"#bd3786\"],[0.5555555555555556,\"#d8576b\"],[0.6666666666666666,\"#ed7953\"],[0.7777777777777778,\"#fb9f3a\"],[0.8888888888888888,\"#fdca26\"],[1.0,\"#f0f921\"]]}],\"heatmapgl\":[{\"type\":\"heatmapgl\",\"colorbar\":{\"outlinewidth\":0,\"ticks\":\"\"},\"colorscale\":[[0.0,\"#0d0887\"],[0.1111111111111111,\"#46039f\"],[0.2222222222222222,\"#7201a8\"],[0.3333333333333333,\"#9c179e\"],[0.4444444444444444,\"#bd3786\"],[0.5555555555555556,\"#d8576b\"],[0.6666666666666666,\"#ed7953\"],[0.7777777777777778,\"#fb9f3a\"],[0.8888888888888888,\"#fdca26\"],[1.0,\"#f0f921\"]]}],\"contourcarpet\":[{\"type\":\"contourcarpet\",\"colorbar\":{\"outlinewidth\":0,\"ticks\":\"\"}}],\"contour\":[{\"type\":\"contour\",\"colorbar\":{\"outlinewidth\":0,\"ticks\":\"\"},\"colorscale\":[[0.0,\"#0d0887\"],[0.1111111111111111,\"#46039f\"],[0.2222222222222222,\"#7201a8\"],[0.3333333333333333,\"#9c179e\"],[0.4444444444444444,\"#bd3786\"],[0.5555555555555556,\"#d8576b\"],[0.6666666666666666,\"#ed7953\"],[0.7777777777777778,\"#fb9f3a\"],[0.8888888888888888,\"#fdca26\"],[1.0,\"#f0f921\"]]}],\"surface\":[{\"type\":\"surface\",\"colorbar\":{\"outlinewidth\":0,\"ticks\":\"\"},\"colorscale\":[[0.0,\"#0d0887\"],[0.1111111111111111,\"#46039f\"],[0.2222222222222222,\"#7201a8\"],[0.3333333333333333,\"#9c179e\"],[0.4444444444444444,\"#bd3786\"],[0.5555555555555556,\"#d8576b\"],[0.6666666666666666,\"#ed7953\"],[0.7777777777777778,\"#fb9f3a\"],[0.8888888888888888,\"#fdca26\"],[1.0,\"#f0f921\"]]}],\"mesh3d\":[{\"type\":\"mesh3d\",\"colorbar\":{\"outlinewidth\":0,\"ticks\":\"\"}}],\"scatter\":[{\"fillpattern\":{\"fillmode\":\"overlay\",\"size\":10,\"solidity\":0.2},\"type\":\"scatter\"}],\"parcoords\":[{\"type\":\"parcoords\",\"line\":{\"colorbar\":{\"outlinewidth\":0,\"ticks\":\"\"}}}],\"scatterpolargl\":[{\"type\":\"scatterpolargl\",\"marker\":{\"colorbar\":{\"outlinewidth\":0,\"ticks\":\"\"}}}],\"bar\":[{\"error_x\":{\"color\":\"#2a3f5f\"},\"error_y\":{\"color\":\"#2a3f5f\"},\"marker\":{\"line\":{\"color\":\"#E5ECF6\",\"width\":0.5},\"pattern\":{\"fillmode\":\"overlay\",\"size\":10,\"solidity\":0.2}},\"type\":\"bar\"}],\"scattergeo\":[{\"type\":\"scattergeo\",\"marker\":{\"colorbar\":{\"outlinewidth\":0,\"ticks\":\"\"}}}],\"scatterpolar\":[{\"type\":\"scatterpolar\",\"marker\":{\"colorbar\":{\"outlinewidth\":0,\"ticks\":\"\"}}}],\"histogram\":[{\"marker\":{\"pattern\":{\"fillmode\":\"overlay\",\"size\":10,\"solidity\":0.2}},\"type\":\"histogram\"}],\"scattergl\":[{\"type\":\"scattergl\",\"marker\":{\"colorbar\":{\"outlinewidth\":0,\"ticks\":\"\"}}}],\"scatter3d\":[{\"type\":\"scatter3d\",\"line\":{\"colorbar\":{\"outlinewidth\":0,\"ticks\":\"\"}},\"marker\":{\"colorbar\":{\"outlinewidth\":0,\"ticks\":\"\"}}}],\"scattermapbox\":[{\"type\":\"scattermapbox\",\"marker\":{\"colorbar\":{\"outlinewidth\":0,\"ticks\":\"\"}}}],\"scatterternary\":[{\"type\":\"scatterternary\",\"marker\":{\"colorbar\":{\"outlinewidth\":0,\"ticks\":\"\"}}}],\"scattercarpet\":[{\"type\":\"scattercarpet\",\"marker\":{\"colorbar\":{\"outlinewidth\":0,\"ticks\":\"\"}}}],\"carpet\":[{\"aaxis\":{\"endlinecolor\":\"#2a3f5f\",\"gridcolor\":\"white\",\"linecolor\":\"white\",\"minorgridcolor\":\"white\",\"startlinecolor\":\"#2a3f5f\"},\"baxis\":{\"endlinecolor\":\"#2a3f5f\",\"gridcolor\":\"white\",\"linecolor\":\"white\",\"minorgridcolor\":\"white\",\"startlinecolor\":\"#2a3f5f\"},\"type\":\"carpet\"}],\"table\":[{\"cells\":{\"fill\":{\"color\":\"#EBF0F8\"},\"line\":{\"color\":\"white\"}},\"header\":{\"fill\":{\"color\":\"#C8D4E3\"},\"line\":{\"color\":\"white\"}},\"type\":\"table\"}],\"barpolar\":[{\"marker\":{\"line\":{\"color\":\"#E5ECF6\",\"width\":0.5},\"pattern\":{\"fillmode\":\"overlay\",\"size\":10,\"solidity\":0.2}},\"type\":\"barpolar\"}],\"pie\":[{\"automargin\":true,\"type\":\"pie\"}]},\"layout\":{\"autotypenumbers\":\"strict\",\"colorway\":[\"#636efa\",\"#EF553B\",\"#00cc96\",\"#ab63fa\",\"#FFA15A\",\"#19d3f3\",\"#FF6692\",\"#B6E880\",\"#FF97FF\",\"#FECB52\"],\"font\":{\"color\":\"#2a3f5f\"},\"hovermode\":\"closest\",\"hoverlabel\":{\"align\":\"left\"},\"paper_bgcolor\":\"white\",\"plot_bgcolor\":\"#E5ECF6\",\"polar\":{\"bgcolor\":\"#E5ECF6\",\"angularaxis\":{\"gridcolor\":\"white\",\"linecolor\":\"white\",\"ticks\":\"\"},\"radialaxis\":{\"gridcolor\":\"white\",\"linecolor\":\"white\",\"ticks\":\"\"}},\"ternary\":{\"bgcolor\":\"#E5ECF6\",\"aaxis\":{\"gridcolor\":\"white\",\"linecolor\":\"white\",\"ticks\":\"\"},\"baxis\":{\"gridcolor\":\"white\",\"linecolor\":\"white\",\"ticks\":\"\"},\"caxis\":{\"gridcolor\":\"white\",\"linecolor\":\"white\",\"ticks\":\"\"}},\"coloraxis\":{\"colorbar\":{\"outlinewidth\":0,\"ticks\":\"\"}},\"colorscale\":{\"sequential\":[[0.0,\"#0d0887\"],[0.1111111111111111,\"#46039f\"],[0.2222222222222222,\"#7201a8\"],[0.3333333333333333,\"#9c179e\"],[0.4444444444444444,\"#bd3786\"],[0.5555555555555556,\"#d8576b\"],[0.6666666666666666,\"#ed7953\"],[0.7777777777777778,\"#fb9f3a\"],[0.8888888888888888,\"#fdca26\"],[1.0,\"#f0f921\"]],\"sequentialminus\":[[0.0,\"#0d0887\"],[0.1111111111111111,\"#46039f\"],[0.2222222222222222,\"#7201a8\"],[0.3333333333333333,\"#9c179e\"],[0.4444444444444444,\"#bd3786\"],[0.5555555555555556,\"#d8576b\"],[0.6666666666666666,\"#ed7953\"],[0.7777777777777778,\"#fb9f3a\"],[0.8888888888888888,\"#fdca26\"],[1.0,\"#f0f921\"]],\"diverging\":[[0,\"#8e0152\"],[0.1,\"#c51b7d\"],[0.2,\"#de77ae\"],[0.3,\"#f1b6da\"],[0.4,\"#fde0ef\"],[0.5,\"#f7f7f7\"],[0.6,\"#e6f5d0\"],[0.7,\"#b8e186\"],[0.8,\"#7fbc41\"],[0.9,\"#4d9221\"],[1,\"#276419\"]]},\"xaxis\":{\"gridcolor\":\"white\",\"linecolor\":\"white\",\"ticks\":\"\",\"title\":{\"standoff\":15},\"zerolinecolor\":\"white\",\"automargin\":true,\"zerolinewidth\":2},\"yaxis\":{\"gridcolor\":\"white\",\"linecolor\":\"white\",\"ticks\":\"\",\"title\":{\"standoff\":15},\"zerolinecolor\":\"white\",\"automargin\":true,\"zerolinewidth\":2},\"scene\":{\"xaxis\":{\"backgroundcolor\":\"#E5ECF6\",\"gridcolor\":\"white\",\"linecolor\":\"white\",\"showbackground\":true,\"ticks\":\"\",\"zerolinecolor\":\"white\",\"gridwidth\":2},\"yaxis\":{\"backgroundcolor\":\"#E5ECF6\",\"gridcolor\":\"white\",\"linecolor\":\"white\",\"showbackground\":true,\"ticks\":\"\",\"zerolinecolor\":\"white\",\"gridwidth\":2},\"zaxis\":{\"backgroundcolor\":\"#E5ECF6\",\"gridcolor\":\"white\",\"linecolor\":\"white\",\"showbackground\":true,\"ticks\":\"\",\"zerolinecolor\":\"white\",\"gridwidth\":2}},\"shapedefaults\":{\"line\":{\"color\":\"#2a3f5f\"}},\"annotationdefaults\":{\"arrowcolor\":\"#2a3f5f\",\"arrowhead\":0,\"arrowwidth\":1},\"geo\":{\"bgcolor\":\"white\",\"landcolor\":\"#E5ECF6\",\"subunitcolor\":\"white\",\"showland\":true,\"showlakes\":true,\"lakecolor\":\"white\"},\"title\":{\"x\":0.05},\"mapbox\":{\"style\":\"light\"}}},\"xaxis\":{\"visible\":false},\"yaxis\":{\"visible\":false}},                        {\"responsive\": true}                    ).then(function(){\n",
       "                            \n",
       "var gd = document.getElementById('b44056a1-50f2-49ce-bfa2-764601a5dd7e');\n",
       "var x = new MutationObserver(function (mutations, observer) {{\n",
       "        var display = window.getComputedStyle(gd).display;\n",
       "        if (!display || display === 'none') {{\n",
       "            console.log([gd, 'removed!']);\n",
       "            Plotly.purge(gd);\n",
       "            observer.disconnect();\n",
       "        }}\n",
       "}});\n",
       "\n",
       "// Listen for the removal of the full notebook cells\n",
       "var notebookContainer = gd.closest('#notebook-container');\n",
       "if (notebookContainer) {{\n",
       "    x.observe(notebookContainer, {childList: true});\n",
       "}}\n",
       "\n",
       "// Listen for the clearing of the current output cell\n",
       "var outputEl = gd.closest('.output');\n",
       "if (outputEl) {{\n",
       "    x.observe(outputEl, {childList: true});\n",
       "}}\n",
       "\n",
       "                        })                };                });            </script>        </div>"
      ]
     },
     "metadata": {},
     "output_type": "display_data"
    }
   ],
   "source": [
    "# Visualize the network\n",
    "network.visualize()"
   ]
  },
  {
   "cell_type": "code",
   "execution_count": null,
   "id": "3001f177-cc66-4ce0-8c3c-64a2de5cffb2",
   "metadata": {},
   "outputs": [],
   "source": []
  },
  {
   "cell_type": "code",
   "execution_count": null,
   "id": "3fc8eee2-2dc1-469d-9b21-7bc10edb8b9f",
   "metadata": {},
   "outputs": [],
   "source": []
  },
  {
   "cell_type": "code",
   "execution_count": null,
   "id": "9b522624-0313-4898-b274-22acbb7a152d",
   "metadata": {},
   "outputs": [],
   "source": []
  }
 ],
 "metadata": {
  "kernelspec": {
   "display_name": "Python 3 (ipykernel)",
   "language": "python",
   "name": "python3"
  },
  "language_info": {
   "codemirror_mode": {
    "name": "ipython",
    "version": 3
   },
   "file_extension": ".py",
   "mimetype": "text/x-python",
   "name": "python",
   "nbconvert_exporter": "python",
   "pygments_lexer": "ipython3",
   "version": "3.11.8"
  }
 },
 "nbformat": 4,
 "nbformat_minor": 5
}
