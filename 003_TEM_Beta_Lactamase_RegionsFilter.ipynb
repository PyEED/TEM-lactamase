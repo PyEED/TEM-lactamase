{
 "cells": [
  {
   "cell_type": "code",
   "execution_count": 25,
   "metadata": {},
   "outputs": [],
   "source": [
    "%reload_ext autoreload\n",
    "%autoreload 2\n",
    "# BASE\n",
    "import os\n",
    "import json\n",
    "# COOL\n",
    "from pyeed.core import ProteinRecord"
   ]
  },
  {
   "cell_type": "code",
   "execution_count": 26,
   "metadata": {},
   "outputs": [],
   "source": [
    "current_path = os.getcwd()\n",
    "\n",
    "input_folder_alignment = os.path.join(current_path, \"data\", \"alignment_protein_ids_fetch_all\")\n",
    "output_folder_filters = os.path.join(current_path, \"data\", \"filtered_protein_fetch_ids_all\")"
   ]
  },
  {
   "cell_type": "code",
   "execution_count": 31,
   "metadata": {},
   "outputs": [],
   "source": [
    "# we read in the proteins and ids from input folder\n",
    "protein_dic = {}\n",
    "\n",
    "for file in os.listdir(input_folder_alignment):\n",
    "    if file.endswith(\".json\"):\n",
    "        with open(os.path.join(input_folder_alignment, file), \"r\") as f:\n",
    "            # read in the file as a dic\n",
    "            file_data = json.load(f)\n",
    "            protein_dic[file.split('.')[0]] = {'protein': ProteinRecord.from_json_string(file_data['protein']), 'alignment': file_data['alignment']}\n"
   ]
  },
  {
   "cell_type": "code",
   "execution_count": null,
   "metadata": {},
   "outputs": [],
   "source": []
  },
  {
   "cell_type": "code",
   "execution_count": null,
   "metadata": {},
   "outputs": [],
   "source": []
  },
  {
   "cell_type": "code",
   "execution_count": null,
   "metadata": {},
   "outputs": [],
   "source": []
  }
 ],
 "metadata": {
  "kernelspec": {
   "display_name": "pyeed",
   "language": "python",
   "name": "python3"
  },
  "language_info": {
   "codemirror_mode": {
    "name": "ipython",
    "version": 3
   },
   "file_extension": ".py",
   "mimetype": "text/x-python",
   "name": "python",
   "nbconvert_exporter": "python",
   "pygments_lexer": "ipython3",
   "version": "3.11.8"
  }
 },
 "nbformat": 4,
 "nbformat_minor": 2
}
